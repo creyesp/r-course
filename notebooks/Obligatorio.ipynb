{
 "cells": [
  {
   "cell_type": "markdown",
   "metadata": {},
   "source": [
    "https://towardsdatascience.com/modeling-customer-churn-for-an-e-commerce-business-with-python-874315e688bf"
   ]
  },
  {
   "cell_type": "markdown",
   "metadata": {},
   "source": [
    "El dataset tiene las transacciones de usuarios que realizaron en una determinada tienda \n",
    "de Uruguay. El dataset tiene el numero de la factura, el id del usuario, la fecha, el valor del producto\n",
    "y el id del producto. Una misma factura puede tener mas de un producto"
   ]
  },
  {
   "cell_type": "markdown",
   "metadata": {},
   "source": [
    "# Libraries"
   ]
  },
  {
   "cell_type": "code",
   "execution_count": 1,
   "metadata": {},
   "outputs": [],
   "source": [
    "#install.packages('hexbin')"
   ]
  },
  {
   "cell_type": "code",
   "execution_count": 2,
   "metadata": {},
   "outputs": [
    {
     "name": "stderr",
     "output_type": "stream",
     "text": [
      "── \u001b[1mAttaching packages\u001b[22m ─────────────────────────────────────── tidyverse 1.3.0 ──\n",
      "\n",
      "\u001b[32m✔\u001b[39m \u001b[34mggplot2\u001b[39m 3.3.2     \u001b[32m✔\u001b[39m \u001b[34mpurrr  \u001b[39m 0.3.4\n",
      "\u001b[32m✔\u001b[39m \u001b[34mtibble \u001b[39m 3.0.3     \u001b[32m✔\u001b[39m \u001b[34mdplyr  \u001b[39m 1.0.2\n",
      "\u001b[32m✔\u001b[39m \u001b[34mtidyr  \u001b[39m 1.1.2     \u001b[32m✔\u001b[39m \u001b[34mstringr\u001b[39m 1.4.0\n",
      "\u001b[32m✔\u001b[39m \u001b[34mreadr  \u001b[39m 1.3.1     \u001b[32m✔\u001b[39m \u001b[34mforcats\u001b[39m 0.5.0\n",
      "\n",
      "── \u001b[1mConflicts\u001b[22m ────────────────────────────────────────── tidyverse_conflicts() ──\n",
      "\u001b[31m✖\u001b[39m \u001b[34mdplyr\u001b[39m::\u001b[32mfilter()\u001b[39m  masks \u001b[34mstats\u001b[39m::filter()\n",
      "\u001b[31m✖\u001b[39m \u001b[34mpurrr\u001b[39m::\u001b[32mflatten()\u001b[39m masks \u001b[34mjsonlite\u001b[39m::flatten()\n",
      "\u001b[31m✖\u001b[39m \u001b[34mdplyr\u001b[39m::\u001b[32mlag()\u001b[39m     masks \u001b[34mstats\u001b[39m::lag()\n",
      "\n",
      "\n",
      "Attaching package: ‘lubridate’\n",
      "\n",
      "\n",
      "The following objects are masked from ‘package:base’:\n",
      "\n",
      "    date, intersect, setdiff, union\n",
      "\n",
      "\n"
     ]
    }
   ],
   "source": [
    "library(tidyverse)\n",
    "library(lubridate)"
   ]
  },
  {
   "cell_type": "markdown",
   "metadata": {},
   "source": [
    "# Load Raw Dataset\n",
    "EL dataset tiene las columnas:\n",
    "* Factura\n",
    "* Fecha\n",
    "* Customer_ID\n",
    "* Sexo\n",
    "* Venta ($)\n",
    "* Ciudad\n",
    "* Product ID"
   ]
  },
  {
   "cell_type": "code",
   "execution_count": 3,
   "metadata": {},
   "outputs": [],
   "source": [
    "col_types <- cols(\n",
    "    Factura = col_character(),\n",
    "    Fecha = col_character(),\n",
    "    Customer_ID = col_character(),\n",
    "    Sexo = col_character(),\n",
    "    `Venta ($)` = col_character(),\n",
    "    Ciudad = col_character(),\n",
    "    `Product ID` = col_integer()\n",
    ")\n",
    "df <- readr::read_delim('../data/Final Project Dataset.csv', ',', col_types = col_types)"
   ]
  },
  {
   "cell_type": "markdown",
   "metadata": {},
   "source": [
    "# Parse correct data types"
   ]
  },
  {
   "cell_type": "code",
   "execution_count": 4,
   "metadata": {},
   "outputs": [
    {
     "name": "stderr",
     "output_type": "stream",
     "text": [
      "Warning message:\n",
      "“2626 parsing failures.\n",
      "row col expected actual\n",
      "258  -- a number      -\n",
      "275  -- a number      -\n",
      "293  -- a number      -\n",
      "481  -- a number      -\n",
      "557  -- a number      -\n",
      "... ... ........ ......\n",
      "See problems(...) for more details.\n",
      "”\n"
     ]
    }
   ],
   "source": [
    "df$Fecha <- parse_date(df$Fecha, \"%d/%m/%Y\")\n",
    "df <- rename(df, Precio_Venta = 'Venta ($)')\n",
    "df <- rename(df, Product_ID = 'Product ID')\n",
    "df$Precio_Venta_2 <- parse_number(df$Precio_Venta, locale = locale(decimal_mark = \",\", grouping_mark = \".\"), na = c(\"\", \"NA\", \"--\"))\n"
   ]
  },
  {
   "cell_type": "code",
   "execution_count": 5,
   "metadata": {},
   "outputs": [
    {
     "data": {
      "text/html": [
       "<table>\n",
       "<caption>A tibble: 6 × 8</caption>\n",
       "<thead>\n",
       "\t<tr><th scope=col>Factura</th><th scope=col>Fecha</th><th scope=col>Customer_ID</th><th scope=col>Sexo</th><th scope=col>Precio_Venta</th><th scope=col>Ciudad</th><th scope=col>Product_ID</th><th scope=col>Precio_Venta_2</th></tr>\n",
       "\t<tr><th scope=col>&lt;chr&gt;</th><th scope=col>&lt;date&gt;</th><th scope=col>&lt;chr&gt;</th><th scope=col>&lt;chr&gt;</th><th scope=col>&lt;chr&gt;</th><th scope=col>&lt;chr&gt;</th><th scope=col>&lt;int&gt;</th><th scope=col>&lt;dbl&gt;</th></tr>\n",
       "</thead>\n",
       "<tbody>\n",
       "\t<tr><td>227837</td><td>2019-08-23</td><td>175335</td><td>#ERROR!</td><td>  2.901 </td><td>Rivera              </td><td> 4</td><td>2901</td></tr>\n",
       "\t<tr><td>227832</td><td>2019-08-23</td><td>140862</td><td>#ERROR!</td><td>  7.256 </td><td>Montevideo Periferia</td><td>19</td><td>7256</td></tr>\n",
       "\t<tr><td>227831</td><td>2019-08-23</td><td>225831</td><td>#ERROR!</td><td>  2.901 </td><td>Durazno             </td><td> 4</td><td>2901</td></tr>\n",
       "\t<tr><td>227826</td><td>2019-08-23</td><td>185845</td><td>#ERROR!</td><td>  4.462 </td><td>Montevideo Periferia</td><td> 0</td><td>4462</td></tr>\n",
       "\t<tr><td>227823</td><td>2019-08-23</td><td>153566</td><td>#ERROR!</td><td>  2.901 </td><td>Rivera              </td><td> 4</td><td>2901</td></tr>\n",
       "\t<tr><td>227821</td><td>2019-08-23</td><td>164715</td><td>#ERROR!</td><td>  2.214 </td><td>Paysandú            </td><td> 3</td><td>2214</td></tr>\n",
       "</tbody>\n",
       "</table>\n"
      ],
      "text/latex": [
       "A tibble: 6 × 8\n",
       "\\begin{tabular}{llllllll}\n",
       " Factura & Fecha & Customer\\_ID & Sexo & Precio\\_Venta & Ciudad & Product\\_ID & Precio\\_Venta\\_2\\\\\n",
       " <chr> & <date> & <chr> & <chr> & <chr> & <chr> & <int> & <dbl>\\\\\n",
       "\\hline\n",
       "\t 227837 & 2019-08-23 & 175335 & \\#ERROR! &   2.901  & Rivera               &  4 & 2901\\\\\n",
       "\t 227832 & 2019-08-23 & 140862 & \\#ERROR! &   7.256  & Montevideo Periferia & 19 & 7256\\\\\n",
       "\t 227831 & 2019-08-23 & 225831 & \\#ERROR! &   2.901  & Durazno              &  4 & 2901\\\\\n",
       "\t 227826 & 2019-08-23 & 185845 & \\#ERROR! &   4.462  & Montevideo Periferia &  0 & 4462\\\\\n",
       "\t 227823 & 2019-08-23 & 153566 & \\#ERROR! &   2.901  & Rivera               &  4 & 2901\\\\\n",
       "\t 227821 & 2019-08-23 & 164715 & \\#ERROR! &   2.214  & Paysandú             &  3 & 2214\\\\\n",
       "\\end{tabular}\n"
      ],
      "text/markdown": [
       "\n",
       "A tibble: 6 × 8\n",
       "\n",
       "| Factura &lt;chr&gt; | Fecha &lt;date&gt; | Customer_ID &lt;chr&gt; | Sexo &lt;chr&gt; | Precio_Venta &lt;chr&gt; | Ciudad &lt;chr&gt; | Product_ID &lt;int&gt; | Precio_Venta_2 &lt;dbl&gt; |\n",
       "|---|---|---|---|---|---|---|---|\n",
       "| 227837 | 2019-08-23 | 175335 | #ERROR! |   2.901  | Rivera               |  4 | 2901 |\n",
       "| 227832 | 2019-08-23 | 140862 | #ERROR! |   7.256  | Montevideo Periferia | 19 | 7256 |\n",
       "| 227831 | 2019-08-23 | 225831 | #ERROR! |   2.901  | Durazno              |  4 | 2901 |\n",
       "| 227826 | 2019-08-23 | 185845 | #ERROR! |   4.462  | Montevideo Periferia |  0 | 4462 |\n",
       "| 227823 | 2019-08-23 | 153566 | #ERROR! |   2.901  | Rivera               |  4 | 2901 |\n",
       "| 227821 | 2019-08-23 | 164715 | #ERROR! |   2.214  | Paysandú             |  3 | 2214 |\n",
       "\n"
      ],
      "text/plain": [
       "  Factura Fecha      Customer_ID Sexo    Precio_Venta Ciudad              \n",
       "1 227837  2019-08-23 175335      #ERROR!   2.901      Rivera              \n",
       "2 227832  2019-08-23 140862      #ERROR!   7.256      Montevideo Periferia\n",
       "3 227831  2019-08-23 225831      #ERROR!   2.901      Durazno             \n",
       "4 227826  2019-08-23 185845      #ERROR!   4.462      Montevideo Periferia\n",
       "5 227823  2019-08-23 153566      #ERROR!   2.901      Rivera              \n",
       "6 227821  2019-08-23 164715      #ERROR!   2.214      Paysandú            \n",
       "  Product_ID Precio_Venta_2\n",
       "1  4         2901          \n",
       "2 19         7256          \n",
       "3  4         2901          \n",
       "4  0         4462          \n",
       "5  4         2901          \n",
       "6  3         2214          "
      ]
     },
     "metadata": {},
     "output_type": "display_data"
    }
   ],
   "source": [
    "head(df)"
   ]
  },
  {
   "cell_type": "markdown",
   "metadata": {},
   "source": [
    "# Cleanning and transformation"
   ]
  },
  {
   "cell_type": "markdown",
   "metadata": {},
   "source": [
    "## missing values"
   ]
  },
  {
   "cell_type": "code",
   "execution_count": 6,
   "metadata": {},
   "outputs": [
    {
     "data": {
      "text/html": [
       "<table>\n",
       "<caption>A matrix: 2 × 8 of type int</caption>\n",
       "<thead>\n",
       "\t<tr><th></th><th scope=col>Factura</th><th scope=col>Fecha</th><th scope=col>Customer_ID</th><th scope=col>Sexo</th><th scope=col>Precio_Venta</th><th scope=col>Ciudad</th><th scope=col>Product_ID</th><th scope=col>Precio_Venta_2</th></tr>\n",
       "</thead>\n",
       "<tbody>\n",
       "\t<tr><th scope=row>n_missing</th><td>9377</td><td>0</td><td>1</td><td>0</td><td>0</td><td>0</td><td>0</td><td>2626</td></tr>\n",
       "\t<tr><th scope=row>perc_missing</th><td>  14</td><td>0</td><td>0</td><td>0</td><td>0</td><td>0</td><td>0</td><td>   4</td></tr>\n",
       "</tbody>\n",
       "</table>\n"
      ],
      "text/latex": [
       "A matrix: 2 × 8 of type int\n",
       "\\begin{tabular}{r|llllllll}\n",
       "  & Factura & Fecha & Customer\\_ID & Sexo & Precio\\_Venta & Ciudad & Product\\_ID & Precio\\_Venta\\_2\\\\\n",
       "\\hline\n",
       "\tn\\_missing & 9377 & 0 & 1 & 0 & 0 & 0 & 0 & 2626\\\\\n",
       "\tperc\\_missing &   14 & 0 & 0 & 0 & 0 & 0 & 0 &    4\\\\\n",
       "\\end{tabular}\n"
      ],
      "text/markdown": [
       "\n",
       "A matrix: 2 × 8 of type int\n",
       "\n",
       "| <!--/--> | Factura | Fecha | Customer_ID | Sexo | Precio_Venta | Ciudad | Product_ID | Precio_Venta_2 |\n",
       "|---|---|---|---|---|---|---|---|---|\n",
       "| n_missing | 9377 | 0 | 1 | 0 | 0 | 0 | 0 | 2626 |\n",
       "| perc_missing |   14 | 0 | 0 | 0 | 0 | 0 | 0 |    4 |\n",
       "\n"
      ],
      "text/plain": [
       "             Factura Fecha Customer_ID Sexo Precio_Venta Ciudad Product_ID\n",
       "n_missing    9377    0     1           0    0            0      0         \n",
       "perc_missing   14    0     0           0    0            0      0         \n",
       "             Precio_Venta_2\n",
       "n_missing    2626          \n",
       "perc_missing    4          "
      ]
     },
     "metadata": {},
     "output_type": "display_data"
    }
   ],
   "source": [
    "cheack_missing <- function(df){\n",
    "    t(data.frame(n_missing = sapply(df, function(x) sum(is.na(x))),\n",
    "                 perc_missing = sapply(df, function(x) as.integer(mean(is.na(x))*100))))\n",
    "}\n",
    "cheack_missing(df)                                                             "
   ]
  },
  {
   "cell_type": "markdown",
   "metadata": {},
   "source": [
    "## Facturas son valor?\n",
    "Posible estrategia seria llenar con un numero random todas las compras de un usuario en el mismo dia\n"
   ]
  },
  {
   "cell_type": "code",
   "execution_count": 9,
   "metadata": {},
   "outputs": [],
   "source": [
    "df <- df %>% \n",
    "    mutate(Transaccion_ID = group_indices(., Fecha, Customer_ID))\n"
   ]
  },
  {
   "cell_type": "code",
   "execution_count": 10,
   "metadata": {},
   "outputs": [
    {
     "data": {
      "text/html": [
       "<table>\n",
       "<caption>A tibble: 6 × 9</caption>\n",
       "<thead>\n",
       "\t<tr><th scope=col>Factura</th><th scope=col>Fecha</th><th scope=col>Customer_ID</th><th scope=col>Sexo</th><th scope=col>Precio_Venta</th><th scope=col>Ciudad</th><th scope=col>Product_ID</th><th scope=col>Precio_Venta_2</th><th scope=col>Transaccion_ID</th></tr>\n",
       "\t<tr><th scope=col>&lt;chr&gt;</th><th scope=col>&lt;date&gt;</th><th scope=col>&lt;chr&gt;</th><th scope=col>&lt;chr&gt;</th><th scope=col>&lt;chr&gt;</th><th scope=col>&lt;chr&gt;</th><th scope=col>&lt;int&gt;</th><th scope=col>&lt;dbl&gt;</th><th scope=col>&lt;int&gt;</th></tr>\n",
       "</thead>\n",
       "<tbody>\n",
       "\t<tr><td>227837</td><td>2019-08-23</td><td>175335</td><td>#ERROR!</td><td>  2.901 </td><td>Rivera              </td><td> 4</td><td>2901</td><td>48097</td></tr>\n",
       "\t<tr><td>227832</td><td>2019-08-23</td><td>140862</td><td>#ERROR!</td><td>  7.256 </td><td>Montevideo Periferia</td><td>19</td><td>7256</td><td>48013</td></tr>\n",
       "\t<tr><td>227831</td><td>2019-08-23</td><td>225831</td><td>#ERROR!</td><td>  2.901 </td><td>Durazno             </td><td> 4</td><td>2901</td><td>48151</td></tr>\n",
       "\t<tr><td>227826</td><td>2019-08-23</td><td>185845</td><td>#ERROR!</td><td>  4.462 </td><td>Montevideo Periferia</td><td> 0</td><td>4462</td><td>48119</td></tr>\n",
       "\t<tr><td>227823</td><td>2019-08-23</td><td>153566</td><td>#ERROR!</td><td>  2.901 </td><td>Rivera              </td><td> 4</td><td>2901</td><td>48028</td></tr>\n",
       "\t<tr><td>227821</td><td>2019-08-23</td><td>164715</td><td>#ERROR!</td><td>  2.214 </td><td>Paysandú            </td><td> 3</td><td>2214</td><td>48064</td></tr>\n",
       "</tbody>\n",
       "</table>\n"
      ],
      "text/latex": [
       "A tibble: 6 × 9\n",
       "\\begin{tabular}{lllllllll}\n",
       " Factura & Fecha & Customer\\_ID & Sexo & Precio\\_Venta & Ciudad & Product\\_ID & Precio\\_Venta\\_2 & Transaccion\\_ID\\\\\n",
       " <chr> & <date> & <chr> & <chr> & <chr> & <chr> & <int> & <dbl> & <int>\\\\\n",
       "\\hline\n",
       "\t 227837 & 2019-08-23 & 175335 & \\#ERROR! &   2.901  & Rivera               &  4 & 2901 & 48097\\\\\n",
       "\t 227832 & 2019-08-23 & 140862 & \\#ERROR! &   7.256  & Montevideo Periferia & 19 & 7256 & 48013\\\\\n",
       "\t 227831 & 2019-08-23 & 225831 & \\#ERROR! &   2.901  & Durazno              &  4 & 2901 & 48151\\\\\n",
       "\t 227826 & 2019-08-23 & 185845 & \\#ERROR! &   4.462  & Montevideo Periferia &  0 & 4462 & 48119\\\\\n",
       "\t 227823 & 2019-08-23 & 153566 & \\#ERROR! &   2.901  & Rivera               &  4 & 2901 & 48028\\\\\n",
       "\t 227821 & 2019-08-23 & 164715 & \\#ERROR! &   2.214  & Paysandú             &  3 & 2214 & 48064\\\\\n",
       "\\end{tabular}\n"
      ],
      "text/markdown": [
       "\n",
       "A tibble: 6 × 9\n",
       "\n",
       "| Factura &lt;chr&gt; | Fecha &lt;date&gt; | Customer_ID &lt;chr&gt; | Sexo &lt;chr&gt; | Precio_Venta &lt;chr&gt; | Ciudad &lt;chr&gt; | Product_ID &lt;int&gt; | Precio_Venta_2 &lt;dbl&gt; | Transaccion_ID &lt;int&gt; |\n",
       "|---|---|---|---|---|---|---|---|---|\n",
       "| 227837 | 2019-08-23 | 175335 | #ERROR! |   2.901  | Rivera               |  4 | 2901 | 48097 |\n",
       "| 227832 | 2019-08-23 | 140862 | #ERROR! |   7.256  | Montevideo Periferia | 19 | 7256 | 48013 |\n",
       "| 227831 | 2019-08-23 | 225831 | #ERROR! |   2.901  | Durazno              |  4 | 2901 | 48151 |\n",
       "| 227826 | 2019-08-23 | 185845 | #ERROR! |   4.462  | Montevideo Periferia |  0 | 4462 | 48119 |\n",
       "| 227823 | 2019-08-23 | 153566 | #ERROR! |   2.901  | Rivera               |  4 | 2901 | 48028 |\n",
       "| 227821 | 2019-08-23 | 164715 | #ERROR! |   2.214  | Paysandú             |  3 | 2214 | 48064 |\n",
       "\n"
      ],
      "text/plain": [
       "  Factura Fecha      Customer_ID Sexo    Precio_Venta Ciudad              \n",
       "1 227837  2019-08-23 175335      #ERROR!   2.901      Rivera              \n",
       "2 227832  2019-08-23 140862      #ERROR!   7.256      Montevideo Periferia\n",
       "3 227831  2019-08-23 225831      #ERROR!   2.901      Durazno             \n",
       "4 227826  2019-08-23 185845      #ERROR!   4.462      Montevideo Periferia\n",
       "5 227823  2019-08-23 153566      #ERROR!   2.901      Rivera              \n",
       "6 227821  2019-08-23 164715      #ERROR!   2.214      Paysandú            \n",
       "  Product_ID Precio_Venta_2 Transaccion_ID\n",
       "1  4         2901           48097         \n",
       "2 19         7256           48013         \n",
       "3  4         2901           48151         \n",
       "4  0         4462           48119         \n",
       "5  4         2901           48028         \n",
       "6  3         2214           48064         "
      ]
     },
     "metadata": {},
     "output_type": "display_data"
    }
   ],
   "source": [
    "head(df)"
   ]
  },
  {
   "cell_type": "markdown",
   "metadata": {},
   "source": [
    "## Filtrado de las transacciones validas "
   ]
  },
  {
   "cell_type": "code",
   "execution_count": 19,
   "metadata": {},
   "outputs": [],
   "source": [
    "df_clean <- df %>% \n",
    "    filter(!is.na(Precio_Venta_2),\n",
    "           !is.na(Customer_ID))"
   ]
  },
  {
   "cell_type": "code",
   "execution_count": 21,
   "metadata": {},
   "outputs": [
    {
     "data": {
      "text/html": [
       "<table>\n",
       "<caption>A matrix: 2 × 9 of type int</caption>\n",
       "<thead>\n",
       "\t<tr><th></th><th scope=col>Factura</th><th scope=col>Fecha</th><th scope=col>Customer_ID</th><th scope=col>Sexo</th><th scope=col>Precio_Venta</th><th scope=col>Ciudad</th><th scope=col>Product_ID</th><th scope=col>Precio_Venta_2</th><th scope=col>Transaccion_ID</th></tr>\n",
       "</thead>\n",
       "<tbody>\n",
       "\t<tr><th scope=row>n_missing</th><td>8309</td><td>0</td><td>0</td><td>0</td><td>0</td><td>0</td><td>0</td><td>0</td><td>0</td></tr>\n",
       "\t<tr><th scope=row>perc_missing</th><td>  13</td><td>0</td><td>0</td><td>0</td><td>0</td><td>0</td><td>0</td><td>0</td><td>0</td></tr>\n",
       "</tbody>\n",
       "</table>\n"
      ],
      "text/latex": [
       "A matrix: 2 × 9 of type int\n",
       "\\begin{tabular}{r|lllllllll}\n",
       "  & Factura & Fecha & Customer\\_ID & Sexo & Precio\\_Venta & Ciudad & Product\\_ID & Precio\\_Venta\\_2 & Transaccion\\_ID\\\\\n",
       "\\hline\n",
       "\tn\\_missing & 8309 & 0 & 0 & 0 & 0 & 0 & 0 & 0 & 0\\\\\n",
       "\tperc\\_missing &   13 & 0 & 0 & 0 & 0 & 0 & 0 & 0 & 0\\\\\n",
       "\\end{tabular}\n"
      ],
      "text/markdown": [
       "\n",
       "A matrix: 2 × 9 of type int\n",
       "\n",
       "| <!--/--> | Factura | Fecha | Customer_ID | Sexo | Precio_Venta | Ciudad | Product_ID | Precio_Venta_2 | Transaccion_ID |\n",
       "|---|---|---|---|---|---|---|---|---|---|\n",
       "| n_missing | 8309 | 0 | 0 | 0 | 0 | 0 | 0 | 0 | 0 |\n",
       "| perc_missing |   13 | 0 | 0 | 0 | 0 | 0 | 0 | 0 | 0 |\n",
       "\n"
      ],
      "text/plain": [
       "             Factura Fecha Customer_ID Sexo Precio_Venta Ciudad Product_ID\n",
       "n_missing    8309    0     0           0    0            0      0         \n",
       "perc_missing   13    0     0           0    0            0      0         \n",
       "             Precio_Venta_2 Transaccion_ID\n",
       "n_missing    0              0             \n",
       "perc_missing 0              0             "
      ]
     },
     "metadata": {},
     "output_type": "display_data"
    }
   ],
   "source": [
    "cheack_missing(df_clean)"
   ]
  },
  {
   "cell_type": "code",
   "execution_count": 20,
   "metadata": {},
   "outputs": [
    {
     "data": {
      "text/plain": [
       "   Factura              Fecha            Customer_ID            Sexo          \n",
       " Length:62381       Min.   :2018-01-02   Length:62381       Length:62381      \n",
       " Class :character   1st Qu.:2018-07-13   Class :character   Class :character  \n",
       " Mode  :character   Median :2018-12-19   Mode  :character   Mode  :character  \n",
       "                    Mean   :2018-12-09                                        \n",
       "                    3rd Qu.:2019-05-10                                        \n",
       "                    Max.   :2019-08-31                                        \n",
       " Precio_Venta          Ciudad            Product_ID     Precio_Venta_2 \n",
       " Length:62381       Length:62381       Min.   : 0.000   Min.   :  403  \n",
       " Class :character   Class :character   1st Qu.: 1.000   1st Qu.: 2901  \n",
       " Mode  :character   Mode  :character   Median : 5.000   Median : 4538  \n",
       "                                       Mean   : 6.851   Mean   : 4719  \n",
       "                                       3rd Qu.: 9.000   3rd Qu.: 6046  \n",
       "                                       Max.   :79.000   Max.   :28324  \n",
       " Transaccion_ID \n",
       " Min.   :    1  \n",
       " 1st Qu.:12845  \n",
       " Median :25139  \n",
       " Mean   :25128  \n",
       " 3rd Qu.:37280  \n",
       " Max.   :50269  "
      ]
     },
     "metadata": {},
     "output_type": "display_data"
    }
   ],
   "source": [
    "summary(df_clean)"
   ]
  },
  {
   "cell_type": "markdown",
   "metadata": {},
   "source": [
    "## Feature engineering"
   ]
  },
  {
   "cell_type": "markdown",
   "metadata": {},
   "source": [
    "### Detalle de la compra"
   ]
  },
  {
   "cell_type": "code",
   "execution_count": 22,
   "metadata": {},
   "outputs": [
    {
     "name": "stderr",
     "output_type": "stream",
     "text": [
      "`summarise()` ungrouping output (override with `.groups` argument)\n",
      "\n"
     ]
    },
    {
     "data": {
      "text/html": [
       "<table>\n",
       "<caption>A tibble: 10 × 3</caption>\n",
       "<thead>\n",
       "\t<tr><th scope=col>Transaccion_ID</th><th scope=col>n_prod</th><th scope=col>total_venta</th></tr>\n",
       "\t<tr><th scope=col>&lt;int&gt;</th><th scope=col>&lt;int&gt;</th><th scope=col>&lt;dbl&gt;</th></tr>\n",
       "</thead>\n",
       "<tbody>\n",
       "\t<tr><td>13592</td><td>1</td><td>  706</td></tr>\n",
       "\t<tr><td>43350</td><td>1</td><td> 5240</td></tr>\n",
       "\t<tr><td> 8578</td><td>5</td><td>18633</td></tr>\n",
       "\t<tr><td>31955</td><td>1</td><td> 6168</td></tr>\n",
       "\t<tr><td>39560</td><td>1</td><td> 6046</td></tr>\n",
       "\t<tr><td>46285</td><td>1</td><td> 5079</td></tr>\n",
       "\t<tr><td>20318</td><td>1</td><td> 4558</td></tr>\n",
       "\t<tr><td>21902</td><td>3</td><td> 5082</td></tr>\n",
       "\t<tr><td>12400</td><td>1</td><td> 7983</td></tr>\n",
       "\t<tr><td>40745</td><td>1</td><td> 3627</td></tr>\n",
       "</tbody>\n",
       "</table>\n"
      ],
      "text/latex": [
       "A tibble: 10 × 3\n",
       "\\begin{tabular}{lll}\n",
       " Transaccion\\_ID & n\\_prod & total\\_venta\\\\\n",
       " <int> & <int> & <dbl>\\\\\n",
       "\\hline\n",
       "\t 13592 & 1 &   706\\\\\n",
       "\t 43350 & 1 &  5240\\\\\n",
       "\t  8578 & 5 & 18633\\\\\n",
       "\t 31955 & 1 &  6168\\\\\n",
       "\t 39560 & 1 &  6046\\\\\n",
       "\t 46285 & 1 &  5079\\\\\n",
       "\t 20318 & 1 &  4558\\\\\n",
       "\t 21902 & 3 &  5082\\\\\n",
       "\t 12400 & 1 &  7983\\\\\n",
       "\t 40745 & 1 &  3627\\\\\n",
       "\\end{tabular}\n"
      ],
      "text/markdown": [
       "\n",
       "A tibble: 10 × 3\n",
       "\n",
       "| Transaccion_ID &lt;int&gt; | n_prod &lt;int&gt; | total_venta &lt;dbl&gt; |\n",
       "|---|---|---|\n",
       "| 13592 | 1 |   706 |\n",
       "| 43350 | 1 |  5240 |\n",
       "|  8578 | 5 | 18633 |\n",
       "| 31955 | 1 |  6168 |\n",
       "| 39560 | 1 |  6046 |\n",
       "| 46285 | 1 |  5079 |\n",
       "| 20318 | 1 |  4558 |\n",
       "| 21902 | 3 |  5082 |\n",
       "| 12400 | 1 |  7983 |\n",
       "| 40745 | 1 |  3627 |\n",
       "\n"
      ],
      "text/plain": [
       "   Transaccion_ID n_prod total_venta\n",
       "1  13592          1        706      \n",
       "2  43350          1       5240      \n",
       "3   8578          5      18633      \n",
       "4  31955          1       6168      \n",
       "5  39560          1       6046      \n",
       "6  46285          1       5079      \n",
       "7  20318          1       4558      \n",
       "8  21902          3       5082      \n",
       "9  12400          1       7983      \n",
       "10 40745          1       3627      "
      ]
     },
     "metadata": {},
     "output_type": "display_data"
    }
   ],
   "source": [
    "resumen_compra <- df_clean %>% \n",
    "    group_by(Transaccion_ID) %>% \n",
    "    summarise(n_prod = n(),\n",
    "              total_venta = sum(Precio_Venta_2),\n",
    "             ) %>% \n",
    "    ungroup()\n",
    "\n",
    "resumen_compra[sample(nrow(resumen_compra), 10),]"
   ]
  },
  {
   "cell_type": "markdown",
   "metadata": {},
   "source": [
    "### Detalles de la transacción"
   ]
  },
  {
   "cell_type": "code",
   "execution_count": 26,
   "metadata": {},
   "outputs": [
    {
     "data": {
      "text/html": [
       "<table>\n",
       "<caption>A tibble: 6 × 5</caption>\n",
       "<thead>\n",
       "\t<tr><th scope=col>Fecha</th><th scope=col>Customer_ID</th><th scope=col>Ciudad</th><th scope=col>Transaccion_ID</th><th scope=col>Dias_Ultima_Compra</th></tr>\n",
       "\t<tr><th scope=col>&lt;date&gt;</th><th scope=col>&lt;chr&gt;</th><th scope=col>&lt;chr&gt;</th><th scope=col>&lt;int&gt;</th><th scope=col>&lt;int&gt;</th></tr>\n",
       "</thead>\n",
       "<tbody>\n",
       "\t<tr><td>2019-08-23</td><td>175335</td><td>Rivera              </td><td>48097</td><td>8</td></tr>\n",
       "\t<tr><td>2019-08-23</td><td>140862</td><td>Montevideo Periferia</td><td>48013</td><td>8</td></tr>\n",
       "\t<tr><td>2019-08-23</td><td>225831</td><td>Durazno             </td><td>48151</td><td>8</td></tr>\n",
       "\t<tr><td>2019-08-23</td><td>185845</td><td>Montevideo Periferia</td><td>48119</td><td>8</td></tr>\n",
       "\t<tr><td>2019-08-23</td><td>153566</td><td>Rivera              </td><td>48028</td><td>8</td></tr>\n",
       "\t<tr><td>2019-08-23</td><td>164715</td><td>Paysandú            </td><td>48064</td><td>8</td></tr>\n",
       "</tbody>\n",
       "</table>\n"
      ],
      "text/latex": [
       "A tibble: 6 × 5\n",
       "\\begin{tabular}{lllll}\n",
       " Fecha & Customer\\_ID & Ciudad & Transaccion\\_ID & Dias\\_Ultima\\_Compra\\\\\n",
       " <date> & <chr> & <chr> & <int> & <int>\\\\\n",
       "\\hline\n",
       "\t 2019-08-23 & 175335 & Rivera               & 48097 & 8\\\\\n",
       "\t 2019-08-23 & 140862 & Montevideo Periferia & 48013 & 8\\\\\n",
       "\t 2019-08-23 & 225831 & Durazno              & 48151 & 8\\\\\n",
       "\t 2019-08-23 & 185845 & Montevideo Periferia & 48119 & 8\\\\\n",
       "\t 2019-08-23 & 153566 & Rivera               & 48028 & 8\\\\\n",
       "\t 2019-08-23 & 164715 & Paysandú             & 48064 & 8\\\\\n",
       "\\end{tabular}\n"
      ],
      "text/markdown": [
       "\n",
       "A tibble: 6 × 5\n",
       "\n",
       "| Fecha &lt;date&gt; | Customer_ID &lt;chr&gt; | Ciudad &lt;chr&gt; | Transaccion_ID &lt;int&gt; | Dias_Ultima_Compra &lt;int&gt; |\n",
       "|---|---|---|---|---|\n",
       "| 2019-08-23 | 175335 | Rivera               | 48097 | 8 |\n",
       "| 2019-08-23 | 140862 | Montevideo Periferia | 48013 | 8 |\n",
       "| 2019-08-23 | 225831 | Durazno              | 48151 | 8 |\n",
       "| 2019-08-23 | 185845 | Montevideo Periferia | 48119 | 8 |\n",
       "| 2019-08-23 | 153566 | Rivera               | 48028 | 8 |\n",
       "| 2019-08-23 | 164715 | Paysandú             | 48064 | 8 |\n",
       "\n"
      ],
      "text/plain": [
       "  Fecha      Customer_ID Ciudad               Transaccion_ID Dias_Ultima_Compra\n",
       "1 2019-08-23 175335      Rivera               48097          8                 \n",
       "2 2019-08-23 140862      Montevideo Periferia 48013          8                 \n",
       "3 2019-08-23 225831      Durazno              48151          8                 \n",
       "4 2019-08-23 185845      Montevideo Periferia 48119          8                 \n",
       "5 2019-08-23 153566      Rivera               48028          8                 \n",
       "6 2019-08-23 164715      Paysandú             48064          8                 "
      ]
     },
     "metadata": {},
     "output_type": "display_data"
    }
   ],
   "source": [
    "transaccion <- df_clean %>% \n",
    "    distinct(Transaccion_ID, Fecha, Customer_ID, Ciudad) %>% \n",
    "    mutate(Dias_Ultima_Compra = as.integer(max(Fecha) - Fecha))\n",
    "\n",
    "head(feactura)"
   ]
  },
  {
   "cell_type": "markdown",
   "metadata": {},
   "source": [
    "### Detalles del customer"
   ]
  },
  {
   "cell_type": "code",
   "execution_count": 24,
   "metadata": {},
   "outputs": [
    {
     "name": "stderr",
     "output_type": "stream",
     "text": [
      "`summarise()` ungrouping output (override with `.groups` argument)\n",
      "\n",
      "`stat_bin()` using `bins = 30`. Pick better value with `binwidth`.\n",
      "\n"
     ]
    },
    {
     "data": {
      "image/png": "[encoded data removed]",
      "text/plain": [
       "plot without title"
      ]
     },
     "metadata": {
      "image/png": {
       "height": 420,
       "width": 420
      }
     },
     "output_type": "display_data"
    }
   ],
   "source": [
    "# Diversidad de compra\n",
    "df_clean %>% \n",
    "    group_by(Customer_ID) %>%\n",
    "    summarise(nn = n_distinct(Product_ID)) %>%\n",
    "    arrange(nn) %>% \n",
    "    ggplot(aes(nn)) + geom_histogram()"
   ]
  },
  {
   "cell_type": "code",
   "execution_count": 28,
   "metadata": {},
   "outputs": [
    {
     "data": {
      "text/html": [
       "<table>\n",
       "<caption>A tibble: 6 × 7</caption>\n",
       "<thead>\n",
       "\t<tr><th scope=col>Fecha</th><th scope=col>Customer_ID</th><th scope=col>Ciudad</th><th scope=col>Transaccion_ID</th><th scope=col>Dias_Ultima_Compra</th><th scope=col>n_prod</th><th scope=col>total_venta</th></tr>\n",
       "\t<tr><th scope=col>&lt;date&gt;</th><th scope=col>&lt;chr&gt;</th><th scope=col>&lt;chr&gt;</th><th scope=col>&lt;int&gt;</th><th scope=col>&lt;int&gt;</th><th scope=col>&lt;int&gt;</th><th scope=col>&lt;dbl&gt;</th></tr>\n",
       "</thead>\n",
       "<tbody>\n",
       "\t<tr><td>2019-08-23</td><td>175335</td><td>Rivera              </td><td>48097</td><td>8</td><td>1</td><td>2901</td></tr>\n",
       "\t<tr><td>2019-08-23</td><td>140862</td><td>Montevideo Periferia</td><td>48013</td><td>8</td><td>1</td><td>7256</td></tr>\n",
       "\t<tr><td>2019-08-23</td><td>225831</td><td>Durazno             </td><td>48151</td><td>8</td><td>1</td><td>2901</td></tr>\n",
       "\t<tr><td>2019-08-23</td><td>185845</td><td>Montevideo Periferia</td><td>48119</td><td>8</td><td>1</td><td>4462</td></tr>\n",
       "\t<tr><td>2019-08-23</td><td>153566</td><td>Rivera              </td><td>48028</td><td>8</td><td>1</td><td>2901</td></tr>\n",
       "\t<tr><td>2019-08-23</td><td>164715</td><td>Paysandú            </td><td>48064</td><td>8</td><td>1</td><td>2214</td></tr>\n",
       "</tbody>\n",
       "</table>\n"
      ],
      "text/latex": [
       "A tibble: 6 × 7\n",
       "\\begin{tabular}{lllllll}\n",
       " Fecha & Customer\\_ID & Ciudad & Transaccion\\_ID & Dias\\_Ultima\\_Compra & n\\_prod & total\\_venta\\\\\n",
       " <date> & <chr> & <chr> & <int> & <int> & <int> & <dbl>\\\\\n",
       "\\hline\n",
       "\t 2019-08-23 & 175335 & Rivera               & 48097 & 8 & 1 & 2901\\\\\n",
       "\t 2019-08-23 & 140862 & Montevideo Periferia & 48013 & 8 & 1 & 7256\\\\\n",
       "\t 2019-08-23 & 225831 & Durazno              & 48151 & 8 & 1 & 2901\\\\\n",
       "\t 2019-08-23 & 185845 & Montevideo Periferia & 48119 & 8 & 1 & 4462\\\\\n",
       "\t 2019-08-23 & 153566 & Rivera               & 48028 & 8 & 1 & 2901\\\\\n",
       "\t 2019-08-23 & 164715 & Paysandú             & 48064 & 8 & 1 & 2214\\\\\n",
       "\\end{tabular}\n"
      ],
      "text/markdown": [
       "\n",
       "A tibble: 6 × 7\n",
       "\n",
       "| Fecha &lt;date&gt; | Customer_ID &lt;chr&gt; | Ciudad &lt;chr&gt; | Transaccion_ID &lt;int&gt; | Dias_Ultima_Compra &lt;int&gt; | n_prod &lt;int&gt; | total_venta &lt;dbl&gt; |\n",
       "|---|---|---|---|---|---|---|\n",
       "| 2019-08-23 | 175335 | Rivera               | 48097 | 8 | 1 | 2901 |\n",
       "| 2019-08-23 | 140862 | Montevideo Periferia | 48013 | 8 | 1 | 7256 |\n",
       "| 2019-08-23 | 225831 | Durazno              | 48151 | 8 | 1 | 2901 |\n",
       "| 2019-08-23 | 185845 | Montevideo Periferia | 48119 | 8 | 1 | 4462 |\n",
       "| 2019-08-23 | 153566 | Rivera               | 48028 | 8 | 1 | 2901 |\n",
       "| 2019-08-23 | 164715 | Paysandú             | 48064 | 8 | 1 | 2214 |\n",
       "\n"
      ],
      "text/plain": [
       "  Fecha      Customer_ID Ciudad               Transaccion_ID Dias_Ultima_Compra\n",
       "1 2019-08-23 175335      Rivera               48097          8                 \n",
       "2 2019-08-23 140862      Montevideo Periferia 48013          8                 \n",
       "3 2019-08-23 225831      Durazno              48151          8                 \n",
       "4 2019-08-23 185845      Montevideo Periferia 48119          8                 \n",
       "5 2019-08-23 153566      Rivera               48028          8                 \n",
       "6 2019-08-23 164715      Paysandú             48064          8                 \n",
       "  n_prod total_venta\n",
       "1 1      2901       \n",
       "2 1      7256       \n",
       "3 1      2901       \n",
       "4 1      4462       \n",
       "5 1      2901       \n",
       "6 1      2214       "
      ]
     },
     "metadata": {},
     "output_type": "display_data"
    }
   ],
   "source": [
    "resumen_transaccion <- transaccion %>% inner_join(resumen_compra, by = \"Transaccion_ID\")\n",
    "head(resumen_transaccion)"
   ]
  },
  {
   "cell_type": "code",
   "execution_count": 31,
   "metadata": {},
   "outputs": [
    {
     "name": "stderr",
     "output_type": "stream",
     "text": [
      "`summarise()` ungrouping output (override with `.groups` argument)\n",
      "\n"
     ]
    },
    {
     "data": {
      "text/html": [
       "<table>\n",
       "<caption>A tibble: 6 × 5</caption>\n",
       "<thead>\n",
       "\t<tr><th scope=col>Customer_ID</th><th scope=col>n_compras</th><th scope=col>n_productos</th><th scope=col>ultimo_dia</th><th scope=col>edad_dias</th></tr>\n",
       "\t<tr><th scope=col>&lt;chr&gt;</th><th scope=col>&lt;int&gt;</th><th scope=col>&lt;int&gt;</th><th scope=col>&lt;int&gt;</th><th scope=col>&lt;int&gt;</th></tr>\n",
       "</thead>\n",
       "<tbody>\n",
       "\t<tr><td>06444-</td><td>1</td><td>1</td><td> 38</td><td>0</td></tr>\n",
       "\t<tr><td>100032</td><td>1</td><td>1</td><td> 49</td><td>0</td></tr>\n",
       "\t<tr><td>100046</td><td>1</td><td>1</td><td>549</td><td>0</td></tr>\n",
       "\t<tr><td>100058</td><td>1</td><td>1</td><td>158</td><td>0</td></tr>\n",
       "\t<tr><td>100081</td><td>1</td><td>1</td><td>446</td><td>0</td></tr>\n",
       "\t<tr><td>100114</td><td>1</td><td>1</td><td> 53</td><td>0</td></tr>\n",
       "</tbody>\n",
       "</table>\n"
      ],
      "text/latex": [
       "A tibble: 6 × 5\n",
       "\\begin{tabular}{lllll}\n",
       " Customer\\_ID & n\\_compras & n\\_productos & ultimo\\_dia & edad\\_dias\\\\\n",
       " <chr> & <int> & <int> & <int> & <int>\\\\\n",
       "\\hline\n",
       "\t 06444- & 1 & 1 &  38 & 0\\\\\n",
       "\t 100032 & 1 & 1 &  49 & 0\\\\\n",
       "\t 100046 & 1 & 1 & 549 & 0\\\\\n",
       "\t 100058 & 1 & 1 & 158 & 0\\\\\n",
       "\t 100081 & 1 & 1 & 446 & 0\\\\\n",
       "\t 100114 & 1 & 1 &  53 & 0\\\\\n",
       "\\end{tabular}\n"
      ],
      "text/markdown": [
       "\n",
       "A tibble: 6 × 5\n",
       "\n",
       "| Customer_ID &lt;chr&gt; | n_compras &lt;int&gt; | n_productos &lt;int&gt; | ultimo_dia &lt;int&gt; | edad_dias &lt;int&gt; |\n",
       "|---|---|---|---|---|\n",
       "| 06444- | 1 | 1 |  38 | 0 |\n",
       "| 100032 | 1 | 1 |  49 | 0 |\n",
       "| 100046 | 1 | 1 | 549 | 0 |\n",
       "| 100058 | 1 | 1 | 158 | 0 |\n",
       "| 100081 | 1 | 1 | 446 | 0 |\n",
       "| 100114 | 1 | 1 |  53 | 0 |\n",
       "\n"
      ],
      "text/plain": [
       "  Customer_ID n_compras n_productos ultimo_dia edad_dias\n",
       "1 06444-      1         1            38        0        \n",
       "2 100032      1         1            49        0        \n",
       "3 100046      1         1           549        0        \n",
       "4 100058      1         1           158        0        \n",
       "5 100081      1         1           446        0        \n",
       "6 100114      1         1            53        0        "
      ]
     },
     "metadata": {},
     "output_type": "display_data"
    }
   ],
   "source": [
    "customer  <- resumen_transaccion %>% \n",
    "    group_by(Customer_ID) %>% \n",
    "    summarise(n_compras = n(),  # frecuencia\n",
    "              n_productos = sum(n_prod),\n",
    "              ultimo_dia = min(Dias_Ultima_Compra),\n",
    "              edad_dias = as.integer(max(Fecha)-min(Fecha))\n",
    "             ) %>% \n",
    "    arrange(n_compras)\n",
    "head(customer)"
   ]
  },
  {
   "cell_type": "code",
   "execution_count": 43,
   "metadata": {},
   "outputs": [
    {
     "data": {
      "image/png": "[encoded data removed]",
      "text/plain": [
       "plot without title"
      ]
     },
     "metadata": {
      "image/png": {
       "height": 420,
       "width": 420
      }
     },
     "output_type": "display_data"
    }
   ],
   "source": [
    "customer %>% \n",
    "    filter(edad_dias > 0) %>% \n",
    "    ggplot(aes(x=edad_dias, y=ultimo_dia)) + geom_hex(bins = 10)"
   ]
  },
  {
   "cell_type": "code",
   "execution_count": 45,
   "metadata": {},
   "outputs": [
    {
     "data": {
      "text/html": [
       "<table>\n",
       "<caption>A tibble: 1 × 1</caption>\n",
       "<thead>\n",
       "\t<tr><th scope=col>thr_mean</th></tr>\n",
       "\t<tr><th scope=col>&lt;dbl&gt;</th></tr>\n",
       "</thead>\n",
       "<tbody>\n",
       "\t<tr><td>0.2026138</td></tr>\n",
       "</tbody>\n",
       "</table>\n"
      ],
      "text/latex": [
       "A tibble: 1 × 1\n",
       "\\begin{tabular}{l}\n",
       " thr\\_mean\\\\\n",
       " <dbl>\\\\\n",
       "\\hline\n",
       "\t 0.2026138\\\\\n",
       "\\end{tabular}\n"
      ],
      "text/markdown": [
       "\n",
       "A tibble: 1 × 1\n",
       "\n",
       "| thr_mean &lt;dbl&gt; |\n",
       "|---|\n",
       "| 0.2026138 |\n",
       "\n"
      ],
      "text/plain": [
       "  thr_mean \n",
       "1 0.2026138"
      ]
     },
     "metadata": {},
     "output_type": "display_data"
    }
   ],
   "source": [
    "customer %>% \n",
    "    filter(edad_dias > 0) %>% \n",
    "    mutate(thr = ultimo_dia>250) %>% \n",
    "    summarise(thr_mean = mean(thr))\n"
   ]
  },
  {
   "cell_type": "code",
   "execution_count": null,
   "metadata": {},
   "outputs": [],
   "source": []
  },
  {
   "cell_type": "code",
   "execution_count": null,
   "metadata": {},
   "outputs": [],
   "source": []
  },
  {
   "cell_type": "code",
   "execution_count": null,
   "metadata": {},
   "outputs": [],
   "source": []
  },
  {
   "cell_type": "code",
   "execution_count": null,
   "metadata": {},
   "outputs": [],
   "source": []
  },
  {
   "cell_type": "code",
   "execution_count": 171,
   "metadata": {},
   "outputs": [
    {
     "data": {
      "text/html": [
       "<table>\n",
       "<caption>A tibble: 1 × 1</caption>\n",
       "<thead>\n",
       "\t<tr><th scope=col>x_mean</th></tr>\n",
       "\t<tr><th scope=col>&lt;dbl&gt;</th></tr>\n",
       "</thead>\n",
       "<tbody>\n",
       "\t<tr><td>0.1655687</td></tr>\n",
       "</tbody>\n",
       "</table>\n"
      ],
      "text/latex": [
       "A tibble: 1 × 1\n",
       "\\begin{tabular}{l}\n",
       " x\\_mean\\\\\n",
       " <dbl>\\\\\n",
       "\\hline\n",
       "\t 0.1655687\\\\\n",
       "\\end{tabular}\n"
      ],
      "text/markdown": [
       "\n",
       "A tibble: 1 × 1\n",
       "\n",
       "| x_mean &lt;dbl&gt; |\n",
       "|---|\n",
       "| 0.1655687 |\n",
       "\n"
      ],
      "text/plain": [
       "  x_mean   \n",
       "1 0.1655687"
      ]
     },
     "metadata": {},
     "output_type": "display_data"
    }
   ],
   "source": [
    "customer %>% mutate(x = ultimo_dia > 400) %>% select(x) %>% summarise(x_mean=mean(x))"
   ]
  },
  {
   "cell_type": "code",
   "execution_count": 46,
   "metadata": {},
   "outputs": [
    {
     "name": "stderr",
     "output_type": "stream",
     "text": [
      "Warning message:\n",
      "“Removed 3 rows containing missing values (geom_point).”\n"
     ]
    },
    {
     "data": {
      "image/png": "[encoded data removed]",
      "text/plain": [
       "plot without title"
      ]
     },
     "metadata": {
      "image/png": {
       "height": 420,
       "width": 420
      }
     },
     "output_type": "display_data"
    }
   ],
   "source": [
    "customer %>% ggplot(aes(x=ultimo_dia, y=n_compras)) + geom_point()+ ylim(0, 20)"
   ]
  },
  {
   "cell_type": "code",
   "execution_count": 47,
   "metadata": {},
   "outputs": [
    {
     "data": {
      "image/png": "[encoded data removed]",
      "text/plain": [
       "plot without title"
      ]
     },
     "metadata": {
      "image/png": {
       "height": 420,
       "width": 420
      }
     },
     "output_type": "display_data"
    }
   ],
   "source": [
    "customer %>% ggplot(aes(x=ultimo_dia)) + geom_histogram(binwidth = 10)"
   ]
  },
  {
   "cell_type": "code",
   "execution_count": 92,
   "metadata": {},
   "outputs": [
    {
     "data": {
      "text/html": [
       "<table>\n",
       "<caption>A spec_tbl_df: 79 × 2</caption>\n",
       "<thead>\n",
       "\t<tr><th scope=col>Product_ID</th><th scope=col>n</th></tr>\n",
       "\t<tr><th scope=col>&lt;int&gt;</th><th scope=col>&lt;int&gt;</th></tr>\n",
       "</thead>\n",
       "<tbody>\n",
       "\t<tr><td> 0</td><td>9294</td></tr>\n",
       "\t<tr><td> 1</td><td>6443</td></tr>\n",
       "\t<tr><td> 2</td><td>6631</td></tr>\n",
       "\t<tr><td> 3</td><td>3786</td></tr>\n",
       "\t<tr><td> 4</td><td>4898</td></tr>\n",
       "\t<tr><td> 5</td><td>3883</td></tr>\n",
       "\t<tr><td> 6</td><td>4495</td></tr>\n",
       "\t<tr><td> 7</td><td>3625</td></tr>\n",
       "\t<tr><td> 8</td><td>2907</td></tr>\n",
       "\t<tr><td> 9</td><td>1832</td></tr>\n",
       "\t<tr><td>10</td><td>2062</td></tr>\n",
       "\t<tr><td>11</td><td>1439</td></tr>\n",
       "\t<tr><td>12</td><td>1154</td></tr>\n",
       "\t<tr><td>13</td><td>1010</td></tr>\n",
       "\t<tr><td>14</td><td>1197</td></tr>\n",
       "\t<tr><td>15</td><td> 767</td></tr>\n",
       "\t<tr><td>16</td><td> 948</td></tr>\n",
       "\t<tr><td>17</td><td> 597</td></tr>\n",
       "\t<tr><td>18</td><td> 540</td></tr>\n",
       "\t<tr><td>19</td><td> 505</td></tr>\n",
       "\t<tr><td>20</td><td> 371</td></tr>\n",
       "\t<tr><td>21</td><td> 320</td></tr>\n",
       "\t<tr><td>22</td><td> 298</td></tr>\n",
       "\t<tr><td>23</td><td> 259</td></tr>\n",
       "\t<tr><td>24</td><td> 261</td></tr>\n",
       "\t<tr><td>25</td><td> 279</td></tr>\n",
       "\t<tr><td>26</td><td> 249</td></tr>\n",
       "\t<tr><td>27</td><td> 255</td></tr>\n",
       "\t<tr><td>28</td><td> 198</td></tr>\n",
       "\t<tr><td>29</td><td> 190</td></tr>\n",
       "\t<tr><td>⋮</td><td>⋮</td></tr>\n",
       "\t<tr><td>49</td><td>14</td></tr>\n",
       "\t<tr><td>50</td><td>14</td></tr>\n",
       "\t<tr><td>51</td><td>16</td></tr>\n",
       "\t<tr><td>52</td><td>17</td></tr>\n",
       "\t<tr><td>53</td><td> 9</td></tr>\n",
       "\t<tr><td>54</td><td>11</td></tr>\n",
       "\t<tr><td>56</td><td>11</td></tr>\n",
       "\t<tr><td>57</td><td> 9</td></tr>\n",
       "\t<tr><td>58</td><td> 7</td></tr>\n",
       "\t<tr><td>59</td><td> 8</td></tr>\n",
       "\t<tr><td>60</td><td> 9</td></tr>\n",
       "\t<tr><td>61</td><td> 5</td></tr>\n",
       "\t<tr><td>62</td><td> 5</td></tr>\n",
       "\t<tr><td>63</td><td> 5</td></tr>\n",
       "\t<tr><td>64</td><td> 4</td></tr>\n",
       "\t<tr><td>65</td><td> 5</td></tr>\n",
       "\t<tr><td>66</td><td> 6</td></tr>\n",
       "\t<tr><td>67</td><td> 4</td></tr>\n",
       "\t<tr><td>68</td><td> 3</td></tr>\n",
       "\t<tr><td>69</td><td> 4</td></tr>\n",
       "\t<tr><td>70</td><td> 3</td></tr>\n",
       "\t<tr><td>71</td><td> 3</td></tr>\n",
       "\t<tr><td>72</td><td> 2</td></tr>\n",
       "\t<tr><td>73</td><td> 3</td></tr>\n",
       "\t<tr><td>74</td><td> 2</td></tr>\n",
       "\t<tr><td>75</td><td> 2</td></tr>\n",
       "\t<tr><td>76</td><td> 2</td></tr>\n",
       "\t<tr><td>77</td><td> 3</td></tr>\n",
       "\t<tr><td>78</td><td> 1</td></tr>\n",
       "\t<tr><td>79</td><td> 2</td></tr>\n",
       "</tbody>\n",
       "</table>\n"
      ],
      "text/latex": [
       "A spec\\_tbl\\_df: 79 × 2\n",
       "\\begin{tabular}{ll}\n",
       " Product\\_ID & n\\\\\n",
       " <int> & <int>\\\\\n",
       "\\hline\n",
       "\t  0 & 9294\\\\\n",
       "\t  1 & 6443\\\\\n",
       "\t  2 & 6631\\\\\n",
       "\t  3 & 3786\\\\\n",
       "\t  4 & 4898\\\\\n",
       "\t  5 & 3883\\\\\n",
       "\t  6 & 4495\\\\\n",
       "\t  7 & 3625\\\\\n",
       "\t  8 & 2907\\\\\n",
       "\t  9 & 1832\\\\\n",
       "\t 10 & 2062\\\\\n",
       "\t 11 & 1439\\\\\n",
       "\t 12 & 1154\\\\\n",
       "\t 13 & 1010\\\\\n",
       "\t 14 & 1197\\\\\n",
       "\t 15 &  767\\\\\n",
       "\t 16 &  948\\\\\n",
       "\t 17 &  597\\\\\n",
       "\t 18 &  540\\\\\n",
       "\t 19 &  505\\\\\n",
       "\t 20 &  371\\\\\n",
       "\t 21 &  320\\\\\n",
       "\t 22 &  298\\\\\n",
       "\t 23 &  259\\\\\n",
       "\t 24 &  261\\\\\n",
       "\t 25 &  279\\\\\n",
       "\t 26 &  249\\\\\n",
       "\t 27 &  255\\\\\n",
       "\t 28 &  198\\\\\n",
       "\t 29 &  190\\\\\n",
       "\t ⋮ & ⋮\\\\\n",
       "\t 49 & 14\\\\\n",
       "\t 50 & 14\\\\\n",
       "\t 51 & 16\\\\\n",
       "\t 52 & 17\\\\\n",
       "\t 53 &  9\\\\\n",
       "\t 54 & 11\\\\\n",
       "\t 56 & 11\\\\\n",
       "\t 57 &  9\\\\\n",
       "\t 58 &  7\\\\\n",
       "\t 59 &  8\\\\\n",
       "\t 60 &  9\\\\\n",
       "\t 61 &  5\\\\\n",
       "\t 62 &  5\\\\\n",
       "\t 63 &  5\\\\\n",
       "\t 64 &  4\\\\\n",
       "\t 65 &  5\\\\\n",
       "\t 66 &  6\\\\\n",
       "\t 67 &  4\\\\\n",
       "\t 68 &  3\\\\\n",
       "\t 69 &  4\\\\\n",
       "\t 70 &  3\\\\\n",
       "\t 71 &  3\\\\\n",
       "\t 72 &  2\\\\\n",
       "\t 73 &  3\\\\\n",
       "\t 74 &  2\\\\\n",
       "\t 75 &  2\\\\\n",
       "\t 76 &  2\\\\\n",
       "\t 77 &  3\\\\\n",
       "\t 78 &  1\\\\\n",
       "\t 79 &  2\\\\\n",
       "\\end{tabular}\n"
      ],
      "text/markdown": [
       "\n",
       "A spec_tbl_df: 79 × 2\n",
       "\n",
       "| Product_ID &lt;int&gt; | n &lt;int&gt; |\n",
       "|---|---|\n",
       "|  0 | 9294 |\n",
       "|  1 | 6443 |\n",
       "|  2 | 6631 |\n",
       "|  3 | 3786 |\n",
       "|  4 | 4898 |\n",
       "|  5 | 3883 |\n",
       "|  6 | 4495 |\n",
       "|  7 | 3625 |\n",
       "|  8 | 2907 |\n",
       "|  9 | 1832 |\n",
       "| 10 | 2062 |\n",
       "| 11 | 1439 |\n",
       "| 12 | 1154 |\n",
       "| 13 | 1010 |\n",
       "| 14 | 1197 |\n",
       "| 15 |  767 |\n",
       "| 16 |  948 |\n",
       "| 17 |  597 |\n",
       "| 18 |  540 |\n",
       "| 19 |  505 |\n",
       "| 20 |  371 |\n",
       "| 21 |  320 |\n",
       "| 22 |  298 |\n",
       "| 23 |  259 |\n",
       "| 24 |  261 |\n",
       "| 25 |  279 |\n",
       "| 26 |  249 |\n",
       "| 27 |  255 |\n",
       "| 28 |  198 |\n",
       "| 29 |  190 |\n",
       "| ⋮ | ⋮ |\n",
       "| 49 | 14 |\n",
       "| 50 | 14 |\n",
       "| 51 | 16 |\n",
       "| 52 | 17 |\n",
       "| 53 |  9 |\n",
       "| 54 | 11 |\n",
       "| 56 | 11 |\n",
       "| 57 |  9 |\n",
       "| 58 |  7 |\n",
       "| 59 |  8 |\n",
       "| 60 |  9 |\n",
       "| 61 |  5 |\n",
       "| 62 |  5 |\n",
       "| 63 |  5 |\n",
       "| 64 |  4 |\n",
       "| 65 |  5 |\n",
       "| 66 |  6 |\n",
       "| 67 |  4 |\n",
       "| 68 |  3 |\n",
       "| 69 |  4 |\n",
       "| 70 |  3 |\n",
       "| 71 |  3 |\n",
       "| 72 |  2 |\n",
       "| 73 |  3 |\n",
       "| 74 |  2 |\n",
       "| 75 |  2 |\n",
       "| 76 |  2 |\n",
       "| 77 |  3 |\n",
       "| 78 |  1 |\n",
       "| 79 |  2 |\n",
       "\n"
      ],
      "text/plain": [
       "   Product_ID n   \n",
       "1   0         9294\n",
       "2   1         6443\n",
       "3   2         6631\n",
       "4   3         3786\n",
       "5   4         4898\n",
       "6   5         3883\n",
       "7   6         4495\n",
       "8   7         3625\n",
       "9   8         2907\n",
       "10  9         1832\n",
       "11 10         2062\n",
       "12 11         1439\n",
       "13 12         1154\n",
       "14 13         1010\n",
       "15 14         1197\n",
       "16 15          767\n",
       "17 16          948\n",
       "18 17          597\n",
       "19 18          540\n",
       "20 19          505\n",
       "21 20          371\n",
       "22 21          320\n",
       "23 22          298\n",
       "24 23          259\n",
       "25 24          261\n",
       "26 25          279\n",
       "27 26          249\n",
       "28 27          255\n",
       "29 28          198\n",
       "30 29          190\n",
       "⋮  ⋮          ⋮   \n",
       "50 49         14  \n",
       "51 50         14  \n",
       "52 51         16  \n",
       "53 52         17  \n",
       "54 53          9  \n",
       "55 54         11  \n",
       "56 56         11  \n",
       "57 57          9  \n",
       "58 58          7  \n",
       "59 59          8  \n",
       "60 60          9  \n",
       "61 61          5  \n",
       "62 62          5  \n",
       "63 63          5  \n",
       "64 64          4  \n",
       "65 65          5  \n",
       "66 66          6  \n",
       "67 67          4  \n",
       "68 68          3  \n",
       "69 69          4  \n",
       "70 70          3  \n",
       "71 71          3  \n",
       "72 72          2  \n",
       "73 73          3  \n",
       "74 74          2  \n",
       "75 75          2  \n",
       "76 76          2  \n",
       "77 77          3  \n",
       "78 78          1  \n",
       "79 79          2  "
      ]
     },
     "metadata": {},
     "output_type": "display_data"
    }
   ],
   "source": [
    "df_clean %>% count(Product_ID)"
   ]
  }
 ],
 "metadata": {
  "kernelspec": {
   "display_name": "R",
   "language": "R",
   "name": "ir"
  },
  "language_info": {
   "codemirror_mode": "r",
   "file_extension": ".r",
   "mimetype": "text/x-r-source",
   "name": "R",
   "pygments_lexer": "r",
   "version": "3.6.3"
  },
  "toc": {
   "base_numbering": 1,
   "nav_menu": {},
   "number_sections": true,
   "sideBar": true,
   "skip_h1_title": false,
   "title_cell": "Table of Contents",
   "title_sidebar": "Contents",
   "toc_cell": false,
   "toc_position": {},
   "toc_section_display": true,
   "toc_window_display": false
  },
  "varInspector": {
   "cols": {
    "lenName": 16,
    "lenType": 16,
    "lenVar": 40
   },
   "kernels_config": {
    "python": {
     "delete_cmd_postfix": "",
     "delete_cmd_prefix": "del ",
     "library": "var_list.py",
     "varRefreshCmd": "print(var_dic_list())"
    },
    "r": {
     "delete_cmd_postfix": ") ",
     "delete_cmd_prefix": "rm(",
     "library": "var_list.r",
     "varRefreshCmd": "cat(var_dic_list()) "
    }
   },
   "types_to_exclude": [
    "module",
    "function",
    "builtin_function_or_method",
    "instance",
    "_Feature"
   ],
   "window_display": false
  }
 },
 "nbformat": 4,
 "nbformat_minor": 4
}
