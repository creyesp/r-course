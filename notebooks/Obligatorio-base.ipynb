{
 "cells": [
  {
   "cell_type": "markdown",
   "metadata": {},
   "source": [
    "# Libraries"
   ]
  },
  {
   "cell_type": "code",
   "execution_count": 1,
   "metadata": {},
   "outputs": [
    {
     "name": "stderr",
     "output_type": "stream",
     "text": [
      "── \u001b[1mAttaching packages\u001b[22m ─────────────────────────────────────── tidyverse 1.3.0 ──\n",
      "\n",
      "\u001b[32m✔\u001b[39m \u001b[34mggplot2\u001b[39m 3.3.2     \u001b[32m✔\u001b[39m \u001b[34mpurrr  \u001b[39m 0.3.4\n",
      "\u001b[32m✔\u001b[39m \u001b[34mtibble \u001b[39m 3.0.4     \u001b[32m✔\u001b[39m \u001b[34mdplyr  \u001b[39m 1.0.2\n",
      "\u001b[32m✔\u001b[39m \u001b[34mtidyr  \u001b[39m 1.1.2     \u001b[32m✔\u001b[39m \u001b[34mstringr\u001b[39m 1.4.0\n",
      "\u001b[32m✔\u001b[39m \u001b[34mreadr  \u001b[39m 1.4.0     \u001b[32m✔\u001b[39m \u001b[34mforcats\u001b[39m 0.5.0\n",
      "\n",
      "── \u001b[1mConflicts\u001b[22m ────────────────────────────────────────── tidyverse_conflicts() ──\n",
      "\u001b[31m✖\u001b[39m \u001b[34mdplyr\u001b[39m::\u001b[32mfilter()\u001b[39m  masks \u001b[34mstats\u001b[39m::filter()\n",
      "\u001b[31m✖\u001b[39m \u001b[34mpurrr\u001b[39m::\u001b[32mflatten()\u001b[39m masks \u001b[34mjsonlite\u001b[39m::flatten()\n",
      "\u001b[31m✖\u001b[39m \u001b[34mdplyr\u001b[39m::\u001b[32mlag()\u001b[39m     masks \u001b[34mstats\u001b[39m::lag()\n",
      "\n",
      "\n",
      "Attaching package: ‘lubridate’\n",
      "\n",
      "\n",
      "The following objects are masked from ‘package:base’:\n",
      "\n",
      "    date, intersect, setdiff, union\n",
      "\n",
      "\n",
      "Loading required package: lattice\n",
      "\n",
      "\n",
      "Attaching package: ‘caret’\n",
      "\n",
      "\n",
      "The following object is masked from ‘package:purrr’:\n",
      "\n",
      "    lift\n",
      "\n",
      "\n",
      "\n",
      "Attaching package: ‘vip’\n",
      "\n",
      "\n",
      "The following object is masked from ‘package:utils’:\n",
      "\n",
      "    vi\n",
      "\n",
      "\n",
      "\n",
      "Attaching package: ‘pdp’\n",
      "\n",
      "\n",
      "The following object is masked from ‘package:purrr’:\n",
      "\n",
      "    partial\n",
      "\n",
      "\n"
     ]
    }
   ],
   "source": [
    "library(tidyverse)\n",
    "library(lubridate)\n",
    "library(caret)\n",
    "library(ranger)\n",
    "library(vip)\n",
    "library(rfUtilities)\n",
    "library(pdp)"
   ]
  },
  {
   "cell_type": "markdown",
   "metadata": {},
   "source": [
    "# Load Raw Dataset\n",
    "EL dataset tiene las columnas:\n",
    "* Factura\n",
    "* Fecha\n",
    "* Customer_ID\n",
    "* Sexo\n",
    "* Venta ($)\n",
    "* Ciudad\n",
    "* Product ID"
   ]
  },
  {
   "cell_type": "code",
   "execution_count": null,
   "metadata": {},
   "outputs": [],
   "source": [
    "col_types <- cols(\n",
    "    Factura = col_character(),\n",
    "    Fecha = col_character(),\n",
    "    Customer_ID = col_character(),\n",
    "    Sexo = col_character(),\n",
    "    `Venta ($)` = col_character(),\n",
    "    Ciudad = col_character(),\n",
    "    `Product ID` = col_integer()\n",
    ")\n",
    "\n",
    "#path = '../data/Final Project Dataset.csv'\n",
    "# Pueden leer el dataset directamente desde internte o poder la ruta a su directorio local\n",
    "path = 'https://www.dropbox.com/s/f3bzfsju7p1sakz/Final%20Project%20Dataset.csv?dl=1'\n",
    "df_raw <- readr::read_delim(path, ',', col_types = col_types)"
   ]
  },
  {
   "cell_type": "markdown",
   "metadata": {},
   "source": [
    "# Parse correct data types"
   ]
  },
  {
   "cell_type": "code",
   "execution_count": null,
   "metadata": {},
   "outputs": [],
   "source": [
    "df <- df_raw  %>% \n",
    "    rename(sale_price = 'Venta ($)',\n",
    "           product_id = 'Product ID',\n",
    "           sale_date = Fecha,\n",
    "           invoice = Factura,\n",
    "           city = Ciudad,\n",
    "           sex= Sexo) %>% \n",
    "    select(-sex) %>% \n",
    "    rename_with(~ tolower(gsub(\" \", \"_\", .x, fixed = TRUE))) %>% \n",
    "    mutate(sale_date = parse_date(sale_date, \"%d/%m/%Y\"),\n",
    "           sale_price = str_replace(sale_price, \"-\", \"0\"),\n",
    "           sale_price = str_replace(sale_price, \"\\\\(\", \"-\"),\n",
    "           sale_price = str_replace(sale_price, \"\\\\)\", \"\"),\n",
    "           sale_price = parse_number(sale_price,\n",
    "                                     locale = locale(decimal_mark = \",\", grouping_mark = \".\"),\n",
    "                                     na = c(\"\", \"NA\", \"--\", \"-\")))\n",
    "head(df)"
   ]
  },
  {
   "cell_type": "markdown",
   "metadata": {},
   "source": [
    "# Cleanning and transformation"
   ]
  },
  {
   "cell_type": "markdown",
   "metadata": {},
   "source": [
    "## missing values"
   ]
  },
  {
   "cell_type": "code",
   "execution_count": null,
   "metadata": {},
   "outputs": [],
   "source": [
    "cheack_missing <- function(df){\n",
    "    t(data.frame(n_missing = sapply(df, function(x) sum(is.na(x))),\n",
    "                 perc_missing = sapply(df, function(x) as.integer(mean(is.na(x))*100))))\n",
    "}\n",
    "cheack_missing(df)                                                             "
   ]
  },
  {
   "cell_type": "markdown",
   "metadata": {},
   "source": [
    "## Como imputar los missing values para las facturas\n",
    "* Posible estrategia seria llenar con un numero random todas las compras de un usuario en el mismo dia\n"
   ]
  },
  {
   "cell_type": "code",
   "execution_count": null,
   "metadata": {},
   "outputs": [],
   "source": [
    "df <- df %>% \n",
    "    mutate(transaction_id = group_indices(., sale_date, customer_id),\n",
    "           refound = ifelse(sale_price < 0, 1, 0)\n",
    "          ) %>% \n",
    "    select(-invoice)\n"
   ]
  },
  {
   "cell_type": "code",
   "execution_count": null,
   "metadata": {},
   "outputs": [],
   "source": [
    "head(df)"
   ]
  },
  {
   "cell_type": "markdown",
   "metadata": {},
   "source": [
    "## Filtrado de las transacciones validas "
   ]
  },
  {
   "cell_type": "code",
   "execution_count": null,
   "metadata": {},
   "outputs": [],
   "source": [
    "df_clean <- df %>% \n",
    "    filter(!is.na(sale_price),\n",
    "           !is.na(customer_id))"
   ]
  },
  {
   "cell_type": "code",
   "execution_count": null,
   "metadata": {},
   "outputs": [],
   "source": [
    "cheack_missing(df_clean)"
   ]
  },
  {
   "cell_type": "code",
   "execution_count": null,
   "metadata": {},
   "outputs": [],
   "source": [
    "summary(df_clean)"
   ]
  },
  {
   "cell_type": "markdown",
   "metadata": {},
   "source": [
    "## Feature engineering"
   ]
  },
  {
   "cell_type": "markdown",
   "metadata": {},
   "source": [
    "### Detalle de la compra"
   ]
  },
  {
   "cell_type": "code",
   "execution_count": null,
   "metadata": {},
   "outputs": [],
   "source": [
    "resume_transaction  <- df_clean %>% \n",
    "    group_by(customer_id, transaction_id) %>% \n",
    "    summarise(sale_date=max(sale_date),\n",
    "              city = max(city),\n",
    "              n_prod = n(),\n",
    "              n_refound = sum(refound),\n",
    "              sale_total = sum(sale_price[sale_price>0]),\n",
    "              refound_total = sum(sale_price[sale_price<0]),\n",
    "              n_item_by_trans = n_distinct(product_id),\n",
    "              is_weekend = wday(sale_price) %in% c(1,7), \n",
    "              .groups = 'drop'\n",
    "             ) %>% \n",
    "    mutate(purchase_age = as.integer(max(sale_date)-sale_date),\n",
    "           city = str_to_lower(str_replace_all(city, ' ', '_')))\n",
    "\n",
    "resume_transaction[sample(1:nrow(resume_transaction), 10),]"
   ]
  },
  {
   "cell_type": "code",
   "execution_count": null,
   "metadata": {},
   "outputs": [],
   "source": [
    "resume_transaction %>% \n",
    "    filter(n_refound>0) %>% \n",
    "    head()"
   ]
  },
  {
   "cell_type": "markdown",
   "metadata": {},
   "source": [
    "### Detalles del customer"
   ]
  },
  {
   "cell_type": "code",
   "execution_count": null,
   "metadata": {},
   "outputs": [],
   "source": [
    "resume_customer  <- resume_transaction %>% \n",
    "    group_by(customer_id) %>% \n",
    "    summarise(n_purchase = n(),  # frecuencia\n",
    "              n_products = sum(n_prod),\n",
    "              n_products_avg = mean(n_prod),\n",
    "              last_purchase = min(purchase_age),\n",
    "              customer_age = as.integer(max(sale_date)-min(sale_date)),\n",
    "              n_cities = n_distinct(city),\n",
    "              sale_avg = sum(sale_total)/sum(n_prod),\n",
    "              item_by_trans_avg = mean(n_item_by_trans),\n",
    "              ratio_week = mean(is_weekend),\n",
    "              .groups = 'drop'\n",
    "             ) %>% \n",
    "    arrange(n_purchase)\n",
    "\n",
    "resume_customer[sample(1:nrow(resume_customer), 10),]"
   ]
  },
  {
   "cell_type": "markdown",
   "metadata": {},
   "source": [
    "### Detalle del las ciudades de compra x usuario"
   ]
  },
  {
   "cell_type": "code",
   "execution_count": null,
   "metadata": {},
   "outputs": [],
   "source": [
    "resume_transaction %>%\n",
    "    group_by(customer_id) %>% \n",
    "    mutate(n=n()) %>% \n",
    "    group_by(city, .add = TRUE) %>% \n",
    "    summarise(n_avg = as.numeric(n()/n), .groups = 'drop') %>% \n",
    "    ungroup()  %>% \n",
    "    pivot_wider(names_from = city, values_from = n_avg, values_fn = max) %>% \n",
    "    head()"
   ]
  },
  {
   "cell_type": "code",
   "execution_count": null,
   "metadata": {},
   "outputs": [],
   "source": [
    "resume_city = resume_transaction %>%\n",
    "    group_by(customer_id) %>% \n",
    "    mutate(n=n()) %>% \n",
    "    group_by(city, .add = TRUE) %>% \n",
    "    summarise(n_avg = as.numeric(n()/n), .groups = 'drop') %>% \n",
    "    ungroup()  %>% \n",
    "    pivot_wider(\n",
    "        names_from = city,\n",
    "        values_from = n_avg,\n",
    "        values_fn=max, \n",
    "        values_fill=0,\n",
    "        names_prefix=\"city_\",\n",
    "    )\n",
    "head(resume_city)"
   ]
  },
  {
   "cell_type": "markdown",
   "metadata": {},
   "source": [
    "### Join Customer + Ciudad"
   ]
  },
  {
   "cell_type": "code",
   "execution_count": null,
   "metadata": {},
   "outputs": [],
   "source": [
    "full_customer = inner_join(x=resume_customer, y=resume_city, by=\"customer_id\")\n",
    "\n",
    "head(full_customer)"
   ]
  },
  {
   "cell_type": "markdown",
   "metadata": {},
   "source": [
    "# Definicion de Churn"
   ]
  },
  {
   "cell_type": "code",
   "execution_count": null,
   "metadata": {},
   "outputs": [],
   "source": [
    "churn_thr <- 120\n",
    "churn_raw <- full_customer %>% \n",
    "    mutate(churn = last_purchase > churn_thr,\n",
    "           churn = as.integer(churn)) %>% \n",
    "    select(!c(last_purchase, customer_id))\n",
    "    "
   ]
  },
  {
   "cell_type": "markdown",
   "metadata": {},
   "source": [
    "--> Filtrar los usuarios con una transacción <---"
   ]
  },
  {
   "cell_type": "code",
   "execution_count": null,
   "metadata": {},
   "outputs": [],
   "source": [
    "glimpse(churn_raw)"
   ]
  },
  {
   "cell_type": "code",
   "execution_count": null,
   "metadata": {},
   "outputs": [],
   "source": [
    "write_csv(churn_raw, file = \"churn_raw.csv\")"
   ]
  },
  {
   "cell_type": "markdown",
   "metadata": {},
   "source": [
    "# Split Train/Test"
   ]
  },
  {
   "cell_type": "code",
   "execution_count": null,
   "metadata": {},
   "outputs": [],
   "source": []
  },
  {
   "cell_type": "markdown",
   "metadata": {},
   "source": [
    "# EDA"
   ]
  },
  {
   "cell_type": "code",
   "execution_count": null,
   "metadata": {},
   "outputs": [],
   "source": []
  },
  {
   "cell_type": "markdown",
   "metadata": {},
   "source": [
    "# Modeling\n",
    "## Base model "
   ]
  },
  {
   "cell_type": "code",
   "execution_count": 2,
   "metadata": {},
   "outputs": [
    {
     "data": {
      "text/html": [
       "<table>\n",
       "<caption>A data.frame: 6 × 3</caption>\n",
       "<thead>\n",
       "\t<tr><th></th><th scope=col>breaks</th><th scope=col>wool</th><th scope=col>tension</th></tr>\n",
       "\t<tr><th></th><th scope=col>&lt;dbl&gt;</th><th scope=col>&lt;fct&gt;</th><th scope=col>&lt;fct&gt;</th></tr>\n",
       "</thead>\n",
       "<tbody>\n",
       "\t<tr><th scope=row>1</th><td>26</td><td>A</td><td>L</td></tr>\n",
       "\t<tr><th scope=row>2</th><td>30</td><td>A</td><td>L</td></tr>\n",
       "\t<tr><th scope=row>3</th><td>54</td><td>A</td><td>L</td></tr>\n",
       "\t<tr><th scope=row>4</th><td>25</td><td>A</td><td>L</td></tr>\n",
       "\t<tr><th scope=row>5</th><td>70</td><td>A</td><td>L</td></tr>\n",
       "\t<tr><th scope=row>6</th><td>52</td><td>A</td><td>L</td></tr>\n",
       "</tbody>\n",
       "</table>\n"
      ],
      "text/latex": [
       "A data.frame: 6 × 3\n",
       "\\begin{tabular}{r|lll}\n",
       "  & breaks & wool & tension\\\\\n",
       "  & <dbl> & <fct> & <fct>\\\\\n",
       "\\hline\n",
       "\t1 & 26 & A & L\\\\\n",
       "\t2 & 30 & A & L\\\\\n",
       "\t3 & 54 & A & L\\\\\n",
       "\t4 & 25 & A & L\\\\\n",
       "\t5 & 70 & A & L\\\\\n",
       "\t6 & 52 & A & L\\\\\n",
       "\\end{tabular}\n"
      ],
      "text/markdown": [
       "\n",
       "A data.frame: 6 × 3\n",
       "\n",
       "| <!--/--> | breaks &lt;dbl&gt; | wool &lt;fct&gt; | tension &lt;fct&gt; |\n",
       "|---|---|---|---|\n",
       "| 1 | 26 | A | L |\n",
       "| 2 | 30 | A | L |\n",
       "| 3 | 54 | A | L |\n",
       "| 4 | 25 | A | L |\n",
       "| 5 | 70 | A | L |\n",
       "| 6 | 52 | A | L |\n",
       "\n"
      ],
      "text/plain": [
       "  breaks wool tension\n",
       "1 26     A    L      \n",
       "2 30     A    L      \n",
       "3 54     A    L      \n",
       "4 25     A    L      \n",
       "5 70     A    L      \n",
       "6 52     A    L      "
      ]
     },
     "metadata": {},
     "output_type": "display_data"
    }
   ],
   "source": [
    "head(warpbreaks)"
   ]
  },
  {
   "cell_type": "code",
   "execution_count": 3,
   "metadata": {},
   "outputs": [
    {
     "data": {
      "text/html": [
       "<table>\n",
       "<caption>A tibble: 3 × 3</caption>\n",
       "<thead>\n",
       "\t<tr><th scope=col>tension</th><th scope=col>A</th><th scope=col>B</th></tr>\n",
       "\t<tr><th scope=col>&lt;fct&gt;</th><th scope=col>&lt;dbl&gt;</th><th scope=col>&lt;dbl&gt;</th></tr>\n",
       "</thead>\n",
       "<tbody>\n",
       "\t<tr><td>L</td><td>44.55556</td><td>28.22222</td></tr>\n",
       "\t<tr><td>M</td><td>24.00000</td><td>28.77778</td></tr>\n",
       "\t<tr><td>H</td><td>24.55556</td><td>18.77778</td></tr>\n",
       "</tbody>\n",
       "</table>\n"
      ],
      "text/latex": [
       "A tibble: 3 × 3\n",
       "\\begin{tabular}{lll}\n",
       " tension & A & B\\\\\n",
       " <fct> & <dbl> & <dbl>\\\\\n",
       "\\hline\n",
       "\t L & 44.55556 & 28.22222\\\\\n",
       "\t M & 24.00000 & 28.77778\\\\\n",
       "\t H & 24.55556 & 18.77778\\\\\n",
       "\\end{tabular}\n"
      ],
      "text/markdown": [
       "\n",
       "A tibble: 3 × 3\n",
       "\n",
       "| tension &lt;fct&gt; | A &lt;dbl&gt; | B &lt;dbl&gt; |\n",
       "|---|---|---|\n",
       "| L | 44.55556 | 28.22222 |\n",
       "| M | 24.00000 | 28.77778 |\n",
       "| H | 24.55556 | 18.77778 |\n",
       "\n"
      ],
      "text/plain": [
       "  tension A        B       \n",
       "1 L       44.55556 28.22222\n",
       "2 M       24.00000 28.77778\n",
       "3 H       24.55556 18.77778"
      ]
     },
     "metadata": {},
     "output_type": "display_data"
    }
   ],
   "source": []
  }
 ],
 "metadata": {
  "kernelspec": {
   "display_name": "R",
   "language": "R",
   "name": "ir"
  },
  "language_info": {
   "codemirror_mode": "r",
   "file_extension": ".r",
   "mimetype": "text/x-r-source",
   "name": "R",
   "pygments_lexer": "r",
   "version": "3.6.3"
  },
  "toc": {
   "base_numbering": 1,
   "nav_menu": {},
   "number_sections": true,
   "sideBar": true,
   "skip_h1_title": false,
   "title_cell": "Table of Contents",
   "title_sidebar": "Contents",
   "toc_cell": false,
   "toc_position": {},
   "toc_section_display": true,
   "toc_window_display": true
  },
  "varInspector": {
   "cols": {
    "lenName": 16,
    "lenType": 16,
    "lenVar": 40
   },
   "kernels_config": {
    "python": {
     "delete_cmd_postfix": "",
     "delete_cmd_prefix": "del ",
     "library": "var_list.py",
     "varRefreshCmd": "print(var_dic_list())"
    },
    "r": {
     "delete_cmd_postfix": ") ",
     "delete_cmd_prefix": "rm(",
     "library": "var_list.r",
     "varRefreshCmd": "cat(var_dic_list()) "
    }
   },
   "types_to_exclude": [
    "module",
    "function",
    "builtin_function_or_method",
    "instance",
    "_Feature"
   ],
   "window_display": false
  }
 },
 "nbformat": 4,
 "nbformat_minor": 4
}
