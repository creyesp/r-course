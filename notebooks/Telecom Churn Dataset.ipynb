{
 "cells": [
  {
   "cell_type": "code",
   "execution_count": 22,
   "metadata": {},
   "outputs": [],
   "source": [
    "library(dplyr)\n",
    "library(ggplot2)"
   ]
  },
  {
   "cell_type": "markdown",
   "metadata": {},
   "source": [
    "# Missing values"
   ]
  },
  {
   "cell_type": "markdown",
   "metadata": {},
   "source": [
    "https://www.kaggle.com/mnassrib/telecom-churn-datasets"
   ]
  },
  {
   "cell_type": "code",
   "execution_count": 4,
   "metadata": {},
   "outputs": [
    {
     "name": "stdout",
     "output_type": "stream",
     "text": [
      "Rows: 2,666\n",
      "Columns: 20\n",
      "$ State                  \u001b[3m\u001b[38;5;246m<fct>\u001b[39m\u001b[23m KS, OH, NJ, OH, OK, AL, MA, MO, WV, RI, IA, MT…\n",
      "$ Account.length         \u001b[3m\u001b[38;5;246m<int>\u001b[39m\u001b[23m 128, 107, 137, 84, 75, 118, 121, 147, 141, 74,…\n",
      "$ Area.code              \u001b[3m\u001b[38;5;246m<int>\u001b[39m\u001b[23m 415, 415, 415, 408, 415, 510, 510, 415, 415, 4…\n",
      "$ International.plan     \u001b[3m\u001b[38;5;246m<fct>\u001b[39m\u001b[23m No, No, No, Yes, Yes, Yes, No, Yes, Yes, No, N…\n",
      "$ Voice.mail.plan        \u001b[3m\u001b[38;5;246m<fct>\u001b[39m\u001b[23m Yes, Yes, No, No, No, No, Yes, No, Yes, No, No…\n",
      "$ Number.vmail.messages  \u001b[3m\u001b[38;5;246m<int>\u001b[39m\u001b[23m 25, 26, 0, 0, 0, 0, 24, 0, 37, 0, 0, 0, 0, 27,…\n",
      "$ Total.day.minutes      \u001b[3m\u001b[38;5;246m<dbl>\u001b[39m\u001b[23m 265.1, 161.6, 243.4, 299.4, 166.7, 223.4, 218.…\n",
      "$ Total.day.calls        \u001b[3m\u001b[38;5;246m<int>\u001b[39m\u001b[23m 110, 123, 114, 71, 113, 98, 88, 79, 84, 127, 9…\n",
      "$ Total.day.charge       \u001b[3m\u001b[38;5;246m<dbl>\u001b[39m\u001b[23m 45.07, 27.47, 41.38, 50.90, 28.34, 37.98, 37.0…\n",
      "$ Total.eve.minutes      \u001b[3m\u001b[38;5;246m<dbl>\u001b[39m\u001b[23m 197.4, 195.5, 121.2, 61.9, 148.3, 220.6, 348.5…\n",
      "$ Total.eve.calls        \u001b[3m\u001b[38;5;246m<int>\u001b[39m\u001b[23m 99, 103, 110, 88, 122, 101, 108, 94, 111, 148,…\n",
      "$ Total.eve.charge       \u001b[3m\u001b[38;5;246m<dbl>\u001b[39m\u001b[23m 16.78, 16.62, 10.30, 5.26, 12.61, 18.75, 29.62…\n",
      "$ Total.night.minutes    \u001b[3m\u001b[38;5;246m<dbl>\u001b[39m\u001b[23m 244.7, 254.4, 162.6, 196.9, 186.9, 203.9, 212.…\n",
      "$ Total.night.calls      \u001b[3m\u001b[38;5;246m<int>\u001b[39m\u001b[23m 91, 103, 104, 89, 121, 118, 118, 96, 97, 94, 1…\n",
      "$ Total.night.charge     \u001b[3m\u001b[38;5;246m<dbl>\u001b[39m\u001b[23m 11.01, 11.45, 7.32, 8.86, 8.41, 9.18, 9.57, 9.…\n",
      "$ Total.intl.minutes     \u001b[3m\u001b[38;5;246m<dbl>\u001b[39m\u001b[23m 10.0, 13.7, 12.2, 6.6, 10.1, 6.3, 7.5, 7.1, 11…\n",
      "$ Total.intl.calls       \u001b[3m\u001b[38;5;246m<int>\u001b[39m\u001b[23m 3, 3, 5, 7, 3, 6, 7, 6, 5, 5, 2, 5, 6, 4, 3, 5…\n",
      "$ Total.intl.charge      \u001b[3m\u001b[38;5;246m<dbl>\u001b[39m\u001b[23m 2.70, 3.70, 3.29, 1.78, 2.73, 1.70, 2.03, 1.92…\n",
      "$ Customer.service.calls \u001b[3m\u001b[38;5;246m<int>\u001b[39m\u001b[23m 1, 1, 0, 2, 3, 0, 3, 0, 0, 0, 1, 3, 4, 1, 3, 1…\n",
      "$ Churn                  \u001b[3m\u001b[38;5;246m<fct>\u001b[39m\u001b[23m False, False, False, False, False, False, Fals…\n"
     ]
    }
   ],
   "source": [
    "PATH <- \"/home/creyesp/Downloads/datasets/Telecom Churn Dataset/churn-bigml-80.csv\"\n",
    "churn <- read.csv(PATH, sep = \",\")\n",
    "glimpse(churn)"
   ]
  },
  {
   "cell_type": "code",
   "execution_count": 46,
   "metadata": {},
   "outputs": [
    {
     "data": {
      "text/html": [
       "<table>\n",
       "<caption>A data.frame: 6 × 20</caption>\n",
       "<thead>\n",
       "\t<tr><th></th><th scope=col>State</th><th scope=col>Account.length</th><th scope=col>Area.code</th><th scope=col>International.plan</th><th scope=col>Voice.mail.plan</th><th scope=col>Number.vmail.messages</th><th scope=col>Total.day.minutes</th><th scope=col>Total.day.calls</th><th scope=col>Total.day.charge</th><th scope=col>Total.eve.minutes</th><th scope=col>Total.eve.calls</th><th scope=col>Total.eve.charge</th><th scope=col>Total.night.minutes</th><th scope=col>Total.night.calls</th><th scope=col>Total.night.charge</th><th scope=col>Total.intl.minutes</th><th scope=col>Total.intl.calls</th><th scope=col>Total.intl.charge</th><th scope=col>Customer.service.calls</th><th scope=col>Churn</th></tr>\n",
       "\t<tr><th></th><th scope=col>&lt;fct&gt;</th><th scope=col>&lt;int&gt;</th><th scope=col>&lt;int&gt;</th><th scope=col>&lt;fct&gt;</th><th scope=col>&lt;fct&gt;</th><th scope=col>&lt;int&gt;</th><th scope=col>&lt;dbl&gt;</th><th scope=col>&lt;int&gt;</th><th scope=col>&lt;dbl&gt;</th><th scope=col>&lt;dbl&gt;</th><th scope=col>&lt;int&gt;</th><th scope=col>&lt;dbl&gt;</th><th scope=col>&lt;dbl&gt;</th><th scope=col>&lt;int&gt;</th><th scope=col>&lt;dbl&gt;</th><th scope=col>&lt;dbl&gt;</th><th scope=col>&lt;int&gt;</th><th scope=col>&lt;dbl&gt;</th><th scope=col>&lt;int&gt;</th><th scope=col>&lt;fct&gt;</th></tr>\n",
       "</thead>\n",
       "<tbody>\n",
       "\t<tr><th scope=row>1</th><td>KS</td><td>128</td><td>415</td><td>No </td><td>Yes</td><td>25</td><td>265.1</td><td>110</td><td>45.07</td><td>197.4</td><td> 99</td><td>16.78</td><td>244.7</td><td> 91</td><td>11.01</td><td>10.0</td><td>3</td><td>2.70</td><td>1</td><td>False</td></tr>\n",
       "\t<tr><th scope=row>2</th><td>OH</td><td>107</td><td>415</td><td>No </td><td>Yes</td><td>26</td><td>161.6</td><td>123</td><td>27.47</td><td>195.5</td><td>103</td><td>16.62</td><td>254.4</td><td>103</td><td>11.45</td><td>13.7</td><td>3</td><td>3.70</td><td>1</td><td>False</td></tr>\n",
       "\t<tr><th scope=row>3</th><td>NJ</td><td>137</td><td>415</td><td>No </td><td>No </td><td> 0</td><td>243.4</td><td>114</td><td>41.38</td><td>121.2</td><td>110</td><td>10.30</td><td>162.6</td><td>104</td><td> 7.32</td><td>12.2</td><td>5</td><td>3.29</td><td>0</td><td>False</td></tr>\n",
       "\t<tr><th scope=row>4</th><td>OH</td><td> 84</td><td>408</td><td>Yes</td><td>No </td><td> 0</td><td>299.4</td><td> 71</td><td>50.90</td><td> 61.9</td><td> 88</td><td> 5.26</td><td>196.9</td><td> 89</td><td> 8.86</td><td> 6.6</td><td>7</td><td>1.78</td><td>2</td><td>False</td></tr>\n",
       "\t<tr><th scope=row>5</th><td>OK</td><td> 75</td><td>415</td><td>Yes</td><td>No </td><td> 0</td><td>166.7</td><td>113</td><td>28.34</td><td>148.3</td><td>122</td><td>12.61</td><td>186.9</td><td>121</td><td> 8.41</td><td>10.1</td><td>3</td><td>2.73</td><td>3</td><td>False</td></tr>\n",
       "\t<tr><th scope=row>6</th><td>AL</td><td>118</td><td>510</td><td>Yes</td><td>No </td><td> 0</td><td>223.4</td><td> 98</td><td>37.98</td><td>220.6</td><td>101</td><td>18.75</td><td>203.9</td><td>118</td><td> 9.18</td><td> 6.3</td><td>6</td><td>1.70</td><td>0</td><td>False</td></tr>\n",
       "</tbody>\n",
       "</table>\n"
      ],
      "text/latex": [
       "A data.frame: 6 × 20\n",
       "\\begin{tabular}{r|llllllllllllllllllll}\n",
       "  & State & Account.length & Area.code & International.plan & Voice.mail.plan & Number.vmail.messages & Total.day.minutes & Total.day.calls & Total.day.charge & Total.eve.minutes & Total.eve.calls & Total.eve.charge & Total.night.minutes & Total.night.calls & Total.night.charge & Total.intl.minutes & Total.intl.calls & Total.intl.charge & Customer.service.calls & Churn\\\\\n",
       "  & <fct> & <int> & <int> & <fct> & <fct> & <int> & <dbl> & <int> & <dbl> & <dbl> & <int> & <dbl> & <dbl> & <int> & <dbl> & <dbl> & <int> & <dbl> & <int> & <fct>\\\\\n",
       "\\hline\n",
       "\t1 & KS & 128 & 415 & No  & Yes & 25 & 265.1 & 110 & 45.07 & 197.4 &  99 & 16.78 & 244.7 &  91 & 11.01 & 10.0 & 3 & 2.70 & 1 & False\\\\\n",
       "\t2 & OH & 107 & 415 & No  & Yes & 26 & 161.6 & 123 & 27.47 & 195.5 & 103 & 16.62 & 254.4 & 103 & 11.45 & 13.7 & 3 & 3.70 & 1 & False\\\\\n",
       "\t3 & NJ & 137 & 415 & No  & No  &  0 & 243.4 & 114 & 41.38 & 121.2 & 110 & 10.30 & 162.6 & 104 &  7.32 & 12.2 & 5 & 3.29 & 0 & False\\\\\n",
       "\t4 & OH &  84 & 408 & Yes & No  &  0 & 299.4 &  71 & 50.90 &  61.9 &  88 &  5.26 & 196.9 &  89 &  8.86 &  6.6 & 7 & 1.78 & 2 & False\\\\\n",
       "\t5 & OK &  75 & 415 & Yes & No  &  0 & 166.7 & 113 & 28.34 & 148.3 & 122 & 12.61 & 186.9 & 121 &  8.41 & 10.1 & 3 & 2.73 & 3 & False\\\\\n",
       "\t6 & AL & 118 & 510 & Yes & No  &  0 & 223.4 &  98 & 37.98 & 220.6 & 101 & 18.75 & 203.9 & 118 &  9.18 &  6.3 & 6 & 1.70 & 0 & False\\\\\n",
       "\\end{tabular}\n"
      ],
      "text/markdown": [
       "\n",
       "A data.frame: 6 × 20\n",
       "\n",
       "| <!--/--> | State &lt;fct&gt; | Account.length &lt;int&gt; | Area.code &lt;int&gt; | International.plan &lt;fct&gt; | Voice.mail.plan &lt;fct&gt; | Number.vmail.messages &lt;int&gt; | Total.day.minutes &lt;dbl&gt; | Total.day.calls &lt;int&gt; | Total.day.charge &lt;dbl&gt; | Total.eve.minutes &lt;dbl&gt; | Total.eve.calls &lt;int&gt; | Total.eve.charge &lt;dbl&gt; | Total.night.minutes &lt;dbl&gt; | Total.night.calls &lt;int&gt; | Total.night.charge &lt;dbl&gt; | Total.intl.minutes &lt;dbl&gt; | Total.intl.calls &lt;int&gt; | Total.intl.charge &lt;dbl&gt; | Customer.service.calls &lt;int&gt; | Churn &lt;fct&gt; |\n",
       "|---|---|---|---|---|---|---|---|---|---|---|---|---|---|---|---|---|---|---|---|---|\n",
       "| 1 | KS | 128 | 415 | No  | Yes | 25 | 265.1 | 110 | 45.07 | 197.4 |  99 | 16.78 | 244.7 |  91 | 11.01 | 10.0 | 3 | 2.70 | 1 | False |\n",
       "| 2 | OH | 107 | 415 | No  | Yes | 26 | 161.6 | 123 | 27.47 | 195.5 | 103 | 16.62 | 254.4 | 103 | 11.45 | 13.7 | 3 | 3.70 | 1 | False |\n",
       "| 3 | NJ | 137 | 415 | No  | No  |  0 | 243.4 | 114 | 41.38 | 121.2 | 110 | 10.30 | 162.6 | 104 |  7.32 | 12.2 | 5 | 3.29 | 0 | False |\n",
       "| 4 | OH |  84 | 408 | Yes | No  |  0 | 299.4 |  71 | 50.90 |  61.9 |  88 |  5.26 | 196.9 |  89 |  8.86 |  6.6 | 7 | 1.78 | 2 | False |\n",
       "| 5 | OK |  75 | 415 | Yes | No  |  0 | 166.7 | 113 | 28.34 | 148.3 | 122 | 12.61 | 186.9 | 121 |  8.41 | 10.1 | 3 | 2.73 | 3 | False |\n",
       "| 6 | AL | 118 | 510 | Yes | No  |  0 | 223.4 |  98 | 37.98 | 220.6 | 101 | 18.75 | 203.9 | 118 |  9.18 |  6.3 | 6 | 1.70 | 0 | False |\n",
       "\n"
      ],
      "text/plain": [
       "  State Account.length Area.code International.plan Voice.mail.plan\n",
       "1 KS    128            415       No                 Yes            \n",
       "2 OH    107            415       No                 Yes            \n",
       "3 NJ    137            415       No                 No             \n",
       "4 OH     84            408       Yes                No             \n",
       "5 OK     75            415       Yes                No             \n",
       "6 AL    118            510       Yes                No             \n",
       "  Number.vmail.messages Total.day.minutes Total.day.calls Total.day.charge\n",
       "1 25                    265.1             110             45.07           \n",
       "2 26                    161.6             123             27.47           \n",
       "3  0                    243.4             114             41.38           \n",
       "4  0                    299.4              71             50.90           \n",
       "5  0                    166.7             113             28.34           \n",
       "6  0                    223.4              98             37.98           \n",
       "  Total.eve.minutes Total.eve.calls Total.eve.charge Total.night.minutes\n",
       "1 197.4              99             16.78            244.7              \n",
       "2 195.5             103             16.62            254.4              \n",
       "3 121.2             110             10.30            162.6              \n",
       "4  61.9              88              5.26            196.9              \n",
       "5 148.3             122             12.61            186.9              \n",
       "6 220.6             101             18.75            203.9              \n",
       "  Total.night.calls Total.night.charge Total.intl.minutes Total.intl.calls\n",
       "1  91               11.01              10.0               3               \n",
       "2 103               11.45              13.7               3               \n",
       "3 104                7.32              12.2               5               \n",
       "4  89                8.86               6.6               7               \n",
       "5 121                8.41              10.1               3               \n",
       "6 118                9.18               6.3               6               \n",
       "  Total.intl.charge Customer.service.calls Churn\n",
       "1 2.70              1                      False\n",
       "2 3.70              1                      False\n",
       "3 3.29              0                      False\n",
       "4 1.78              2                      False\n",
       "5 2.73              3                      False\n",
       "6 1.70              0                      False"
      ]
     },
     "metadata": {},
     "output_type": "display_data"
    }
   ],
   "source": [
    "head(churn)"
   ]
  },
  {
   "cell_type": "code",
   "execution_count": 8,
   "metadata": {},
   "outputs": [
    {
     "data": {
      "text/plain": [
       "     State      Account.length    Area.code     International.plan\n",
       " WV     :  88   Min.   :  1.0   Min.   :408.0   No :2396          \n",
       " MN     :  70   1st Qu.: 73.0   1st Qu.:408.0   Yes: 270          \n",
       " NY     :  68   Median :100.0   Median :415.0                     \n",
       " VA     :  67   Mean   :100.6   Mean   :437.4                     \n",
       " AL     :  66   3rd Qu.:127.0   3rd Qu.:510.0                     \n",
       " OH     :  66   Max.   :243.0   Max.   :510.0                     \n",
       " (Other):2241                                                     \n",
       " Voice.mail.plan Number.vmail.messages Total.day.minutes Total.day.calls\n",
       " No :1933        Min.   : 0.000        Min.   :  0.0     Min.   :  0.0  \n",
       " Yes: 733        1st Qu.: 0.000        1st Qu.:143.4     1st Qu.: 87.0  \n",
       "                 Median : 0.000        Median :179.9     Median :101.0  \n",
       "                 Mean   : 8.022        Mean   :179.5     Mean   :100.3  \n",
       "                 3rd Qu.:19.000        3rd Qu.:215.9     3rd Qu.:114.0  \n",
       "                 Max.   :50.000        Max.   :350.8     Max.   :160.0  \n",
       "                                                                        \n",
       " Total.day.charge Total.eve.minutes Total.eve.calls Total.eve.charge\n",
       " Min.   : 0.00    Min.   :  0.0     Min.   :  0     Min.   : 0.00   \n",
       " 1st Qu.:24.38    1st Qu.:165.3     1st Qu.: 87     1st Qu.:14.05   \n",
       " Median :30.59    Median :200.9     Median :100     Median :17.08   \n",
       " Mean   :30.51    Mean   :200.4     Mean   :100     Mean   :17.03   \n",
       " 3rd Qu.:36.70    3rd Qu.:235.1     3rd Qu.:114     3rd Qu.:19.98   \n",
       " Max.   :59.64    Max.   :363.7     Max.   :170     Max.   :30.91   \n",
       "                                                                    \n",
       " Total.night.minutes Total.night.calls Total.night.charge Total.intl.minutes\n",
       " Min.   : 43.7       Min.   : 33.0     Min.   : 1.970     Min.   : 0.00     \n",
       " 1st Qu.:166.9       1st Qu.: 87.0     1st Qu.: 7.513     1st Qu.: 8.50     \n",
       " Median :201.2       Median :100.0     Median : 9.050     Median :10.20     \n",
       " Mean   :201.2       Mean   :100.1     Mean   : 9.053     Mean   :10.24     \n",
       " 3rd Qu.:236.5       3rd Qu.:113.0     3rd Qu.:10.640     3rd Qu.:12.10     \n",
       " Max.   :395.0       Max.   :166.0     Max.   :17.770     Max.   :20.00     \n",
       "                                                                            \n",
       " Total.intl.calls Total.intl.charge Customer.service.calls   Churn     \n",
       " Min.   : 0.000   Min.   :0.000     Min.   :0.000          False:2278  \n",
       " 1st Qu.: 3.000   1st Qu.:2.300     1st Qu.:1.000          True : 388  \n",
       " Median : 4.000   Median :2.750     Median :1.000                      \n",
       " Mean   : 4.467   Mean   :2.764     Mean   :1.563                      \n",
       " 3rd Qu.: 6.000   3rd Qu.:3.270     3rd Qu.:2.000                      \n",
       " Max.   :20.000   Max.   :5.400     Max.   :9.000                      \n",
       "                                                                       "
      ]
     },
     "metadata": {},
     "output_type": "display_data"
    }
   ],
   "source": [
    "summary(churn)"
   ]
  },
  {
   "cell_type": "code",
   "execution_count": 62,
   "metadata": {},
   "outputs": [
    {
     "name": "stderr",
     "output_type": "stream",
     "text": [
      "Warning message in mean.default(X[[i]], ...):\n",
      "“argument is not numeric or logical: returning NA”\n",
      "Warning message in mean.default(X[[i]], ...):\n",
      "“argument is not numeric or logical: returning NA”\n",
      "Warning message in mean.default(X[[i]], ...):\n",
      "“argument is not numeric or logical: returning NA”\n",
      "Warning message in mean.default(X[[i]], ...):\n",
      "“argument is not numeric or logical: returning NA”\n"
     ]
    },
    {
     "data": {
      "text/html": [
       "<style>\n",
       ".dl-inline {width: auto; margin:0; padding: 0}\n",
       ".dl-inline>dt, .dl-inline>dd {float: none; width: auto; display: inline-block}\n",
       ".dl-inline>dt::after {content: \":\\0020\"; padding-right: .5ex}\n",
       ".dl-inline>dt:not(:first-of-type) {padding-left: .5ex}\n",
       "</style><dl class=dl-inline><dt>State</dt><dd>&lt;NA&gt;</dd><dt>Account.length</dt><dd>99.5020815986678</dd><dt>Area.code</dt><dd>438.707743547044</dd><dt>International.plan</dt><dd>&lt;NA&gt;</dd><dt>Voice.mail.plan</dt><dd>&lt;NA&gt;</dd><dt>Number.vmail.messages</dt><dd>8.22980849292257</dd><dt>Total.day.minutes</dt><dd>181.13064113239</dd><dt>Total.day.calls</dt><dd>99.7943380516236</dd><dt>Total.day.charge</dt><dd>30.7927477102415</dd><dt>Total.eve.minutes</dt><dd>201.437552039967</dd><dt>Total.eve.calls</dt><dd>100.202331390508</dd><dt>Total.eve.charge</dt><dd>17.1224646128226</dd><dt>Total.night.minutes</dt><dd>201.183930058285</dd><dt>Total.night.calls</dt><dd>100.728559533722</dd><dt>Total.night.charge</dt><dd>9.05339716902581</dd><dt>Total.intl.minutes</dt><dd>7.82572855953372</dd><dt>Total.intl.calls</dt><dd>4.41631973355537</dd><dt>Total.intl.charge</dt><dd>2.11356369691923</dd><dt>Customer.service.calls</dt><dd>1.58617818484596</dd><dt>Churn</dt><dd>&lt;NA&gt;</dd></dl>\n"
      ],
      "text/latex": [
       "\\begin{description*}\n",
       "\\item[State] <NA>\n",
       "\\item[Account.length] 99.5020815986678\n",
       "\\item[Area.code] 438.707743547044\n",
       "\\item[International.plan] <NA>\n",
       "\\item[Voice.mail.plan] <NA>\n",
       "\\item[Number.vmail.messages] 8.22980849292257\n",
       "\\item[Total.day.minutes] 181.13064113239\n",
       "\\item[Total.day.calls] 99.7943380516236\n",
       "\\item[Total.day.charge] 30.7927477102415\n",
       "\\item[Total.eve.minutes] 201.437552039967\n",
       "\\item[Total.eve.calls] 100.202331390508\n",
       "\\item[Total.eve.charge] 17.1224646128226\n",
       "\\item[Total.night.minutes] 201.183930058285\n",
       "\\item[Total.night.calls] 100.728559533722\n",
       "\\item[Total.night.charge] 9.05339716902581\n",
       "\\item[Total.intl.minutes] 7.82572855953372\n",
       "\\item[Total.intl.calls] 4.41631973355537\n",
       "\\item[Total.intl.charge] 2.11356369691923\n",
       "\\item[Customer.service.calls] 1.58617818484596\n",
       "\\item[Churn] <NA>\n",
       "\\end{description*}\n"
      ],
      "text/markdown": [
       "State\n",
       ":   &lt;NA&gt;Account.length\n",
       ":   99.5020815986678Area.code\n",
       ":   438.707743547044International.plan\n",
       ":   &lt;NA&gt;Voice.mail.plan\n",
       ":   &lt;NA&gt;Number.vmail.messages\n",
       ":   8.22980849292257Total.day.minutes\n",
       ":   181.13064113239Total.day.calls\n",
       ":   99.7943380516236Total.day.charge\n",
       ":   30.7927477102415Total.eve.minutes\n",
       ":   201.437552039967Total.eve.calls\n",
       ":   100.202331390508Total.eve.charge\n",
       ":   17.1224646128226Total.night.minutes\n",
       ":   201.183930058285Total.night.calls\n",
       ":   100.728559533722Total.night.charge\n",
       ":   9.05339716902581Total.intl.minutes\n",
       ":   7.82572855953372Total.intl.calls\n",
       ":   4.41631973355537Total.intl.charge\n",
       ":   2.11356369691923Customer.service.calls\n",
       ":   1.58617818484596Churn\n",
       ":   &lt;NA&gt;\n",
       "\n"
      ],
      "text/plain": [
       "                 State         Account.length              Area.code \n",
       "                    NA              99.502082             438.707744 \n",
       "    International.plan        Voice.mail.plan  Number.vmail.messages \n",
       "                    NA                     NA               8.229808 \n",
       "     Total.day.minutes        Total.day.calls       Total.day.charge \n",
       "            181.130641              99.794338              30.792748 \n",
       "     Total.eve.minutes        Total.eve.calls       Total.eve.charge \n",
       "            201.437552             100.202331              17.122465 \n",
       "   Total.night.minutes      Total.night.calls     Total.night.charge \n",
       "            201.183930             100.728560               9.053397 \n",
       "    Total.intl.minutes       Total.intl.calls      Total.intl.charge \n",
       "              7.825729               4.416320               2.113564 \n",
       "Customer.service.calls                  Churn \n",
       "              1.586178                     NA "
      ]
     },
     "metadata": {},
     "output_type": "display_data"
    }
   ],
   "source": [
    "churn %>% \n",
    "    filter(Total.intl.minutes < 10) %>%\n",
    "    sapply(mean)"
   ]
  },
  {
   "cell_type": "code",
   "execution_count": 65,
   "metadata": {},
   "outputs": [
    {
     "data": {
      "text/html": [
       "<style>\n",
       ".dl-inline {width: auto; margin:0; padding: 0}\n",
       ".dl-inline>dt, .dl-inline>dd {float: none; width: auto; display: inline-block}\n",
       ".dl-inline>dt::after {content: \":\\0020\"; padding-right: .5ex}\n",
       ".dl-inline>dt:not(:first-of-type) {padding-left: .5ex}\n",
       "</style><dl class=dl-inline><dt>Account.length</dt><dd>99.5020815986678</dd><dt>Area.code</dt><dd>438.707743547044</dd><dt>Number.vmail.messages</dt><dd>8.22980849292257</dd><dt>Total.day.minutes</dt><dd>181.13064113239</dd><dt>Total.day.calls</dt><dd>99.7943380516236</dd><dt>Total.day.charge</dt><dd>30.7927477102415</dd><dt>Total.eve.minutes</dt><dd>201.437552039967</dd><dt>Total.eve.calls</dt><dd>100.202331390508</dd><dt>Total.eve.charge</dt><dd>17.1224646128226</dd><dt>Total.night.minutes</dt><dd>201.183930058285</dd><dt>Total.night.calls</dt><dd>100.728559533722</dd><dt>Total.night.charge</dt><dd>9.05339716902581</dd><dt>Total.intl.minutes</dt><dd>7.82572855953372</dd><dt>Total.intl.calls</dt><dd>4.41631973355537</dd><dt>Total.intl.charge</dt><dd>2.11356369691923</dd><dt>Customer.service.calls</dt><dd>1.58617818484596</dd></dl>\n"
      ],
      "text/latex": [
       "\\begin{description*}\n",
       "\\item[Account.length] 99.5020815986678\n",
       "\\item[Area.code] 438.707743547044\n",
       "\\item[Number.vmail.messages] 8.22980849292257\n",
       "\\item[Total.day.minutes] 181.13064113239\n",
       "\\item[Total.day.calls] 99.7943380516236\n",
       "\\item[Total.day.charge] 30.7927477102415\n",
       "\\item[Total.eve.minutes] 201.437552039967\n",
       "\\item[Total.eve.calls] 100.202331390508\n",
       "\\item[Total.eve.charge] 17.1224646128226\n",
       "\\item[Total.night.minutes] 201.183930058285\n",
       "\\item[Total.night.calls] 100.728559533722\n",
       "\\item[Total.night.charge] 9.05339716902581\n",
       "\\item[Total.intl.minutes] 7.82572855953372\n",
       "\\item[Total.intl.calls] 4.41631973355537\n",
       "\\item[Total.intl.charge] 2.11356369691923\n",
       "\\item[Customer.service.calls] 1.58617818484596\n",
       "\\end{description*}\n"
      ],
      "text/markdown": [
       "Account.length\n",
       ":   99.5020815986678Area.code\n",
       ":   438.707743547044Number.vmail.messages\n",
       ":   8.22980849292257Total.day.minutes\n",
       ":   181.13064113239Total.day.calls\n",
       ":   99.7943380516236Total.day.charge\n",
       ":   30.7927477102415Total.eve.minutes\n",
       ":   201.437552039967Total.eve.calls\n",
       ":   100.202331390508Total.eve.charge\n",
       ":   17.1224646128226Total.night.minutes\n",
       ":   201.183930058285Total.night.calls\n",
       ":   100.728559533722Total.night.charge\n",
       ":   9.05339716902581Total.intl.minutes\n",
       ":   7.82572855953372Total.intl.calls\n",
       ":   4.41631973355537Total.intl.charge\n",
       ":   2.11356369691923Customer.service.calls\n",
       ":   1.58617818484596\n",
       "\n"
      ],
      "text/plain": [
       "        Account.length              Area.code  Number.vmail.messages \n",
       "             99.502082             438.707744               8.229808 \n",
       "     Total.day.minutes        Total.day.calls       Total.day.charge \n",
       "            181.130641              99.794338              30.792748 \n",
       "     Total.eve.minutes        Total.eve.calls       Total.eve.charge \n",
       "            201.437552             100.202331              17.122465 \n",
       "   Total.night.minutes      Total.night.calls     Total.night.charge \n",
       "            201.183930             100.728560               9.053397 \n",
       "    Total.intl.minutes       Total.intl.calls      Total.intl.charge \n",
       "              7.825729               4.416320               2.113564 \n",
       "Customer.service.calls \n",
       "              1.586178 "
      ]
     },
     "metadata": {},
     "output_type": "display_data"
    }
   ],
   "source": [
    "dplyr::select_if(churn, is.numeric) %>% \n",
    "    filter(Total.intl.minutes < 10) %>%\n",
    "    sapply(mean)"
   ]
  },
  {
   "cell_type": "code",
   "execution_count": 42,
   "metadata": {},
   "outputs": [
    {
     "name": "stderr",
     "output_type": "stream",
     "text": [
      "`summarise()` ungrouping output (override with `.groups` argument)\n",
      "\n"
     ]
    },
    {
     "data": {
      "image/png": "[encoded data removed]",
      "text/plain": [
       "plot without title"
      ]
     },
     "metadata": {
      "image/png": {
       "height": 420,
       "width": 420
      }
     },
     "output_type": "display_data"
    }
   ],
   "source": [
    "churn %>%\n",
    "    group_by(Churn) %>%\n",
    "    summarise(mean_day_minute = mean(Total.day.minutes),\n",
    "              mean_account = mean(Account.length[Total.intl.minutes > 10]),) %>%\n",
    "    ggplot(aes(x=Churn, y= mean_day_minute, fill=Churn)) +\n",
    "        geom_bar(stat = \"identity\") +\n",
    "        #geom_line() + \n",
    "        labs(\n",
    "            x = \"Churn\",\n",
    "            y = \"Mean day minute\",\n",
    "            title = \"(asdf)\"\n",
    "        )"
   ]
  }
 ],
 "metadata": {
  "kernelspec": {
   "display_name": "R",
   "language": "R",
   "name": "ir"
  },
  "language_info": {
   "codemirror_mode": "r",
   "file_extension": ".r",
   "mimetype": "text/x-r-source",
   "name": "R",
   "pygments_lexer": "r",
   "version": "3.6.3"
  },
  "toc": {
   "base_numbering": 1,
   "nav_menu": {},
   "number_sections": true,
   "sideBar": true,
   "skip_h1_title": false,
   "title_cell": "Table of Contents",
   "title_sidebar": "Contents",
   "toc_cell": false,
   "toc_position": {},
   "toc_section_display": true,
   "toc_window_display": false
  }
 },
 "nbformat": 4,
 "nbformat_minor": 4
}
