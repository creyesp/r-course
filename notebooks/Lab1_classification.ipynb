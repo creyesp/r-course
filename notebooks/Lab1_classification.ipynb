{
 "cells": [
  {
   "cell_type": "markdown",
   "metadata": {},
   "source": [
    "Employee attrition information originally provided by IBM Watson Analytics Lab.    \n",
    "* problem type: supervised binomial classification\n",
    "* response variable: Attrition (i.e., “Yes”, “No”)\n",
    "* features: 30\n",
    "* observations: 1,470\n",
    "* objective: use employee attributes to predict if they will attrit (leave the company)\n",
    "* access: provided by the rsample package (Kuhn and Wickham 2019)\n",
    "* more details: See ?rsample::attrition\n"
   ]
  },
  {
   "cell_type": "code",
   "execution_count": null,
   "metadata": {},
   "outputs": [],
   "source": [
    "#install.packages(\"rsample\")\n",
    "#install.packages(\"h2o\")"
   ]
  },
  {
   "cell_type": "markdown",
   "metadata": {},
   "source": [
    "# Import libraries"
   ]
  },
  {
   "cell_type": "code",
   "execution_count": 1,
   "metadata": {},
   "outputs": [
    {
     "name": "stderr",
     "output_type": "stream",
     "text": [
      "\n",
      "Attaching package: ‘dplyr’\n",
      "\n",
      "\n",
      "The following objects are masked from ‘package:stats’:\n",
      "\n",
      "    filter, lag\n",
      "\n",
      "\n",
      "The following objects are masked from ‘package:base’:\n",
      "\n",
      "    intersect, setdiff, setequal, union\n",
      "\n",
      "\n",
      "Loading required package: lattice\n",
      "\n",
      "\n",
      "----------------------------------------------------------------------\n",
      "\n",
      "Your next step is to start H2O:\n",
      "    > h2o.init()\n",
      "\n",
      "For H2O package documentation, ask for help:\n",
      "    > ??h2o\n",
      "\n",
      "After starting H2O, you can use the Web UI at http://localhost:54321\n",
      "For more information visit https://docs.h2o.ai\n",
      "\n",
      "----------------------------------------------------------------------\n",
      "\n",
      "\n",
      "\n",
      "Attaching package: ‘h2o’\n",
      "\n",
      "\n",
      "The following objects are masked from ‘package:stats’:\n",
      "\n",
      "    cor, sd, var\n",
      "\n",
      "\n",
      "The following objects are masked from ‘package:base’:\n",
      "\n",
      "    &&, %*%, %in%, ||, apply, as.factor, as.numeric, colnames,\n",
      "    colnames<-, ifelse, is.character, is.factor, is.numeric, log,\n",
      "    log10, log1p, log2, round, signif, trunc\n",
      "\n",
      "\n"
     ]
    },
    {
     "name": "stdout",
     "output_type": "stream",
     "text": [
      " Connection successful!\n",
      "\n",
      "R is connected to the H2O cluster: \n",
      "    H2O cluster uptime:         2 hours 4 minutes \n",
      "    H2O cluster timezone:       America/Montevideo \n",
      "    H2O data parsing timezone:  UTC \n",
      "    H2O cluster version:        3.30.1.3 \n",
      "    H2O cluster version age:    10 days  \n",
      "    H2O cluster name:           H2O_started_from_R_creyesp_osn291 \n",
      "    H2O cluster total nodes:    1 \n",
      "    H2O cluster total memory:   2.36 GB \n",
      "    H2O cluster total cores:    8 \n",
      "    H2O cluster allowed cores:  8 \n",
      "    H2O cluster healthy:        TRUE \n",
      "    H2O Connection ip:          localhost \n",
      "    H2O Connection port:        54321 \n",
      "    H2O Connection proxy:       NA \n",
      "    H2O Internal Security:      FALSE \n",
      "    H2O API Extensions:         Amazon S3, XGBoost, Algos, AutoML, Core V3, TargetEncoder, Core V4 \n",
      "    R Version:                  R version 3.6.3 (2020-02-29) \n",
      "\n"
     ]
    }
   ],
   "source": [
    "# Helper packages\n",
    "library(dplyr)     # for data manipulation\n",
    "library(ggplot2)   # for awesome graphics\n",
    "\n",
    "# Modeling process packages\n",
    "library(rsample)   # for resampling procedures\n",
    "library(caret)     # for resampling and model training\n",
    "library(h2o)       # for resampling and model training\n",
    "\n",
    "# h2o set-up \n",
    "h2o.no_progress()  # turn off h2o progress bars\n",
    "h2o.init()         # launch h2o"
   ]
  },
  {
   "cell_type": "markdown",
   "metadata": {},
   "source": [
    "# Load Dataset"
   ]
  },
  {
   "cell_type": "code",
   "execution_count": 27,
   "metadata": {},
   "outputs": [],
   "source": [
    "data(\"attrition\", package = \"modeldata\")\n"
   ]
  },
  {
   "cell_type": "code",
   "execution_count": 28,
   "metadata": {},
   "outputs": [
    {
     "name": "stderr",
     "output_type": "stream",
     "text": [
      "Warning message in use.package(\"data.table\"):\n",
      "“data.table cannot be used without R package bit64 version 0.9.7 or higher.  Please upgrade to take advangage of data.table speedups.”\n"
     ]
    }
   ],
   "source": [
    "# Job attrition data\n",
    "attrition <- attrition %>% \n",
    "  mutate_if(is.ordered, .funs = factor, ordered = FALSE)\n",
    "attrition_h2o <- as.h2o(attrition)"
   ]
  },
  {
   "cell_type": "code",
   "execution_count": 29,
   "metadata": {},
   "outputs": [
    {
     "data": {
      "text/html": [
       "<style>\n",
       ".list-inline {list-style: none; margin:0; padding: 0}\n",
       ".list-inline>li {display: inline-block}\n",
       ".list-inline>li:not(:last-child)::after {content: \"\\00b7\"; padding: 0 .5ex}\n",
       "</style>\n",
       "<ol class=list-inline><li>1470</li><li>31</li></ol>\n"
      ],
      "text/latex": [
       "\\begin{enumerate*}\n",
       "\\item 1470\n",
       "\\item 31\n",
       "\\end{enumerate*}\n"
      ],
      "text/markdown": [
       "1. 1470\n",
       "2. 31\n",
       "\n",
       "\n"
      ],
      "text/plain": [
       "[1] 1470   31"
      ]
     },
     "metadata": {},
     "output_type": "display_data"
    }
   ],
   "source": [
    "# initial dimension\n",
    "dim(attrition)"
   ]
  },
  {
   "cell_type": "code",
   "execution_count": 30,
   "metadata": {},
   "outputs": [
    {
     "data": {
      "text/html": [
       "<table>\n",
       "<caption>A data.frame: 6 × 31</caption>\n",
       "<thead>\n",
       "\t<tr><th></th><th scope=col>Age</th><th scope=col>Attrition</th><th scope=col>BusinessTravel</th><th scope=col>DailyRate</th><th scope=col>Department</th><th scope=col>DistanceFromHome</th><th scope=col>Education</th><th scope=col>EducationField</th><th scope=col>EnvironmentSatisfaction</th><th scope=col>Gender</th><th scope=col>⋯</th><th scope=col>PerformanceRating</th><th scope=col>RelationshipSatisfaction</th><th scope=col>StockOptionLevel</th><th scope=col>TotalWorkingYears</th><th scope=col>TrainingTimesLastYear</th><th scope=col>WorkLifeBalance</th><th scope=col>YearsAtCompany</th><th scope=col>YearsInCurrentRole</th><th scope=col>YearsSinceLastPromotion</th><th scope=col>YearsWithCurrManager</th></tr>\n",
       "\t<tr><th></th><th scope=col>&lt;int&gt;</th><th scope=col>&lt;fct&gt;</th><th scope=col>&lt;fct&gt;</th><th scope=col>&lt;int&gt;</th><th scope=col>&lt;fct&gt;</th><th scope=col>&lt;int&gt;</th><th scope=col>&lt;fct&gt;</th><th scope=col>&lt;fct&gt;</th><th scope=col>&lt;fct&gt;</th><th scope=col>&lt;fct&gt;</th><th scope=col>⋯</th><th scope=col>&lt;fct&gt;</th><th scope=col>&lt;fct&gt;</th><th scope=col>&lt;int&gt;</th><th scope=col>&lt;int&gt;</th><th scope=col>&lt;int&gt;</th><th scope=col>&lt;fct&gt;</th><th scope=col>&lt;int&gt;</th><th scope=col>&lt;int&gt;</th><th scope=col>&lt;int&gt;</th><th scope=col>&lt;int&gt;</th></tr>\n",
       "</thead>\n",
       "<tbody>\n",
       "\t<tr><th scope=row>1</th><td>41</td><td>Yes</td><td>Travel_Rarely    </td><td>1102</td><td>Sales               </td><td>1</td><td>College      </td><td>Life_Sciences</td><td>Medium   </td><td>Female</td><td>⋯</td><td>Excellent  </td><td>Low      </td><td>0</td><td> 8</td><td>0</td><td>Bad   </td><td> 6</td><td>4</td><td>0</td><td>5</td></tr>\n",
       "\t<tr><th scope=row>2</th><td>49</td><td>No </td><td>Travel_Frequently</td><td> 279</td><td>Research_Development</td><td>8</td><td>Below_College</td><td>Life_Sciences</td><td>High     </td><td>Male  </td><td>⋯</td><td>Outstanding</td><td>Very_High</td><td>1</td><td>10</td><td>3</td><td>Better</td><td>10</td><td>7</td><td>1</td><td>7</td></tr>\n",
       "\t<tr><th scope=row>3</th><td>37</td><td>Yes</td><td>Travel_Rarely    </td><td>1373</td><td>Research_Development</td><td>2</td><td>College      </td><td>Other        </td><td>Very_High</td><td>Male  </td><td>⋯</td><td>Excellent  </td><td>Medium   </td><td>0</td><td> 7</td><td>3</td><td>Better</td><td> 0</td><td>0</td><td>0</td><td>0</td></tr>\n",
       "\t<tr><th scope=row>4</th><td>33</td><td>No </td><td>Travel_Frequently</td><td>1392</td><td>Research_Development</td><td>3</td><td>Master       </td><td>Life_Sciences</td><td>Very_High</td><td>Female</td><td>⋯</td><td>Excellent  </td><td>High     </td><td>0</td><td> 8</td><td>3</td><td>Better</td><td> 8</td><td>7</td><td>3</td><td>0</td></tr>\n",
       "\t<tr><th scope=row>5</th><td>27</td><td>No </td><td>Travel_Rarely    </td><td> 591</td><td>Research_Development</td><td>2</td><td>Below_College</td><td>Medical      </td><td>Low      </td><td>Male  </td><td>⋯</td><td>Excellent  </td><td>Very_High</td><td>1</td><td> 6</td><td>3</td><td>Better</td><td> 2</td><td>2</td><td>2</td><td>2</td></tr>\n",
       "\t<tr><th scope=row>6</th><td>32</td><td>No </td><td>Travel_Frequently</td><td>1005</td><td>Research_Development</td><td>2</td><td>College      </td><td>Life_Sciences</td><td>Very_High</td><td>Male  </td><td>⋯</td><td>Excellent  </td><td>High     </td><td>0</td><td> 8</td><td>2</td><td>Good  </td><td> 7</td><td>7</td><td>3</td><td>6</td></tr>\n",
       "</tbody>\n",
       "</table>\n"
      ],
      "text/latex": [
       "A data.frame: 6 × 31\n",
       "\\begin{tabular}{r|lllllllllllllllllllll}\n",
       "  & Age & Attrition & BusinessTravel & DailyRate & Department & DistanceFromHome & Education & EducationField & EnvironmentSatisfaction & Gender & ⋯ & PerformanceRating & RelationshipSatisfaction & StockOptionLevel & TotalWorkingYears & TrainingTimesLastYear & WorkLifeBalance & YearsAtCompany & YearsInCurrentRole & YearsSinceLastPromotion & YearsWithCurrManager\\\\\n",
       "  & <int> & <fct> & <fct> & <int> & <fct> & <int> & <fct> & <fct> & <fct> & <fct> & ⋯ & <fct> & <fct> & <int> & <int> & <int> & <fct> & <int> & <int> & <int> & <int>\\\\\n",
       "\\hline\n",
       "\t1 & 41 & Yes & Travel\\_Rarely     & 1102 & Sales                & 1 & College       & Life\\_Sciences & Medium    & Female & ⋯ & Excellent   & Low       & 0 &  8 & 0 & Bad    &  6 & 4 & 0 & 5\\\\\n",
       "\t2 & 49 & No  & Travel\\_Frequently &  279 & Research\\_Development & 8 & Below\\_College & Life\\_Sciences & High      & Male   & ⋯ & Outstanding & Very\\_High & 1 & 10 & 3 & Better & 10 & 7 & 1 & 7\\\\\n",
       "\t3 & 37 & Yes & Travel\\_Rarely     & 1373 & Research\\_Development & 2 & College       & Other         & Very\\_High & Male   & ⋯ & Excellent   & Medium    & 0 &  7 & 3 & Better &  0 & 0 & 0 & 0\\\\\n",
       "\t4 & 33 & No  & Travel\\_Frequently & 1392 & Research\\_Development & 3 & Master        & Life\\_Sciences & Very\\_High & Female & ⋯ & Excellent   & High      & 0 &  8 & 3 & Better &  8 & 7 & 3 & 0\\\\\n",
       "\t5 & 27 & No  & Travel\\_Rarely     &  591 & Research\\_Development & 2 & Below\\_College & Medical       & Low       & Male   & ⋯ & Excellent   & Very\\_High & 1 &  6 & 3 & Better &  2 & 2 & 2 & 2\\\\\n",
       "\t6 & 32 & No  & Travel\\_Frequently & 1005 & Research\\_Development & 2 & College       & Life\\_Sciences & Very\\_High & Male   & ⋯ & Excellent   & High      & 0 &  8 & 2 & Good   &  7 & 7 & 3 & 6\\\\\n",
       "\\end{tabular}\n"
      ],
      "text/markdown": [
       "\n",
       "A data.frame: 6 × 31\n",
       "\n",
       "| <!--/--> | Age &lt;int&gt; | Attrition &lt;fct&gt; | BusinessTravel &lt;fct&gt; | DailyRate &lt;int&gt; | Department &lt;fct&gt; | DistanceFromHome &lt;int&gt; | Education &lt;fct&gt; | EducationField &lt;fct&gt; | EnvironmentSatisfaction &lt;fct&gt; | Gender &lt;fct&gt; | ⋯ ⋯ | PerformanceRating &lt;fct&gt; | RelationshipSatisfaction &lt;fct&gt; | StockOptionLevel &lt;int&gt; | TotalWorkingYears &lt;int&gt; | TrainingTimesLastYear &lt;int&gt; | WorkLifeBalance &lt;fct&gt; | YearsAtCompany &lt;int&gt; | YearsInCurrentRole &lt;int&gt; | YearsSinceLastPromotion &lt;int&gt; | YearsWithCurrManager &lt;int&gt; |\n",
       "|---|---|---|---|---|---|---|---|---|---|---|---|---|---|---|---|---|---|---|---|---|---|\n",
       "| 1 | 41 | Yes | Travel_Rarely     | 1102 | Sales                | 1 | College       | Life_Sciences | Medium    | Female | ⋯ | Excellent   | Low       | 0 |  8 | 0 | Bad    |  6 | 4 | 0 | 5 |\n",
       "| 2 | 49 | No  | Travel_Frequently |  279 | Research_Development | 8 | Below_College | Life_Sciences | High      | Male   | ⋯ | Outstanding | Very_High | 1 | 10 | 3 | Better | 10 | 7 | 1 | 7 |\n",
       "| 3 | 37 | Yes | Travel_Rarely     | 1373 | Research_Development | 2 | College       | Other         | Very_High | Male   | ⋯ | Excellent   | Medium    | 0 |  7 | 3 | Better |  0 | 0 | 0 | 0 |\n",
       "| 4 | 33 | No  | Travel_Frequently | 1392 | Research_Development | 3 | Master        | Life_Sciences | Very_High | Female | ⋯ | Excellent   | High      | 0 |  8 | 3 | Better |  8 | 7 | 3 | 0 |\n",
       "| 5 | 27 | No  | Travel_Rarely     |  591 | Research_Development | 2 | Below_College | Medical       | Low       | Male   | ⋯ | Excellent   | Very_High | 1 |  6 | 3 | Better |  2 | 2 | 2 | 2 |\n",
       "| 6 | 32 | No  | Travel_Frequently | 1005 | Research_Development | 2 | College       | Life_Sciences | Very_High | Male   | ⋯ | Excellent   | High      | 0 |  8 | 2 | Good   |  7 | 7 | 3 | 6 |\n",
       "\n"
      ],
      "text/plain": [
       "  Age Attrition BusinessTravel    DailyRate Department          \n",
       "1 41  Yes       Travel_Rarely     1102      Sales               \n",
       "2 49  No        Travel_Frequently  279      Research_Development\n",
       "3 37  Yes       Travel_Rarely     1373      Research_Development\n",
       "4 33  No        Travel_Frequently 1392      Research_Development\n",
       "5 27  No        Travel_Rarely      591      Research_Development\n",
       "6 32  No        Travel_Frequently 1005      Research_Development\n",
       "  DistanceFromHome Education     EducationField EnvironmentSatisfaction Gender\n",
       "1 1                College       Life_Sciences  Medium                  Female\n",
       "2 8                Below_College Life_Sciences  High                    Male  \n",
       "3 2                College       Other          Very_High               Male  \n",
       "4 3                Master        Life_Sciences  Very_High               Female\n",
       "5 2                Below_College Medical        Low                     Male  \n",
       "6 2                College       Life_Sciences  Very_High               Male  \n",
       "  ⋯ PerformanceRating RelationshipSatisfaction StockOptionLevel\n",
       "1 ⋯ Excellent         Low                      0               \n",
       "2 ⋯ Outstanding       Very_High                1               \n",
       "3 ⋯ Excellent         Medium                   0               \n",
       "4 ⋯ Excellent         High                     0               \n",
       "5 ⋯ Excellent         Very_High                1               \n",
       "6 ⋯ Excellent         High                     0               \n",
       "  TotalWorkingYears TrainingTimesLastYear WorkLifeBalance YearsAtCompany\n",
       "1  8                0                     Bad              6            \n",
       "2 10                3                     Better          10            \n",
       "3  7                3                     Better           0            \n",
       "4  8                3                     Better           8            \n",
       "5  6                3                     Better           2            \n",
       "6  8                2                     Good             7            \n",
       "  YearsInCurrentRole YearsSinceLastPromotion YearsWithCurrManager\n",
       "1 4                  0                       5                   \n",
       "2 7                  1                       7                   \n",
       "3 0                  0                       0                   \n",
       "4 7                  3                       0                   \n",
       "5 2                  2                       2                   \n",
       "6 7                  3                       6                   "
      ]
     },
     "metadata": {},
     "output_type": "display_data"
    }
   ],
   "source": [
    "# response variable\n",
    "head(attrition)"
   ]
  },
  {
   "cell_type": "markdown",
   "metadata": {},
   "source": [
    "## Splittin dataset"
   ]
  },
  {
   "cell_type": "code",
   "execution_count": 40,
   "metadata": {},
   "outputs": [
    {
     "data": {
      "text/plain": [
       "<Analysis/Assess/Total>\n",
       "<1029/441/1470>"
      ]
     },
     "metadata": {},
     "output_type": "display_data"
    }
   ],
   "source": [
    "initial_split(data = attrition, prop = 0.7)"
   ]
  },
  {
   "cell_type": "code",
   "execution_count": 43,
   "metadata": {},
   "outputs": [],
   "source": [
    "# Using base R\n",
    "set.seed(123)  # for reproducibility\n",
    "index_1 <- sample(1:nrow(attrition), round(nrow(attrition) * 0.7))\n",
    "train_base_ <- attrition[index_1, ]\n",
    "test_base  <- attrition[-index_1, ]\n",
    "\n",
    "# Using caret package\n",
    "\n",
    "index_caret <- createDataPartition(attrition$Attrition, p = 0.7, list = FALSE)\n",
    "train_caret <- attrition[index_caret, ]\n",
    "test_caret  <- attrition[-index_caret, ]\n",
    "\n",
    "# Using rsample package\n",
    "split_1  <- initial_split(data = attrition, prop = 0.7, strata = \"Attrition\")\n",
    "train_3  <- training(split_1)\n",
    "test_3   <- testing(split_1)\n",
    "\n",
    "# Using h2o package\n",
    "split_2 <- h2o.splitFrame(attrition_h2o, ratios = 0.7, seed = 123)\n",
    "train_4 <- split_2[[1]]\n",
    "test_4  <- split_2[[2]]"
   ]
  },
  {
   "cell_type": "markdown",
   "metadata": {},
   "source": [
    "# EDA"
   ]
  },
  {
   "cell_type": "code",
   "execution_count": 45,
   "metadata": {},
   "outputs": [
    {
     "data": {
      "image/png": "[encoded data removed]",
      "text/plain": [
       "plot without title"
      ]
     },
     "metadata": {
      "image/png": {
       "height": 420,
       "width": 420
      }
     },
     "output_type": "display_data"
    }
   ],
   "source": [
    "ggplot(train_caret, aes(x=Attrition)) + geom_bar()"
   ]
  },
  {
   "cell_type": "code",
   "execution_count": 53,
   "metadata": {},
   "outputs": [
    {
     "data": {
      "text/html": [
       "<table>\n",
       "<caption>A data.frame: 2 × 3</caption>\n",
       "<thead>\n",
       "\t<tr><th scope=col>Attrition</th><th scope=col>n</th><th scope=col>perc</th></tr>\n",
       "\t<tr><th scope=col>&lt;fct&gt;</th><th scope=col>&lt;int&gt;</th><th scope=col>&lt;dbl&gt;</th></tr>\n",
       "</thead>\n",
       "<tbody>\n",
       "\t<tr><td>No </td><td>864</td><td>0.838835</td></tr>\n",
       "\t<tr><td>Yes</td><td>166</td><td>0.161165</td></tr>\n",
       "</tbody>\n",
       "</table>\n"
      ],
      "text/latex": [
       "A data.frame: 2 × 3\n",
       "\\begin{tabular}{lll}\n",
       " Attrition & n & perc\\\\\n",
       " <fct> & <int> & <dbl>\\\\\n",
       "\\hline\n",
       "\t No  & 864 & 0.838835\\\\\n",
       "\t Yes & 166 & 0.161165\\\\\n",
       "\\end{tabular}\n"
      ],
      "text/markdown": [
       "\n",
       "A data.frame: 2 × 3\n",
       "\n",
       "| Attrition &lt;fct&gt; | n &lt;int&gt; | perc &lt;dbl&gt; |\n",
       "|---|---|---|\n",
       "| No  | 864 | 0.838835 |\n",
       "| Yes | 166 | 0.161165 |\n",
       "\n"
      ],
      "text/plain": [
       "  Attrition n   perc    \n",
       "1 No        864 0.838835\n",
       "2 Yes       166 0.161165"
      ]
     },
     "metadata": {},
     "output_type": "display_data"
    }
   ],
   "source": [
    "train_caret %>% \n",
    "    count(Attrition) %>%\n",
    "    mutate(perc = n / nrow(train_caret))"
   ]
  },
  {
   "cell_type": "code",
   "execution_count": 55,
   "metadata": {},
   "outputs": [
    {
     "data": {
      "text/html": [
       "<table>\n",
       "<caption>A data.frame: 2 × 3</caption>\n",
       "<thead>\n",
       "\t<tr><th scope=col>Attrition</th><th scope=col>n</th><th scope=col>perc</th></tr>\n",
       "\t<tr><th scope=col>&lt;fct&gt;</th><th scope=col>&lt;int&gt;</th><th scope=col>&lt;dbl&gt;</th></tr>\n",
       "</thead>\n",
       "<tbody>\n",
       "\t<tr><td>No </td><td>369</td><td>0.8386364</td></tr>\n",
       "\t<tr><td>Yes</td><td> 71</td><td>0.1613636</td></tr>\n",
       "</tbody>\n",
       "</table>\n"
      ],
      "text/latex": [
       "A data.frame: 2 × 3\n",
       "\\begin{tabular}{lll}\n",
       " Attrition & n & perc\\\\\n",
       " <fct> & <int> & <dbl>\\\\\n",
       "\\hline\n",
       "\t No  & 369 & 0.8386364\\\\\n",
       "\t Yes &  71 & 0.1613636\\\\\n",
       "\\end{tabular}\n"
      ],
      "text/markdown": [
       "\n",
       "A data.frame: 2 × 3\n",
       "\n",
       "| Attrition &lt;fct&gt; | n &lt;int&gt; | perc &lt;dbl&gt; |\n",
       "|---|---|---|\n",
       "| No  | 369 | 0.8386364 |\n",
       "| Yes |  71 | 0.1613636 |\n",
       "\n"
      ],
      "text/plain": [
       "  Attrition n   perc     \n",
       "1 No        369 0.8386364\n",
       "2 Yes        71 0.1613636"
      ]
     },
     "metadata": {},
     "output_type": "display_data"
    }
   ],
   "source": [
    "test_caret %>% \n",
    "    count(Attrition) %>%\n",
    "    mutate(perc = n / nrow(test_caret))"
   ]
  },
  {
   "cell_type": "markdown",
   "metadata": {},
   "source": [
    "# Modeling\n",
    "R tiene un aplio abanico de librerias que implementan diferentes tipos de modelos e incluso varias implementaciones del mismo modelo pero con diferentes enfoques. Ademas de estos hay librerias que unifican estas para agilizar el proceso de modelo y standarizar los procesos.\n",
    "\n",
    "Hay diferentes formas de como se deben pasar la data para entrenar un modelo:\n",
    "* Clasica de R usando una formula como una expresion sombolica de la relacion de dependencia \n",
    "    * `fn(Y ~ X)`\n",
    "* usando separadamente $Y$, $X$ como argumentos independientes\n",
    "    * `fn(x = ames[, features], y = ames$Sale_Price)`\n",
    "* usando separadamente $Y$, $X$ pero pasando solo el nombre de las variables de un dataframe \n",
    "    * `fn(x = c(\"Year_Sold\", \"Longitude\", \"Latitude\"), y = \"Sale_Price\", data = ames.h2o)`\n",
    "\n",
    "\n",
    "\n",
    "## Engines\n",
    "Como se mencion anteriormente hay varias librerias que implementan por ejemplo el mismo modelo pero con diferente sabpres, estos son conocidos como \"engines\""
   ]
  },
  {
   "cell_type": "markdown",
   "metadata": {},
   "source": [
    "### Logistic Regression\n",
    "<img src='https://static.javatpoint.com/tutorial/machine-learning/images/linear-regression-vs-logistic-regression.png'>"
   ]
  },
  {
   "cell_type": "code",
   "execution_count": null,
   "metadata": {},
   "outputs": [],
   "source": [
    "lm_glm <- glm(Attrition ~ ., data = train_2, family = \"binomial\")\n",
    "summary(lm_glm)"
   ]
  },
  {
   "cell_type": "code",
   "execution_count": null,
   "metadata": {},
   "outputs": [],
   "source": [
    "lm_caret  <- train(Attrition ~ ., data = train_2,   method = \"rf\", family = \"binomial\")"
   ]
  },
  {
   "cell_type": "code",
   "execution_count": null,
   "metadata": {},
   "outputs": [],
   "source": [
    "lm_caret"
   ]
  },
  {
   "cell_type": "code",
   "execution_count": null,
   "metadata": {},
   "outputs": [],
   "source": [
    "pred = predict(lm_caret, newdata = test_2)\n",
    "table(pred, test_2$Attrition)\n"
   ]
  },
  {
   "cell_type": "code",
   "execution_count": null,
   "metadata": {},
   "outputs": [],
   "source": [
    "pred = predict(lm_caret, newdata = test_2, type = \"prob\")"
   ]
  },
  {
   "cell_type": "code",
   "execution_count": null,
   "metadata": {},
   "outputs": [],
   "source": [
    "head(pred)"
   ]
  },
  {
   "cell_type": "code",
   "execution_count": null,
   "metadata": {},
   "outputs": [],
   "source": [
    "ggplot(pred, aes(Yes) ) + geom_histogram()"
   ]
  },
  {
   "cell_type": "code",
   "execution_count": null,
   "metadata": {},
   "outputs": [],
   "source": [
    "y = as.numeric(test_2$Attrition) - 1 \n",
    "calibrate.plot(y, pred$Yes, )\n"
   ]
  },
  {
   "cell_type": "code",
   "execution_count": null,
   "metadata": {},
   "outputs": [],
   "source": [
    "install.packages(\"gbm\")\n"
   ]
  },
  {
   "cell_type": "code",
   "execution_count": null,
   "metadata": {},
   "outputs": [],
   "source": [
    "library(gbm)"
   ]
  },
  {
   "cell_type": "code",
   "execution_count": null,
   "metadata": {},
   "outputs": [],
   "source": []
  }
 ],
 "metadata": {
  "kernelspec": {
   "display_name": "R",
   "language": "R",
   "name": "ir"
  },
  "language_info": {
   "codemirror_mode": "r",
   "file_extension": ".r",
   "mimetype": "text/x-r-source",
   "name": "R",
   "pygments_lexer": "r",
   "version": "3.6.3"
  },
  "toc": {
   "base_numbering": 1,
   "nav_menu": {},
   "number_sections": true,
   "sideBar": true,
   "skip_h1_title": false,
   "title_cell": "Table of Contents",
   "title_sidebar": "Contents",
   "toc_cell": false,
   "toc_position": {},
   "toc_section_display": true,
   "toc_window_display": false
  },
  "varInspector": {
   "cols": {
    "lenName": 16,
    "lenType": 16,
    "lenVar": 40
   },
   "kernels_config": {
    "python": {
     "delete_cmd_postfix": "",
     "delete_cmd_prefix": "del ",
     "library": "var_list.py",
     "varRefreshCmd": "print(var_dic_list())"
    },
    "r": {
     "delete_cmd_postfix": ") ",
     "delete_cmd_prefix": "rm(",
     "library": "var_list.r",
     "varRefreshCmd": "cat(var_dic_list()) "
    }
   },
   "types_to_exclude": [
    "module",
    "function",
    "builtin_function_or_method",
    "instance",
    "_Feature"
   ],
   "window_display": false
  }
 },
 "nbformat": 4,
 "nbformat_minor": 4
}
