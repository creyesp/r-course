{
 "cells": [
  {
   "cell_type": "code",
   "execution_count": 26,
   "metadata": {},
   "outputs": [],
   "source": [
    "library(dplyr)\n",
    "library(ggplot2)\n"
   ]
  },
  {
   "cell_type": "markdown",
   "metadata": {},
   "source": [
    "# dplyr\n",
    "- select()\n",
    "- filter()\n",
    "- mutate()\n",
    "- arrange()\n",
    "- group_by()\n",
    "- summarise()\n",
    "- glimpse()"
   ]
  },
  {
   "cell_type": "markdown",
   "metadata": {},
   "source": [
    "- playerID: Player ID code. Factor\n",
    "- yearID: Year. Factor\n",
    "- teamID: Team. factor\n",
    "- lgID: League. Factor: AA AL FL NL PL UA\n",
    "- AB: At bats. Numeric\n",
    "- G: Games: number of games by a player. Numeric\n",
    "- R: Runs. Numeric\n",
    "- HR: Homeruns. Numeric\n",
    "- SH: Sacrifice hits. Numeric\n"
   ]
  },
  {
   "cell_type": "code",
   "execution_count": 4,
   "metadata": {},
   "outputs": [],
   "source": [
    "data <- read.csv(\"https://raw.githubusercontent.com/guru99-edu/R-Programming/master/lahman-batting.csv\")"
   ]
  },
  {
   "cell_type": "code",
   "execution_count": 13,
   "metadata": {},
   "outputs": [
    {
     "name": "stdout",
     "output_type": "stream",
     "text": [
      "Rows: 104,324\n",
      "Columns: 22\n",
      "$ playerID \u001b[3m\u001b[38;5;246m<fct>\u001b[39m\u001b[23m abercda01, addybo01, allisar01, allisdo01, ansonca01, armstb…\n",
      "$ yearID   \u001b[3m\u001b[38;5;246m<int>\u001b[39m\u001b[23m 1871, 1871, 1871, 1871, 1871, 1871, 1871, 1871, 1871, 1871, …\n",
      "$ stint    \u001b[3m\u001b[38;5;246m<int>\u001b[39m\u001b[23m 1, 1, 1, 1, 1, 1, 1, 1, 1, 1, 1, 1, 1, 1, 1, 1, 1, 1, 1, 1, …\n",
      "$ teamID   \u001b[3m\u001b[38;5;246m<fct>\u001b[39m\u001b[23m TRO, RC1, CL1, WS3, RC1, FW1, RC1, BS1, FW1, BS1, CL1, CL1, …\n",
      "$ lgID     \u001b[3m\u001b[38;5;246m<fct>\u001b[39m\u001b[23m NA, NA, NA, NA, NA, NA, NA, NA, NA, NA, NA, NA, NA, NA, NA, …\n",
      "$ G        \u001b[3m\u001b[38;5;246m<int>\u001b[39m\u001b[23m 1, 25, 29, 27, 25, 12, 1, 31, 1, 18, 22, 1, 10, 3, 20, 29, 1…\n",
      "$ AB       \u001b[3m\u001b[38;5;246m<int>\u001b[39m\u001b[23m 4, 118, 137, 133, 120, 49, 4, 157, 5, 86, 89, 3, 36, 15, 94,…\n",
      "$ R        \u001b[3m\u001b[38;5;246m<int>\u001b[39m\u001b[23m 0, 30, 28, 28, 29, 9, 0, 66, 1, 13, 18, 0, 6, 7, 24, 26, 0, …\n",
      "$ H        \u001b[3m\u001b[38;5;246m<int>\u001b[39m\u001b[23m 0, 32, 40, 44, 39, 11, 1, 63, 1, 13, 27, 0, 7, 6, 33, 32, 0,…\n",
      "$ X2B      \u001b[3m\u001b[38;5;246m<int>\u001b[39m\u001b[23m 0, 6, 4, 10, 11, 2, 0, 10, 1, 2, 1, 0, 0, 0, 9, 3, 0, 0, 1, …\n",
      "$ X3B      \u001b[3m\u001b[38;5;246m<int>\u001b[39m\u001b[23m 0, 0, 5, 2, 3, 1, 0, 9, 0, 1, 10, 0, 0, 0, 1, 3, 0, 0, 1, 0,…\n",
      "$ HR       \u001b[3m\u001b[38;5;246m<int>\u001b[39m\u001b[23m 0, 0, 0, 2, 0, 0, 0, 0, 0, 0, 3, 0, 0, 0, 1, 0, 0, 0, 0, 0, …\n",
      "$ RBI      \u001b[3m\u001b[38;5;246m<int>\u001b[39m\u001b[23m 0, 13, 19, 27, 16, 5, 2, 34, 1, 11, 18, 0, 1, 5, 21, 23, 0, …\n",
      "$ SB       \u001b[3m\u001b[38;5;246m<int>\u001b[39m\u001b[23m 0, 8, 3, 1, 6, 0, 0, 11, 0, 1, 0, 0, 2, 2, 4, 4, 0, 0, 3, 0,…\n",
      "$ CS       \u001b[3m\u001b[38;5;246m<int>\u001b[39m\u001b[23m 0, 1, 1, 1, 2, 1, 0, 6, 0, 0, 1, 0, 0, 0, 0, 4, 0, 0, 1, 0, …\n",
      "$ BB       \u001b[3m\u001b[38;5;246m<int>\u001b[39m\u001b[23m 0, 4, 2, 0, 2, 0, 1, 13, 0, 0, 3, 1, 2, 0, 2, 9, 0, 0, 4, 1,…\n",
      "$ SO       \u001b[3m\u001b[38;5;246m<int>\u001b[39m\u001b[23m 0, 0, 5, 2, 1, 1, 0, 1, 0, 0, 4, 0, 0, 0, 2, 2, 3, 0, 2, 0, …\n",
      "$ IBB      \u001b[3m\u001b[38;5;246m<int>\u001b[39m\u001b[23m NA, NA, NA, NA, NA, NA, NA, NA, NA, NA, NA, NA, NA, NA, NA, …\n",
      "$ HBP      \u001b[3m\u001b[38;5;246m<int>\u001b[39m\u001b[23m NA, NA, NA, NA, NA, NA, NA, NA, NA, NA, NA, NA, NA, NA, NA, …\n",
      "$ SH       \u001b[3m\u001b[38;5;246m<int>\u001b[39m\u001b[23m NA, NA, NA, NA, NA, NA, NA, NA, NA, NA, NA, NA, NA, NA, NA, …\n",
      "$ SF       \u001b[3m\u001b[38;5;246m<int>\u001b[39m\u001b[23m NA, NA, NA, NA, NA, NA, NA, NA, NA, NA, NA, NA, NA, NA, NA, …\n",
      "$ GIDP     \u001b[3m\u001b[38;5;246m<int>\u001b[39m\u001b[23m 0, 0, 1, 0, 0, 0, 0, 1, 0, 0, 0, 0, 2, 0, 1, 2, 0, 0, 0, 0, …\n"
     ]
    }
   ],
   "source": [
    "glimpse(data)"
   ]
  },
  {
   "cell_type": "code",
   "execution_count": 17,
   "metadata": {},
   "outputs": [
    {
     "name": "stdout",
     "output_type": "stream",
     "text": [
      "Rows: 104,324\n",
      "Columns: 9\n",
      "$ playerID \u001b[3m\u001b[38;5;246m<fct>\u001b[39m\u001b[23m aardsda01, aardsda01, aardsda01, aardsda01, aardsda01, aards…\n",
      "$ yearID   \u001b[3m\u001b[38;5;246m<int>\u001b[39m\u001b[23m 2015, 2008, 2007, 2006, 2012, 2013, 2009, 2010, 2004, 1966, …\n",
      "$ AB       \u001b[3m\u001b[38;5;246m<int>\u001b[39m\u001b[23m 1, 1, 0, 2, 0, 0, 0, 0, 0, 603, 600, 606, 547, 516, 495, 449…\n",
      "$ teamID   \u001b[3m\u001b[38;5;246m<fct>\u001b[39m\u001b[23m ATL, BOS, CHA, CHN, NYA, NYN, SEA, SEA, SFN, ATL, ATL, ATL, …\n",
      "$ lgID     \u001b[3m\u001b[38;5;246m<fct>\u001b[39m\u001b[23m NL, AL, AL, NL, AL, NL, AL, AL, NL, NL, NL, NL, NL, NL, NL, …\n",
      "$ G        \u001b[3m\u001b[38;5;246m<int>\u001b[39m\u001b[23m 33, 47, 25, 45, 1, 43, 73, 53, 11, 158, 155, 160, 147, 150, …\n",
      "$ R        \u001b[3m\u001b[38;5;246m<int>\u001b[39m\u001b[23m 0, 0, 0, 0, 0, 0, 0, 0, 0, 117, 113, 84, 100, 103, 95, 75, 8…\n",
      "$ HR       \u001b[3m\u001b[38;5;246m<int>\u001b[39m\u001b[23m 0, 0, 0, 0, 0, 0, 0, 0, 0, 44, 39, 29, 44, 38, 47, 34, 40, 2…\n",
      "$ SH       \u001b[3m\u001b[38;5;246m<int>\u001b[39m\u001b[23m 0, 0, 0, 1, 0, 0, 0, 0, 0, 0, 0, 0, 0, 0, 0, 0, 0, 1, 6, 7, …\n"
     ]
    }
   ],
   "source": [
    "data %>% \n",
    "    select(c(playerID, yearID, AB, teamID, lgID, G, R, HR, SH)) %>% \n",
    "    arrange(playerID, teamID, yearID) %>%\n",
    "    glimpse()"
   ]
  },
  {
   "cell_type": "code",
   "execution_count": 22,
   "metadata": {},
   "outputs": [
    {
     "data": {
      "text/html": [
       "<table>\n",
       "<caption>A data.frame: 1 × 3</caption>\n",
       "<thead>\n",
       "\t<tr><th scope=col>mean_run</th><th scope=col>mean_game</th><th scope=col>mean_game2</th></tr>\n",
       "\t<tr><th scope=col>&lt;dbl&gt;</th><th scope=col>&lt;dbl&gt;</th><th scope=col>&lt;dbl&gt;</th></tr>\n",
       "</thead>\n",
       "<tbody>\n",
       "\t<tr><td>18.7621</td><td>51.28215</td><td>51.28215</td></tr>\n",
       "</tbody>\n",
       "</table>\n"
      ],
      "text/latex": [
       "A data.frame: 1 × 3\n",
       "\\begin{tabular}{lll}\n",
       " mean\\_run & mean\\_game & mean\\_game2\\\\\n",
       " <dbl> & <dbl> & <dbl>\\\\\n",
       "\\hline\n",
       "\t 18.7621 & 51.28215 & 51.28215\\\\\n",
       "\\end{tabular}\n"
      ],
      "text/markdown": [
       "\n",
       "A data.frame: 1 × 3\n",
       "\n",
       "| mean_run &lt;dbl&gt; | mean_game &lt;dbl&gt; | mean_game2 &lt;dbl&gt; |\n",
       "|---|---|---|\n",
       "| 18.7621 | 51.28215 | 51.28215 |\n",
       "\n"
      ],
      "text/plain": [
       "  mean_run mean_game mean_game2\n",
       "1 18.7621  51.28215  51.28215  "
      ]
     },
     "metadata": {},
     "output_type": "display_data"
    }
   ],
   "source": [
    "summarise(data,\n",
    "          mean_run = mean(R),\n",
    "          mean_game = mean(G, na.rm = T),\n",
    "          mean_game2 = mean(G, na.rm = F))\n"
   ]
  },
  {
   "cell_type": "markdown",
   "metadata": {},
   "source": [
    "## Group_by vs no group_by\n"
   ]
  },
  {
   "cell_type": "code",
   "execution_count": 23,
   "metadata": {},
   "outputs": [
    {
     "name": "stderr",
     "output_type": "stream",
     "text": [
      "`summarise()` ungrouping output (override with `.groups` argument)\n",
      "\n"
     ]
    },
    {
     "data": {
      "text/html": [
       "<table>\n",
       "<caption>A tibble: 7 × 2</caption>\n",
       "<thead>\n",
       "\t<tr><th scope=col>lgID</th><th scope=col>mean_run</th></tr>\n",
       "\t<tr><th scope=col>&lt;fct&gt;</th><th scope=col>&lt;dbl&gt;</th></tr>\n",
       "</thead>\n",
       "<tbody>\n",
       "\t<tr><td>AA</td><td>1.0073957</td></tr>\n",
       "\t<tr><td>AL</td><td>3.0684462</td></tr>\n",
       "\t<tr><td>FL</td><td>1.1546610</td></tr>\n",
       "\t<tr><td>NL</td><td>2.7503452</td></tr>\n",
       "\t<tr><td>PL</td><td>2.1476510</td></tr>\n",
       "\t<tr><td>UA</td><td>0.3742515</td></tr>\n",
       "\t<tr><td>NA</td><td>0.2859079</td></tr>\n",
       "</tbody>\n",
       "</table>\n"
      ],
      "text/latex": [
       "A tibble: 7 × 2\n",
       "\\begin{tabular}{ll}\n",
       " lgID & mean\\_run\\\\\n",
       " <fct> & <dbl>\\\\\n",
       "\\hline\n",
       "\t AA & 1.0073957\\\\\n",
       "\t AL & 3.0684462\\\\\n",
       "\t FL & 1.1546610\\\\\n",
       "\t NL & 2.7503452\\\\\n",
       "\t PL & 2.1476510\\\\\n",
       "\t UA & 0.3742515\\\\\n",
       "\t NA & 0.2859079\\\\\n",
       "\\end{tabular}\n"
      ],
      "text/markdown": [
       "\n",
       "A tibble: 7 × 2\n",
       "\n",
       "| lgID &lt;fct&gt; | mean_run &lt;dbl&gt; |\n",
       "|---|---|\n",
       "| AA | 1.0073957 |\n",
       "| AL | 3.0684462 |\n",
       "| FL | 1.1546610 |\n",
       "| NL | 2.7503452 |\n",
       "| PL | 2.1476510 |\n",
       "| UA | 0.3742515 |\n",
       "| NA | 0.2859079 |\n",
       "\n"
      ],
      "text/plain": [
       "  lgID mean_run \n",
       "1 AA   1.0073957\n",
       "2 AL   3.0684462\n",
       "3 FL   1.1546610\n",
       "4 NL   2.7503452\n",
       "5 PL   2.1476510\n",
       "6 UA   0.3742515\n",
       "7 NA   0.2859079"
      ]
     },
     "metadata": {},
     "output_type": "display_data"
    }
   ],
   "source": [
    "data %>%\n",
    "    group_by(lgID) %>%\n",
    "    summarise(mean_run = mean(HR))"
   ]
  },
  {
   "cell_type": "code",
   "execution_count": 28,
   "metadata": {},
   "outputs": [
    {
     "name": "stderr",
     "output_type": "stream",
     "text": [
      "`summarise()` ungrouping output (override with `.groups` argument)\n",
      "\n"
     ]
    },
    {
     "data": {
      "image/png": "[encoded data removed]",
      "text/plain": [
       "plot without title"
      ]
     },
     "metadata": {
      "image/png": {
       "height": 420,
       "width": 420
      }
     },
     "output_type": "display_data"
    }
   ],
   "source": [
    "data %>%\n",
    "    group_by(lgID) %>%\n",
    "    summarise(mean_home_run = mean(HR)) %>%\n",
    "    ggplot(aes(x = lgID, y = mean_home_run, fill = lgID)) + \n",
    "        geom_bar(stat = \"identity\") +\n",
    "        theme_classic() +\n",
    "        labs(\n",
    "            x = \"baseball league\",\n",
    "            y = \"Average home run\",\n",
    "            title = paste(\n",
    "                \"Example group_by() with summarise()\"\n",
    "            )\n",
    "        )"
   ]
  },
  {
   "cell_type": "markdown",
   "metadata": {},
   "source": [
    "| Objective | Function     | Description                                                    |\n",
    "|-----------|--------------|----------------------------------------------------------------|\n",
    "| Basic     | mean()       | Average of vector x                                            |\n",
    "|           | median()     | Median of vector x                                             |\n",
    "|           | sum()        | Sum of vector x                                                |\n",
    "| variation | sd()         | standard deviation of vector x                                 |\n",
    "|           | IQR()        | Interquartile of vector x                                      |\n",
    "| Range     | min()        | Minimum of vector x                                            |\n",
    "|           | max()        | Maximum of vector x                                            |\n",
    "|           | quantile()   | Quantile of vector x                                           |\n",
    "| Position  | first()      | Use with group_by() First observation of the group             |\n",
    "|           | last()       | Use with group_by(). Last observation of the group             |\n",
    "|           | nth()        | Use with group_by(). nth observation of the group              |\n",
    "| Count     | n()          | Use with group_by(). Count the number of rows                  |\n",
    "|           | n_distinct() | Use with group_by(). Count the number of distinct observations |"
   ]
  },
  {
   "cell_type": "code",
   "execution_count": 33,
   "metadata": {},
   "outputs": [
    {
     "name": "stderr",
     "output_type": "stream",
     "text": [
      "`summarise()` ungrouping output (override with `.groups` argument)\n",
      "\n"
     ]
    },
    {
     "data": {
      "text/html": [
       "<table>\n",
       "<caption>A tibble: 6 × 2</caption>\n",
       "<thead>\n",
       "\t<tr><th scope=col>yearID</th><th scope=col>mean_game_year</th></tr>\n",
       "\t<tr><th scope=col>&lt;int&gt;</th><th scope=col>&lt;dbl&gt;</th></tr>\n",
       "</thead>\n",
       "<tbody>\n",
       "\t<tr><td>1871</td><td>19.96522</td></tr>\n",
       "\t<tr><td>1872</td><td>21.05096</td></tr>\n",
       "\t<tr><td>1873</td><td>28.83200</td></tr>\n",
       "\t<tr><td>1874</td><td>34.13821</td></tr>\n",
       "\t<tr><td>1875</td><td>28.66055</td></tr>\n",
       "\t<tr><td>1876</td><td>37.87097</td></tr>\n",
       "</tbody>\n",
       "</table>\n"
      ],
      "text/latex": [
       "A tibble: 6 × 2\n",
       "\\begin{tabular}{ll}\n",
       " yearID & mean\\_game\\_year\\\\\n",
       " <int> & <dbl>\\\\\n",
       "\\hline\n",
       "\t 1871 & 19.96522\\\\\n",
       "\t 1872 & 21.05096\\\\\n",
       "\t 1873 & 28.83200\\\\\n",
       "\t 1874 & 34.13821\\\\\n",
       "\t 1875 & 28.66055\\\\\n",
       "\t 1876 & 37.87097\\\\\n",
       "\\end{tabular}\n"
      ],
      "text/markdown": [
       "\n",
       "A tibble: 6 × 2\n",
       "\n",
       "| yearID &lt;int&gt; | mean_game_year &lt;dbl&gt; |\n",
       "|---|---|\n",
       "| 1871 | 19.96522 |\n",
       "| 1872 | 21.05096 |\n",
       "| 1873 | 28.83200 |\n",
       "| 1874 | 34.13821 |\n",
       "| 1875 | 28.66055 |\n",
       "| 1876 | 37.87097 |\n",
       "\n"
      ],
      "text/plain": [
       "  yearID mean_game_year\n",
       "1 1871   19.96522      \n",
       "2 1872   21.05096      \n",
       "3 1873   28.83200      \n",
       "4 1874   34.13821      \n",
       "5 1875   28.66055      \n",
       "6 1876   37.87097      "
      ]
     },
     "metadata": {},
     "output_type": "display_data"
    }
   ],
   "source": [
    "## Mean\n",
    "ex1 <- data %>%\n",
    "    group_by(yearID) %>%\n",
    "    summarise(mean_game_year = mean(G))\n",
    "head(ex1)"
   ]
  },
  {
   "cell_type": "code",
   "execution_count": 36,
   "metadata": {},
   "outputs": [
    {
     "data": {
      "image/png": "[encoded data removed]",
      "text/plain": [
       "plot without title"
      ]
     },
     "metadata": {
      "image/png": {
       "height": 420,
       "width": 420
      }
     },
     "output_type": "display_data"
    }
   ],
   "source": [
    "ggplot(ex1, aes(x = yearID, y = mean_game_year)) +\n",
    "    geom_line() +\n",
    "    theme_classic() +\n",
    "    labs(\n",
    "        x = \"Year\",\n",
    "        y = \"Average games played\",\n",
    "        title = paste(\n",
    "            \"Average games played from 1871 to 2016\"\n",
    "        )\n",
    "    )"
   ]
  },
  {
   "cell_type": "code",
   "execution_count": 44,
   "metadata": {},
   "outputs": [
    {
     "name": "stderr",
     "output_type": "stream",
     "text": [
      "`summarise()` ungrouping output (override with `.groups` argument)\n",
      "\n"
     ]
    },
    {
     "data": {
      "text/html": [
       "<table>\n",
       "<caption>A tibble: 6 × 2</caption>\n",
       "<thead>\n",
       "\t<tr><th scope=col>teamID</th><th scope=col>number_player</th></tr>\n",
       "\t<tr><th scope=col>&lt;fct&gt;</th><th scope=col>&lt;int&gt;</th></tr>\n",
       "</thead>\n",
       "<tbody>\n",
       "\t<tr><td>CHN</td><td>2051</td></tr>\n",
       "\t<tr><td>PHI</td><td>2036</td></tr>\n",
       "\t<tr><td>SLN</td><td>1971</td></tr>\n",
       "\t<tr><td>CIN</td><td>1912</td></tr>\n",
       "\t<tr><td>PIT</td><td>1877</td></tr>\n",
       "\t<tr><td>CLE</td><td>1855</td></tr>\n",
       "</tbody>\n",
       "</table>\n"
      ],
      "text/latex": [
       "A tibble: 6 × 2\n",
       "\\begin{tabular}{ll}\n",
       " teamID & number\\_player\\\\\n",
       " <fct> & <int>\\\\\n",
       "\\hline\n",
       "\t CHN & 2051\\\\\n",
       "\t PHI & 2036\\\\\n",
       "\t SLN & 1971\\\\\n",
       "\t CIN & 1912\\\\\n",
       "\t PIT & 1877\\\\\n",
       "\t CLE & 1855\\\\\n",
       "\\end{tabular}\n"
      ],
      "text/markdown": [
       "\n",
       "A tibble: 6 × 2\n",
       "\n",
       "| teamID &lt;fct&gt; | number_player &lt;int&gt; |\n",
       "|---|---|\n",
       "| CHN | 2051 |\n",
       "| PHI | 2036 |\n",
       "| SLN | 1971 |\n",
       "| CIN | 1912 |\n",
       "| PIT | 1877 |\n",
       "| CLE | 1855 |\n",
       "\n"
      ],
      "text/plain": [
       "  teamID number_player\n",
       "1 CHN    2051         \n",
       "2 PHI    2036         \n",
       "3 SLN    1971         \n",
       "4 CIN    1912         \n",
       "5 PIT    1877         \n",
       "6 CLE    1855         "
      ]
     },
     "metadata": {},
     "output_type": "display_data"
    }
   ],
   "source": [
    "# distinct values\n",
    "data %>%\n",
    "    group_by(teamID) %>%\n",
    "    summarise(number_player = n_distinct(playerID)) %>%\n",
    "    arrange(desc(number_player)) %>%\n",
    "    head()"
   ]
  },
  {
   "cell_type": "code",
   "execution_count": 46,
   "metadata": {},
   "outputs": [
    {
     "name": "stderr",
     "output_type": "stream",
     "text": [
      "`summarise()` regrouping output by 'yearID' (override with `.groups` argument)\n",
      "\n"
     ]
    },
    {
     "data": {
      "text/html": [
       "<table>\n",
       "<caption>A grouped_df: 2865 × 3</caption>\n",
       "<thead>\n",
       "\t<tr><th scope=col>yearID</th><th scope=col>teamID</th><th scope=col>mean_games</th></tr>\n",
       "\t<tr><th scope=col>&lt;int&gt;</th><th scope=col>&lt;fct&gt;</th><th scope=col>&lt;dbl&gt;</th></tr>\n",
       "</thead>\n",
       "<tbody>\n",
       "\t<tr><td>1884</td><td>WSU</td><td>19.784314</td></tr>\n",
       "\t<tr><td>1891</td><td>WS9</td><td>33.710526</td></tr>\n",
       "\t<tr><td>1886</td><td>WS8</td><td>29.918919</td></tr>\n",
       "\t<tr><td>1887</td><td>WS8</td><td>54.571429</td></tr>\n",
       "\t<tr><td>1888</td><td>WS8</td><td>47.269231</td></tr>\n",
       "\t<tr><td>1889</td><td>WS8</td><td>40.206897</td></tr>\n",
       "\t<tr><td>1884</td><td>WS7</td><td>22.880000</td></tr>\n",
       "\t<tr><td>1875</td><td>WS6</td><td>13.368421</td></tr>\n",
       "\t<tr><td>1873</td><td>WS5</td><td>23.400000</td></tr>\n",
       "\t<tr><td>1872</td><td>WS4</td><td> 7.071429</td></tr>\n",
       "\t<tr><td>1871</td><td>WS3</td><td>19.333333</td></tr>\n",
       "\t<tr><td>1872</td><td>WS3</td><td> 6.307692</td></tr>\n",
       "\t<tr><td>1961</td><td>WS2</td><td>47.809524</td></tr>\n",
       "\t<tr><td>1962</td><td>WS2</td><td>59.444444</td></tr>\n",
       "\t<tr><td>1963</td><td>WS2</td><td>48.697674</td></tr>\n",
       "\t<tr><td>1964</td><td>WS2</td><td>58.108108</td></tr>\n",
       "\t<tr><td>1965</td><td>WS2</td><td>56.525000</td></tr>\n",
       "\t<tr><td>1966</td><td>WS2</td><td>51.119048</td></tr>\n",
       "\t<tr><td>1967</td><td>WS2</td><td>60.555556</td></tr>\n",
       "\t<tr><td>1968</td><td>WS2</td><td>55.000000</td></tr>\n",
       "\t<tr><td>1969</td><td>WS2</td><td>61.972222</td></tr>\n",
       "\t<tr><td>1970</td><td>WS2</td><td>55.825000</td></tr>\n",
       "\t<tr><td>1971</td><td>WS2</td><td>55.179487</td></tr>\n",
       "\t<tr><td>1901</td><td>WS1</td><td>67.736842</td></tr>\n",
       "\t<tr><td>1902</td><td>WS1</td><td>63.950000</td></tr>\n",
       "\t<tr><td>1903</td><td>WS1</td><td>59.590909</td></tr>\n",
       "\t<tr><td>1904</td><td>WS1</td><td>54.185185</td></tr>\n",
       "\t<tr><td>1905</td><td>WS1</td><td>54.851852</td></tr>\n",
       "\t<tr><td>1906</td><td>WS1</td><td>52.571429</td></tr>\n",
       "\t<tr><td>1907</td><td>WS1</td><td>43.833333</td></tr>\n",
       "\t<tr><td>⋮</td><td>⋮</td><td>⋮</td></tr>\n",
       "\t<tr><td>2017</td><td>ATL</td><td>48.42857</td></tr>\n",
       "\t<tr><td>1998</td><td>ARI</td><td>47.34783</td></tr>\n",
       "\t<tr><td>1999</td><td>ARI</td><td>50.51163</td></tr>\n",
       "\t<tr><td>2000</td><td>ARI</td><td>52.97619</td></tr>\n",
       "\t<tr><td>2001</td><td>ARI</td><td>50.44681</td></tr>\n",
       "\t<tr><td>2002</td><td>ARI</td><td>55.52381</td></tr>\n",
       "\t<tr><td>2003</td><td>ARI</td><td>53.95349</td></tr>\n",
       "\t<tr><td>2004</td><td>ARI</td><td>44.13462</td></tr>\n",
       "\t<tr><td>2005</td><td>ARI</td><td>55.11628</td></tr>\n",
       "\t<tr><td>2006</td><td>ARI</td><td>50.71111</td></tr>\n",
       "\t<tr><td>2007</td><td>ARI</td><td>49.04255</td></tr>\n",
       "\t<tr><td>2008</td><td>ARI</td><td>55.60976</td></tr>\n",
       "\t<tr><td>2009</td><td>ARI</td><td>51.13333</td></tr>\n",
       "\t<tr><td>2010</td><td>ARI</td><td>47.31250</td></tr>\n",
       "\t<tr><td>2011</td><td>ARI</td><td>43.70588</td></tr>\n",
       "\t<tr><td>2012</td><td>ARI</td><td>45.16327</td></tr>\n",
       "\t<tr><td>2013</td><td>ARI</td><td>53.38636</td></tr>\n",
       "\t<tr><td>2014</td><td>ARI</td><td>43.73077</td></tr>\n",
       "\t<tr><td>2015</td><td>ARI</td><td>47.86000</td></tr>\n",
       "\t<tr><td>2016</td><td>ARI</td><td>47.98000</td></tr>\n",
       "\t<tr><td>2017</td><td>ARI</td><td>52.44444</td></tr>\n",
       "\t<tr><td>1997</td><td>ANA</td><td>51.65116</td></tr>\n",
       "\t<tr><td>1998</td><td>ANA</td><td>51.26667</td></tr>\n",
       "\t<tr><td>1999</td><td>ANA</td><td>49.51111</td></tr>\n",
       "\t<tr><td>2000</td><td>ANA</td><td>50.48889</td></tr>\n",
       "\t<tr><td>2001</td><td>ANA</td><td>58.36842</td></tr>\n",
       "\t<tr><td>2002</td><td>ANA</td><td>57.67500</td></tr>\n",
       "\t<tr><td>2003</td><td>ANA</td><td>53.16279</td></tr>\n",
       "\t<tr><td>2004</td><td>ANA</td><td>58.34211</td></tr>\n",
       "\t<tr><td>1884</td><td>ALT</td><td>12.55556</td></tr>\n",
       "</tbody>\n",
       "</table>\n"
      ],
      "text/latex": [
       "A grouped\\_df: 2865 × 3\n",
       "\\begin{tabular}{lll}\n",
       " yearID & teamID & mean\\_games\\\\\n",
       " <int> & <fct> & <dbl>\\\\\n",
       "\\hline\n",
       "\t 1884 & WSU & 19.784314\\\\\n",
       "\t 1891 & WS9 & 33.710526\\\\\n",
       "\t 1886 & WS8 & 29.918919\\\\\n",
       "\t 1887 & WS8 & 54.571429\\\\\n",
       "\t 1888 & WS8 & 47.269231\\\\\n",
       "\t 1889 & WS8 & 40.206897\\\\\n",
       "\t 1884 & WS7 & 22.880000\\\\\n",
       "\t 1875 & WS6 & 13.368421\\\\\n",
       "\t 1873 & WS5 & 23.400000\\\\\n",
       "\t 1872 & WS4 &  7.071429\\\\\n",
       "\t 1871 & WS3 & 19.333333\\\\\n",
       "\t 1872 & WS3 &  6.307692\\\\\n",
       "\t 1961 & WS2 & 47.809524\\\\\n",
       "\t 1962 & WS2 & 59.444444\\\\\n",
       "\t 1963 & WS2 & 48.697674\\\\\n",
       "\t 1964 & WS2 & 58.108108\\\\\n",
       "\t 1965 & WS2 & 56.525000\\\\\n",
       "\t 1966 & WS2 & 51.119048\\\\\n",
       "\t 1967 & WS2 & 60.555556\\\\\n",
       "\t 1968 & WS2 & 55.000000\\\\\n",
       "\t 1969 & WS2 & 61.972222\\\\\n",
       "\t 1970 & WS2 & 55.825000\\\\\n",
       "\t 1971 & WS2 & 55.179487\\\\\n",
       "\t 1901 & WS1 & 67.736842\\\\\n",
       "\t 1902 & WS1 & 63.950000\\\\\n",
       "\t 1903 & WS1 & 59.590909\\\\\n",
       "\t 1904 & WS1 & 54.185185\\\\\n",
       "\t 1905 & WS1 & 54.851852\\\\\n",
       "\t 1906 & WS1 & 52.571429\\\\\n",
       "\t 1907 & WS1 & 43.833333\\\\\n",
       "\t ⋮ & ⋮ & ⋮\\\\\n",
       "\t 2017 & ATL & 48.42857\\\\\n",
       "\t 1998 & ARI & 47.34783\\\\\n",
       "\t 1999 & ARI & 50.51163\\\\\n",
       "\t 2000 & ARI & 52.97619\\\\\n",
       "\t 2001 & ARI & 50.44681\\\\\n",
       "\t 2002 & ARI & 55.52381\\\\\n",
       "\t 2003 & ARI & 53.95349\\\\\n",
       "\t 2004 & ARI & 44.13462\\\\\n",
       "\t 2005 & ARI & 55.11628\\\\\n",
       "\t 2006 & ARI & 50.71111\\\\\n",
       "\t 2007 & ARI & 49.04255\\\\\n",
       "\t 2008 & ARI & 55.60976\\\\\n",
       "\t 2009 & ARI & 51.13333\\\\\n",
       "\t 2010 & ARI & 47.31250\\\\\n",
       "\t 2011 & ARI & 43.70588\\\\\n",
       "\t 2012 & ARI & 45.16327\\\\\n",
       "\t 2013 & ARI & 53.38636\\\\\n",
       "\t 2014 & ARI & 43.73077\\\\\n",
       "\t 2015 & ARI & 47.86000\\\\\n",
       "\t 2016 & ARI & 47.98000\\\\\n",
       "\t 2017 & ARI & 52.44444\\\\\n",
       "\t 1997 & ANA & 51.65116\\\\\n",
       "\t 1998 & ANA & 51.26667\\\\\n",
       "\t 1999 & ANA & 49.51111\\\\\n",
       "\t 2000 & ANA & 50.48889\\\\\n",
       "\t 2001 & ANA & 58.36842\\\\\n",
       "\t 2002 & ANA & 57.67500\\\\\n",
       "\t 2003 & ANA & 53.16279\\\\\n",
       "\t 2004 & ANA & 58.34211\\\\\n",
       "\t 1884 & ALT & 12.55556\\\\\n",
       "\\end{tabular}\n"
      ],
      "text/markdown": [
       "\n",
       "A grouped_df: 2865 × 3\n",
       "\n",
       "| yearID &lt;int&gt; | teamID &lt;fct&gt; | mean_games &lt;dbl&gt; |\n",
       "|---|---|---|\n",
       "| 1884 | WSU | 19.784314 |\n",
       "| 1891 | WS9 | 33.710526 |\n",
       "| 1886 | WS8 | 29.918919 |\n",
       "| 1887 | WS8 | 54.571429 |\n",
       "| 1888 | WS8 | 47.269231 |\n",
       "| 1889 | WS8 | 40.206897 |\n",
       "| 1884 | WS7 | 22.880000 |\n",
       "| 1875 | WS6 | 13.368421 |\n",
       "| 1873 | WS5 | 23.400000 |\n",
       "| 1872 | WS4 |  7.071429 |\n",
       "| 1871 | WS3 | 19.333333 |\n",
       "| 1872 | WS3 |  6.307692 |\n",
       "| 1961 | WS2 | 47.809524 |\n",
       "| 1962 | WS2 | 59.444444 |\n",
       "| 1963 | WS2 | 48.697674 |\n",
       "| 1964 | WS2 | 58.108108 |\n",
       "| 1965 | WS2 | 56.525000 |\n",
       "| 1966 | WS2 | 51.119048 |\n",
       "| 1967 | WS2 | 60.555556 |\n",
       "| 1968 | WS2 | 55.000000 |\n",
       "| 1969 | WS2 | 61.972222 |\n",
       "| 1970 | WS2 | 55.825000 |\n",
       "| 1971 | WS2 | 55.179487 |\n",
       "| 1901 | WS1 | 67.736842 |\n",
       "| 1902 | WS1 | 63.950000 |\n",
       "| 1903 | WS1 | 59.590909 |\n",
       "| 1904 | WS1 | 54.185185 |\n",
       "| 1905 | WS1 | 54.851852 |\n",
       "| 1906 | WS1 | 52.571429 |\n",
       "| 1907 | WS1 | 43.833333 |\n",
       "| ⋮ | ⋮ | ⋮ |\n",
       "| 2017 | ATL | 48.42857 |\n",
       "| 1998 | ARI | 47.34783 |\n",
       "| 1999 | ARI | 50.51163 |\n",
       "| 2000 | ARI | 52.97619 |\n",
       "| 2001 | ARI | 50.44681 |\n",
       "| 2002 | ARI | 55.52381 |\n",
       "| 2003 | ARI | 53.95349 |\n",
       "| 2004 | ARI | 44.13462 |\n",
       "| 2005 | ARI | 55.11628 |\n",
       "| 2006 | ARI | 50.71111 |\n",
       "| 2007 | ARI | 49.04255 |\n",
       "| 2008 | ARI | 55.60976 |\n",
       "| 2009 | ARI | 51.13333 |\n",
       "| 2010 | ARI | 47.31250 |\n",
       "| 2011 | ARI | 43.70588 |\n",
       "| 2012 | ARI | 45.16327 |\n",
       "| 2013 | ARI | 53.38636 |\n",
       "| 2014 | ARI | 43.73077 |\n",
       "| 2015 | ARI | 47.86000 |\n",
       "| 2016 | ARI | 47.98000 |\n",
       "| 2017 | ARI | 52.44444 |\n",
       "| 1997 | ANA | 51.65116 |\n",
       "| 1998 | ANA | 51.26667 |\n",
       "| 1999 | ANA | 49.51111 |\n",
       "| 2000 | ANA | 50.48889 |\n",
       "| 2001 | ANA | 58.36842 |\n",
       "| 2002 | ANA | 57.67500 |\n",
       "| 2003 | ANA | 53.16279 |\n",
       "| 2004 | ANA | 58.34211 |\n",
       "| 1884 | ALT | 12.55556 |\n",
       "\n"
      ],
      "text/plain": [
       "     yearID teamID mean_games\n",
       "1    1884   WSU    19.784314 \n",
       "2    1891   WS9    33.710526 \n",
       "3    1886   WS8    29.918919 \n",
       "4    1887   WS8    54.571429 \n",
       "5    1888   WS8    47.269231 \n",
       "6    1889   WS8    40.206897 \n",
       "7    1884   WS7    22.880000 \n",
       "8    1875   WS6    13.368421 \n",
       "9    1873   WS5    23.400000 \n",
       "10   1872   WS4     7.071429 \n",
       "11   1871   WS3    19.333333 \n",
       "12   1872   WS3     6.307692 \n",
       "13   1961   WS2    47.809524 \n",
       "14   1962   WS2    59.444444 \n",
       "15   1963   WS2    48.697674 \n",
       "16   1964   WS2    58.108108 \n",
       "17   1965   WS2    56.525000 \n",
       "18   1966   WS2    51.119048 \n",
       "19   1967   WS2    60.555556 \n",
       "20   1968   WS2    55.000000 \n",
       "21   1969   WS2    61.972222 \n",
       "22   1970   WS2    55.825000 \n",
       "23   1971   WS2    55.179487 \n",
       "24   1901   WS1    67.736842 \n",
       "25   1902   WS1    63.950000 \n",
       "26   1903   WS1    59.590909 \n",
       "27   1904   WS1    54.185185 \n",
       "28   1905   WS1    54.851852 \n",
       "29   1906   WS1    52.571429 \n",
       "30   1907   WS1    43.833333 \n",
       "⋮    ⋮      ⋮      ⋮         \n",
       "2836 2017   ATL    48.42857  \n",
       "2837 1998   ARI    47.34783  \n",
       "2838 1999   ARI    50.51163  \n",
       "2839 2000   ARI    52.97619  \n",
       "2840 2001   ARI    50.44681  \n",
       "2841 2002   ARI    55.52381  \n",
       "2842 2003   ARI    53.95349  \n",
       "2843 2004   ARI    44.13462  \n",
       "2844 2005   ARI    55.11628  \n",
       "2845 2006   ARI    50.71111  \n",
       "2846 2007   ARI    49.04255  \n",
       "2847 2008   ARI    55.60976  \n",
       "2848 2009   ARI    51.13333  \n",
       "2849 2010   ARI    47.31250  \n",
       "2850 2011   ARI    43.70588  \n",
       "2851 2012   ARI    45.16327  \n",
       "2852 2013   ARI    53.38636  \n",
       "2853 2014   ARI    43.73077  \n",
       "2854 2015   ARI    47.86000  \n",
       "2855 2016   ARI    47.98000  \n",
       "2856 2017   ARI    52.44444  \n",
       "2857 1997   ANA    51.65116  \n",
       "2858 1998   ANA    51.26667  \n",
       "2859 1999   ANA    49.51111  \n",
       "2860 2000   ANA    50.48889  \n",
       "2861 2001   ANA    58.36842  \n",
       "2862 2002   ANA    57.67500  \n",
       "2863 2003   ANA    53.16279  \n",
       "2864 2004   ANA    58.34211  \n",
       "2865 1884   ALT    12.55556  "
      ]
     },
     "metadata": {},
     "output_type": "display_data"
    }
   ],
   "source": [
    "# Multiple groups\n",
    "data %>%\n",
    "    group_by(yearID, teamID) %>%\n",
    "    summarise(mean_games = mean(G)) %>%\n",
    "    arrange(desc(teamID, yearID))"
   ]
  },
  {
   "cell_type": "code",
   "execution_count": 25,
   "metadata": {},
   "outputs": [
    {
     "ename": "ERROR",
     "evalue": "Error in convert(., chr(year, week)): could not find function \"convert\"\n",
     "output_type": "error",
     "traceback": [
      "Error in convert(., chr(year, week)): could not find function \"convert\"\nTraceback:\n",
      "1. read_csv(\"year, week, rat_house_females, rat_house_males, mouse_wild_females, mouse_wild_males \\n               2018,10,1,1,1,1\\n               2018,10,1,1,1,1\\n               2018,11,2,2,2,2\\n               2018,11,2,2,2,2\\n               2019,10,3,3,3,3\\n               2019,10,3,3,3,3\\n               2019,11,4,4,4,4\\n               2019,11,4,4,4,4\") %>% \n .     convert(chr(year, week)) %>% mutate(total_rodents = rowSums(select_if(., \n .     is.numeric))) %>% convert(num(year, week)) %>% group_by(year, \n .     week) %>% summarise(average = mean(total_rodents))",
      "2. withVisible(eval(quote(`_fseq`(`_lhs`)), env, env))",
      "3. eval(quote(`_fseq`(`_lhs`)), env, env)",
      "4. eval(quote(`_fseq`(`_lhs`)), env, env)",
      "5. `_fseq`(`_lhs`)",
      "6. freduce(value, `_function_list`)",
      "7. function_list[[i]](value)"
     ]
    }
   ],
   "source": [
    "library(tidyverse)\n",
    "#library(hablar)\n",
    "df <- read_csv(\"year, week, rat_house_females, rat_house_males, mouse_wild_females, mouse_wild_males \n",
    "               2018,10,1,1,1,1\n",
    "               2018,10,1,1,1,1\n",
    "               2018,11,2,2,2,2\n",
    "               2018,11,2,2,2,2\n",
    "               2019,10,3,3,3,3\n",
    "               2019,10,3,3,3,3\n",
    "               2019,11,4,4,4,4\n",
    "               2019,11,4,4,4,4\") %>% \n",
    "  convert(chr(year,week)) %>% \n",
    "  mutate(total_rodents = rowSums(select_if(., is.numeric))) %>% \n",
    "  convert(num(year,week)) %>% \n",
    "  group_by(year,week) %>% summarise(average = mean(total_rodents))"
   ]
  }
 ],
 "metadata": {
  "kernelspec": {
   "display_name": "R",
   "language": "R",
   "name": "ir"
  },
  "language_info": {
   "codemirror_mode": "r",
   "file_extension": ".r",
   "mimetype": "text/x-r-source",
   "name": "R",
   "pygments_lexer": "r",
   "version": "3.6.3"
  }
 },
 "nbformat": 4,
 "nbformat_minor": 4
}
