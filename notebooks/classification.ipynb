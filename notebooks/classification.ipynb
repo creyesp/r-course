{
 "cells": [
  {
   "cell_type": "code",
   "execution_count": 1,
   "metadata": {},
   "outputs": [
    {
     "name": "stderr",
     "output_type": "stream",
     "text": [
      "Installing package into ‘/usr/local/lib/R/site-library’\n",
      "(as ‘lib’ is unspecified)\n",
      "\n",
      "Installing package into ‘/usr/local/lib/R/site-library’\n",
      "(as ‘lib’ is unspecified)\n",
      "\n",
      "Warning message:\n",
      "“package ‘h2o’ is not available (for R version 3.6.3)”\n"
     ]
    }
   ],
   "source": [
    "install.packages(\"rsample\")\n",
    "install.packages(\"h2o\")"
   ]
  },
  {
   "cell_type": "markdown",
   "metadata": {},
   "source": [
    "Employee attrition information originally provided by IBM Watson Analytics Lab.    \n",
    "* problem type: supervised binomial classification\n",
    "* response variable: Attrition (i.e., “Yes”, “No”)\n",
    "* features: 30\n",
    "* observations: 1,470\n",
    "* objective: use employee attributes to predict if they will attrit (leave the company)\n",
    "* access: provided by the rsample package (Kuhn and Wickham 2019)\n",
    "* more details: See ?rsample::attrition\n"
   ]
  },
  {
   "cell_type": "code",
   "execution_count": 2,
   "metadata": {},
   "outputs": [
    {
     "name": "stderr",
     "output_type": "stream",
     "text": [
      "\n",
      "Attaching package: ‘dplyr’\n",
      "\n",
      "\n",
      "The following objects are masked from ‘package:stats’:\n",
      "\n",
      "    filter, lag\n",
      "\n",
      "\n",
      "The following objects are masked from ‘package:base’:\n",
      "\n",
      "    intersect, setdiff, setequal, union\n",
      "\n",
      "\n",
      "Loading required package: lattice\n",
      "\n",
      "\n",
      "----------------------------------------------------------------------\n",
      "\n",
      "Your next step is to start H2O:\n",
      "    > h2o.init()\n",
      "\n",
      "For H2O package documentation, ask for help:\n",
      "    > ??h2o\n",
      "\n",
      "After starting H2O, you can use the Web UI at http://localhost:54321\n",
      "For more information visit http://docs.h2o.ai\n",
      "\n",
      "----------------------------------------------------------------------\n",
      "\n",
      "\n",
      "\n",
      "Attaching package: ‘h2o’\n",
      "\n",
      "\n",
      "The following objects are masked from ‘package:stats’:\n",
      "\n",
      "    cor, sd, var\n",
      "\n",
      "\n",
      "The following objects are masked from ‘package:base’:\n",
      "\n",
      "    &&, %*%, %in%, ||, apply, as.factor, as.numeric, colnames,\n",
      "    colnames<-, ifelse, is.character, is.factor, is.numeric, log,\n",
      "    log10, log1p, log2, round, signif, trunc\n",
      "\n",
      "\n"
     ]
    },
    {
     "name": "stdout",
     "output_type": "stream",
     "text": [
      " Connection successful!\n",
      "\n",
      "R is connected to the H2O cluster: \n",
      "    H2O cluster uptime:         22 hours 59 minutes \n",
      "    H2O cluster timezone:       America/Montevideo \n",
      "    H2O data parsing timezone:  UTC \n",
      "    H2O cluster version:        3.30.1.2 \n",
      "    H2O cluster version age:    24 days  \n",
      "    H2O cluster name:           H2O_started_from_R_cesar_jro824 \n",
      "    H2O cluster total nodes:    1 \n",
      "    H2O cluster total memory:   3.14 GB \n",
      "    H2O cluster total cores:    8 \n",
      "    H2O cluster allowed cores:  8 \n",
      "    H2O cluster healthy:        TRUE \n",
      "    H2O Connection ip:          localhost \n",
      "    H2O Connection port:        54321 \n",
      "    H2O Connection proxy:       NA \n",
      "    H2O Internal Security:      FALSE \n",
      "    H2O API Extensions:         Amazon S3, XGBoost, Algos, AutoML, Core V3, TargetEncoder, Core V4 \n",
      "    R Version:                  R version 3.6.3 (2020-02-29) \n",
      "\n"
     ]
    }
   ],
   "source": [
    "# Helper packages\n",
    "library(dplyr)     # for data manipulation\n",
    "library(ggplot2)   # for awesome graphics\n",
    "\n",
    "# Modeling process packages\n",
    "library(rsample)   # for resampling procedures\n",
    "library(caret)     # for resampling and model training\n",
    "library(h2o)       # for resampling and model training\n",
    "\n",
    "# h2o set-up \n",
    "h2o.no_progress()  # turn off h2o progress bars\n",
    "h2o.init()         # launch h2o"
   ]
  },
  {
   "cell_type": "code",
   "execution_count": 3,
   "metadata": {},
   "outputs": [
    {
     "data": {
      "text/html": [
       "<style>\n",
       ".list-inline {list-style: none; margin:0; padding: 0}\n",
       ".list-inline>li {display: inline-block}\n",
       ".list-inline>li:not(:last-child)::after {content: \"\\00b7\"; padding: 0 .5ex}\n",
       "</style>\n",
       "<ol class=list-inline><li>'Age'</li><li>'Attrition'</li><li>'BusinessTravel'</li><li>'DailyRate'</li><li>'Department'</li><li>'DistanceFromHome'</li><li>'Education'</li><li>'EducationField'</li><li>'EnvironmentSatisfaction'</li><li>'Gender'</li><li>'HourlyRate'</li><li>'JobInvolvement'</li><li>'JobLevel'</li><li>'JobRole'</li><li>'JobSatisfaction'</li><li>'MaritalStatus'</li><li>'MonthlyIncome'</li><li>'MonthlyRate'</li><li>'NumCompaniesWorked'</li><li>'OverTime'</li><li>'PercentSalaryHike'</li><li>'PerformanceRating'</li><li>'RelationshipSatisfaction'</li><li>'StockOptionLevel'</li><li>'TotalWorkingYears'</li><li>'TrainingTimesLastYear'</li><li>'WorkLifeBalance'</li><li>'YearsAtCompany'</li><li>'YearsInCurrentRole'</li><li>'YearsSinceLastPromotion'</li><li>'YearsWithCurrManager'</li></ol>\n"
      ],
      "text/latex": [
       "\\begin{enumerate*}\n",
       "\\item 'Age'\n",
       "\\item 'Attrition'\n",
       "\\item 'BusinessTravel'\n",
       "\\item 'DailyRate'\n",
       "\\item 'Department'\n",
       "\\item 'DistanceFromHome'\n",
       "\\item 'Education'\n",
       "\\item 'EducationField'\n",
       "\\item 'EnvironmentSatisfaction'\n",
       "\\item 'Gender'\n",
       "\\item 'HourlyRate'\n",
       "\\item 'JobInvolvement'\n",
       "\\item 'JobLevel'\n",
       "\\item 'JobRole'\n",
       "\\item 'JobSatisfaction'\n",
       "\\item 'MaritalStatus'\n",
       "\\item 'MonthlyIncome'\n",
       "\\item 'MonthlyRate'\n",
       "\\item 'NumCompaniesWorked'\n",
       "\\item 'OverTime'\n",
       "\\item 'PercentSalaryHike'\n",
       "\\item 'PerformanceRating'\n",
       "\\item 'RelationshipSatisfaction'\n",
       "\\item 'StockOptionLevel'\n",
       "\\item 'TotalWorkingYears'\n",
       "\\item 'TrainingTimesLastYear'\n",
       "\\item 'WorkLifeBalance'\n",
       "\\item 'YearsAtCompany'\n",
       "\\item 'YearsInCurrentRole'\n",
       "\\item 'YearsSinceLastPromotion'\n",
       "\\item 'YearsWithCurrManager'\n",
       "\\end{enumerate*}\n"
      ],
      "text/markdown": [
       "1. 'Age'\n",
       "2. 'Attrition'\n",
       "3. 'BusinessTravel'\n",
       "4. 'DailyRate'\n",
       "5. 'Department'\n",
       "6. 'DistanceFromHome'\n",
       "7. 'Education'\n",
       "8. 'EducationField'\n",
       "9. 'EnvironmentSatisfaction'\n",
       "10. 'Gender'\n",
       "11. 'HourlyRate'\n",
       "12. 'JobInvolvement'\n",
       "13. 'JobLevel'\n",
       "14. 'JobRole'\n",
       "15. 'JobSatisfaction'\n",
       "16. 'MaritalStatus'\n",
       "17. 'MonthlyIncome'\n",
       "18. 'MonthlyRate'\n",
       "19. 'NumCompaniesWorked'\n",
       "20. 'OverTime'\n",
       "21. 'PercentSalaryHike'\n",
       "22. 'PerformanceRating'\n",
       "23. 'RelationshipSatisfaction'\n",
       "24. 'StockOptionLevel'\n",
       "25. 'TotalWorkingYears'\n",
       "26. 'TrainingTimesLastYear'\n",
       "27. 'WorkLifeBalance'\n",
       "28. 'YearsAtCompany'\n",
       "29. 'YearsInCurrentRole'\n",
       "30. 'YearsSinceLastPromotion'\n",
       "31. 'YearsWithCurrManager'\n",
       "\n",
       "\n"
      ],
      "text/plain": [
       " [1] \"Age\"                      \"Attrition\"               \n",
       " [3] \"BusinessTravel\"           \"DailyRate\"               \n",
       " [5] \"Department\"               \"DistanceFromHome\"        \n",
       " [7] \"Education\"                \"EducationField\"          \n",
       " [9] \"EnvironmentSatisfaction\"  \"Gender\"                  \n",
       "[11] \"HourlyRate\"               \"JobInvolvement\"          \n",
       "[13] \"JobLevel\"                 \"JobRole\"                 \n",
       "[15] \"JobSatisfaction\"          \"MaritalStatus\"           \n",
       "[17] \"MonthlyIncome\"            \"MonthlyRate\"             \n",
       "[19] \"NumCompaniesWorked\"       \"OverTime\"                \n",
       "[21] \"PercentSalaryHike\"        \"PerformanceRating\"       \n",
       "[23] \"RelationshipSatisfaction\" \"StockOptionLevel\"        \n",
       "[25] \"TotalWorkingYears\"        \"TrainingTimesLastYear\"   \n",
       "[27] \"WorkLifeBalance\"          \"YearsAtCompany\"          \n",
       "[29] \"YearsInCurrentRole\"       \"YearsSinceLastPromotion\" \n",
       "[31] \"YearsWithCurrManager\"    "
      ]
     },
     "metadata": {},
     "output_type": "display_data"
    }
   ],
   "source": [
    "data(\"attrition\", package = \"modeldata\")\n",
    "names(attrition)"
   ]
  },
  {
   "cell_type": "code",
   "execution_count": 4,
   "metadata": {},
   "outputs": [],
   "source": [
    "# Job attrition data\n",
    "churn <- attrition %>% \n",
    "  mutate_if(is.ordered, .funs = factor, ordered = FALSE)\n",
    "churn.h2o <- as.h2o(churn)"
   ]
  },
  {
   "cell_type": "code",
   "execution_count": 5,
   "metadata": {},
   "outputs": [
    {
     "data": {
      "text/html": [
       "<style>\n",
       ".list-inline {list-style: none; margin:0; padding: 0}\n",
       ".list-inline>li {display: inline-block}\n",
       ".list-inline>li:not(:last-child)::after {content: \"\\00b7\"; padding: 0 .5ex}\n",
       "</style>\n",
       "<ol class=list-inline><li>1470</li><li>31</li></ol>\n"
      ],
      "text/latex": [
       "\\begin{enumerate*}\n",
       "\\item 1470\n",
       "\\item 31\n",
       "\\end{enumerate*}\n"
      ],
      "text/markdown": [
       "1. 1470\n",
       "2. 31\n",
       "\n",
       "\n"
      ],
      "text/plain": [
       "[1] 1470   31"
      ]
     },
     "metadata": {},
     "output_type": "display_data"
    },
    {
     "data": {
      "text/html": [
       "<table>\n",
       "<caption>A data.frame: 6 × 31</caption>\n",
       "<thead>\n",
       "\t<tr><th></th><th scope=col>Age</th><th scope=col>Attrition</th><th scope=col>BusinessTravel</th><th scope=col>DailyRate</th><th scope=col>Department</th><th scope=col>DistanceFromHome</th><th scope=col>Education</th><th scope=col>EducationField</th><th scope=col>EnvironmentSatisfaction</th><th scope=col>Gender</th><th scope=col>⋯</th><th scope=col>PerformanceRating</th><th scope=col>RelationshipSatisfaction</th><th scope=col>StockOptionLevel</th><th scope=col>TotalWorkingYears</th><th scope=col>TrainingTimesLastYear</th><th scope=col>WorkLifeBalance</th><th scope=col>YearsAtCompany</th><th scope=col>YearsInCurrentRole</th><th scope=col>YearsSinceLastPromotion</th><th scope=col>YearsWithCurrManager</th></tr>\n",
       "\t<tr><th></th><th scope=col>&lt;int&gt;</th><th scope=col>&lt;fct&gt;</th><th scope=col>&lt;fct&gt;</th><th scope=col>&lt;int&gt;</th><th scope=col>&lt;fct&gt;</th><th scope=col>&lt;int&gt;</th><th scope=col>&lt;ord&gt;</th><th scope=col>&lt;fct&gt;</th><th scope=col>&lt;ord&gt;</th><th scope=col>&lt;fct&gt;</th><th scope=col>⋯</th><th scope=col>&lt;ord&gt;</th><th scope=col>&lt;ord&gt;</th><th scope=col>&lt;int&gt;</th><th scope=col>&lt;int&gt;</th><th scope=col>&lt;int&gt;</th><th scope=col>&lt;ord&gt;</th><th scope=col>&lt;int&gt;</th><th scope=col>&lt;int&gt;</th><th scope=col>&lt;int&gt;</th><th scope=col>&lt;int&gt;</th></tr>\n",
       "</thead>\n",
       "<tbody>\n",
       "\t<tr><th scope=row>1</th><td>41</td><td>Yes</td><td>Travel_Rarely    </td><td>1102</td><td>Sales               </td><td>1</td><td>College      </td><td>Life_Sciences</td><td>Medium   </td><td>Female</td><td>⋯</td><td>Excellent  </td><td>Low      </td><td>0</td><td> 8</td><td>0</td><td>Bad   </td><td> 6</td><td>4</td><td>0</td><td>5</td></tr>\n",
       "\t<tr><th scope=row>2</th><td>49</td><td>No </td><td>Travel_Frequently</td><td> 279</td><td>Research_Development</td><td>8</td><td>Below_College</td><td>Life_Sciences</td><td>High     </td><td>Male  </td><td>⋯</td><td>Outstanding</td><td>Very_High</td><td>1</td><td>10</td><td>3</td><td>Better</td><td>10</td><td>7</td><td>1</td><td>7</td></tr>\n",
       "\t<tr><th scope=row>4</th><td>37</td><td>Yes</td><td>Travel_Rarely    </td><td>1373</td><td>Research_Development</td><td>2</td><td>College      </td><td>Other        </td><td>Very_High</td><td>Male  </td><td>⋯</td><td>Excellent  </td><td>Medium   </td><td>0</td><td> 7</td><td>3</td><td>Better</td><td> 0</td><td>0</td><td>0</td><td>0</td></tr>\n",
       "\t<tr><th scope=row>5</th><td>33</td><td>No </td><td>Travel_Frequently</td><td>1392</td><td>Research_Development</td><td>3</td><td>Master       </td><td>Life_Sciences</td><td>Very_High</td><td>Female</td><td>⋯</td><td>Excellent  </td><td>High     </td><td>0</td><td> 8</td><td>3</td><td>Better</td><td> 8</td><td>7</td><td>3</td><td>0</td></tr>\n",
       "\t<tr><th scope=row>7</th><td>27</td><td>No </td><td>Travel_Rarely    </td><td> 591</td><td>Research_Development</td><td>2</td><td>Below_College</td><td>Medical      </td><td>Low      </td><td>Male  </td><td>⋯</td><td>Excellent  </td><td>Very_High</td><td>1</td><td> 6</td><td>3</td><td>Better</td><td> 2</td><td>2</td><td>2</td><td>2</td></tr>\n",
       "\t<tr><th scope=row>8</th><td>32</td><td>No </td><td>Travel_Frequently</td><td>1005</td><td>Research_Development</td><td>2</td><td>College      </td><td>Life_Sciences</td><td>Very_High</td><td>Male  </td><td>⋯</td><td>Excellent  </td><td>High     </td><td>0</td><td> 8</td><td>2</td><td>Good  </td><td> 7</td><td>7</td><td>3</td><td>6</td></tr>\n",
       "</tbody>\n",
       "</table>\n"
      ],
      "text/latex": [
       "A data.frame: 6 × 31\n",
       "\\begin{tabular}{r|lllllllllllllllllllll}\n",
       "  & Age & Attrition & BusinessTravel & DailyRate & Department & DistanceFromHome & Education & EducationField & EnvironmentSatisfaction & Gender & ⋯ & PerformanceRating & RelationshipSatisfaction & StockOptionLevel & TotalWorkingYears & TrainingTimesLastYear & WorkLifeBalance & YearsAtCompany & YearsInCurrentRole & YearsSinceLastPromotion & YearsWithCurrManager\\\\\n",
       "  & <int> & <fct> & <fct> & <int> & <fct> & <int> & <ord> & <fct> & <ord> & <fct> & ⋯ & <ord> & <ord> & <int> & <int> & <int> & <ord> & <int> & <int> & <int> & <int>\\\\\n",
       "\\hline\n",
       "\t1 & 41 & Yes & Travel\\_Rarely     & 1102 & Sales                & 1 & College       & Life\\_Sciences & Medium    & Female & ⋯ & Excellent   & Low       & 0 &  8 & 0 & Bad    &  6 & 4 & 0 & 5\\\\\n",
       "\t2 & 49 & No  & Travel\\_Frequently &  279 & Research\\_Development & 8 & Below\\_College & Life\\_Sciences & High      & Male   & ⋯ & Outstanding & Very\\_High & 1 & 10 & 3 & Better & 10 & 7 & 1 & 7\\\\\n",
       "\t4 & 37 & Yes & Travel\\_Rarely     & 1373 & Research\\_Development & 2 & College       & Other         & Very\\_High & Male   & ⋯ & Excellent   & Medium    & 0 &  7 & 3 & Better &  0 & 0 & 0 & 0\\\\\n",
       "\t5 & 33 & No  & Travel\\_Frequently & 1392 & Research\\_Development & 3 & Master        & Life\\_Sciences & Very\\_High & Female & ⋯ & Excellent   & High      & 0 &  8 & 3 & Better &  8 & 7 & 3 & 0\\\\\n",
       "\t7 & 27 & No  & Travel\\_Rarely     &  591 & Research\\_Development & 2 & Below\\_College & Medical       & Low       & Male   & ⋯ & Excellent   & Very\\_High & 1 &  6 & 3 & Better &  2 & 2 & 2 & 2\\\\\n",
       "\t8 & 32 & No  & Travel\\_Frequently & 1005 & Research\\_Development & 2 & College       & Life\\_Sciences & Very\\_High & Male   & ⋯ & Excellent   & High      & 0 &  8 & 2 & Good   &  7 & 7 & 3 & 6\\\\\n",
       "\\end{tabular}\n"
      ],
      "text/markdown": [
       "\n",
       "A data.frame: 6 × 31\n",
       "\n",
       "| <!--/--> | Age &lt;int&gt; | Attrition &lt;fct&gt; | BusinessTravel &lt;fct&gt; | DailyRate &lt;int&gt; | Department &lt;fct&gt; | DistanceFromHome &lt;int&gt; | Education &lt;ord&gt; | EducationField &lt;fct&gt; | EnvironmentSatisfaction &lt;ord&gt; | Gender &lt;fct&gt; | ⋯ ⋯ | PerformanceRating &lt;ord&gt; | RelationshipSatisfaction &lt;ord&gt; | StockOptionLevel &lt;int&gt; | TotalWorkingYears &lt;int&gt; | TrainingTimesLastYear &lt;int&gt; | WorkLifeBalance &lt;ord&gt; | YearsAtCompany &lt;int&gt; | YearsInCurrentRole &lt;int&gt; | YearsSinceLastPromotion &lt;int&gt; | YearsWithCurrManager &lt;int&gt; |\n",
       "|---|---|---|---|---|---|---|---|---|---|---|---|---|---|---|---|---|---|---|---|---|---|\n",
       "| 1 | 41 | Yes | Travel_Rarely     | 1102 | Sales                | 1 | College       | Life_Sciences | Medium    | Female | ⋯ | Excellent   | Low       | 0 |  8 | 0 | Bad    |  6 | 4 | 0 | 5 |\n",
       "| 2 | 49 | No  | Travel_Frequently |  279 | Research_Development | 8 | Below_College | Life_Sciences | High      | Male   | ⋯ | Outstanding | Very_High | 1 | 10 | 3 | Better | 10 | 7 | 1 | 7 |\n",
       "| 4 | 37 | Yes | Travel_Rarely     | 1373 | Research_Development | 2 | College       | Other         | Very_High | Male   | ⋯ | Excellent   | Medium    | 0 |  7 | 3 | Better |  0 | 0 | 0 | 0 |\n",
       "| 5 | 33 | No  | Travel_Frequently | 1392 | Research_Development | 3 | Master        | Life_Sciences | Very_High | Female | ⋯ | Excellent   | High      | 0 |  8 | 3 | Better |  8 | 7 | 3 | 0 |\n",
       "| 7 | 27 | No  | Travel_Rarely     |  591 | Research_Development | 2 | Below_College | Medical       | Low       | Male   | ⋯ | Excellent   | Very_High | 1 |  6 | 3 | Better |  2 | 2 | 2 | 2 |\n",
       "| 8 | 32 | No  | Travel_Frequently | 1005 | Research_Development | 2 | College       | Life_Sciences | Very_High | Male   | ⋯ | Excellent   | High      | 0 |  8 | 2 | Good   |  7 | 7 | 3 | 6 |\n",
       "\n"
      ],
      "text/plain": [
       "  Age Attrition BusinessTravel    DailyRate Department          \n",
       "1 41  Yes       Travel_Rarely     1102      Sales               \n",
       "2 49  No        Travel_Frequently  279      Research_Development\n",
       "4 37  Yes       Travel_Rarely     1373      Research_Development\n",
       "5 33  No        Travel_Frequently 1392      Research_Development\n",
       "7 27  No        Travel_Rarely      591      Research_Development\n",
       "8 32  No        Travel_Frequently 1005      Research_Development\n",
       "  DistanceFromHome Education     EducationField EnvironmentSatisfaction Gender\n",
       "1 1                College       Life_Sciences  Medium                  Female\n",
       "2 8                Below_College Life_Sciences  High                    Male  \n",
       "4 2                College       Other          Very_High               Male  \n",
       "5 3                Master        Life_Sciences  Very_High               Female\n",
       "7 2                Below_College Medical        Low                     Male  \n",
       "8 2                College       Life_Sciences  Very_High               Male  \n",
       "  ⋯ PerformanceRating RelationshipSatisfaction StockOptionLevel\n",
       "1 ⋯ Excellent         Low                      0               \n",
       "2 ⋯ Outstanding       Very_High                1               \n",
       "4 ⋯ Excellent         Medium                   0               \n",
       "5 ⋯ Excellent         High                     0               \n",
       "7 ⋯ Excellent         Very_High                1               \n",
       "8 ⋯ Excellent         High                     0               \n",
       "  TotalWorkingYears TrainingTimesLastYear WorkLifeBalance YearsAtCompany\n",
       "1  8                0                     Bad              6            \n",
       "2 10                3                     Better          10            \n",
       "4  7                3                     Better           0            \n",
       "5  8                3                     Better           8            \n",
       "7  6                3                     Better           2            \n",
       "8  8                2                     Good             7            \n",
       "  YearsInCurrentRole YearsSinceLastPromotion YearsWithCurrManager\n",
       "1 4                  0                       5                   \n",
       "2 7                  1                       7                   \n",
       "4 0                  0                       0                   \n",
       "5 7                  3                       0                   \n",
       "7 2                  2                       2                   \n",
       "8 7                  3                       6                   "
      ]
     },
     "metadata": {},
     "output_type": "display_data"
    }
   ],
   "source": [
    "# initial dimension\n",
    "dim(attrition)\n",
    "## [1] 1470   31\n",
    "\n",
    "# response variable\n",
    "head(attrition)\n"
   ]
  },
  {
   "cell_type": "markdown",
   "metadata": {},
   "source": [
    "## Splittin dataset"
   ]
  },
  {
   "cell_type": "code",
   "execution_count": 7,
   "metadata": {},
   "outputs": [],
   "source": [
    "# Using base R\n",
    "set.seed(123)  # for reproducibility\n",
    "index_1 <- sample(1:nrow(churn), round(nrow(churn) * 0.7))\n",
    "train_1 <- churn[index_1, ]\n",
    "test_1  <- churn[-index_1, ]\n",
    "\n",
    "# Using caret package\n",
    "set.seed(123)  # for reproducibility\n",
    "index_2 <- createDataPartition(churn$Attrition, p = 0.7, \n",
    "                               list = FALSE)\n",
    "train_2 <- churn[index_2, ]\n",
    "test_2  <- churn[-index_2, ]\n",
    "\n",
    "# Using rsample package\n",
    "set.seed(123)  # for reproducibility\n",
    "split_1  <- initial_split(churn, prop = 0.7)\n",
    "train_3  <- training(split_1)\n",
    "test_3   <- testing(split_1)\n",
    "\n",
    "# Using h2o package\n",
    "split_2 <- h2o.splitFrame(churn.h2o, ratios = 0.7, \n",
    "                          seed = 123)\n",
    "train_4 <- split_2[[1]]\n",
    "test_4  <- split_2[[2]]"
   ]
  },
  {
   "cell_type": "markdown",
   "metadata": {},
   "source": [
    "# EDA"
   ]
  },
  {
   "cell_type": "code",
   "execution_count": 8,
   "metadata": {},
   "outputs": [
    {
     "data": {
      "image/png": "[encoded data removed]",
      "text/plain": [
       "plot without title"
      ]
     },
     "metadata": {
      "image/png": {
       "height": 420,
       "width": 420
      }
     },
     "output_type": "display_data"
    }
   ],
   "source": [
    "ggplot(attrition, aes(x=Attrition)) + geom_bar()"
   ]
  },
  {
   "cell_type": "markdown",
   "metadata": {},
   "source": [
    "# Modeling\n",
    "R tiene un aplio abanico de librerias que implementan diferentes tipos de modelos e incluso varias implementaciones del mismo modelo pero con diferentes enfoques. Ademas de estos hay librerias que unifican estas para agilizar el proceso de modelo y standarizar los procesos.\n",
    "\n",
    "Hay diferentes formas de como se deben pasar la data para entrenar un modelo:\n",
    "* Clasica de R usando una formula como una expresion sombolica de la relacion de dependencia \n",
    "    * `fn(Y ~ X)`\n",
    "* usando separadamente $Y$, $X$ como argumentos independientes\n",
    "    * `fn(x = ames[, features], y = ames$Sale_Price)`\n",
    "* usando separadamente $Y$, $X$ pero pasando solo el nombre de las variables de un dataframe \n",
    "    * `fn(x = c(\"Year_Sold\", \"Longitude\", \"Latitude\"), y = \"Sale_Price\", data = ames.h2o)`\n",
    "\n",
    "\n",
    "\n",
    "## Engines\n",
    "Como se mencion anteriormente hay varias librerias que implementan por ejemplo el mismo modelo pero con diferente sabpres, estos son conocidos como \"engines\""
   ]
  },
  {
   "cell_type": "code",
   "execution_count": 13,
   "metadata": {},
   "outputs": [
    {
     "data": {
      "text/plain": [
       "\n",
       "Call:\n",
       "glm(formula = Attrition ~ ., family = binomial(link = \"logit\"), \n",
       "    data = train_2)\n",
       "\n",
       "Deviance Residuals: \n",
       "    Min       1Q   Median       3Q      Max  \n",
       "-2.0136  -0.4719  -0.2311  -0.0617   3.6539  \n",
       "\n",
       "Coefficients:\n",
       "                                    Estimate Std. Error z value Pr(>|z|)    \n",
       "(Intercept)                       -1.533e+01  1.412e+03  -0.011 0.991340    \n",
       "Age                               -2.252e-02  1.703e-02  -1.323 0.185960    \n",
       "BusinessTravelTravel_Frequently    2.696e+00  5.788e-01   4.657 3.21e-06 ***\n",
       "BusinessTravelTravel_Rarely        1.764e+00  5.383e-01   3.276 0.001053 ** \n",
       "DailyRate                         -1.600e-04  2.738e-04  -0.584 0.558992    \n",
       "DepartmentResearch_Development     1.492e+01  1.412e+03   0.011 0.991574    \n",
       "DepartmentSales                    3.163e-02  1.592e+03   0.000 0.999984    \n",
       "DistanceFromHome                   5.494e-02  1.346e-02   4.081 4.48e-05 ***\n",
       "EducationCollege                   2.020e-01  4.069e-01   0.496 0.619564    \n",
       "EducationBachelor                  2.577e-01  3.520e-01   0.732 0.464127    \n",
       "EducationMaster                    3.891e-02  3.912e-01   0.099 0.920771    \n",
       "EducationDoctor                   -1.378e-01  7.470e-01  -0.185 0.853614    \n",
       "EducationFieldLife_Sciences       -3.779e-01  9.370e-01  -0.403 0.686729    \n",
       "EducationFieldMarketing            2.059e-01  9.975e-01   0.206 0.836463    \n",
       "EducationFieldMedical             -3.776e-01  9.454e-01  -0.399 0.689583    \n",
       "EducationFieldOther               -3.989e-01  1.046e+00  -0.381 0.702871    \n",
       "EducationFieldTechnical_Degree     4.350e-01  9.712e-01   0.448 0.654225    \n",
       "EnvironmentSatisfactionMedium     -1.044e+00  3.351e-01  -3.115 0.001842 ** \n",
       "EnvironmentSatisfactionHigh       -1.130e+00  3.125e-01  -3.616 0.000300 ***\n",
       "EnvironmentSatisfactionVery_High  -1.557e+00  3.227e-01  -4.826 1.39e-06 ***\n",
       "GenderMale                         5.910e-01  2.361e-01   2.503 0.012314 *  \n",
       "HourlyRate                         3.724e-03  5.506e-03   0.676 0.498858    \n",
       "JobInvolvementMedium              -5.181e-01  4.715e-01  -1.099 0.271771    \n",
       "JobInvolvementHigh                -7.275e-01  4.456e-01  -1.633 0.102504    \n",
       "JobInvolvementVery_High           -1.730e+00  6.113e-01  -2.830 0.004651 ** \n",
       "JobLevel                          -2.807e-01  4.080e-01  -0.688 0.491455    \n",
       "JobRoleHuman_Resources             1.658e+01  1.412e+03   0.012 0.990637    \n",
       "JobRoleLaboratory_Technician       1.585e+00  5.973e-01   2.653 0.007978 ** \n",
       "JobRoleManager                    -2.481e-01  1.108e+00  -0.224 0.822808    \n",
       "JobRoleManufacturing_Director      6.199e-01  6.100e-01   1.016 0.309506    \n",
       "JobRoleResearch_Director          -2.048e+00  1.356e+00  -1.510 0.130932    \n",
       "JobRoleResearch_Scientist          4.286e-01  6.235e-01   0.687 0.491815    \n",
       "JobRoleSales_Executive             1.579e+01  7.351e+02   0.021 0.982862    \n",
       "JobRoleSales_Representative        1.689e+01  7.351e+02   0.023 0.981667    \n",
       "JobSatisfactionMedium             -1.069e+00  3.458e-01  -3.093 0.001985 ** \n",
       "JobSatisfactionHigh               -8.328e-01  3.056e-01  -2.725 0.006437 ** \n",
       "JobSatisfactionVery_High          -1.539e+00  3.209e-01  -4.796 1.62e-06 ***\n",
       "MaritalStatusMarried              -1.813e-02  3.227e-01  -0.056 0.955188    \n",
       "MaritalStatusSingle                1.253e+00  4.165e-01   3.008 0.002628 ** \n",
       "MonthlyIncome                      1.289e-04  1.035e-04   1.245 0.213222    \n",
       "MonthlyRate                       -4.789e-06  1.567e-05  -0.306 0.759863    \n",
       "NumCompaniesWorked                 1.563e-01  4.952e-02   3.157 0.001594 ** \n",
       "OverTimeYes                        2.048e+00  2.470e-01   8.294  < 2e-16 ***\n",
       "PercentSalaryHike                 -1.834e-02  4.784e-02  -0.383 0.701429    \n",
       "PerformanceRatingOutstanding      -6.841e-02  4.934e-01  -0.139 0.889739    \n",
       "RelationshipSatisfactionMedium    -6.435e-01  3.563e-01  -1.806 0.070938 .  \n",
       "RelationshipSatisfactionHigh      -7.201e-01  3.214e-01  -2.240 0.025070 *  \n",
       "RelationshipSatisfactionVery_High -9.272e-01  3.389e-01  -2.736 0.006224 ** \n",
       "StockOptionLevel                  -1.650e-01  1.942e-01  -0.850 0.395349    \n",
       "TotalWorkingYears                 -9.311e-02  3.770e-02  -2.470 0.013506 *  \n",
       "TrainingTimesLastYear             -1.708e-01  8.908e-02  -1.917 0.055212 .  \n",
       "WorkLifeBalanceGood               -5.655e-01  4.765e-01  -1.187 0.235386    \n",
       "WorkLifeBalanceBetter             -1.240e+00  4.500e-01  -2.756 0.005854 ** \n",
       "WorkLifeBalanceBest               -7.099e-01  5.323e-01  -1.334 0.182274    \n",
       "YearsAtCompany                     9.448e-02  5.557e-02   1.700 0.089105 .  \n",
       "YearsInCurrentRole                -1.842e-01  5.894e-02  -3.126 0.001772 ** \n",
       "YearsSinceLastPromotion            1.966e-01  5.409e-02   3.634 0.000279 ***\n",
       "YearsWithCurrManager              -1.196e-01  6.026e-02  -1.985 0.047161 *  \n",
       "---\n",
       "Signif. codes:  0 ‘***’ 0.001 ‘**’ 0.01 ‘*’ 0.05 ‘.’ 0.1 ‘ ’ 1\n",
       "\n",
       "(Dispersion parameter for binomial family taken to be 1)\n",
       "\n",
       "    Null deviance: 909.69  on 1029  degrees of freedom\n",
       "Residual deviance: 575.39  on  972  degrees of freedom\n",
       "AIC: 691.39\n",
       "\n",
       "Number of Fisher Scoring iterations: 16\n"
      ]
     },
     "metadata": {},
     "output_type": "display_data"
    }
   ],
   "source": [
    "lm_glm <- glm(Attrition ~ ., data = train_2, binomial(link=\"logit\"))\n",
    "summary(lm_glm)"
   ]
  },
  {
   "cell_type": "code",
   "execution_count": 17,
   "metadata": {},
   "outputs": [],
   "source": [
    "lm_caret  <- train(Attrition ~ ., data = train_2,   method = \"rf\", family = \"binomial\")"
   ]
  },
  {
   "cell_type": "code",
   "execution_count": 18,
   "metadata": {},
   "outputs": [
    {
     "data": {
      "text/plain": [
       "Random Forest \n",
       "\n",
       "1030 samples\n",
       "  30 predictor\n",
       "   2 classes: 'No', 'Yes' \n",
       "\n",
       "No pre-processing\n",
       "Resampling: Bootstrapped (25 reps) \n",
       "Summary of sample sizes: 1030, 1030, 1030, 1030, 1030, 1030, ... \n",
       "Resampling results across tuning parameters:\n",
       "\n",
       "  mtry  Accuracy   Kappa    \n",
       "   2    0.8475894  0.0831858\n",
       "  29    0.8525177  0.2370729\n",
       "  57    0.8459769  0.2319998\n",
       "\n",
       "Accuracy was used to select the optimal model using the largest value.\n",
       "The final value used for the model was mtry = 29."
      ]
     },
     "metadata": {},
     "output_type": "display_data"
    }
   ],
   "source": [
    "lm_caret"
   ]
  },
  {
   "cell_type": "code",
   "execution_count": 16,
   "metadata": {},
   "outputs": [
    {
     "data": {
      "text/plain": [
       "     \n",
       "pred   No Yes\n",
       "  No  352  37\n",
       "  Yes  17  34"
      ]
     },
     "metadata": {},
     "output_type": "display_data"
    }
   ],
   "source": [
    "pred = predict(lm_caret, newdata = test_2)\n",
    "table(pred, test_2$Attrition)\n"
   ]
  },
  {
   "cell_type": "code",
   "execution_count": 77,
   "metadata": {},
   "outputs": [],
   "source": [
    "pred = predict(lm_caret, newdata = test_2, type = \"prob\")"
   ]
  },
  {
   "cell_type": "code",
   "execution_count": 78,
   "metadata": {},
   "outputs": [
    {
     "data": {
      "text/html": [
       "<table>\n",
       "<caption>A data.frame: 6 × 2</caption>\n",
       "<thead>\n",
       "\t<tr><th></th><th scope=col>No</th><th scope=col>Yes</th></tr>\n",
       "\t<tr><th></th><th scope=col>&lt;dbl&gt;</th><th scope=col>&lt;dbl&gt;</th></tr>\n",
       "</thead>\n",
       "<tbody>\n",
       "\t<tr><th scope=row>1</th><td>0.780</td><td>0.220</td></tr>\n",
       "\t<tr><th scope=row>2</th><td>0.904</td><td>0.096</td></tr>\n",
       "\t<tr><th scope=row>5</th><td>0.876</td><td>0.124</td></tr>\n",
       "\t<tr><th scope=row>6</th><td>0.904</td><td>0.096</td></tr>\n",
       "\t<tr><th scope=row>9</th><td>0.822</td><td>0.178</td></tr>\n",
       "\t<tr><th scope=row>14</th><td>0.840</td><td>0.160</td></tr>\n",
       "</tbody>\n",
       "</table>\n"
      ],
      "text/latex": [
       "A data.frame: 6 × 2\n",
       "\\begin{tabular}{r|ll}\n",
       "  & No & Yes\\\\\n",
       "  & <dbl> & <dbl>\\\\\n",
       "\\hline\n",
       "\t1 & 0.780 & 0.220\\\\\n",
       "\t2 & 0.904 & 0.096\\\\\n",
       "\t5 & 0.876 & 0.124\\\\\n",
       "\t6 & 0.904 & 0.096\\\\\n",
       "\t9 & 0.822 & 0.178\\\\\n",
       "\t14 & 0.840 & 0.160\\\\\n",
       "\\end{tabular}\n"
      ],
      "text/markdown": [
       "\n",
       "A data.frame: 6 × 2\n",
       "\n",
       "| <!--/--> | No &lt;dbl&gt; | Yes &lt;dbl&gt; |\n",
       "|---|---|---|\n",
       "| 1 | 0.780 | 0.220 |\n",
       "| 2 | 0.904 | 0.096 |\n",
       "| 5 | 0.876 | 0.124 |\n",
       "| 6 | 0.904 | 0.096 |\n",
       "| 9 | 0.822 | 0.178 |\n",
       "| 14 | 0.840 | 0.160 |\n",
       "\n"
      ],
      "text/plain": [
       "   No    Yes  \n",
       "1  0.780 0.220\n",
       "2  0.904 0.096\n",
       "5  0.876 0.124\n",
       "6  0.904 0.096\n",
       "9  0.822 0.178\n",
       "14 0.840 0.160"
      ]
     },
     "metadata": {},
     "output_type": "display_data"
    }
   ],
   "source": [
    "head(pred)"
   ]
  },
  {
   "cell_type": "code",
   "execution_count": 79,
   "metadata": {},
   "outputs": [
    {
     "name": "stderr",
     "output_type": "stream",
     "text": [
      "`stat_bin()` using `bins = 30`. Pick better value with `binwidth`.\n",
      "\n"
     ]
    },
    {
     "data": {
      "image/png": "[encoded data removed]",
      "text/plain": [
       "plot without title"
      ]
     },
     "metadata": {
      "image/png": {
       "height": 420,
       "width": 420
      }
     },
     "output_type": "display_data"
    }
   ],
   "source": [
    "ggplot(pred, aes(Yes) ) + geom_histogram()"
   ]
  },
  {
   "cell_type": "code",
   "execution_count": 80,
   "metadata": {},
   "outputs": [
    {
     "data": {
      "image/png": "[encoded data removed]",
      "text/plain": [
       "plot without title"
      ]
     },
     "metadata": {
      "image/png": {
       "height": 420,
       "width": 420
      }
     },
     "output_type": "display_data"
    }
   ],
   "source": [
    "y = as.numeric(test_2$Attrition) - 1 \n",
    "calibrate.plot(y, pred$Yes, )\n"
   ]
  },
  {
   "cell_type": "code",
   "execution_count": 61,
   "metadata": {},
   "outputs": [
    {
     "name": "stderr",
     "output_type": "stream",
     "text": [
      "Installing package into ‘/usr/local/lib/R/site-library’\n",
      "(as ‘lib’ is unspecified)\n",
      "\n"
     ]
    }
   ],
   "source": [
    "install.packages(\"gbm\")\n"
   ]
  },
  {
   "cell_type": "code",
   "execution_count": 62,
   "metadata": {},
   "outputs": [
    {
     "name": "stderr",
     "output_type": "stream",
     "text": [
      "Loaded gbm 2.1.8\n",
      "\n"
     ]
    }
   ],
   "source": [
    "library(gbm)"
   ]
  },
  {
   "cell_type": "code",
   "execution_count": null,
   "metadata": {},
   "outputs": [],
   "source": []
  }
 ],
 "metadata": {
  "kernelspec": {
   "display_name": "R",
   "language": "R",
   "name": "ir"
  },
  "language_info": {
   "codemirror_mode": "r",
   "file_extension": ".r",
   "mimetype": "text/x-r-source",
   "name": "R",
   "pygments_lexer": "r",
   "version": "3.6.3"
  }
 },
 "nbformat": 4,
 "nbformat_minor": 4
}
