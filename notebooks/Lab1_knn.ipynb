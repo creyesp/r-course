{
 "cells": [
  {
   "cell_type": "code",
   "execution_count": 75,
   "metadata": {},
   "outputs": [],
   "source": [
    "options(repr.plot.width  = 15,\n",
    "        repr.plot.height = 10)"
   ]
  },
  {
   "cell_type": "code",
   "execution_count": 76,
   "metadata": {},
   "outputs": [],
   "source": [
    "library(AmesHousing)\n",
    "\n",
    "# Helper packages\n",
    "library(dplyr)     # for data manipulation\n",
    "library(ggplot2)   # for awesome graphics\n",
    "require(gridExtra) # for make subplot \n",
    "library(ggpubr)    # for make subplot and more\n",
    "library(vip)\n",
    "\n",
    "# Modeling process packages\n",
    "library(caret)     # for resampling and model training\n",
    "library(recipes)  # for feature engineering tasks"
   ]
  },
  {
   "cell_type": "code",
   "execution_count": null,
   "metadata": {},
   "outputs": [],
   "source": [
    "knnModelInfo <- getModelInfo(model = \"knn\", regex = FALSE)[[1]]\n",
    "knnModelInfo"
   ]
  },
  {
   "cell_type": "markdown",
   "metadata": {},
   "source": [
    "# Regression"
   ]
  },
  {
   "cell_type": "code",
   "execution_count": 77,
   "metadata": {},
   "outputs": [],
   "source": [
    "ames <- AmesHousing::make_ames()"
   ]
  },
  {
   "cell_type": "code",
   "execution_count": 78,
   "metadata": {},
   "outputs": [],
   "source": [
    "index_2 <- createDataPartition(ames$Sale_Price, p = 0.7, \n",
    "                               list = FALSE, )\n",
    "house_train <- ames[index_2, ]\n",
    "house_test  <- ames[-index_2, ]"
   ]
  },
  {
   "cell_type": "markdown",
   "metadata": {},
   "source": [
    "## Distance measures\n",
    "\n",
    "$$dist(x_a, x_b) = \\sqrt{ \\sum_j^k(x_{aj}−x_{bj})^2}$$\n",
    "$$dist(x_a, x_b) = \\sum_j^k|x_{aj}−x_{bj}|$$\n"
   ]
  },
  {
   "cell_type": "code",
   "execution_count": 22,
   "metadata": {},
   "outputs": [
    {
     "data": {
      "text/html": [
       "<table>\n",
       "<caption>A tibble: 2 × 2</caption>\n",
       "<thead>\n",
       "\t<tr><th scope=col>Gr_Liv_Area</th><th scope=col>Year_Built</th></tr>\n",
       "\t<tr><th scope=col>&lt;int&gt;</th><th scope=col>&lt;int&gt;</th></tr>\n",
       "</thead>\n",
       "<tbody>\n",
       "\t<tr><td>1656</td><td>1960</td></tr>\n",
       "\t<tr><td> 896</td><td>1961</td></tr>\n",
       "</tbody>\n",
       "</table>\n"
      ],
      "text/latex": [
       "A tibble: 2 × 2\n",
       "\\begin{tabular}{ll}\n",
       " Gr\\_Liv\\_Area & Year\\_Built\\\\\n",
       " <int> & <int>\\\\\n",
       "\\hline\n",
       "\t 1656 & 1960\\\\\n",
       "\t  896 & 1961\\\\\n",
       "\\end{tabular}\n"
      ],
      "text/markdown": [
       "\n",
       "A tibble: 2 × 2\n",
       "\n",
       "| Gr_Liv_Area &lt;int&gt; | Year_Built &lt;int&gt; |\n",
       "|---|---|\n",
       "| 1656 | 1960 |\n",
       "|  896 | 1961 |\n",
       "\n"
      ],
      "text/plain": [
       "  Gr_Liv_Area Year_Built\n",
       "1 1656        1960      \n",
       "2  896        1961      "
      ]
     },
     "metadata": {},
     "output_type": "display_data"
    }
   ],
   "source": [
    "two_houses <- house_train[1:2, c(\"Gr_Liv_Area\", \"Year_Built\")]\n",
    "two_houses"
   ]
  },
  {
   "cell_type": "code",
   "execution_count": 23,
   "metadata": {},
   "outputs": [
    {
     "data": {
      "text/plain": [
       "         1\n",
       "2 760.0007"
      ]
     },
     "metadata": {},
     "output_type": "display_data"
    }
   ],
   "source": [
    "# Euclidean\n",
    "dist(two_houses, method = \"euclidean\")"
   ]
  },
  {
   "cell_type": "code",
   "execution_count": 24,
   "metadata": {},
   "outputs": [
    {
     "data": {
      "text/plain": [
       "    1\n",
       "2 761"
      ]
     },
     "metadata": {},
     "output_type": "display_data"
    }
   ],
   "source": [
    "# Manhattan\n",
    "dist(two_houses, method = \"manhattan\")"
   ]
  },
  {
   "cell_type": "markdown",
   "metadata": {},
   "source": [
    "Debido a que la distancia de Euclides usa el cuadrado de las distancias es mas sensible a outliers. Por esto es importante normalizar la las variables antes de hacer los calculos. Esto debido a que variables con escalas mas grandes tienen mas peso sobre el resultado final que las de escala mas pequeña."
   ]
  },
  {
   "cell_type": "code",
   "execution_count": 27,
   "metadata": {},
   "outputs": [
    {
     "data": {
      "text/html": [
       "<table>\n",
       "<caption>A data.frame: 3 × 2</caption>\n",
       "<thead>\n",
       "\t<tr><th scope=col>rooms</th><th scope=col>year</th></tr>\n",
       "\t<tr><th scope=col>&lt;dbl&gt;</th><th scope=col>&lt;dbl&gt;</th></tr>\n",
       "</thead>\n",
       "<tbody>\n",
       "\t<tr><td>2</td><td>2020</td></tr>\n",
       "\t<tr><td>3</td><td>2020</td></tr>\n",
       "\t<tr><td>1</td><td>2010</td></tr>\n",
       "</tbody>\n",
       "</table>\n"
      ],
      "text/latex": [
       "A data.frame: 3 × 2\n",
       "\\begin{tabular}{ll}\n",
       " rooms & year\\\\\n",
       " <dbl> & <dbl>\\\\\n",
       "\\hline\n",
       "\t 2 & 2020\\\\\n",
       "\t 3 & 2020\\\\\n",
       "\t 1 & 2010\\\\\n",
       "\\end{tabular}\n"
      ],
      "text/markdown": [
       "\n",
       "A data.frame: 3 × 2\n",
       "\n",
       "| rooms &lt;dbl&gt; | year &lt;dbl&gt; |\n",
       "|---|---|\n",
       "| 2 | 2020 |\n",
       "| 3 | 2020 |\n",
       "| 1 | 2010 |\n",
       "\n"
      ],
      "text/plain": [
       "  rooms year\n",
       "1 2     2020\n",
       "2 3     2020\n",
       "3 1     2010"
      ]
     },
     "metadata": {},
     "output_type": "display_data"
    }
   ],
   "source": [
    "house1 <- data.frame(rooms = c(2,3,1), year = c(2020, 2020, 2010))\n",
    "house1"
   ]
  },
  {
   "cell_type": "code",
   "execution_count": 29,
   "metadata": {},
   "outputs": [
    {
     "data": {
      "text/plain": [
       "         1        2\n",
       "2  1.00000         \n",
       "3 10.04988 10.19804"
      ]
     },
     "metadata": {},
     "output_type": "display_data"
    }
   ],
   "source": [
    "dist(house1)"
   ]
  },
  {
   "cell_type": "code",
   "execution_count": 32,
   "metadata": {},
   "outputs": [
    {
     "data": {
      "text/html": [
       "<table>\n",
       "<caption>A data.frame: 3 × 2</caption>\n",
       "<thead>\n",
       "\t<tr><th scope=col>rooms</th><th scope=col>year</th></tr>\n",
       "\t<tr><th scope=col>&lt;dbl&gt;</th><th scope=col>&lt;dbl&gt;</th></tr>\n",
       "</thead>\n",
       "<tbody>\n",
       "\t<tr><td> 0</td><td> 0.5773503</td></tr>\n",
       "\t<tr><td> 1</td><td> 0.5773503</td></tr>\n",
       "\t<tr><td>-1</td><td>-1.1547005</td></tr>\n",
       "</tbody>\n",
       "</table>\n"
      ],
      "text/latex": [
       "A data.frame: 3 × 2\n",
       "\\begin{tabular}{ll}\n",
       " rooms & year\\\\\n",
       " <dbl> & <dbl>\\\\\n",
       "\\hline\n",
       "\t  0 &  0.5773503\\\\\n",
       "\t  1 &  0.5773503\\\\\n",
       "\t -1 & -1.1547005\\\\\n",
       "\\end{tabular}\n"
      ],
      "text/markdown": [
       "\n",
       "A data.frame: 3 × 2\n",
       "\n",
       "| rooms &lt;dbl&gt; | year &lt;dbl&gt; |\n",
       "|---|---|\n",
       "|  0 |  0.5773503 |\n",
       "|  1 |  0.5773503 |\n",
       "| -1 | -1.1547005 |\n",
       "\n"
      ],
      "text/plain": [
       "  rooms year      \n",
       "1  0     0.5773503\n",
       "2  1     0.5773503\n",
       "3 -1    -1.1547005"
      ]
     },
     "metadata": {},
     "output_type": "display_data"
    }
   ],
   "source": [
    "house1_sd <- house1 %>% \n",
    "    mutate(rooms=(rooms - mean(rooms))/sd(rooms),\n",
    "           year=(year - mean(year))/sd(year))\n",
    "house1_sd"
   ]
  },
  {
   "cell_type": "code",
   "execution_count": 34,
   "metadata": {},
   "outputs": [
    {
     "data": {
      "text/plain": [
       "         1        2\n",
       "2 1.000000         \n",
       "3 2.000000 2.645751"
      ]
     },
     "metadata": {},
     "output_type": "display_data"
    }
   ],
   "source": [
    "dist(house1_sd)"
   ]
  },
  {
   "cell_type": "code",
   "execution_count": 55,
   "metadata": {},
   "outputs": [
    {
     "data": {
      "text/plain": [
       "k-Nearest Neighbors \n",
       "\n",
       "2053 samples\n",
       "  80 predictor\n",
       "\n",
       "No pre-processing\n",
       "Resampling: Cross-Validated (10 fold) \n",
       "Summary of sample sizes: 1848, 1846, 1849, 1849, 1848, 1849, ... \n",
       "Resampling results across tuning parameters:\n",
       "\n",
       "  k   RMSE      Rsquared   MAE     \n",
       "  10  45043.36  0.6895456  29281.87\n",
       "  20  46591.14  0.6850019  30165.57\n",
       "\n",
       "RMSE was used to select the optimal model using the smallest value.\n",
       "The final value used for the model was k = 10."
      ]
     },
     "metadata": {},
     "output_type": "display_data"
    }
   ],
   "source": [
    "# Specify resampling strategy\n",
    "cv <- trainControl(\n",
    "  method = \"cv\", \n",
    "  number = 10,\n",
    ")\n",
    "\n",
    "# Create grid of hyperparameter values\n",
    "hyper_grid <- data.frame(k = c(10, 20))\n",
    "\n",
    "knn_fit <- train(\n",
    "  Sale_Price ~ ., \n",
    "  data = train_caret, \n",
    "  method = \"knn\", \n",
    "  trControl = cv, \n",
    "  tuneGrid = hyper_grid,\n",
    "  metric = \"RMSE\",\n",
    ")\n",
    "knn_fit"
   ]
  },
  {
   "cell_type": "code",
   "execution_count": 57,
   "metadata": {},
   "outputs": [
    {
     "data": {
      "text/html": [
       "'knnreg'"
      ],
      "text/latex": [
       "'knnreg'"
      ],
      "text/markdown": [
       "'knnreg'"
      ],
      "text/plain": [
       "[1] \"knnreg\""
      ]
     },
     "metadata": {},
     "output_type": "display_data"
    }
   ],
   "source": [
    "class(knn_fit$finalModel)"
   ]
  },
  {
   "cell_type": "code",
   "execution_count": 56,
   "metadata": {},
   "outputs": [
    {
     "data": {
      "image/png": "[encoded data removed]",
      "text/plain": [
       "plot without title"
      ]
     },
     "metadata": {
      "image/png": {
       "height": 600,
       "width": 900
      }
     },
     "output_type": "display_data"
    }
   ],
   "source": [
    "data.frame(pred = predict(knn_fit, test_caret), test = test_caret$Sale_Price ) %>% \n",
    "    ggplot(aes(x=test, y=pred)) + geom_point()"
   ]
  },
  {
   "cell_type": "markdown",
   "metadata": {},
   "source": [
    "## Choosing k\n",
    "The performance of KNNs is very sensitive to the choice of k. This was illustrated in Section 2.5.3 where low values of k typically overfit and large values often underfit. At the extremes, when k=1, we base our prediction on a single observation that has the closest distance measure. In contrast, when k=n, we are simply using the average (regression) or most common class (classification) across all training samples as our predicted value."
   ]
  },
  {
   "cell_type": "markdown",
   "metadata": {},
   "source": [
    "## Feature engineering\n",
    "Hay una libreria que permite crear un pipeline con todas las transformaciones que queremos hacer a la data para que entre a nuestro modelo y que nos facilita el proceso para evaluar luego en la fase de testing donde simplemente pasamos la data son tener que procesarlar porque ya esta todo en el pipeline\n",
    "\n",
    "\n",
    "<img src=\"https://www.clipartkey.com/mpngs/m/191-1919605_recipes-r-package-logo.png\" width=200>\n",
    "\n",
    "[Recipe doc](https://recipes.tidymodels.org/articles/Simple_Example.html)\n",
    "\n",
    "\n",
    "\n",
    "\n",
    "* `step_dummy()`: creating dummy variables from categorical variables.\n",
    "* `step_integer()`: creating dummy variables from categorical variables.\n",
    "* `step_zzzimpute()`: where instead of “zzz” it is the name of a method, such as step_knnimpute(), step_meanimpute(), step_modeimpute(). I find that the fancier imputation methods are reeeeally slow for decently large datasets, so I would probably do this step outside of the recipes package unless you just want to do a quick mean or mode impute (which, to be honest, I often do).\n",
    "* `step_scale()`: normalize to have a standard deviation of 1.\n",
    "* `step_center()`: center to have a mean of 0.\n",
    "* `step_nzv()`: remove variables that have (or almost have) the same value for every data point.\n",
    "\n",
    "\n",
    "In each step, you need to specify which variables you want to apply it to. There are many ways to do this:\n",
    "\n",
    "* Specifying the variable name(s) as the first argument\n",
    "* Standard dplyr selectors:\n",
    "    * `everything()` applies the step to all columns,\n",
    "    * `contains()` allows you to specify column names that contain a specific string,\n",
    "    * `starts_with()` allows you to specify column names that start with a sepcific string,\n",
    "    * etc\n",
    "* Functions that specify the role of the variables:\n",
    "    * `all_predictors()` applies the step to the predictor variables only\n",
    "    * `all_outcomes()` applies the step to the outcome variable(s) only\n",
    "* Functions that specify the type of the variables:\n",
    "    * `all_nominal()` applies the step to all variables that are nominal (categorical)\n",
    "    * `all_numeric()` applies the step to all variables that are numeric"
   ]
  },
  {
   "cell_type": "code",
   "execution_count": 66,
   "metadata": {},
   "outputs": [],
   "source": [
    "# log transformation\n",
    "blueprint_house <- recipe(Sale_Price ~ ., data = house_train) %>%\n",
    "  step_nzv(all_nominal()) %>%\n",
    "  step_integer(matches(\"Qual|Cond|QC|Qu\")) %>%\n",
    "  step_center(all_numeric(), -all_outcomes()) %>%\n",
    "  step_scale(all_numeric(), -all_outcomes()) %>%\n",
    "  step_dummy(all_nominal(), -all_outcomes(), one_hot = TRUE)"
   ]
  },
  {
   "cell_type": "code",
   "execution_count": 67,
   "metadata": {},
   "outputs": [
    {
     "data": {
      "text/plain": [
       "Data Recipe\n",
       "\n",
       "Inputs:\n",
       "\n",
       "      role #variables\n",
       "   outcome          1\n",
       " predictor         80\n",
       "\n",
       "Operations:\n",
       "\n",
       "Sparse, unbalanced variable filter on all_nominal()\n",
       "Integer encoding for matches(\"Qual|Cond|QC|Qu\")\n",
       "Centering for all_numeric(), -all_outcomes()\n",
       "Scaling for all_numeric(), -all_outcomes()\n",
       "Dummy variables from all_nominal(), -all_outcomes()"
      ]
     },
     "metadata": {},
     "output_type": "display_data"
    }
   ],
   "source": [
    "blueprint_house"
   ]
  },
  {
   "cell_type": "code",
   "execution_count": 68,
   "metadata": {},
   "outputs": [
    {
     "data": {
      "text/plain": [
       "Data Recipe\n",
       "\n",
       "Inputs:\n",
       "\n",
       "      role #variables\n",
       "   outcome          1\n",
       " predictor         80\n",
       "\n",
       "Training data contained 2053 data points and no missing data.\n",
       "\n",
       "Operations:\n",
       "\n",
       "Sparse, unbalanced variable filter removed Street, Alley, Land_Contour, ... [trained]\n",
       "Integer encoding for Condition_1, Overall_Qual, Overall_Cond, ... [trained]\n",
       "Centering for Lot_Frontage, Lot_Area, ... [trained]\n",
       "Scaling for Lot_Frontage, Lot_Area, ... [trained]\n",
       "Dummy variables from MS_SubClass, MS_Zoning, Lot_Shape, ... [trained]"
      ]
     },
     "metadata": {},
     "output_type": "display_data"
    }
   ],
   "source": [
    "prepare <- prep(blueprint_house, training = house_train)\n",
    "prepare"
   ]
  },
  {
   "cell_type": "code",
   "execution_count": 69,
   "metadata": {},
   "outputs": [
    {
     "data": {
      "text/html": [
       "<table>\n",
       "<caption>A tibble: 2053 × 220</caption>\n",
       "<thead>\n",
       "\t<tr><th scope=col>Lot_Frontage</th><th scope=col>Lot_Area</th><th scope=col>Condition_1</th><th scope=col>Overall_Qual</th><th scope=col>Overall_Cond</th><th scope=col>Year_Built</th><th scope=col>Year_Remod_Add</th><th scope=col>Mas_Vnr_Area</th><th scope=col>Exter_Qual</th><th scope=col>Exter_Cond</th><th scope=col>⋯</th><th scope=col>Sale_Type_COD</th><th scope=col>Sale_Type_Con</th><th scope=col>Sale_Type_ConLD</th><th scope=col>Sale_Type_ConLI</th><th scope=col>Sale_Type_ConLw</th><th scope=col>Sale_Type_CWD</th><th scope=col>Sale_Type_New</th><th scope=col>Sale_Type_Oth</th><th scope=col>Sale_Type_VWD</th><th scope=col>Sale_Type_WD.</th></tr>\n",
       "\t<tr><th scope=col>&lt;dbl&gt;</th><th scope=col>&lt;dbl&gt;</th><th scope=col>&lt;dbl&gt;</th><th scope=col>&lt;dbl&gt;</th><th scope=col>&lt;dbl&gt;</th><th scope=col>&lt;dbl&gt;</th><th scope=col>&lt;dbl&gt;</th><th scope=col>&lt;dbl&gt;</th><th scope=col>&lt;dbl&gt;</th><th scope=col>&lt;dbl&gt;</th><th scope=col>⋯</th><th scope=col>&lt;dbl&gt;</th><th scope=col>&lt;dbl&gt;</th><th scope=col>&lt;dbl&gt;</th><th scope=col>&lt;dbl&gt;</th><th scope=col>&lt;dbl&gt;</th><th scope=col>&lt;dbl&gt;</th><th scope=col>&lt;dbl&gt;</th><th scope=col>&lt;dbl&gt;</th><th scope=col>&lt;dbl&gt;</th><th scope=col>&lt;dbl&gt;</th></tr>\n",
       "</thead>\n",
       "<tbody>\n",
       "\t<tr><td> 2.5476429</td><td> 2.500724921</td><td>-0.04953667</td><td>-0.07846533</td><td>-0.4921892</td><td>-0.38955116</td><td>-1.1779039</td><td> 0.06733218</td><td> 0.6776215</td><td> 0.3658399</td><td>⋯</td><td>0</td><td>0</td><td>0</td><td>0</td><td>0</td><td>0</td><td>0</td><td>0</td><td>0</td><td>1</td></tr>\n",
       "\t<tr><td> 0.6790840</td><td> 0.166303123</td><td>-1.16710565</td><td>-0.78499742</td><td> 0.4100111</td><td>-0.35644762</td><td>-1.1298802</td><td>-0.54970550</td><td> 0.6776215</td><td> 0.3658399</td><td>⋯</td><td>0</td><td>0</td><td>0</td><td>0</td><td>0</td><td>0</td><td>0</td><td>0</td><td>0</td><td>1</td></tr>\n",
       "\t<tr><td> 1.0773014</td><td> 0.112774094</td><td>-0.04953667</td><td> 0.62806677</td><td>-0.4921892</td><td>-0.12472280</td><td>-0.7937138</td><td>-0.54970550</td><td>-0.7477442</td><td> 0.3658399</td><td>⋯</td><td>0</td><td>0</td><td>0</td><td>0</td><td>0</td><td>0</td><td>0</td><td>0</td><td>0</td><td>1</td></tr>\n",
       "\t<tr><td> 0.6178197</td><td>-0.024176798</td><td>-0.04953667</td><td>-0.07846533</td><td> 0.4100111</td><td> 0.86838353</td><td> 0.6469992</td><td>-0.43952020</td><td> 0.6776215</td><td> 0.3658399</td><td>⋯</td><td>0</td><td>0</td><td>0</td><td>0</td><td>0</td><td>0</td><td>0</td><td>0</td><td>0</td><td>1</td></tr>\n",
       "\t<tr><td>-0.4543042</td><td>-0.600366971</td><td>-0.04953667</td><td> 1.33459886</td><td>-0.4921892</td><td> 0.66976226</td><td> 0.3588566</td><td>-0.54970550</td><td>-0.7477442</td><td> 0.3658399</td><td>⋯</td><td>0</td><td>0</td><td>0</td><td>0</td><td>0</td><td>0</td><td>0</td><td>0</td><td>0</td><td>1</td></tr>\n",
       "\t<tr><td>-0.5768327</td><td>-0.555875310</td><td>-0.04953667</td><td> 1.33459886</td><td>-0.4921892</td><td> 0.76907290</td><td> 0.5509517</td><td>-0.54970550</td><td>-0.7477442</td><td> 0.3658399</td><td>⋯</td><td>0</td><td>0</td><td>0</td><td>0</td><td>0</td><td>0</td><td>0</td><td>0</td><td>0</td><td>1</td></tr>\n",
       "\t<tr><td> 0.0664417</td><td>-0.311287043</td><td>-0.04953667</td><td> 0.62806677</td><td>-0.4921892</td><td> 0.90148708</td><td> 0.6950230</td><td>-0.54970550</td><td> 0.6776215</td><td> 0.3658399</td><td>⋯</td><td>0</td><td>0</td><td>0</td><td>0</td><td>0</td><td>0</td><td>0</td><td>0</td><td>0</td><td>1</td></tr>\n",
       "\t<tr><td> 0.5259234</td><td>-0.021627796</td><td>-0.04953667</td><td>-0.07846533</td><td>-0.4921892</td><td> 0.70286581</td><td> 0.4549041</td><td>-0.54970550</td><td> 0.6776215</td><td> 0.3658399</td><td>⋯</td><td>0</td><td>0</td><td>0</td><td>0</td><td>0</td><td>0</td><td>0</td><td>0</td><td>0</td><td>1</td></tr>\n",
       "\t<tr><td>-1.7714851</td><td>-0.255672467</td><td>-0.04953667</td><td>-0.07846533</td><td> 1.3122114</td><td> 0.66976226</td><td> 1.0792131</td><td>-0.54970550</td><td> 0.6776215</td><td>-2.2330161</td><td>⋯</td><td>0</td><td>0</td><td>0</td><td>0</td><td>0</td><td>0</td><td>0</td><td>0</td><td>0</td><td>1</td></tr>\n",
       "\t<tr><td> 0.1583380</td><td>-0.206777987</td><td>-0.04953667</td><td>-0.07846533</td><td>-0.4921892</td><td> 0.86838353</td><td> 0.6469992</td><td>-0.54970550</td><td> 0.6776215</td><td> 0.3658399</td><td>⋯</td><td>0</td><td>0</td><td>0</td><td>0</td><td>0</td><td>0</td><td>0</td><td>0</td><td>0</td><td>1</td></tr>\n",
       "\t<tr><td> 0.8322445</td><td>-0.001235785</td><td>-0.04953667</td><td> 0.62806677</td><td>-0.4921892</td><td> 0.60355518</td><td> 0.2628091</td><td>-0.54970550</td><td> 0.6776215</td><td> 0.3658399</td><td>⋯</td><td>0</td><td>0</td><td>0</td><td>0</td><td>0</td><td>0</td><td>0</td><td>0</td><td>0</td><td>1</td></tr>\n",
       "\t<tr><td>-0.3317758</td><td> 5.018906545</td><td>-0.04953667</td><td> 1.33459886</td><td>-0.4921892</td><td> 1.03390125</td><td> 0.8871180</td><td> 2.77238133</td><td>-3.5984757</td><td> 0.3658399</td><td>⋯</td><td>0</td><td>0</td><td>0</td><td>0</td><td>0</td><td>0</td><td>0</td><td>0</td><td>0</td><td>1</td></tr>\n",
       "\t<tr><td> 0.9241409</td><td> 0.139886199</td><td>-0.04953667</td><td> 2.04113096</td><td>-3.1987901</td><td> 1.26562607</td><td> 1.2232844</td><td> 1.37853727</td><td>-0.7477442</td><td> 0.3658399</td><td>⋯</td><td>0</td><td>0</td><td>0</td><td>0</td><td>0</td><td>0</td><td>1</td><td>0</td><td>0</td><td>0</td></tr>\n",
       "\t<tr><td> 2.5170108</td><td> 1.037134681</td><td>-0.04953667</td><td>-1.49152952</td><td>-0.4921892</td><td>-0.68748306</td><td>-1.6101178</td><td>-0.54970550</td><td> 0.6776215</td><td> 0.3658399</td><td>⋯</td><td>0</td><td>0</td><td>0</td><td>0</td><td>0</td><td>0</td><td>0</td><td>0</td><td>0</td><td>1</td></tr>\n",
       "\t<tr><td> 0.8322445</td><td> 0.346239447</td><td>-0.04953667</td><td>-0.07846533</td><td> 0.4100111</td><td> 0.20631264</td><td> 0.1667615</td><td> 0.10589704</td><td> 0.6776215</td><td> 0.3658399</td><td>⋯</td><td>0</td><td>0</td><td>0</td><td>0</td><td>0</td><td>0</td><td>0</td><td>0</td><td>0</td><td>1</td></tr>\n",
       "\t<tr><td> 0.8322445</td><td> 0.050787015</td><td>-0.04953667</td><td> 0.62806677</td><td> 0.4100111</td><td> 0.07389846</td><td>-0.5055712</td><td>-0.10345503</td><td> 0.6776215</td><td> 0.3658399</td><td>⋯</td><td>0</td><td>0</td><td>0</td><td>0</td><td>0</td><td>0</td><td>0</td><td>0</td><td>0</td><td>1</td></tr>\n",
       "\t<tr><td>-1.7714851</td><td>-0.311287043</td><td>-0.04953667</td><td> 0.62806677</td><td>-0.4921892</td><td> 0.93459062</td><td> 0.7430467</td><td>-0.54970550</td><td>-0.7477442</td><td> 0.3658399</td><td>⋯</td><td>0</td><td>0</td><td>0</td><td>0</td><td>0</td><td>0</td><td>0</td><td>0</td><td>0</td><td>1</td></tr>\n",
       "\t<tr><td>-1.7714851</td><td> 0.122159054</td><td>-0.04953667</td><td>-0.07846533</td><td> 1.3122114</td><td>-0.05851572</td><td>-0.6976663</td><td> 0.44196221</td><td> 0.6776215</td><td> 0.3658399</td><td>⋯</td><td>0</td><td>0</td><td>0</td><td>0</td><td>0</td><td>0</td><td>0</td><td>0</td><td>0</td><td>1</td></tr>\n",
       "\t<tr><td>-1.7714851</td><td> 0.272318407</td><td>-0.04953667</td><td>-0.78499742</td><td> 0.4100111</td><td>-0.02541217</td><td> 1.1272369</td><td>-0.54970550</td><td> 0.6776215</td><td> 0.3658399</td><td>⋯</td><td>0</td><td>0</td><td>0</td><td>0</td><td>0</td><td>0</td><td>0</td><td>0</td><td>0</td><td>1</td></tr>\n",
       "\t<tr><td> 0.2196023</td><td>-0.201216529</td><td>-0.04953667</td><td>-0.78499742</td><td> 0.4100111</td><td>-0.12472280</td><td>-0.7937138</td><td>-0.54970550</td><td> 0.6776215</td><td> 0.3658399</td><td>⋯</td><td>0</td><td>0</td><td>0</td><td>0</td><td>0</td><td>0</td><td>0</td><td>0</td><td>0</td><td>1</td></tr>\n",
       "\t<tr><td> 0.3727628</td><td>-0.207009714</td><td>-0.04953667</td><td>-1.49152952</td><td>-0.4921892</td><td>-0.05851572</td><td>-0.6976663</td><td>-0.54970550</td><td> 0.6776215</td><td> 0.3658399</td><td>⋯</td><td>0</td><td>0</td><td>0</td><td>0</td><td>0</td><td>0</td><td>0</td><td>0</td><td>0</td><td>1</td></tr>\n",
       "\t<tr><td> 0.3727628</td><td> 0.036304053</td><td>-0.04953667</td><td>-1.49152952</td><td>-0.4921892</td><td>-0.02541217</td><td>-0.6496425</td><td>-0.54970550</td><td> 0.6776215</td><td> 0.3658399</td><td>⋯</td><td>0</td><td>0</td><td>0</td><td>1</td><td>0</td><td>0</td><td>0</td><td>0</td><td>0</td><td>0</td></tr>\n",
       "\t<tr><td>-1.1282107</td><td>-0.985613768</td><td>-0.04953667</td><td>-0.07846533</td><td>-0.4921892</td><td>-0.02541217</td><td>-0.6496425</td><td> 2.22696409</td><td> 0.6776215</td><td> 0.3658399</td><td>⋯</td><td>1</td><td>0</td><td>0</td><td>0</td><td>0</td><td>0</td><td>0</td><td>0</td><td>0</td><td>0</td></tr>\n",
       "\t<tr><td>-1.1282107</td><td>-0.985613768</td><td>-0.04953667</td><td>-0.78499742</td><td>-0.4921892</td><td>-0.02541217</td><td>-0.6496425</td><td> 2.16085290</td><td> 0.6776215</td><td> 0.3658399</td><td>⋯</td><td>0</td><td>0</td><td>0</td><td>0</td><td>0</td><td>0</td><td>0</td><td>0</td><td>0</td><td>1</td></tr>\n",
       "\t<tr><td>-0.1479831</td><td>-0.711827849</td><td>-0.04953667</td><td>-0.07846533</td><td>-0.4921892</td><td> 0.17320910</td><td>-0.3614999</td><td>-0.54970550</td><td> 0.6776215</td><td> 0.3658399</td><td>⋯</td><td>0</td><td>0</td><td>0</td><td>0</td><td>0</td><td>0</td><td>0</td><td>0</td><td>0</td><td>1</td></tr>\n",
       "\t<tr><td>-1.0363144</td><td>-0.916095549</td><td>-0.04953667</td><td>-0.07846533</td><td> 0.4100111</td><td> 0.10700201</td><td>-0.4575474</td><td>-0.54970550</td><td> 0.6776215</td><td> 0.3658399</td><td>⋯</td><td>0</td><td>0</td><td>0</td><td>0</td><td>0</td><td>0</td><td>0</td><td>0</td><td>0</td><td>1</td></tr>\n",
       "\t<tr><td> 1.2304620</td><td> 0.149618750</td><td>-0.04953667</td><td> 1.33459886</td><td>-0.4921892</td><td> 1.16631543</td><td> 1.1272369</td><td> 0.55214751</td><td>-0.7477442</td><td> 0.3658399</td><td>⋯</td><td>0</td><td>0</td><td>0</td><td>0</td><td>0</td><td>0</td><td>0</td><td>0</td><td>0</td><td>1</td></tr>\n",
       "\t<tr><td> 0.7709803</td><td>-0.003205468</td><td>-0.04953667</td><td> 2.04113096</td><td>-0.4921892</td><td> 1.23252252</td><td> 1.2232844</td><td> 1.92946377</td><td>-3.5984757</td><td> 0.3658399</td><td>⋯</td><td>0</td><td>0</td><td>0</td><td>0</td><td>0</td><td>0</td><td>1</td><td>0</td><td>0</td><td>0</td></tr>\n",
       "\t<tr><td> 1.1079336</td><td> 0.312407247</td><td>-0.04953667</td><td> 1.33459886</td><td>-0.4921892</td><td> 1.23252252</td><td> 1.2232844</td><td> 0.86066635</td><td>-0.7477442</td><td> 0.3658399</td><td>⋯</td><td>0</td><td>0</td><td>0</td><td>0</td><td>0</td><td>0</td><td>1</td><td>0</td><td>0</td><td>0</td></tr>\n",
       "\t<tr><td> 1.1385657</td><td> 0.231186794</td><td>-0.04953667</td><td> 0.62806677</td><td>-0.4921892</td><td> 1.10010834</td><td> 0.9831656</td><td> 0.69538840</td><td>-0.7477442</td><td> 0.3658399</td><td>⋯</td><td>0</td><td>0</td><td>0</td><td>0</td><td>0</td><td>0</td><td>1</td><td>0</td><td>0</td><td>0</td></tr>\n",
       "\t<tr><td>⋮</td><td>⋮</td><td>⋮</td><td>⋮</td><td>⋮</td><td>⋮</td><td>⋮</td><td>⋮</td><td>⋮</td><td>⋮</td><td>⋱</td><td>⋮</td><td>⋮</td><td>⋮</td><td>⋮</td><td>⋮</td><td>⋮</td><td>⋮</td><td>⋮</td><td>⋮</td><td>⋮</td></tr>\n",
       "\t<tr><td> 0.37276283</td><td>-0.12405131</td><td>-0.04953667</td><td> 1.33459886</td><td>-0.4921892</td><td> 0.967694165</td><td> 0.79107050</td><td>-0.54970550</td><td>-0.7477442</td><td> 0.3658399</td><td>⋯</td><td>0</td><td>0</td><td>0</td><td>0</td><td>0</td><td>0</td><td>0</td><td>0</td><td>0</td><td>1</td></tr>\n",
       "\t<tr><td> 0.74034819</td><td> 0.10234636</td><td>-0.04953667</td><td> 0.62806677</td><td>-0.4921892</td><td> 0.537348087</td><td> 0.21478530</td><td>-0.16405695</td><td> 0.6776215</td><td> 0.3658399</td><td>⋯</td><td>0</td><td>0</td><td>0</td><td>0</td><td>0</td><td>0</td><td>0</td><td>0</td><td>0</td><td>1</td></tr>\n",
       "\t<tr><td>-1.77148511</td><td>-0.22566377</td><td>-0.04953667</td><td> 0.62806677</td><td>-0.4921892</td><td> 0.471140997</td><td> 0.07071400</td><td>-0.54970550</td><td>-0.7477442</td><td> 0.3658399</td><td>⋯</td><td>0</td><td>0</td><td>0</td><td>0</td><td>0</td><td>0</td><td>0</td><td>0</td><td>0</td><td>1</td></tr>\n",
       "\t<tr><td>-1.77148511</td><td> 4.62473824</td><td>-0.04953667</td><td>-0.07846533</td><td>-0.4921892</td><td>-0.455758250</td><td>-1.27395146</td><td>-0.54970550</td><td> 0.6776215</td><td> 0.3658399</td><td>⋯</td><td>0</td><td>0</td><td>0</td><td>0</td><td>0</td><td>0</td><td>0</td><td>0</td><td>0</td><td>1</td></tr>\n",
       "\t<tr><td>-1.77148511</td><td> 0.75106721</td><td>-0.04953667</td><td> 1.33459886</td><td> 0.4100111</td><td> 0.305623275</td><td>-0.16940483</td><td> 3.04784458</td><td>-0.7477442</td><td> 0.3658399</td><td>⋯</td><td>0</td><td>0</td><td>0</td><td>0</td><td>0</td><td>0</td><td>0</td><td>0</td><td>0</td><td>1</td></tr>\n",
       "\t<tr><td>-0.23987944</td><td>-0.24767787</td><td>-0.04953667</td><td> 0.62806677</td><td>-0.4921892</td><td> 0.603555176</td><td> 0.26280907</td><td>-0.25220519</td><td> 0.6776215</td><td> 0.3658399</td><td>⋯</td><td>0</td><td>0</td><td>0</td><td>0</td><td>0</td><td>0</td><td>0</td><td>0</td><td>0</td><td>1</td></tr>\n",
       "\t<tr><td>-1.77148511</td><td> 0.11393273</td><td>-0.04953667</td><td> 0.62806677</td><td>-0.4921892</td><td> 0.603555176</td><td> 0.31083283</td><td>-0.54970550</td><td> 0.6776215</td><td> 0.3658399</td><td>⋯</td><td>0</td><td>0</td><td>0</td><td>0</td><td>0</td><td>0</td><td>0</td><td>0</td><td>0</td><td>1</td></tr>\n",
       "\t<tr><td> 0.83224453</td><td> 0.48017788</td><td>-0.04953667</td><td> 1.33459886</td><td>-0.4921892</td><td> 1.000797710</td><td> 0.83909427</td><td> 2.92113148</td><td>-0.7477442</td><td> 0.3658399</td><td>⋯</td><td>0</td><td>0</td><td>0</td><td>0</td><td>0</td><td>0</td><td>0</td><td>0</td><td>0</td><td>1</td></tr>\n",
       "\t<tr><td> 1.13856567</td><td> 0.39756706</td><td>-0.04953667</td><td> 1.33459886</td><td>-0.4921892</td><td> 1.100108344</td><td> 1.03118933</td><td> 0.54112898</td><td>-0.7477442</td><td> 0.3658399</td><td>⋯</td><td>0</td><td>0</td><td>0</td><td>0</td><td>0</td><td>0</td><td>1</td><td>0</td><td>0</td><td>0</td></tr>\n",
       "\t<tr><td> 0.92414087</td><td> 0.14556352</td><td>-0.04953667</td><td> 1.33459886</td><td>-0.4921892</td><td> 1.100108344</td><td> 1.03118933</td><td> 0.59622163</td><td>-0.7477442</td><td> 0.3658399</td><td>⋯</td><td>0</td><td>0</td><td>0</td><td>0</td><td>0</td><td>0</td><td>1</td><td>0</td><td>0</td><td>0</td></tr>\n",
       "\t<tr><td> 0.92414087</td><td> 0.16108926</td><td>-0.04953667</td><td> 2.04113096</td><td>-0.4921892</td><td> 1.100108344</td><td> 1.03118933</td><td> 1.55483375</td><td>-3.5984757</td><td> 0.3658399</td><td>⋯</td><td>0</td><td>0</td><td>0</td><td>0</td><td>0</td><td>0</td><td>1</td><td>0</td><td>0</td><td>0</td></tr>\n",
       "\t<tr><td> 2.05752907</td><td> 2.44047580</td><td>-2.28467463</td><td>-3.61112581</td><td>-2.2965898</td><td>-0.687483061</td><td>-1.61011783</td><td>-0.54970550</td><td> 0.6776215</td><td>-3.5324441</td><td>⋯</td><td>0</td><td>0</td><td>0</td><td>0</td><td>0</td><td>0</td><td>0</td><td>0</td><td>0</td><td>1</td></tr>\n",
       "\t<tr><td> 0.61781974</td><td>-0.36690162</td><td>-0.04953667</td><td> 0.62806677</td><td>-0.4921892</td><td> 0.835279987</td><td> 0.59897543</td><td> 0.55214751</td><td> 0.6776215</td><td>-2.2330161</td><td>⋯</td><td>0</td><td>0</td><td>0</td><td>0</td><td>0</td><td>0</td><td>0</td><td>0</td><td>0</td><td>1</td></tr>\n",
       "\t<tr><td>-0.79125748</td><td>-0.65887814</td><td>-0.04953667</td><td>-0.07846533</td><td>-0.4921892</td><td> 0.868383532</td><td> 0.64699920</td><td> 0.08936924</td><td> 0.6776215</td><td> 0.3658399</td><td>⋯</td><td>0</td><td>0</td><td>0</td><td>0</td><td>0</td><td>0</td><td>0</td><td>0</td><td>0</td><td>1</td></tr>\n",
       "\t<tr><td> 0.98540510</td><td> 0.81456052</td><td>-0.04953667</td><td>-0.78499742</td><td>-0.4921892</td><td> 1.133211888</td><td> 1.03118933</td><td>-0.54970550</td><td> 0.6776215</td><td> 0.3658399</td><td>⋯</td><td>0</td><td>0</td><td>0</td><td>0</td><td>0</td><td>0</td><td>0</td><td>0</td><td>0</td><td>1</td></tr>\n",
       "\t<tr><td>-0.51556846</td><td>-0.87148803</td><td>-0.04953667</td><td>-0.78499742</td><td> 0.4100111</td><td> 0.173209097</td><td>-0.36149990</td><td>-0.54970550</td><td> 0.6776215</td><td> 0.3658399</td><td>⋯</td><td>0</td><td>0</td><td>0</td><td>0</td><td>0</td><td>0</td><td>0</td><td>0</td><td>0</td><td>1</td></tr>\n",
       "\t<tr><td>-0.51556846</td><td>-0.87148803</td><td>-0.04953667</td><td>-0.78499742</td><td> 0.4100111</td><td> 0.173209097</td><td>-0.36149990</td><td>-0.54970550</td><td> 0.6776215</td><td> 0.3658399</td><td>⋯</td><td>0</td><td>0</td><td>0</td><td>0</td><td>0</td><td>0</td><td>0</td><td>0</td><td>0</td><td>1</td></tr>\n",
       "\t<tr><td>-0.48493635</td><td>-0.72098108</td><td>-0.04953667</td><td>-0.07846533</td><td>-1.3943895</td><td> 0.040794918</td><td>-0.55359496</td><td>-0.54970550</td><td> 0.6776215</td><td> 0.3658399</td><td>⋯</td><td>0</td><td>0</td><td>0</td><td>0</td><td>0</td><td>0</td><td>0</td><td>0</td><td>0</td><td>1</td></tr>\n",
       "\t<tr><td>-1.77148511</td><td> 0.19109795</td><td>-0.04953667</td><td>-0.78499742</td><td>-0.4921892</td><td>-0.058515715</td><td>-0.69766626</td><td>-0.54970550</td><td> 0.6776215</td><td> 0.3658399</td><td>⋯</td><td>0</td><td>0</td><td>0</td><td>0</td><td>0</td><td>0</td><td>0</td><td>0</td><td>0</td><td>1</td></tr>\n",
       "\t<tr><td>-1.12821073</td><td>-1.00832305</td><td>-0.04953667</td><td>-1.49152952</td><td>-1.3943895</td><td> 0.007691374</td><td>-0.60161873</td><td>-0.54970550</td><td> 0.6776215</td><td> 0.3658399</td><td>⋯</td><td>0</td><td>0</td><td>0</td><td>0</td><td>0</td><td>0</td><td>0</td><td>0</td><td>0</td><td>1</td></tr>\n",
       "\t<tr><td> 0.67908396</td><td> 0.37045496</td><td>-0.04953667</td><td>-0.78499742</td><td>-0.4921892</td><td>-0.091619260</td><td>-0.26545236</td><td> 0.51909192</td><td> 0.6776215</td><td> 0.3658399</td><td>⋯</td><td>0</td><td>0</td><td>0</td><td>0</td><td>0</td><td>0</td><td>0</td><td>0</td><td>0</td><td>1</td></tr>\n",
       "\t<tr><td>-1.12821073</td><td>-1.00264573</td><td>-0.04953667</td><td>-1.49152952</td><td>-0.4921892</td><td>-0.058515715</td><td>-0.69766626</td><td>-0.54970550</td><td> 0.6776215</td><td> 0.3658399</td><td>⋯</td><td>0</td><td>0</td><td>0</td><td>0</td><td>0</td><td>0</td><td>0</td><td>0</td><td>0</td><td>1</td></tr>\n",
       "\t<tr><td>-1.12821073</td><td>-1.00345678</td><td>-0.04953667</td><td>-1.49152952</td><td>-0.4921892</td><td>-0.058515715</td><td>-0.69766626</td><td>-0.54970550</td><td> 0.6776215</td><td> 0.3658399</td><td>⋯</td><td>0</td><td>0</td><td>0</td><td>0</td><td>0</td><td>0</td><td>0</td><td>0</td><td>0</td><td>1</td></tr>\n",
       "\t<tr><td>-1.12821073</td><td>-0.96081894</td><td>-0.04953667</td><td>-1.49152952</td><td>-0.4921892</td><td>-0.058515715</td><td>-0.69766626</td><td>-0.54970550</td><td> 0.6776215</td><td> 0.3658399</td><td>⋯</td><td>0</td><td>0</td><td>0</td><td>0</td><td>0</td><td>0</td><td>0</td><td>0</td><td>0</td><td>1</td></tr>\n",
       "\t<tr><td>-0.08671887</td><td> 0.28425237</td><td>-0.04953667</td><td>-0.07846533</td><td>-0.4921892</td><td> 0.140105552</td><td>-0.40952366</td><td>-0.54970550</td><td> 0.6776215</td><td> 0.3658399</td><td>⋯</td><td>0</td><td>0</td><td>0</td><td>0</td><td>0</td><td>0</td><td>0</td><td>0</td><td>0</td><td>1</td></tr>\n",
       "\t<tr><td> 0.15833804</td><td>-0.10307998</td><td>-0.04953667</td><td>-0.78499742</td><td>-0.4921892</td><td> 0.140105552</td><td>-0.40952366</td><td>-0.54970550</td><td> 0.6776215</td><td> 0.3658399</td><td>⋯</td><td>0</td><td>0</td><td>0</td><td>0</td><td>0</td><td>0</td><td>0</td><td>0</td><td>0</td><td>1</td></tr>\n",
       "\t<tr><td>-0.63809691</td><td>-0.26065461</td><td>-0.04953667</td><td>-0.07846533</td><td> 0.4100111</td><td> 0.404933908</td><td>-0.02533353</td><td>-0.54970550</td><td> 0.6776215</td><td> 0.3658399</td><td>⋯</td><td>0</td><td>0</td><td>0</td><td>0</td><td>0</td><td>0</td><td>0</td><td>0</td><td>0</td><td>1</td></tr>\n",
       "\t<tr><td>-1.77148511</td><td>-0.15081582</td><td>-0.04953667</td><td>-0.78499742</td><td>-0.4921892</td><td> 0.371830364</td><td>-0.07335730</td><td>-0.54970550</td><td> 0.6776215</td><td> 0.3658399</td><td>⋯</td><td>0</td><td>0</td><td>0</td><td>0</td><td>0</td><td>0</td><td>0</td><td>0</td><td>0</td><td>1</td></tr>\n",
       "\t<tr><td> 0.12770592</td><td> 0.02946809</td><td>-0.04953667</td><td>-0.78499742</td><td>-0.4921892</td><td> 0.669762265</td><td> 0.35885660</td><td>-0.54970550</td><td> 0.6776215</td><td> 0.3658399</td><td>⋯</td><td>0</td><td>0</td><td>0</td><td>0</td><td>0</td><td>0</td><td>0</td><td>0</td><td>0</td><td>1</td></tr>\n",
       "\t<tr><td> 0.49529128</td><td>-0.06484496</td><td>-0.04953667</td><td> 0.62806677</td><td>-0.4921892</td><td> 0.702865809</td><td> 0.45490413</td><td>-0.03183459</td><td> 0.6776215</td><td> 0.3658399</td><td>⋯</td><td>0</td><td>0</td><td>0</td><td>0</td><td>0</td><td>0</td><td>0</td><td>0</td><td>0</td><td>1</td></tr>\n",
       "</tbody>\n",
       "</table>\n"
      ],
      "text/latex": [
       "A tibble: 2053 × 220\n",
       "\\begin{tabular}{lllllllllllllllllllll}\n",
       " Lot\\_Frontage & Lot\\_Area & Condition\\_1 & Overall\\_Qual & Overall\\_Cond & Year\\_Built & Year\\_Remod\\_Add & Mas\\_Vnr\\_Area & Exter\\_Qual & Exter\\_Cond & ⋯ & Sale\\_Type\\_COD & Sale\\_Type\\_Con & Sale\\_Type\\_ConLD & Sale\\_Type\\_ConLI & Sale\\_Type\\_ConLw & Sale\\_Type\\_CWD & Sale\\_Type\\_New & Sale\\_Type\\_Oth & Sale\\_Type\\_VWD & Sale\\_Type\\_WD.\\\\\n",
       " <dbl> & <dbl> & <dbl> & <dbl> & <dbl> & <dbl> & <dbl> & <dbl> & <dbl> & <dbl> & ⋯ & <dbl> & <dbl> & <dbl> & <dbl> & <dbl> & <dbl> & <dbl> & <dbl> & <dbl> & <dbl>\\\\\n",
       "\\hline\n",
       "\t  2.5476429 &  2.500724921 & -0.04953667 & -0.07846533 & -0.4921892 & -0.38955116 & -1.1779039 &  0.06733218 &  0.6776215 &  0.3658399 & ⋯ & 0 & 0 & 0 & 0 & 0 & 0 & 0 & 0 & 0 & 1\\\\\n",
       "\t  0.6790840 &  0.166303123 & -1.16710565 & -0.78499742 &  0.4100111 & -0.35644762 & -1.1298802 & -0.54970550 &  0.6776215 &  0.3658399 & ⋯ & 0 & 0 & 0 & 0 & 0 & 0 & 0 & 0 & 0 & 1\\\\\n",
       "\t  1.0773014 &  0.112774094 & -0.04953667 &  0.62806677 & -0.4921892 & -0.12472280 & -0.7937138 & -0.54970550 & -0.7477442 &  0.3658399 & ⋯ & 0 & 0 & 0 & 0 & 0 & 0 & 0 & 0 & 0 & 1\\\\\n",
       "\t  0.6178197 & -0.024176798 & -0.04953667 & -0.07846533 &  0.4100111 &  0.86838353 &  0.6469992 & -0.43952020 &  0.6776215 &  0.3658399 & ⋯ & 0 & 0 & 0 & 0 & 0 & 0 & 0 & 0 & 0 & 1\\\\\n",
       "\t -0.4543042 & -0.600366971 & -0.04953667 &  1.33459886 & -0.4921892 &  0.66976226 &  0.3588566 & -0.54970550 & -0.7477442 &  0.3658399 & ⋯ & 0 & 0 & 0 & 0 & 0 & 0 & 0 & 0 & 0 & 1\\\\\n",
       "\t -0.5768327 & -0.555875310 & -0.04953667 &  1.33459886 & -0.4921892 &  0.76907290 &  0.5509517 & -0.54970550 & -0.7477442 &  0.3658399 & ⋯ & 0 & 0 & 0 & 0 & 0 & 0 & 0 & 0 & 0 & 1\\\\\n",
       "\t  0.0664417 & -0.311287043 & -0.04953667 &  0.62806677 & -0.4921892 &  0.90148708 &  0.6950230 & -0.54970550 &  0.6776215 &  0.3658399 & ⋯ & 0 & 0 & 0 & 0 & 0 & 0 & 0 & 0 & 0 & 1\\\\\n",
       "\t  0.5259234 & -0.021627796 & -0.04953667 & -0.07846533 & -0.4921892 &  0.70286581 &  0.4549041 & -0.54970550 &  0.6776215 &  0.3658399 & ⋯ & 0 & 0 & 0 & 0 & 0 & 0 & 0 & 0 & 0 & 1\\\\\n",
       "\t -1.7714851 & -0.255672467 & -0.04953667 & -0.07846533 &  1.3122114 &  0.66976226 &  1.0792131 & -0.54970550 &  0.6776215 & -2.2330161 & ⋯ & 0 & 0 & 0 & 0 & 0 & 0 & 0 & 0 & 0 & 1\\\\\n",
       "\t  0.1583380 & -0.206777987 & -0.04953667 & -0.07846533 & -0.4921892 &  0.86838353 &  0.6469992 & -0.54970550 &  0.6776215 &  0.3658399 & ⋯ & 0 & 0 & 0 & 0 & 0 & 0 & 0 & 0 & 0 & 1\\\\\n",
       "\t  0.8322445 & -0.001235785 & -0.04953667 &  0.62806677 & -0.4921892 &  0.60355518 &  0.2628091 & -0.54970550 &  0.6776215 &  0.3658399 & ⋯ & 0 & 0 & 0 & 0 & 0 & 0 & 0 & 0 & 0 & 1\\\\\n",
       "\t -0.3317758 &  5.018906545 & -0.04953667 &  1.33459886 & -0.4921892 &  1.03390125 &  0.8871180 &  2.77238133 & -3.5984757 &  0.3658399 & ⋯ & 0 & 0 & 0 & 0 & 0 & 0 & 0 & 0 & 0 & 1\\\\\n",
       "\t  0.9241409 &  0.139886199 & -0.04953667 &  2.04113096 & -3.1987901 &  1.26562607 &  1.2232844 &  1.37853727 & -0.7477442 &  0.3658399 & ⋯ & 0 & 0 & 0 & 0 & 0 & 0 & 1 & 0 & 0 & 0\\\\\n",
       "\t  2.5170108 &  1.037134681 & -0.04953667 & -1.49152952 & -0.4921892 & -0.68748306 & -1.6101178 & -0.54970550 &  0.6776215 &  0.3658399 & ⋯ & 0 & 0 & 0 & 0 & 0 & 0 & 0 & 0 & 0 & 1\\\\\n",
       "\t  0.8322445 &  0.346239447 & -0.04953667 & -0.07846533 &  0.4100111 &  0.20631264 &  0.1667615 &  0.10589704 &  0.6776215 &  0.3658399 & ⋯ & 0 & 0 & 0 & 0 & 0 & 0 & 0 & 0 & 0 & 1\\\\\n",
       "\t  0.8322445 &  0.050787015 & -0.04953667 &  0.62806677 &  0.4100111 &  0.07389846 & -0.5055712 & -0.10345503 &  0.6776215 &  0.3658399 & ⋯ & 0 & 0 & 0 & 0 & 0 & 0 & 0 & 0 & 0 & 1\\\\\n",
       "\t -1.7714851 & -0.311287043 & -0.04953667 &  0.62806677 & -0.4921892 &  0.93459062 &  0.7430467 & -0.54970550 & -0.7477442 &  0.3658399 & ⋯ & 0 & 0 & 0 & 0 & 0 & 0 & 0 & 0 & 0 & 1\\\\\n",
       "\t -1.7714851 &  0.122159054 & -0.04953667 & -0.07846533 &  1.3122114 & -0.05851572 & -0.6976663 &  0.44196221 &  0.6776215 &  0.3658399 & ⋯ & 0 & 0 & 0 & 0 & 0 & 0 & 0 & 0 & 0 & 1\\\\\n",
       "\t -1.7714851 &  0.272318407 & -0.04953667 & -0.78499742 &  0.4100111 & -0.02541217 &  1.1272369 & -0.54970550 &  0.6776215 &  0.3658399 & ⋯ & 0 & 0 & 0 & 0 & 0 & 0 & 0 & 0 & 0 & 1\\\\\n",
       "\t  0.2196023 & -0.201216529 & -0.04953667 & -0.78499742 &  0.4100111 & -0.12472280 & -0.7937138 & -0.54970550 &  0.6776215 &  0.3658399 & ⋯ & 0 & 0 & 0 & 0 & 0 & 0 & 0 & 0 & 0 & 1\\\\\n",
       "\t  0.3727628 & -0.207009714 & -0.04953667 & -1.49152952 & -0.4921892 & -0.05851572 & -0.6976663 & -0.54970550 &  0.6776215 &  0.3658399 & ⋯ & 0 & 0 & 0 & 0 & 0 & 0 & 0 & 0 & 0 & 1\\\\\n",
       "\t  0.3727628 &  0.036304053 & -0.04953667 & -1.49152952 & -0.4921892 & -0.02541217 & -0.6496425 & -0.54970550 &  0.6776215 &  0.3658399 & ⋯ & 0 & 0 & 0 & 1 & 0 & 0 & 0 & 0 & 0 & 0\\\\\n",
       "\t -1.1282107 & -0.985613768 & -0.04953667 & -0.07846533 & -0.4921892 & -0.02541217 & -0.6496425 &  2.22696409 &  0.6776215 &  0.3658399 & ⋯ & 1 & 0 & 0 & 0 & 0 & 0 & 0 & 0 & 0 & 0\\\\\n",
       "\t -1.1282107 & -0.985613768 & -0.04953667 & -0.78499742 & -0.4921892 & -0.02541217 & -0.6496425 &  2.16085290 &  0.6776215 &  0.3658399 & ⋯ & 0 & 0 & 0 & 0 & 0 & 0 & 0 & 0 & 0 & 1\\\\\n",
       "\t -0.1479831 & -0.711827849 & -0.04953667 & -0.07846533 & -0.4921892 &  0.17320910 & -0.3614999 & -0.54970550 &  0.6776215 &  0.3658399 & ⋯ & 0 & 0 & 0 & 0 & 0 & 0 & 0 & 0 & 0 & 1\\\\\n",
       "\t -1.0363144 & -0.916095549 & -0.04953667 & -0.07846533 &  0.4100111 &  0.10700201 & -0.4575474 & -0.54970550 &  0.6776215 &  0.3658399 & ⋯ & 0 & 0 & 0 & 0 & 0 & 0 & 0 & 0 & 0 & 1\\\\\n",
       "\t  1.2304620 &  0.149618750 & -0.04953667 &  1.33459886 & -0.4921892 &  1.16631543 &  1.1272369 &  0.55214751 & -0.7477442 &  0.3658399 & ⋯ & 0 & 0 & 0 & 0 & 0 & 0 & 0 & 0 & 0 & 1\\\\\n",
       "\t  0.7709803 & -0.003205468 & -0.04953667 &  2.04113096 & -0.4921892 &  1.23252252 &  1.2232844 &  1.92946377 & -3.5984757 &  0.3658399 & ⋯ & 0 & 0 & 0 & 0 & 0 & 0 & 1 & 0 & 0 & 0\\\\\n",
       "\t  1.1079336 &  0.312407247 & -0.04953667 &  1.33459886 & -0.4921892 &  1.23252252 &  1.2232844 &  0.86066635 & -0.7477442 &  0.3658399 & ⋯ & 0 & 0 & 0 & 0 & 0 & 0 & 1 & 0 & 0 & 0\\\\\n",
       "\t  1.1385657 &  0.231186794 & -0.04953667 &  0.62806677 & -0.4921892 &  1.10010834 &  0.9831656 &  0.69538840 & -0.7477442 &  0.3658399 & ⋯ & 0 & 0 & 0 & 0 & 0 & 0 & 1 & 0 & 0 & 0\\\\\n",
       "\t ⋮ & ⋮ & ⋮ & ⋮ & ⋮ & ⋮ & ⋮ & ⋮ & ⋮ & ⋮ & ⋱ & ⋮ & ⋮ & ⋮ & ⋮ & ⋮ & ⋮ & ⋮ & ⋮ & ⋮ & ⋮\\\\\n",
       "\t  0.37276283 & -0.12405131 & -0.04953667 &  1.33459886 & -0.4921892 &  0.967694165 &  0.79107050 & -0.54970550 & -0.7477442 &  0.3658399 & ⋯ & 0 & 0 & 0 & 0 & 0 & 0 & 0 & 0 & 0 & 1\\\\\n",
       "\t  0.74034819 &  0.10234636 & -0.04953667 &  0.62806677 & -0.4921892 &  0.537348087 &  0.21478530 & -0.16405695 &  0.6776215 &  0.3658399 & ⋯ & 0 & 0 & 0 & 0 & 0 & 0 & 0 & 0 & 0 & 1\\\\\n",
       "\t -1.77148511 & -0.22566377 & -0.04953667 &  0.62806677 & -0.4921892 &  0.471140997 &  0.07071400 & -0.54970550 & -0.7477442 &  0.3658399 & ⋯ & 0 & 0 & 0 & 0 & 0 & 0 & 0 & 0 & 0 & 1\\\\\n",
       "\t -1.77148511 &  4.62473824 & -0.04953667 & -0.07846533 & -0.4921892 & -0.455758250 & -1.27395146 & -0.54970550 &  0.6776215 &  0.3658399 & ⋯ & 0 & 0 & 0 & 0 & 0 & 0 & 0 & 0 & 0 & 1\\\\\n",
       "\t -1.77148511 &  0.75106721 & -0.04953667 &  1.33459886 &  0.4100111 &  0.305623275 & -0.16940483 &  3.04784458 & -0.7477442 &  0.3658399 & ⋯ & 0 & 0 & 0 & 0 & 0 & 0 & 0 & 0 & 0 & 1\\\\\n",
       "\t -0.23987944 & -0.24767787 & -0.04953667 &  0.62806677 & -0.4921892 &  0.603555176 &  0.26280907 & -0.25220519 &  0.6776215 &  0.3658399 & ⋯ & 0 & 0 & 0 & 0 & 0 & 0 & 0 & 0 & 0 & 1\\\\\n",
       "\t -1.77148511 &  0.11393273 & -0.04953667 &  0.62806677 & -0.4921892 &  0.603555176 &  0.31083283 & -0.54970550 &  0.6776215 &  0.3658399 & ⋯ & 0 & 0 & 0 & 0 & 0 & 0 & 0 & 0 & 0 & 1\\\\\n",
       "\t  0.83224453 &  0.48017788 & -0.04953667 &  1.33459886 & -0.4921892 &  1.000797710 &  0.83909427 &  2.92113148 & -0.7477442 &  0.3658399 & ⋯ & 0 & 0 & 0 & 0 & 0 & 0 & 0 & 0 & 0 & 1\\\\\n",
       "\t  1.13856567 &  0.39756706 & -0.04953667 &  1.33459886 & -0.4921892 &  1.100108344 &  1.03118933 &  0.54112898 & -0.7477442 &  0.3658399 & ⋯ & 0 & 0 & 0 & 0 & 0 & 0 & 1 & 0 & 0 & 0\\\\\n",
       "\t  0.92414087 &  0.14556352 & -0.04953667 &  1.33459886 & -0.4921892 &  1.100108344 &  1.03118933 &  0.59622163 & -0.7477442 &  0.3658399 & ⋯ & 0 & 0 & 0 & 0 & 0 & 0 & 1 & 0 & 0 & 0\\\\\n",
       "\t  0.92414087 &  0.16108926 & -0.04953667 &  2.04113096 & -0.4921892 &  1.100108344 &  1.03118933 &  1.55483375 & -3.5984757 &  0.3658399 & ⋯ & 0 & 0 & 0 & 0 & 0 & 0 & 1 & 0 & 0 & 0\\\\\n",
       "\t  2.05752907 &  2.44047580 & -2.28467463 & -3.61112581 & -2.2965898 & -0.687483061 & -1.61011783 & -0.54970550 &  0.6776215 & -3.5324441 & ⋯ & 0 & 0 & 0 & 0 & 0 & 0 & 0 & 0 & 0 & 1\\\\\n",
       "\t  0.61781974 & -0.36690162 & -0.04953667 &  0.62806677 & -0.4921892 &  0.835279987 &  0.59897543 &  0.55214751 &  0.6776215 & -2.2330161 & ⋯ & 0 & 0 & 0 & 0 & 0 & 0 & 0 & 0 & 0 & 1\\\\\n",
       "\t -0.79125748 & -0.65887814 & -0.04953667 & -0.07846533 & -0.4921892 &  0.868383532 &  0.64699920 &  0.08936924 &  0.6776215 &  0.3658399 & ⋯ & 0 & 0 & 0 & 0 & 0 & 0 & 0 & 0 & 0 & 1\\\\\n",
       "\t  0.98540510 &  0.81456052 & -0.04953667 & -0.78499742 & -0.4921892 &  1.133211888 &  1.03118933 & -0.54970550 &  0.6776215 &  0.3658399 & ⋯ & 0 & 0 & 0 & 0 & 0 & 0 & 0 & 0 & 0 & 1\\\\\n",
       "\t -0.51556846 & -0.87148803 & -0.04953667 & -0.78499742 &  0.4100111 &  0.173209097 & -0.36149990 & -0.54970550 &  0.6776215 &  0.3658399 & ⋯ & 0 & 0 & 0 & 0 & 0 & 0 & 0 & 0 & 0 & 1\\\\\n",
       "\t -0.51556846 & -0.87148803 & -0.04953667 & -0.78499742 &  0.4100111 &  0.173209097 & -0.36149990 & -0.54970550 &  0.6776215 &  0.3658399 & ⋯ & 0 & 0 & 0 & 0 & 0 & 0 & 0 & 0 & 0 & 1\\\\\n",
       "\t -0.48493635 & -0.72098108 & -0.04953667 & -0.07846533 & -1.3943895 &  0.040794918 & -0.55359496 & -0.54970550 &  0.6776215 &  0.3658399 & ⋯ & 0 & 0 & 0 & 0 & 0 & 0 & 0 & 0 & 0 & 1\\\\\n",
       "\t -1.77148511 &  0.19109795 & -0.04953667 & -0.78499742 & -0.4921892 & -0.058515715 & -0.69766626 & -0.54970550 &  0.6776215 &  0.3658399 & ⋯ & 0 & 0 & 0 & 0 & 0 & 0 & 0 & 0 & 0 & 1\\\\\n",
       "\t -1.12821073 & -1.00832305 & -0.04953667 & -1.49152952 & -1.3943895 &  0.007691374 & -0.60161873 & -0.54970550 &  0.6776215 &  0.3658399 & ⋯ & 0 & 0 & 0 & 0 & 0 & 0 & 0 & 0 & 0 & 1\\\\\n",
       "\t  0.67908396 &  0.37045496 & -0.04953667 & -0.78499742 & -0.4921892 & -0.091619260 & -0.26545236 &  0.51909192 &  0.6776215 &  0.3658399 & ⋯ & 0 & 0 & 0 & 0 & 0 & 0 & 0 & 0 & 0 & 1\\\\\n",
       "\t -1.12821073 & -1.00264573 & -0.04953667 & -1.49152952 & -0.4921892 & -0.058515715 & -0.69766626 & -0.54970550 &  0.6776215 &  0.3658399 & ⋯ & 0 & 0 & 0 & 0 & 0 & 0 & 0 & 0 & 0 & 1\\\\\n",
       "\t -1.12821073 & -1.00345678 & -0.04953667 & -1.49152952 & -0.4921892 & -0.058515715 & -0.69766626 & -0.54970550 &  0.6776215 &  0.3658399 & ⋯ & 0 & 0 & 0 & 0 & 0 & 0 & 0 & 0 & 0 & 1\\\\\n",
       "\t -1.12821073 & -0.96081894 & -0.04953667 & -1.49152952 & -0.4921892 & -0.058515715 & -0.69766626 & -0.54970550 &  0.6776215 &  0.3658399 & ⋯ & 0 & 0 & 0 & 0 & 0 & 0 & 0 & 0 & 0 & 1\\\\\n",
       "\t -0.08671887 &  0.28425237 & -0.04953667 & -0.07846533 & -0.4921892 &  0.140105552 & -0.40952366 & -0.54970550 &  0.6776215 &  0.3658399 & ⋯ & 0 & 0 & 0 & 0 & 0 & 0 & 0 & 0 & 0 & 1\\\\\n",
       "\t  0.15833804 & -0.10307998 & -0.04953667 & -0.78499742 & -0.4921892 &  0.140105552 & -0.40952366 & -0.54970550 &  0.6776215 &  0.3658399 & ⋯ & 0 & 0 & 0 & 0 & 0 & 0 & 0 & 0 & 0 & 1\\\\\n",
       "\t -0.63809691 & -0.26065461 & -0.04953667 & -0.07846533 &  0.4100111 &  0.404933908 & -0.02533353 & -0.54970550 &  0.6776215 &  0.3658399 & ⋯ & 0 & 0 & 0 & 0 & 0 & 0 & 0 & 0 & 0 & 1\\\\\n",
       "\t -1.77148511 & -0.15081582 & -0.04953667 & -0.78499742 & -0.4921892 &  0.371830364 & -0.07335730 & -0.54970550 &  0.6776215 &  0.3658399 & ⋯ & 0 & 0 & 0 & 0 & 0 & 0 & 0 & 0 & 0 & 1\\\\\n",
       "\t  0.12770592 &  0.02946809 & -0.04953667 & -0.78499742 & -0.4921892 &  0.669762265 &  0.35885660 & -0.54970550 &  0.6776215 &  0.3658399 & ⋯ & 0 & 0 & 0 & 0 & 0 & 0 & 0 & 0 & 0 & 1\\\\\n",
       "\t  0.49529128 & -0.06484496 & -0.04953667 &  0.62806677 & -0.4921892 &  0.702865809 &  0.45490413 & -0.03183459 &  0.6776215 &  0.3658399 & ⋯ & 0 & 0 & 0 & 0 & 0 & 0 & 0 & 0 & 0 & 1\\\\\n",
       "\\end{tabular}\n"
      ],
      "text/markdown": [
       "\n",
       "A tibble: 2053 × 220\n",
       "\n",
       "| Lot_Frontage &lt;dbl&gt; | Lot_Area &lt;dbl&gt; | Condition_1 &lt;dbl&gt; | Overall_Qual &lt;dbl&gt; | Overall_Cond &lt;dbl&gt; | Year_Built &lt;dbl&gt; | Year_Remod_Add &lt;dbl&gt; | Mas_Vnr_Area &lt;dbl&gt; | Exter_Qual &lt;dbl&gt; | Exter_Cond &lt;dbl&gt; | ⋯ ⋯ | Sale_Type_COD &lt;dbl&gt; | Sale_Type_Con &lt;dbl&gt; | Sale_Type_ConLD &lt;dbl&gt; | Sale_Type_ConLI &lt;dbl&gt; | Sale_Type_ConLw &lt;dbl&gt; | Sale_Type_CWD &lt;dbl&gt; | Sale_Type_New &lt;dbl&gt; | Sale_Type_Oth &lt;dbl&gt; | Sale_Type_VWD &lt;dbl&gt; | Sale_Type_WD. &lt;dbl&gt; |\n",
       "|---|---|---|---|---|---|---|---|---|---|---|---|---|---|---|---|---|---|---|---|---|\n",
       "|  2.5476429 |  2.500724921 | -0.04953667 | -0.07846533 | -0.4921892 | -0.38955116 | -1.1779039 |  0.06733218 |  0.6776215 |  0.3658399 | ⋯ | 0 | 0 | 0 | 0 | 0 | 0 | 0 | 0 | 0 | 1 |\n",
       "|  0.6790840 |  0.166303123 | -1.16710565 | -0.78499742 |  0.4100111 | -0.35644762 | -1.1298802 | -0.54970550 |  0.6776215 |  0.3658399 | ⋯ | 0 | 0 | 0 | 0 | 0 | 0 | 0 | 0 | 0 | 1 |\n",
       "|  1.0773014 |  0.112774094 | -0.04953667 |  0.62806677 | -0.4921892 | -0.12472280 | -0.7937138 | -0.54970550 | -0.7477442 |  0.3658399 | ⋯ | 0 | 0 | 0 | 0 | 0 | 0 | 0 | 0 | 0 | 1 |\n",
       "|  0.6178197 | -0.024176798 | -0.04953667 | -0.07846533 |  0.4100111 |  0.86838353 |  0.6469992 | -0.43952020 |  0.6776215 |  0.3658399 | ⋯ | 0 | 0 | 0 | 0 | 0 | 0 | 0 | 0 | 0 | 1 |\n",
       "| -0.4543042 | -0.600366971 | -0.04953667 |  1.33459886 | -0.4921892 |  0.66976226 |  0.3588566 | -0.54970550 | -0.7477442 |  0.3658399 | ⋯ | 0 | 0 | 0 | 0 | 0 | 0 | 0 | 0 | 0 | 1 |\n",
       "| -0.5768327 | -0.555875310 | -0.04953667 |  1.33459886 | -0.4921892 |  0.76907290 |  0.5509517 | -0.54970550 | -0.7477442 |  0.3658399 | ⋯ | 0 | 0 | 0 | 0 | 0 | 0 | 0 | 0 | 0 | 1 |\n",
       "|  0.0664417 | -0.311287043 | -0.04953667 |  0.62806677 | -0.4921892 |  0.90148708 |  0.6950230 | -0.54970550 |  0.6776215 |  0.3658399 | ⋯ | 0 | 0 | 0 | 0 | 0 | 0 | 0 | 0 | 0 | 1 |\n",
       "|  0.5259234 | -0.021627796 | -0.04953667 | -0.07846533 | -0.4921892 |  0.70286581 |  0.4549041 | -0.54970550 |  0.6776215 |  0.3658399 | ⋯ | 0 | 0 | 0 | 0 | 0 | 0 | 0 | 0 | 0 | 1 |\n",
       "| -1.7714851 | -0.255672467 | -0.04953667 | -0.07846533 |  1.3122114 |  0.66976226 |  1.0792131 | -0.54970550 |  0.6776215 | -2.2330161 | ⋯ | 0 | 0 | 0 | 0 | 0 | 0 | 0 | 0 | 0 | 1 |\n",
       "|  0.1583380 | -0.206777987 | -0.04953667 | -0.07846533 | -0.4921892 |  0.86838353 |  0.6469992 | -0.54970550 |  0.6776215 |  0.3658399 | ⋯ | 0 | 0 | 0 | 0 | 0 | 0 | 0 | 0 | 0 | 1 |\n",
       "|  0.8322445 | -0.001235785 | -0.04953667 |  0.62806677 | -0.4921892 |  0.60355518 |  0.2628091 | -0.54970550 |  0.6776215 |  0.3658399 | ⋯ | 0 | 0 | 0 | 0 | 0 | 0 | 0 | 0 | 0 | 1 |\n",
       "| -0.3317758 |  5.018906545 | -0.04953667 |  1.33459886 | -0.4921892 |  1.03390125 |  0.8871180 |  2.77238133 | -3.5984757 |  0.3658399 | ⋯ | 0 | 0 | 0 | 0 | 0 | 0 | 0 | 0 | 0 | 1 |\n",
       "|  0.9241409 |  0.139886199 | -0.04953667 |  2.04113096 | -3.1987901 |  1.26562607 |  1.2232844 |  1.37853727 | -0.7477442 |  0.3658399 | ⋯ | 0 | 0 | 0 | 0 | 0 | 0 | 1 | 0 | 0 | 0 |\n",
       "|  2.5170108 |  1.037134681 | -0.04953667 | -1.49152952 | -0.4921892 | -0.68748306 | -1.6101178 | -0.54970550 |  0.6776215 |  0.3658399 | ⋯ | 0 | 0 | 0 | 0 | 0 | 0 | 0 | 0 | 0 | 1 |\n",
       "|  0.8322445 |  0.346239447 | -0.04953667 | -0.07846533 |  0.4100111 |  0.20631264 |  0.1667615 |  0.10589704 |  0.6776215 |  0.3658399 | ⋯ | 0 | 0 | 0 | 0 | 0 | 0 | 0 | 0 | 0 | 1 |\n",
       "|  0.8322445 |  0.050787015 | -0.04953667 |  0.62806677 |  0.4100111 |  0.07389846 | -0.5055712 | -0.10345503 |  0.6776215 |  0.3658399 | ⋯ | 0 | 0 | 0 | 0 | 0 | 0 | 0 | 0 | 0 | 1 |\n",
       "| -1.7714851 | -0.311287043 | -0.04953667 |  0.62806677 | -0.4921892 |  0.93459062 |  0.7430467 | -0.54970550 | -0.7477442 |  0.3658399 | ⋯ | 0 | 0 | 0 | 0 | 0 | 0 | 0 | 0 | 0 | 1 |\n",
       "| -1.7714851 |  0.122159054 | -0.04953667 | -0.07846533 |  1.3122114 | -0.05851572 | -0.6976663 |  0.44196221 |  0.6776215 |  0.3658399 | ⋯ | 0 | 0 | 0 | 0 | 0 | 0 | 0 | 0 | 0 | 1 |\n",
       "| -1.7714851 |  0.272318407 | -0.04953667 | -0.78499742 |  0.4100111 | -0.02541217 |  1.1272369 | -0.54970550 |  0.6776215 |  0.3658399 | ⋯ | 0 | 0 | 0 | 0 | 0 | 0 | 0 | 0 | 0 | 1 |\n",
       "|  0.2196023 | -0.201216529 | -0.04953667 | -0.78499742 |  0.4100111 | -0.12472280 | -0.7937138 | -0.54970550 |  0.6776215 |  0.3658399 | ⋯ | 0 | 0 | 0 | 0 | 0 | 0 | 0 | 0 | 0 | 1 |\n",
       "|  0.3727628 | -0.207009714 | -0.04953667 | -1.49152952 | -0.4921892 | -0.05851572 | -0.6976663 | -0.54970550 |  0.6776215 |  0.3658399 | ⋯ | 0 | 0 | 0 | 0 | 0 | 0 | 0 | 0 | 0 | 1 |\n",
       "|  0.3727628 |  0.036304053 | -0.04953667 | -1.49152952 | -0.4921892 | -0.02541217 | -0.6496425 | -0.54970550 |  0.6776215 |  0.3658399 | ⋯ | 0 | 0 | 0 | 1 | 0 | 0 | 0 | 0 | 0 | 0 |\n",
       "| -1.1282107 | -0.985613768 | -0.04953667 | -0.07846533 | -0.4921892 | -0.02541217 | -0.6496425 |  2.22696409 |  0.6776215 |  0.3658399 | ⋯ | 1 | 0 | 0 | 0 | 0 | 0 | 0 | 0 | 0 | 0 |\n",
       "| -1.1282107 | -0.985613768 | -0.04953667 | -0.78499742 | -0.4921892 | -0.02541217 | -0.6496425 |  2.16085290 |  0.6776215 |  0.3658399 | ⋯ | 0 | 0 | 0 | 0 | 0 | 0 | 0 | 0 | 0 | 1 |\n",
       "| -0.1479831 | -0.711827849 | -0.04953667 | -0.07846533 | -0.4921892 |  0.17320910 | -0.3614999 | -0.54970550 |  0.6776215 |  0.3658399 | ⋯ | 0 | 0 | 0 | 0 | 0 | 0 | 0 | 0 | 0 | 1 |\n",
       "| -1.0363144 | -0.916095549 | -0.04953667 | -0.07846533 |  0.4100111 |  0.10700201 | -0.4575474 | -0.54970550 |  0.6776215 |  0.3658399 | ⋯ | 0 | 0 | 0 | 0 | 0 | 0 | 0 | 0 | 0 | 1 |\n",
       "|  1.2304620 |  0.149618750 | -0.04953667 |  1.33459886 | -0.4921892 |  1.16631543 |  1.1272369 |  0.55214751 | -0.7477442 |  0.3658399 | ⋯ | 0 | 0 | 0 | 0 | 0 | 0 | 0 | 0 | 0 | 1 |\n",
       "|  0.7709803 | -0.003205468 | -0.04953667 |  2.04113096 | -0.4921892 |  1.23252252 |  1.2232844 |  1.92946377 | -3.5984757 |  0.3658399 | ⋯ | 0 | 0 | 0 | 0 | 0 | 0 | 1 | 0 | 0 | 0 |\n",
       "|  1.1079336 |  0.312407247 | -0.04953667 |  1.33459886 | -0.4921892 |  1.23252252 |  1.2232844 |  0.86066635 | -0.7477442 |  0.3658399 | ⋯ | 0 | 0 | 0 | 0 | 0 | 0 | 1 | 0 | 0 | 0 |\n",
       "|  1.1385657 |  0.231186794 | -0.04953667 |  0.62806677 | -0.4921892 |  1.10010834 |  0.9831656 |  0.69538840 | -0.7477442 |  0.3658399 | ⋯ | 0 | 0 | 0 | 0 | 0 | 0 | 1 | 0 | 0 | 0 |\n",
       "| ⋮ | ⋮ | ⋮ | ⋮ | ⋮ | ⋮ | ⋮ | ⋮ | ⋮ | ⋮ | ⋱ | ⋮ | ⋮ | ⋮ | ⋮ | ⋮ | ⋮ | ⋮ | ⋮ | ⋮ | ⋮ |\n",
       "|  0.37276283 | -0.12405131 | -0.04953667 |  1.33459886 | -0.4921892 |  0.967694165 |  0.79107050 | -0.54970550 | -0.7477442 |  0.3658399 | ⋯ | 0 | 0 | 0 | 0 | 0 | 0 | 0 | 0 | 0 | 1 |\n",
       "|  0.74034819 |  0.10234636 | -0.04953667 |  0.62806677 | -0.4921892 |  0.537348087 |  0.21478530 | -0.16405695 |  0.6776215 |  0.3658399 | ⋯ | 0 | 0 | 0 | 0 | 0 | 0 | 0 | 0 | 0 | 1 |\n",
       "| -1.77148511 | -0.22566377 | -0.04953667 |  0.62806677 | -0.4921892 |  0.471140997 |  0.07071400 | -0.54970550 | -0.7477442 |  0.3658399 | ⋯ | 0 | 0 | 0 | 0 | 0 | 0 | 0 | 0 | 0 | 1 |\n",
       "| -1.77148511 |  4.62473824 | -0.04953667 | -0.07846533 | -0.4921892 | -0.455758250 | -1.27395146 | -0.54970550 |  0.6776215 |  0.3658399 | ⋯ | 0 | 0 | 0 | 0 | 0 | 0 | 0 | 0 | 0 | 1 |\n",
       "| -1.77148511 |  0.75106721 | -0.04953667 |  1.33459886 |  0.4100111 |  0.305623275 | -0.16940483 |  3.04784458 | -0.7477442 |  0.3658399 | ⋯ | 0 | 0 | 0 | 0 | 0 | 0 | 0 | 0 | 0 | 1 |\n",
       "| -0.23987944 | -0.24767787 | -0.04953667 |  0.62806677 | -0.4921892 |  0.603555176 |  0.26280907 | -0.25220519 |  0.6776215 |  0.3658399 | ⋯ | 0 | 0 | 0 | 0 | 0 | 0 | 0 | 0 | 0 | 1 |\n",
       "| -1.77148511 |  0.11393273 | -0.04953667 |  0.62806677 | -0.4921892 |  0.603555176 |  0.31083283 | -0.54970550 |  0.6776215 |  0.3658399 | ⋯ | 0 | 0 | 0 | 0 | 0 | 0 | 0 | 0 | 0 | 1 |\n",
       "|  0.83224453 |  0.48017788 | -0.04953667 |  1.33459886 | -0.4921892 |  1.000797710 |  0.83909427 |  2.92113148 | -0.7477442 |  0.3658399 | ⋯ | 0 | 0 | 0 | 0 | 0 | 0 | 0 | 0 | 0 | 1 |\n",
       "|  1.13856567 |  0.39756706 | -0.04953667 |  1.33459886 | -0.4921892 |  1.100108344 |  1.03118933 |  0.54112898 | -0.7477442 |  0.3658399 | ⋯ | 0 | 0 | 0 | 0 | 0 | 0 | 1 | 0 | 0 | 0 |\n",
       "|  0.92414087 |  0.14556352 | -0.04953667 |  1.33459886 | -0.4921892 |  1.100108344 |  1.03118933 |  0.59622163 | -0.7477442 |  0.3658399 | ⋯ | 0 | 0 | 0 | 0 | 0 | 0 | 1 | 0 | 0 | 0 |\n",
       "|  0.92414087 |  0.16108926 | -0.04953667 |  2.04113096 | -0.4921892 |  1.100108344 |  1.03118933 |  1.55483375 | -3.5984757 |  0.3658399 | ⋯ | 0 | 0 | 0 | 0 | 0 | 0 | 1 | 0 | 0 | 0 |\n",
       "|  2.05752907 |  2.44047580 | -2.28467463 | -3.61112581 | -2.2965898 | -0.687483061 | -1.61011783 | -0.54970550 |  0.6776215 | -3.5324441 | ⋯ | 0 | 0 | 0 | 0 | 0 | 0 | 0 | 0 | 0 | 1 |\n",
       "|  0.61781974 | -0.36690162 | -0.04953667 |  0.62806677 | -0.4921892 |  0.835279987 |  0.59897543 |  0.55214751 |  0.6776215 | -2.2330161 | ⋯ | 0 | 0 | 0 | 0 | 0 | 0 | 0 | 0 | 0 | 1 |\n",
       "| -0.79125748 | -0.65887814 | -0.04953667 | -0.07846533 | -0.4921892 |  0.868383532 |  0.64699920 |  0.08936924 |  0.6776215 |  0.3658399 | ⋯ | 0 | 0 | 0 | 0 | 0 | 0 | 0 | 0 | 0 | 1 |\n",
       "|  0.98540510 |  0.81456052 | -0.04953667 | -0.78499742 | -0.4921892 |  1.133211888 |  1.03118933 | -0.54970550 |  0.6776215 |  0.3658399 | ⋯ | 0 | 0 | 0 | 0 | 0 | 0 | 0 | 0 | 0 | 1 |\n",
       "| -0.51556846 | -0.87148803 | -0.04953667 | -0.78499742 |  0.4100111 |  0.173209097 | -0.36149990 | -0.54970550 |  0.6776215 |  0.3658399 | ⋯ | 0 | 0 | 0 | 0 | 0 | 0 | 0 | 0 | 0 | 1 |\n",
       "| -0.51556846 | -0.87148803 | -0.04953667 | -0.78499742 |  0.4100111 |  0.173209097 | -0.36149990 | -0.54970550 |  0.6776215 |  0.3658399 | ⋯ | 0 | 0 | 0 | 0 | 0 | 0 | 0 | 0 | 0 | 1 |\n",
       "| -0.48493635 | -0.72098108 | -0.04953667 | -0.07846533 | -1.3943895 |  0.040794918 | -0.55359496 | -0.54970550 |  0.6776215 |  0.3658399 | ⋯ | 0 | 0 | 0 | 0 | 0 | 0 | 0 | 0 | 0 | 1 |\n",
       "| -1.77148511 |  0.19109795 | -0.04953667 | -0.78499742 | -0.4921892 | -0.058515715 | -0.69766626 | -0.54970550 |  0.6776215 |  0.3658399 | ⋯ | 0 | 0 | 0 | 0 | 0 | 0 | 0 | 0 | 0 | 1 |\n",
       "| -1.12821073 | -1.00832305 | -0.04953667 | -1.49152952 | -1.3943895 |  0.007691374 | -0.60161873 | -0.54970550 |  0.6776215 |  0.3658399 | ⋯ | 0 | 0 | 0 | 0 | 0 | 0 | 0 | 0 | 0 | 1 |\n",
       "|  0.67908396 |  0.37045496 | -0.04953667 | -0.78499742 | -0.4921892 | -0.091619260 | -0.26545236 |  0.51909192 |  0.6776215 |  0.3658399 | ⋯ | 0 | 0 | 0 | 0 | 0 | 0 | 0 | 0 | 0 | 1 |\n",
       "| -1.12821073 | -1.00264573 | -0.04953667 | -1.49152952 | -0.4921892 | -0.058515715 | -0.69766626 | -0.54970550 |  0.6776215 |  0.3658399 | ⋯ | 0 | 0 | 0 | 0 | 0 | 0 | 0 | 0 | 0 | 1 |\n",
       "| -1.12821073 | -1.00345678 | -0.04953667 | -1.49152952 | -0.4921892 | -0.058515715 | -0.69766626 | -0.54970550 |  0.6776215 |  0.3658399 | ⋯ | 0 | 0 | 0 | 0 | 0 | 0 | 0 | 0 | 0 | 1 |\n",
       "| -1.12821073 | -0.96081894 | -0.04953667 | -1.49152952 | -0.4921892 | -0.058515715 | -0.69766626 | -0.54970550 |  0.6776215 |  0.3658399 | ⋯ | 0 | 0 | 0 | 0 | 0 | 0 | 0 | 0 | 0 | 1 |\n",
       "| -0.08671887 |  0.28425237 | -0.04953667 | -0.07846533 | -0.4921892 |  0.140105552 | -0.40952366 | -0.54970550 |  0.6776215 |  0.3658399 | ⋯ | 0 | 0 | 0 | 0 | 0 | 0 | 0 | 0 | 0 | 1 |\n",
       "|  0.15833804 | -0.10307998 | -0.04953667 | -0.78499742 | -0.4921892 |  0.140105552 | -0.40952366 | -0.54970550 |  0.6776215 |  0.3658399 | ⋯ | 0 | 0 | 0 | 0 | 0 | 0 | 0 | 0 | 0 | 1 |\n",
       "| -0.63809691 | -0.26065461 | -0.04953667 | -0.07846533 |  0.4100111 |  0.404933908 | -0.02533353 | -0.54970550 |  0.6776215 |  0.3658399 | ⋯ | 0 | 0 | 0 | 0 | 0 | 0 | 0 | 0 | 0 | 1 |\n",
       "| -1.77148511 | -0.15081582 | -0.04953667 | -0.78499742 | -0.4921892 |  0.371830364 | -0.07335730 | -0.54970550 |  0.6776215 |  0.3658399 | ⋯ | 0 | 0 | 0 | 0 | 0 | 0 | 0 | 0 | 0 | 1 |\n",
       "|  0.12770592 |  0.02946809 | -0.04953667 | -0.78499742 | -0.4921892 |  0.669762265 |  0.35885660 | -0.54970550 |  0.6776215 |  0.3658399 | ⋯ | 0 | 0 | 0 | 0 | 0 | 0 | 0 | 0 | 0 | 1 |\n",
       "|  0.49529128 | -0.06484496 | -0.04953667 |  0.62806677 | -0.4921892 |  0.702865809 |  0.45490413 | -0.03183459 |  0.6776215 |  0.3658399 | ⋯ | 0 | 0 | 0 | 0 | 0 | 0 | 0 | 0 | 0 | 1 |\n",
       "\n"
      ],
      "text/plain": [
       "     Lot_Frontage Lot_Area     Condition_1 Overall_Qual Overall_Cond\n",
       "1     2.5476429    2.500724921 -0.04953667 -0.07846533  -0.4921892  \n",
       "2     0.6790840    0.166303123 -1.16710565 -0.78499742   0.4100111  \n",
       "3     1.0773014    0.112774094 -0.04953667  0.62806677  -0.4921892  \n",
       "4     0.6178197   -0.024176798 -0.04953667 -0.07846533   0.4100111  \n",
       "5    -0.4543042   -0.600366971 -0.04953667  1.33459886  -0.4921892  \n",
       "6    -0.5768327   -0.555875310 -0.04953667  1.33459886  -0.4921892  \n",
       "7     0.0664417   -0.311287043 -0.04953667  0.62806677  -0.4921892  \n",
       "8     0.5259234   -0.021627796 -0.04953667 -0.07846533  -0.4921892  \n",
       "9    -1.7714851   -0.255672467 -0.04953667 -0.07846533   1.3122114  \n",
       "10    0.1583380   -0.206777987 -0.04953667 -0.07846533  -0.4921892  \n",
       "11    0.8322445   -0.001235785 -0.04953667  0.62806677  -0.4921892  \n",
       "12   -0.3317758    5.018906545 -0.04953667  1.33459886  -0.4921892  \n",
       "13    0.9241409    0.139886199 -0.04953667  2.04113096  -3.1987901  \n",
       "14    2.5170108    1.037134681 -0.04953667 -1.49152952  -0.4921892  \n",
       "15    0.8322445    0.346239447 -0.04953667 -0.07846533   0.4100111  \n",
       "16    0.8322445    0.050787015 -0.04953667  0.62806677   0.4100111  \n",
       "17   -1.7714851   -0.311287043 -0.04953667  0.62806677  -0.4921892  \n",
       "18   -1.7714851    0.122159054 -0.04953667 -0.07846533   1.3122114  \n",
       "19   -1.7714851    0.272318407 -0.04953667 -0.78499742   0.4100111  \n",
       "20    0.2196023   -0.201216529 -0.04953667 -0.78499742   0.4100111  \n",
       "21    0.3727628   -0.207009714 -0.04953667 -1.49152952  -0.4921892  \n",
       "22    0.3727628    0.036304053 -0.04953667 -1.49152952  -0.4921892  \n",
       "23   -1.1282107   -0.985613768 -0.04953667 -0.07846533  -0.4921892  \n",
       "24   -1.1282107   -0.985613768 -0.04953667 -0.78499742  -0.4921892  \n",
       "25   -0.1479831   -0.711827849 -0.04953667 -0.07846533  -0.4921892  \n",
       "26   -1.0363144   -0.916095549 -0.04953667 -0.07846533   0.4100111  \n",
       "27    1.2304620    0.149618750 -0.04953667  1.33459886  -0.4921892  \n",
       "28    0.7709803   -0.003205468 -0.04953667  2.04113096  -0.4921892  \n",
       "29    1.1079336    0.312407247 -0.04953667  1.33459886  -0.4921892  \n",
       "30    1.1385657    0.231186794 -0.04953667  0.62806677  -0.4921892  \n",
       "⋮    ⋮            ⋮            ⋮           ⋮            ⋮           \n",
       "2024  0.37276283  -0.12405131  -0.04953667  1.33459886  -0.4921892  \n",
       "2025  0.74034819   0.10234636  -0.04953667  0.62806677  -0.4921892  \n",
       "2026 -1.77148511  -0.22566377  -0.04953667  0.62806677  -0.4921892  \n",
       "2027 -1.77148511   4.62473824  -0.04953667 -0.07846533  -0.4921892  \n",
       "2028 -1.77148511   0.75106721  -0.04953667  1.33459886   0.4100111  \n",
       "2029 -0.23987944  -0.24767787  -0.04953667  0.62806677  -0.4921892  \n",
       "2030 -1.77148511   0.11393273  -0.04953667  0.62806677  -0.4921892  \n",
       "2031  0.83224453   0.48017788  -0.04953667  1.33459886  -0.4921892  \n",
       "2032  1.13856567   0.39756706  -0.04953667  1.33459886  -0.4921892  \n",
       "2033  0.92414087   0.14556352  -0.04953667  1.33459886  -0.4921892  \n",
       "2034  0.92414087   0.16108926  -0.04953667  2.04113096  -0.4921892  \n",
       "2035  2.05752907   2.44047580  -2.28467463 -3.61112581  -2.2965898  \n",
       "2036  0.61781974  -0.36690162  -0.04953667  0.62806677  -0.4921892  \n",
       "2037 -0.79125748  -0.65887814  -0.04953667 -0.07846533  -0.4921892  \n",
       "2038  0.98540510   0.81456052  -0.04953667 -0.78499742  -0.4921892  \n",
       "2039 -0.51556846  -0.87148803  -0.04953667 -0.78499742   0.4100111  \n",
       "2040 -0.51556846  -0.87148803  -0.04953667 -0.78499742   0.4100111  \n",
       "2041 -0.48493635  -0.72098108  -0.04953667 -0.07846533  -1.3943895  \n",
       "2042 -1.77148511   0.19109795  -0.04953667 -0.78499742  -0.4921892  \n",
       "2043 -1.12821073  -1.00832305  -0.04953667 -1.49152952  -1.3943895  \n",
       "2044  0.67908396   0.37045496  -0.04953667 -0.78499742  -0.4921892  \n",
       "2045 -1.12821073  -1.00264573  -0.04953667 -1.49152952  -0.4921892  \n",
       "2046 -1.12821073  -1.00345678  -0.04953667 -1.49152952  -0.4921892  \n",
       "2047 -1.12821073  -0.96081894  -0.04953667 -1.49152952  -0.4921892  \n",
       "2048 -0.08671887   0.28425237  -0.04953667 -0.07846533  -0.4921892  \n",
       "2049  0.15833804  -0.10307998  -0.04953667 -0.78499742  -0.4921892  \n",
       "2050 -0.63809691  -0.26065461  -0.04953667 -0.07846533   0.4100111  \n",
       "2051 -1.77148511  -0.15081582  -0.04953667 -0.78499742  -0.4921892  \n",
       "2052  0.12770592   0.02946809  -0.04953667 -0.78499742  -0.4921892  \n",
       "2053  0.49529128  -0.06484496  -0.04953667  0.62806677  -0.4921892  \n",
       "     Year_Built   Year_Remod_Add Mas_Vnr_Area Exter_Qual Exter_Cond ⋯\n",
       "1    -0.38955116  -1.1779039      0.06733218   0.6776215  0.3658399 ⋯\n",
       "2    -0.35644762  -1.1298802     -0.54970550   0.6776215  0.3658399 ⋯\n",
       "3    -0.12472280  -0.7937138     -0.54970550  -0.7477442  0.3658399 ⋯\n",
       "4     0.86838353   0.6469992     -0.43952020   0.6776215  0.3658399 ⋯\n",
       "5     0.66976226   0.3588566     -0.54970550  -0.7477442  0.3658399 ⋯\n",
       "6     0.76907290   0.5509517     -0.54970550  -0.7477442  0.3658399 ⋯\n",
       "7     0.90148708   0.6950230     -0.54970550   0.6776215  0.3658399 ⋯\n",
       "8     0.70286581   0.4549041     -0.54970550   0.6776215  0.3658399 ⋯\n",
       "9     0.66976226   1.0792131     -0.54970550   0.6776215 -2.2330161 ⋯\n",
       "10    0.86838353   0.6469992     -0.54970550   0.6776215  0.3658399 ⋯\n",
       "11    0.60355518   0.2628091     -0.54970550   0.6776215  0.3658399 ⋯\n",
       "12    1.03390125   0.8871180      2.77238133  -3.5984757  0.3658399 ⋯\n",
       "13    1.26562607   1.2232844      1.37853727  -0.7477442  0.3658399 ⋯\n",
       "14   -0.68748306  -1.6101178     -0.54970550   0.6776215  0.3658399 ⋯\n",
       "15    0.20631264   0.1667615      0.10589704   0.6776215  0.3658399 ⋯\n",
       "16    0.07389846  -0.5055712     -0.10345503   0.6776215  0.3658399 ⋯\n",
       "17    0.93459062   0.7430467     -0.54970550  -0.7477442  0.3658399 ⋯\n",
       "18   -0.05851572  -0.6976663      0.44196221   0.6776215  0.3658399 ⋯\n",
       "19   -0.02541217   1.1272369     -0.54970550   0.6776215  0.3658399 ⋯\n",
       "20   -0.12472280  -0.7937138     -0.54970550   0.6776215  0.3658399 ⋯\n",
       "21   -0.05851572  -0.6976663     -0.54970550   0.6776215  0.3658399 ⋯\n",
       "22   -0.02541217  -0.6496425     -0.54970550   0.6776215  0.3658399 ⋯\n",
       "23   -0.02541217  -0.6496425      2.22696409   0.6776215  0.3658399 ⋯\n",
       "24   -0.02541217  -0.6496425      2.16085290   0.6776215  0.3658399 ⋯\n",
       "25    0.17320910  -0.3614999     -0.54970550   0.6776215  0.3658399 ⋯\n",
       "26    0.10700201  -0.4575474     -0.54970550   0.6776215  0.3658399 ⋯\n",
       "27    1.16631543   1.1272369      0.55214751  -0.7477442  0.3658399 ⋯\n",
       "28    1.23252252   1.2232844      1.92946377  -3.5984757  0.3658399 ⋯\n",
       "29    1.23252252   1.2232844      0.86066635  -0.7477442  0.3658399 ⋯\n",
       "30    1.10010834   0.9831656      0.69538840  -0.7477442  0.3658399 ⋯\n",
       "⋮    ⋮            ⋮              ⋮            ⋮          ⋮          ⋱\n",
       "2024  0.967694165  0.79107050    -0.54970550  -0.7477442  0.3658399 ⋯\n",
       "2025  0.537348087  0.21478530    -0.16405695   0.6776215  0.3658399 ⋯\n",
       "2026  0.471140997  0.07071400    -0.54970550  -0.7477442  0.3658399 ⋯\n",
       "2027 -0.455758250 -1.27395146    -0.54970550   0.6776215  0.3658399 ⋯\n",
       "2028  0.305623275 -0.16940483     3.04784458  -0.7477442  0.3658399 ⋯\n",
       "2029  0.603555176  0.26280907    -0.25220519   0.6776215  0.3658399 ⋯\n",
       "2030  0.603555176  0.31083283    -0.54970550   0.6776215  0.3658399 ⋯\n",
       "2031  1.000797710  0.83909427     2.92113148  -0.7477442  0.3658399 ⋯\n",
       "2032  1.100108344  1.03118933     0.54112898  -0.7477442  0.3658399 ⋯\n",
       "2033  1.100108344  1.03118933     0.59622163  -0.7477442  0.3658399 ⋯\n",
       "2034  1.100108344  1.03118933     1.55483375  -3.5984757  0.3658399 ⋯\n",
       "2035 -0.687483061 -1.61011783    -0.54970550   0.6776215 -3.5324441 ⋯\n",
       "2036  0.835279987  0.59897543     0.55214751   0.6776215 -2.2330161 ⋯\n",
       "2037  0.868383532  0.64699920     0.08936924   0.6776215  0.3658399 ⋯\n",
       "2038  1.133211888  1.03118933    -0.54970550   0.6776215  0.3658399 ⋯\n",
       "2039  0.173209097 -0.36149990    -0.54970550   0.6776215  0.3658399 ⋯\n",
       "2040  0.173209097 -0.36149990    -0.54970550   0.6776215  0.3658399 ⋯\n",
       "2041  0.040794918 -0.55359496    -0.54970550   0.6776215  0.3658399 ⋯\n",
       "2042 -0.058515715 -0.69766626    -0.54970550   0.6776215  0.3658399 ⋯\n",
       "2043  0.007691374 -0.60161873    -0.54970550   0.6776215  0.3658399 ⋯\n",
       "2044 -0.091619260 -0.26545236     0.51909192   0.6776215  0.3658399 ⋯\n",
       "2045 -0.058515715 -0.69766626    -0.54970550   0.6776215  0.3658399 ⋯\n",
       "2046 -0.058515715 -0.69766626    -0.54970550   0.6776215  0.3658399 ⋯\n",
       "2047 -0.058515715 -0.69766626    -0.54970550   0.6776215  0.3658399 ⋯\n",
       "2048  0.140105552 -0.40952366    -0.54970550   0.6776215  0.3658399 ⋯\n",
       "2049  0.140105552 -0.40952366    -0.54970550   0.6776215  0.3658399 ⋯\n",
       "2050  0.404933908 -0.02533353    -0.54970550   0.6776215  0.3658399 ⋯\n",
       "2051  0.371830364 -0.07335730    -0.54970550   0.6776215  0.3658399 ⋯\n",
       "2052  0.669762265  0.35885660    -0.54970550   0.6776215  0.3658399 ⋯\n",
       "2053  0.702865809  0.45490413    -0.03183459   0.6776215  0.3658399 ⋯\n",
       "     Sale_Type_COD Sale_Type_Con Sale_Type_ConLD Sale_Type_ConLI\n",
       "1    0             0             0               0              \n",
       "2    0             0             0               0              \n",
       "3    0             0             0               0              \n",
       "4    0             0             0               0              \n",
       "5    0             0             0               0              \n",
       "6    0             0             0               0              \n",
       "7    0             0             0               0              \n",
       "8    0             0             0               0              \n",
       "9    0             0             0               0              \n",
       "10   0             0             0               0              \n",
       "11   0             0             0               0              \n",
       "12   0             0             0               0              \n",
       "13   0             0             0               0              \n",
       "14   0             0             0               0              \n",
       "15   0             0             0               0              \n",
       "16   0             0             0               0              \n",
       "17   0             0             0               0              \n",
       "18   0             0             0               0              \n",
       "19   0             0             0               0              \n",
       "20   0             0             0               0              \n",
       "21   0             0             0               0              \n",
       "22   0             0             0               1              \n",
       "23   1             0             0               0              \n",
       "24   0             0             0               0              \n",
       "25   0             0             0               0              \n",
       "26   0             0             0               0              \n",
       "27   0             0             0               0              \n",
       "28   0             0             0               0              \n",
       "29   0             0             0               0              \n",
       "30   0             0             0               0              \n",
       "⋮    ⋮             ⋮             ⋮               ⋮              \n",
       "2024 0             0             0               0              \n",
       "2025 0             0             0               0              \n",
       "2026 0             0             0               0              \n",
       "2027 0             0             0               0              \n",
       "2028 0             0             0               0              \n",
       "2029 0             0             0               0              \n",
       "2030 0             0             0               0              \n",
       "2031 0             0             0               0              \n",
       "2032 0             0             0               0              \n",
       "2033 0             0             0               0              \n",
       "2034 0             0             0               0              \n",
       "2035 0             0             0               0              \n",
       "2036 0             0             0               0              \n",
       "2037 0             0             0               0              \n",
       "2038 0             0             0               0              \n",
       "2039 0             0             0               0              \n",
       "2040 0             0             0               0              \n",
       "2041 0             0             0               0              \n",
       "2042 0             0             0               0              \n",
       "2043 0             0             0               0              \n",
       "2044 0             0             0               0              \n",
       "2045 0             0             0               0              \n",
       "2046 0             0             0               0              \n",
       "2047 0             0             0               0              \n",
       "2048 0             0             0               0              \n",
       "2049 0             0             0               0              \n",
       "2050 0             0             0               0              \n",
       "2051 0             0             0               0              \n",
       "2052 0             0             0               0              \n",
       "2053 0             0             0               0              \n",
       "     Sale_Type_ConLw Sale_Type_CWD Sale_Type_New Sale_Type_Oth Sale_Type_VWD\n",
       "1    0               0             0             0             0            \n",
       "2    0               0             0             0             0            \n",
       "3    0               0             0             0             0            \n",
       "4    0               0             0             0             0            \n",
       "5    0               0             0             0             0            \n",
       "6    0               0             0             0             0            \n",
       "7    0               0             0             0             0            \n",
       "8    0               0             0             0             0            \n",
       "9    0               0             0             0             0            \n",
       "10   0               0             0             0             0            \n",
       "11   0               0             0             0             0            \n",
       "12   0               0             0             0             0            \n",
       "13   0               0             1             0             0            \n",
       "14   0               0             0             0             0            \n",
       "15   0               0             0             0             0            \n",
       "16   0               0             0             0             0            \n",
       "17   0               0             0             0             0            \n",
       "18   0               0             0             0             0            \n",
       "19   0               0             0             0             0            \n",
       "20   0               0             0             0             0            \n",
       "21   0               0             0             0             0            \n",
       "22   0               0             0             0             0            \n",
       "23   0               0             0             0             0            \n",
       "24   0               0             0             0             0            \n",
       "25   0               0             0             0             0            \n",
       "26   0               0             0             0             0            \n",
       "27   0               0             0             0             0            \n",
       "28   0               0             1             0             0            \n",
       "29   0               0             1             0             0            \n",
       "30   0               0             1             0             0            \n",
       "⋮    ⋮               ⋮             ⋮             ⋮             ⋮            \n",
       "2024 0               0             0             0             0            \n",
       "2025 0               0             0             0             0            \n",
       "2026 0               0             0             0             0            \n",
       "2027 0               0             0             0             0            \n",
       "2028 0               0             0             0             0            \n",
       "2029 0               0             0             0             0            \n",
       "2030 0               0             0             0             0            \n",
       "2031 0               0             0             0             0            \n",
       "2032 0               0             1             0             0            \n",
       "2033 0               0             1             0             0            \n",
       "2034 0               0             1             0             0            \n",
       "2035 0               0             0             0             0            \n",
       "2036 0               0             0             0             0            \n",
       "2037 0               0             0             0             0            \n",
       "2038 0               0             0             0             0            \n",
       "2039 0               0             0             0             0            \n",
       "2040 0               0             0             0             0            \n",
       "2041 0               0             0             0             0            \n",
       "2042 0               0             0             0             0            \n",
       "2043 0               0             0             0             0            \n",
       "2044 0               0             0             0             0            \n",
       "2045 0               0             0             0             0            \n",
       "2046 0               0             0             0             0            \n",
       "2047 0               0             0             0             0            \n",
       "2048 0               0             0             0             0            \n",
       "2049 0               0             0             0             0            \n",
       "2050 0               0             0             0             0            \n",
       "2051 0               0             0             0             0            \n",
       "2052 0               0             0             0             0            \n",
       "2053 0               0             0             0             0            \n",
       "     Sale_Type_WD.\n",
       "1    1            \n",
       "2    1            \n",
       "3    1            \n",
       "4    1            \n",
       "5    1            \n",
       "6    1            \n",
       "7    1            \n",
       "8    1            \n",
       "9    1            \n",
       "10   1            \n",
       "11   1            \n",
       "12   1            \n",
       "13   0            \n",
       "14   1            \n",
       "15   1            \n",
       "16   1            \n",
       "17   1            \n",
       "18   1            \n",
       "19   1            \n",
       "20   1            \n",
       "21   1            \n",
       "22   0            \n",
       "23   0            \n",
       "24   1            \n",
       "25   1            \n",
       "26   1            \n",
       "27   1            \n",
       "28   0            \n",
       "29   0            \n",
       "30   0            \n",
       "⋮    ⋮            \n",
       "2024 1            \n",
       "2025 1            \n",
       "2026 1            \n",
       "2027 1            \n",
       "2028 1            \n",
       "2029 1            \n",
       "2030 1            \n",
       "2031 1            \n",
       "2032 0            \n",
       "2033 0            \n",
       "2034 0            \n",
       "2035 1            \n",
       "2036 1            \n",
       "2037 1            \n",
       "2038 1            \n",
       "2039 1            \n",
       "2040 1            \n",
       "2041 1            \n",
       "2042 1            \n",
       "2043 1            \n",
       "2044 1            \n",
       "2045 1            \n",
       "2046 1            \n",
       "2047 1            \n",
       "2048 1            \n",
       "2049 1            \n",
       "2050 1            \n",
       "2051 1            \n",
       "2052 1            \n",
       "2053 1            "
      ]
     },
     "metadata": {},
     "output_type": "display_data"
    }
   ],
   "source": [
    "baked_train <- bake(prepare, new_data = house_train)\n",
    "baked_test <- bake(prepare, new_data = house_test)\n",
    "baked_train"
   ]
  },
  {
   "cell_type": "code",
   "execution_count": 71,
   "metadata": {},
   "outputs": [
    {
     "data": {
      "text/plain": [
       "k-Nearest Neighbors \n",
       "\n",
       "2053 samples\n",
       "  80 predictor\n",
       "\n",
       "Recipe steps: nzv, integer, center, scale, dummy \n",
       "Resampling: Cross-Validated (10 fold) \n",
       "Summary of sample sizes: 1848, 1849, 1848, 1847, 1848, 1847, ... \n",
       "Resampling results across tuning parameters:\n",
       "\n",
       "  k   RMSE      Rsquared   MAE     \n",
       "  10  32579.79  0.8502547  20090.03\n",
       "  20  32722.68  0.8576365  20384.95\n",
       "  30  33234.08  0.8579514  20700.71\n",
       "  40  33948.57  0.8567274  21204.39\n",
       "  50  34591.36  0.8546013  21691.14\n",
       "\n",
       "RMSE was used to select the optimal model using the smallest value.\n",
       "The final value used for the model was k = 10."
      ]
     },
     "metadata": {},
     "output_type": "display_data"
    }
   ],
   "source": [
    "# Specify resampling strategy\n",
    "cv <- trainControl(\n",
    "  method = \"cv\", \n",
    "  number = 10, \n",
    ")\n",
    "\n",
    "# Create grid of hyperparameter values\n",
    "hyper_grid <- expand.grid(k = seq(10, 50, by = 10))\n",
    "\n",
    "# Tune a knn model using grid search\n",
    "knn_fit <- train(\n",
    "  blueprint_house, \n",
    "  data = house_train, \n",
    "  method = \"knn\", \n",
    "  trControl = cv, \n",
    "  tuneGrid = hyper_grid,\n",
    "  metric = \"RMSE\"\n",
    ")\n",
    "knn_fit"
   ]
  },
  {
   "cell_type": "code",
   "execution_count": 72,
   "metadata": {},
   "outputs": [
    {
     "data": {
      "image/png": "[encoded data removed]",
      "text/plain": [
       "plot without title"
      ]
     },
     "metadata": {
      "image/png": {
       "height": 600,
       "width": 900
      }
     },
     "output_type": "display_data"
    }
   ],
   "source": [
    "ggplot(knn_fit)\n"
   ]
  },
  {
   "cell_type": "markdown",
   "metadata": {},
   "source": [
    "# Classification"
   ]
  },
  {
   "cell_type": "code",
   "execution_count": 7,
   "metadata": {},
   "outputs": [],
   "source": [
    "data(\"attrition\", package = \"modeldata\")\n",
    "# Job attrition data\n",
    "attrition <- attrition %>% \n",
    "  mutate_if(is.ordered, .funs = factor, ordered = FALSE)"
   ]
  },
  {
   "cell_type": "code",
   "execution_count": 41,
   "metadata": {},
   "outputs": [],
   "source": [
    "index_caret <- createDataPartition(attrition$Attrition, p = 0.7, list = FALSE)\n",
    "attrition_train <- attrition[index_caret, ]\n",
    "attrition_test  <- attrition[-index_caret, ]"
   ]
  },
  {
   "cell_type": "code",
   "execution_count": null,
   "metadata": {},
   "outputs": [],
   "source": []
  },
  {
   "cell_type": "code",
   "execution_count": null,
   "metadata": {},
   "outputs": [],
   "source": []
  },
  {
   "cell_type": "code",
   "execution_count": null,
   "metadata": {},
   "outputs": [],
   "source": []
  },
  {
   "cell_type": "code",
   "execution_count": 39,
   "metadata": {},
   "outputs": [
    {
     "data": {
      "text/html": [
       "<style>\n",
       ".list-inline {list-style: none; margin:0; padding: 0}\n",
       ".list-inline>li {display: inline-block}\n",
       ".list-inline>li:not(:last-child)::after {content: \"\\00b7\"; padding: 0 .5ex}\n",
       "</style>\n",
       "<ol class=list-inline><li>'Alley'</li><li>'Bedroom_AbvGr'</li><li>'Bldg_Type'</li><li>'Bsmt_Cond'</li><li>'Bsmt_Exposure'</li><li>'Bsmt_Full_Bath'</li><li>'Bsmt_Half_Bath'</li><li>'Bsmt_Qual'</li><li>'Bsmt_Unf_SF'</li><li>'BsmtFin_SF_1'</li><li>'BsmtFin_SF_2'</li><li>'BsmtFin_Type_1'</li><li>'BsmtFin_Type_2'</li><li>'Central_Air'</li><li>'Condition_1'</li><li>'Condition_2'</li><li>'Electrical'</li><li>'Enclosed_Porch'</li><li>'Exter_Cond'</li><li>'Exter_Qual'</li><li>'Exterior_1st'</li><li>'Exterior_2nd'</li><li>'Fence'</li><li>'Fireplace_Qu'</li><li>'Fireplaces'</li><li>'First_Flr_SF'</li><li>'Foundation'</li><li>'Full_Bath'</li><li>'Functional'</li><li>'Garage_Area'</li><li>'Garage_Cars'</li><li>'Garage_Cond'</li><li>'Garage_Finish'</li><li>'Garage_Qual'</li><li>'Garage_Type'</li><li>'Gr_Liv_Area'</li><li>'Half_Bath'</li><li>'Heating'</li><li>'Heating_QC'</li><li>'House_Style'</li><li>'Kitchen_AbvGr'</li><li>'Kitchen_Qual'</li><li>'Land_Contour'</li><li>'Land_Slope'</li><li>'Latitude'</li><li>'Longitude'</li><li>'Lot_Area'</li><li>'Lot_Config'</li><li>'Lot_Frontage'</li><li>'Lot_Shape'</li><li>'Low_Qual_Fin_SF'</li><li>'Mas_Vnr_Area'</li><li>'Mas_Vnr_Type'</li><li>'Misc_Feature'</li><li>'Misc_Val'</li><li>'Mo_Sold'</li><li>'MS_SubClass'</li><li>'MS_Zoning'</li><li>'Neighborhood'</li><li>'Open_Porch_SF'</li><li>'Overall_Cond'</li><li>'Overall_Qual'</li><li>'Paved_Drive'</li><li>'Pool_Area'</li><li>'Pool_QC'</li><li>'Roof_Matl'</li><li>'Roof_Style'</li><li>'Sale_Condition'</li><li>'Sale_Price'</li><li>'Sale_Type'</li><li>'Screen_Porch'</li><li>'Second_Flr_SF'</li><li>'Street'</li><li>'Three_season_porch'</li><li>'Total_Bsmt_SF'</li><li>'TotRms_AbvGrd'</li><li>'Utilities'</li><li>'Wood_Deck_SF'</li><li>'Year_Built'</li><li>'Year_Remod_Add'</li><li>'Year_Sold'</li></ol>\n"
      ],
      "text/latex": [
       "\\begin{enumerate*}\n",
       "\\item 'Alley'\n",
       "\\item 'Bedroom\\_AbvGr'\n",
       "\\item 'Bldg\\_Type'\n",
       "\\item 'Bsmt\\_Cond'\n",
       "\\item 'Bsmt\\_Exposure'\n",
       "\\item 'Bsmt\\_Full\\_Bath'\n",
       "\\item 'Bsmt\\_Half\\_Bath'\n",
       "\\item 'Bsmt\\_Qual'\n",
       "\\item 'Bsmt\\_Unf\\_SF'\n",
       "\\item 'BsmtFin\\_SF\\_1'\n",
       "\\item 'BsmtFin\\_SF\\_2'\n",
       "\\item 'BsmtFin\\_Type\\_1'\n",
       "\\item 'BsmtFin\\_Type\\_2'\n",
       "\\item 'Central\\_Air'\n",
       "\\item 'Condition\\_1'\n",
       "\\item 'Condition\\_2'\n",
       "\\item 'Electrical'\n",
       "\\item 'Enclosed\\_Porch'\n",
       "\\item 'Exter\\_Cond'\n",
       "\\item 'Exter\\_Qual'\n",
       "\\item 'Exterior\\_1st'\n",
       "\\item 'Exterior\\_2nd'\n",
       "\\item 'Fence'\n",
       "\\item 'Fireplace\\_Qu'\n",
       "\\item 'Fireplaces'\n",
       "\\item 'First\\_Flr\\_SF'\n",
       "\\item 'Foundation'\n",
       "\\item 'Full\\_Bath'\n",
       "\\item 'Functional'\n",
       "\\item 'Garage\\_Area'\n",
       "\\item 'Garage\\_Cars'\n",
       "\\item 'Garage\\_Cond'\n",
       "\\item 'Garage\\_Finish'\n",
       "\\item 'Garage\\_Qual'\n",
       "\\item 'Garage\\_Type'\n",
       "\\item 'Gr\\_Liv\\_Area'\n",
       "\\item 'Half\\_Bath'\n",
       "\\item 'Heating'\n",
       "\\item 'Heating\\_QC'\n",
       "\\item 'House\\_Style'\n",
       "\\item 'Kitchen\\_AbvGr'\n",
       "\\item 'Kitchen\\_Qual'\n",
       "\\item 'Land\\_Contour'\n",
       "\\item 'Land\\_Slope'\n",
       "\\item 'Latitude'\n",
       "\\item 'Longitude'\n",
       "\\item 'Lot\\_Area'\n",
       "\\item 'Lot\\_Config'\n",
       "\\item 'Lot\\_Frontage'\n",
       "\\item 'Lot\\_Shape'\n",
       "\\item 'Low\\_Qual\\_Fin\\_SF'\n",
       "\\item 'Mas\\_Vnr\\_Area'\n",
       "\\item 'Mas\\_Vnr\\_Type'\n",
       "\\item 'Misc\\_Feature'\n",
       "\\item 'Misc\\_Val'\n",
       "\\item 'Mo\\_Sold'\n",
       "\\item 'MS\\_SubClass'\n",
       "\\item 'MS\\_Zoning'\n",
       "\\item 'Neighborhood'\n",
       "\\item 'Open\\_Porch\\_SF'\n",
       "\\item 'Overall\\_Cond'\n",
       "\\item 'Overall\\_Qual'\n",
       "\\item 'Paved\\_Drive'\n",
       "\\item 'Pool\\_Area'\n",
       "\\item 'Pool\\_QC'\n",
       "\\item 'Roof\\_Matl'\n",
       "\\item 'Roof\\_Style'\n",
       "\\item 'Sale\\_Condition'\n",
       "\\item 'Sale\\_Price'\n",
       "\\item 'Sale\\_Type'\n",
       "\\item 'Screen\\_Porch'\n",
       "\\item 'Second\\_Flr\\_SF'\n",
       "\\item 'Street'\n",
       "\\item 'Three\\_season\\_porch'\n",
       "\\item 'Total\\_Bsmt\\_SF'\n",
       "\\item 'TotRms\\_AbvGrd'\n",
       "\\item 'Utilities'\n",
       "\\item 'Wood\\_Deck\\_SF'\n",
       "\\item 'Year\\_Built'\n",
       "\\item 'Year\\_Remod\\_Add'\n",
       "\\item 'Year\\_Sold'\n",
       "\\end{enumerate*}\n"
      ],
      "text/markdown": [
       "1. 'Alley'\n",
       "2. 'Bedroom_AbvGr'\n",
       "3. 'Bldg_Type'\n",
       "4. 'Bsmt_Cond'\n",
       "5. 'Bsmt_Exposure'\n",
       "6. 'Bsmt_Full_Bath'\n",
       "7. 'Bsmt_Half_Bath'\n",
       "8. 'Bsmt_Qual'\n",
       "9. 'Bsmt_Unf_SF'\n",
       "10. 'BsmtFin_SF_1'\n",
       "11. 'BsmtFin_SF_2'\n",
       "12. 'BsmtFin_Type_1'\n",
       "13. 'BsmtFin_Type_2'\n",
       "14. 'Central_Air'\n",
       "15. 'Condition_1'\n",
       "16. 'Condition_2'\n",
       "17. 'Electrical'\n",
       "18. 'Enclosed_Porch'\n",
       "19. 'Exter_Cond'\n",
       "20. 'Exter_Qual'\n",
       "21. 'Exterior_1st'\n",
       "22. 'Exterior_2nd'\n",
       "23. 'Fence'\n",
       "24. 'Fireplace_Qu'\n",
       "25. 'Fireplaces'\n",
       "26. 'First_Flr_SF'\n",
       "27. 'Foundation'\n",
       "28. 'Full_Bath'\n",
       "29. 'Functional'\n",
       "30. 'Garage_Area'\n",
       "31. 'Garage_Cars'\n",
       "32. 'Garage_Cond'\n",
       "33. 'Garage_Finish'\n",
       "34. 'Garage_Qual'\n",
       "35. 'Garage_Type'\n",
       "36. 'Gr_Liv_Area'\n",
       "37. 'Half_Bath'\n",
       "38. 'Heating'\n",
       "39. 'Heating_QC'\n",
       "40. 'House_Style'\n",
       "41. 'Kitchen_AbvGr'\n",
       "42. 'Kitchen_Qual'\n",
       "43. 'Land_Contour'\n",
       "44. 'Land_Slope'\n",
       "45. 'Latitude'\n",
       "46. 'Longitude'\n",
       "47. 'Lot_Area'\n",
       "48. 'Lot_Config'\n",
       "49. 'Lot_Frontage'\n",
       "50. 'Lot_Shape'\n",
       "51. 'Low_Qual_Fin_SF'\n",
       "52. 'Mas_Vnr_Area'\n",
       "53. 'Mas_Vnr_Type'\n",
       "54. 'Misc_Feature'\n",
       "55. 'Misc_Val'\n",
       "56. 'Mo_Sold'\n",
       "57. 'MS_SubClass'\n",
       "58. 'MS_Zoning'\n",
       "59. 'Neighborhood'\n",
       "60. 'Open_Porch_SF'\n",
       "61. 'Overall_Cond'\n",
       "62. 'Overall_Qual'\n",
       "63. 'Paved_Drive'\n",
       "64. 'Pool_Area'\n",
       "65. 'Pool_QC'\n",
       "66. 'Roof_Matl'\n",
       "67. 'Roof_Style'\n",
       "68. 'Sale_Condition'\n",
       "69. 'Sale_Price'\n",
       "70. 'Sale_Type'\n",
       "71. 'Screen_Porch'\n",
       "72. 'Second_Flr_SF'\n",
       "73. 'Street'\n",
       "74. 'Three_season_porch'\n",
       "75. 'Total_Bsmt_SF'\n",
       "76. 'TotRms_AbvGrd'\n",
       "77. 'Utilities'\n",
       "78. 'Wood_Deck_SF'\n",
       "79. 'Year_Built'\n",
       "80. 'Year_Remod_Add'\n",
       "81. 'Year_Sold'\n",
       "\n",
       "\n"
      ],
      "text/plain": [
       " [1] \"Alley\"              \"Bedroom_AbvGr\"      \"Bldg_Type\"         \n",
       " [4] \"Bsmt_Cond\"          \"Bsmt_Exposure\"      \"Bsmt_Full_Bath\"    \n",
       " [7] \"Bsmt_Half_Bath\"     \"Bsmt_Qual\"          \"Bsmt_Unf_SF\"       \n",
       "[10] \"BsmtFin_SF_1\"       \"BsmtFin_SF_2\"       \"BsmtFin_Type_1\"    \n",
       "[13] \"BsmtFin_Type_2\"     \"Central_Air\"        \"Condition_1\"       \n",
       "[16] \"Condition_2\"        \"Electrical\"         \"Enclosed_Porch\"    \n",
       "[19] \"Exter_Cond\"         \"Exter_Qual\"         \"Exterior_1st\"      \n",
       "[22] \"Exterior_2nd\"       \"Fence\"              \"Fireplace_Qu\"      \n",
       "[25] \"Fireplaces\"         \"First_Flr_SF\"       \"Foundation\"        \n",
       "[28] \"Full_Bath\"          \"Functional\"         \"Garage_Area\"       \n",
       "[31] \"Garage_Cars\"        \"Garage_Cond\"        \"Garage_Finish\"     \n",
       "[34] \"Garage_Qual\"        \"Garage_Type\"        \"Gr_Liv_Area\"       \n",
       "[37] \"Half_Bath\"          \"Heating\"            \"Heating_QC\"        \n",
       "[40] \"House_Style\"        \"Kitchen_AbvGr\"      \"Kitchen_Qual\"      \n",
       "[43] \"Land_Contour\"       \"Land_Slope\"         \"Latitude\"          \n",
       "[46] \"Longitude\"          \"Lot_Area\"           \"Lot_Config\"        \n",
       "[49] \"Lot_Frontage\"       \"Lot_Shape\"          \"Low_Qual_Fin_SF\"   \n",
       "[52] \"Mas_Vnr_Area\"       \"Mas_Vnr_Type\"       \"Misc_Feature\"      \n",
       "[55] \"Misc_Val\"           \"Mo_Sold\"            \"MS_SubClass\"       \n",
       "[58] \"MS_Zoning\"          \"Neighborhood\"       \"Open_Porch_SF\"     \n",
       "[61] \"Overall_Cond\"       \"Overall_Qual\"       \"Paved_Drive\"       \n",
       "[64] \"Pool_Area\"          \"Pool_QC\"            \"Roof_Matl\"         \n",
       "[67] \"Roof_Style\"         \"Sale_Condition\"     \"Sale_Price\"        \n",
       "[70] \"Sale_Type\"          \"Screen_Porch\"       \"Second_Flr_SF\"     \n",
       "[73] \"Street\"             \"Three_season_porch\" \"Total_Bsmt_SF\"     \n",
       "[76] \"TotRms_AbvGrd\"      \"Utilities\"          \"Wood_Deck_SF\"      \n",
       "[79] \"Year_Built\"         \"Year_Remod_Add\"     \"Year_Sold\"         "
      ]
     },
     "metadata": {},
     "output_type": "display_data"
    }
   ],
   "source": [
    "# Specify resampling strategy\n",
    "cv <- trainControl(\n",
    "  method = \"cv\", \n",
    "  number = 10,\n",
    ")\n",
    "\n",
    "# Create grid of hyperparameter values\n",
    "hyper_grid <- expand.grid(k = seq(10, 20, by = 10))\n",
    "\n",
    "knn_fit <- train(\n",
    "  Sale_Price ~ ., \n",
    "  data = train_caret, \n",
    "  method = \"knn\", \n",
    "  trControl = cv, \n",
    "  tuneGrid = hyper_grid,\n",
    "  metric = \"RMSE\",\n",
    ")\n",
    "knn_fit"
   ]
  },
  {
   "cell_type": "code",
   "execution_count": 42,
   "metadata": {},
   "outputs": [
    {
     "name": "stdout",
     "output_type": "stream",
     "text": [
      "Rows: 1,030\n",
      "Columns: 31\n",
      "$ Age                      \u001b[3m\u001b[38;5;246m<int>\u001b[39m\u001b[23m 41, 49, 37, 33, 32, 30, 36, 35, 29, 31, 34, …\n",
      "$ Attrition                \u001b[3m\u001b[38;5;246m<fct>\u001b[39m\u001b[23m Yes, No, Yes, No, No, No, No, No, No, No, No…\n",
      "$ BusinessTravel           \u001b[3m\u001b[38;5;246m<fct>\u001b[39m\u001b[23m Travel_Rarely, Travel_Frequently, Travel_Rar…\n",
      "$ DailyRate                \u001b[3m\u001b[38;5;246m<int>\u001b[39m\u001b[23m 1102, 279, 1373, 1392, 1005, 1358, 1299, 809…\n",
      "$ Department               \u001b[3m\u001b[38;5;246m<fct>\u001b[39m\u001b[23m Sales, Research_Development, Research_Develo…\n",
      "$ DistanceFromHome         \u001b[3m\u001b[38;5;246m<int>\u001b[39m\u001b[23m 1, 8, 2, 3, 2, 24, 27, 16, 15, 26, 19, 5, 16…\n",
      "$ Education                \u001b[3m\u001b[38;5;246m<fct>\u001b[39m\u001b[23m College, Below_College, College, Master, Col…\n",
      "$ EducationField           \u001b[3m\u001b[38;5;246m<fct>\u001b[39m\u001b[23m Life_Sciences, Life_Sciences, Other, Life_Sc…\n",
      "$ EnvironmentSatisfaction  \u001b[3m\u001b[38;5;246m<fct>\u001b[39m\u001b[23m Medium, High, Very_High, Very_High, Very_Hig…\n",
      "$ Gender                   \u001b[3m\u001b[38;5;246m<fct>\u001b[39m\u001b[23m Female, Male, Male, Female, Male, Male, Male…\n",
      "$ HourlyRate               \u001b[3m\u001b[38;5;246m<int>\u001b[39m\u001b[23m 94, 61, 92, 56, 79, 67, 94, 84, 49, 31, 93, …\n",
      "$ JobInvolvement           \u001b[3m\u001b[38;5;246m<fct>\u001b[39m\u001b[23m High, Medium, Medium, High, High, High, High…\n",
      "$ JobLevel                 \u001b[3m\u001b[38;5;246m<int>\u001b[39m\u001b[23m 2, 2, 1, 1, 1, 1, 2, 1, 2, 1, 1, 1, 1, 4, 1,…\n",
      "$ JobRole                  \u001b[3m\u001b[38;5;246m<fct>\u001b[39m\u001b[23m Sales_Executive, Research_Scientist, Laborat…\n",
      "$ JobSatisfaction          \u001b[3m\u001b[38;5;246m<fct>\u001b[39m\u001b[23m Very_High, Medium, High, High, Very_High, Hi…\n",
      "$ MaritalStatus            \u001b[3m\u001b[38;5;246m<fct>\u001b[39m\u001b[23m Single, Married, Single, Married, Single, Di…\n",
      "$ MonthlyIncome            \u001b[3m\u001b[38;5;246m<int>\u001b[39m\u001b[23m 5993, 5130, 2090, 2909, 3068, 2693, 5237, 24…\n",
      "$ MonthlyRate              \u001b[3m\u001b[38;5;246m<int>\u001b[39m\u001b[23m 19479, 24907, 2396, 23159, 11864, 13335, 165…\n",
      "$ NumCompaniesWorked       \u001b[3m\u001b[38;5;246m<int>\u001b[39m\u001b[23m 8, 1, 6, 1, 0, 1, 6, 0, 0, 1, 0, 0, 1, 2, 5,…\n",
      "$ OverTime                 \u001b[3m\u001b[38;5;246m<fct>\u001b[39m\u001b[23m Yes, No, Yes, Yes, No, No, No, No, Yes, No, …\n",
      "$ PercentSalaryHike        \u001b[3m\u001b[38;5;246m<int>\u001b[39m\u001b[23m 11, 23, 15, 11, 13, 22, 13, 13, 12, 17, 11, …\n",
      "$ PerformanceRating        \u001b[3m\u001b[38;5;246m<fct>\u001b[39m\u001b[23m Excellent, Outstanding, Excellent, Excellent…\n",
      "$ RelationshipSatisfaction \u001b[3m\u001b[38;5;246m<fct>\u001b[39m\u001b[23m Low, Very_High, Medium, High, High, Medium, …\n",
      "$ StockOptionLevel         \u001b[3m\u001b[38;5;246m<int>\u001b[39m\u001b[23m 0, 1, 0, 0, 0, 1, 2, 1, 0, 1, 1, 2, 2, 0, 0,…\n",
      "$ TotalWorkingYears        \u001b[3m\u001b[38;5;246m<int>\u001b[39m\u001b[23m 8, 10, 7, 8, 8, 1, 17, 6, 10, 5, 3, 7, 1, 31…\n",
      "$ TrainingTimesLastYear    \u001b[3m\u001b[38;5;246m<int>\u001b[39m\u001b[23m 0, 3, 3, 3, 2, 2, 3, 5, 3, 1, 2, 5, 2, 3, 3,…\n",
      "$ WorkLifeBalance          \u001b[3m\u001b[38;5;246m<fct>\u001b[39m\u001b[23m Bad, Better, Better, Better, Good, Better, G…\n",
      "$ YearsAtCompany           \u001b[3m\u001b[38;5;246m<int>\u001b[39m\u001b[23m 6, 10, 0, 8, 7, 1, 7, 5, 9, 5, 2, 6, 1, 25, …\n",
      "$ YearsInCurrentRole       \u001b[3m\u001b[38;5;246m<int>\u001b[39m\u001b[23m 4, 7, 0, 7, 7, 0, 7, 4, 5, 2, 2, 2, 0, 8, 2,…\n",
      "$ YearsSinceLastPromotion  \u001b[3m\u001b[38;5;246m<int>\u001b[39m\u001b[23m 0, 1, 0, 3, 3, 0, 7, 0, 0, 4, 1, 0, 0, 3, 1,…\n",
      "$ YearsWithCurrManager     \u001b[3m\u001b[38;5;246m<int>\u001b[39m\u001b[23m 5, 7, 0, 0, 6, 0, 7, 3, 8, 3, 2, 5, 0, 7, 2,…\n"
     ]
    }
   ],
   "source": [
    "glimpse(attrition_train[sort(names(attrition_train))])"
   ]
  },
  {
   "cell_type": "code",
   "execution_count": 50,
   "metadata": {
    "collapsed": true
   },
   "outputs": [
    {
     "data": {
      "image/png": "[encoded data removed]",
      "text/plain": [
       "plot without title"
      ]
     },
     "metadata": {
      "image/png": {
       "height": 600,
       "width": 900
      }
     },
     "output_type": "display_data"
    }
   ],
   "source": [
    "# Create blueprint\n",
    "blueprint <- recipe(Attrition ~ ., data = attrition_train) %>%\n",
    "  step_nzv(all_nominal()) %>%\n",
    "  step_integer(contains(\"Satisfaction\")) %>%\n",
    "  step_integer(WorkLifeBalance) %>%\n",
    "  step_integer(JobInvolvement) %>%\n",
    "  step_dummy(all_nominal(), -all_outcomes(), one_hot = TRUE) %>%\n",
    "  step_center(all_numeric(), -all_outcomes()) %>%\n",
    "  step_scale(all_numeric(), -all_outcomes())\n",
    "\n",
    "# Create a resampling method\n",
    "cv <- trainControl(\n",
    "  method = \"repeatedcv\", \n",
    "  number = 10, \n",
    "  repeats = 5,\n",
    "  classProbs = TRUE,                 \n",
    "  summaryFunction = twoClassSummary\n",
    ")\n",
    "\n",
    "# Create a hyperparameter grid search\n",
    "hyper_grid <- expand.grid(\n",
    "  k = floor(seq(1, nrow(attrition_train)/3, length.out = 20))\n",
    ")\n",
    "\n",
    "# Fit knn model and perform grid search\n",
    "knn_grid <- train(\n",
    "  blueprint, \n",
    "  data = attrition_train, \n",
    "  method = \"knn\", \n",
    "  trControl = cv, \n",
    "  tuneGrid = hyper_grid,\n",
    "  metric = \"ROC\"\n",
    ")\n",
    "\n",
    "ggplot(knn_grid)"
   ]
  }
 ],
 "metadata": {
  "kernelspec": {
   "display_name": "R",
   "language": "R",
   "name": "ir"
  },
  "language_info": {
   "codemirror_mode": "r",
   "file_extension": ".r",
   "mimetype": "text/x-r-source",
   "name": "R",
   "pygments_lexer": "r",
   "version": "3.6.3"
  },
  "toc": {
   "base_numbering": 1,
   "nav_menu": {},
   "number_sections": true,
   "sideBar": true,
   "skip_h1_title": false,
   "title_cell": "Table of Contents",
   "title_sidebar": "Contents",
   "toc_cell": false,
   "toc_position": {},
   "toc_section_display": true,
   "toc_window_display": true
  },
  "varInspector": {
   "cols": {
    "lenName": 16,
    "lenType": 16,
    "lenVar": 40
   },
   "kernels_config": {
    "python": {
     "delete_cmd_postfix": "",
     "delete_cmd_prefix": "del ",
     "library": "var_list.py",
     "varRefreshCmd": "print(var_dic_list())"
    },
    "r": {
     "delete_cmd_postfix": ") ",
     "delete_cmd_prefix": "rm(",
     "library": "var_list.r",
     "varRefreshCmd": "cat(var_dic_list()) "
    }
   },
   "types_to_exclude": [
    "module",
    "function",
    "builtin_function_or_method",
    "instance",
    "_Feature"
   ],
   "window_display": false
  }
 },
 "nbformat": 4,
 "nbformat_minor": 4
}
