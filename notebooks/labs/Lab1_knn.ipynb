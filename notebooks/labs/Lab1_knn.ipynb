{
 "cells": [
  {
   "cell_type": "code",
   "execution_count": 1,
   "metadata": {},
   "outputs": [],
   "source": [
    "options(repr.plot.width  = 15, repr.plot.height = 10)"
   ]
  },
  {
   "cell_type": "code",
   "execution_count": 2,
   "metadata": {},
   "outputs": [
    {
     "name": "stderr",
     "output_type": "stream",
     "text": [
      "\n",
      "Attaching package: ‘dplyr’\n",
      "\n",
      "\n",
      "The following objects are masked from ‘package:stats’:\n",
      "\n",
      "    filter, lag\n",
      "\n",
      "\n",
      "The following objects are masked from ‘package:base’:\n",
      "\n",
      "    intersect, setdiff, setequal, union\n",
      "\n",
      "\n",
      "Loading required package: gridExtra\n",
      "\n",
      "\n",
      "Attaching package: ‘gridExtra’\n",
      "\n",
      "\n",
      "The following object is masked from ‘package:dplyr’:\n",
      "\n",
      "    combine\n",
      "\n",
      "\n",
      "\n",
      "Attaching package: ‘vip’\n",
      "\n",
      "\n",
      "The following object is masked from ‘package:utils’:\n",
      "\n",
      "    vi\n",
      "\n",
      "\n",
      "Loading required package: lattice\n",
      "\n",
      "\n",
      "Attaching package: ‘recipes’\n",
      "\n",
      "\n",
      "The following object is masked from ‘package:stats’:\n",
      "\n",
      "    step\n",
      "\n",
      "\n"
     ]
    }
   ],
   "source": [
    "library(AmesHousing)\n",
    "\n",
    "# Helper packages\n",
    "library(dplyr)     # for data manipulation\n",
    "library(ggplot2)   # for awesome graphics\n",
    "require(gridExtra) # for make subplot \n",
    "library(ggpubr)    # for make subplot and more\n",
    "library(vip)\n",
    "\n",
    "# Modeling process packages\n",
    "library(caret)     # for resampling and model training\n",
    "library(recipes)  # for feature engineering tasks"
   ]
  },
  {
   "cell_type": "code",
   "execution_count": 3,
   "metadata": {},
   "outputs": [
    {
     "data": {
      "text/html": [
       "<dl>\n",
       "\t<dt>$label</dt>\n",
       "\t\t<dd>'k-Nearest Neighbors'</dd>\n",
       "\t<dt>$library</dt>\n",
       "\t\t<dd>NULL</dd>\n",
       "\t<dt>$loop</dt>\n",
       "\t\t<dd>NULL</dd>\n",
       "\t<dt>$type</dt>\n",
       "\t\t<dd><style>\n",
       ".list-inline {list-style: none; margin:0; padding: 0}\n",
       ".list-inline>li {display: inline-block}\n",
       ".list-inline>li:not(:last-child)::after {content: \"\\00b7\"; padding: 0 .5ex}\n",
       "</style>\n",
       "<ol class=list-inline><li>'Classification'</li><li>'Regression'</li></ol>\n",
       "</dd>\n",
       "\t<dt>$parameters</dt>\n",
       "\t\t<dd><table>\n",
       "<caption>A data.frame: 1 × 3</caption>\n",
       "<thead>\n",
       "\t<tr><th scope=col>parameter</th><th scope=col>class</th><th scope=col>label</th></tr>\n",
       "\t<tr><th scope=col>&lt;chr&gt;</th><th scope=col>&lt;chr&gt;</th><th scope=col>&lt;chr&gt;</th></tr>\n",
       "</thead>\n",
       "<tbody>\n",
       "\t<tr><td>k</td><td>numeric</td><td>#Neighbors</td></tr>\n",
       "</tbody>\n",
       "</table>\n",
       "</dd>\n",
       "\t<dt>$grid</dt>\n",
       "\t\t<dd><pre class=language-r><code>function (x, y, len = NULL, search = \"grid\") \n",
       "{\n",
       "<span style=white-space:pre-wrap>    if (search == \"grid\") {</span>\n",
       "<span style=white-space:pre-wrap>        out &lt;- data.frame(k = (5:((2 * len) + 4))[(5:((2 * len) + </span>\n",
       "<span style=white-space:pre-wrap>            4))%%2 &gt; 0])</span>\n",
       "<span style=white-space:pre-wrap>    }</span>\n",
       "<span style=white-space:pre-wrap>    else {</span>\n",
       "<span style=white-space:pre-wrap>        by_val &lt;- if (is.factor(y)) </span>\n",
       "<span style=white-space:pre-wrap>            length(levels(y))</span>\n",
       "<span style=white-space:pre-wrap>        else 1</span>\n",
       "<span style=white-space:pre-wrap>        out &lt;- data.frame(k = sample(seq(1, floor(nrow(x)/3), </span>\n",
       "<span style=white-space:pre-wrap>            by = by_val), size = len, replace = TRUE))</span>\n",
       "<span style=white-space:pre-wrap>    }</span>\n",
       "}</code></pre></dd>\n",
       "\t<dt>$fit</dt>\n",
       "\t\t<dd><pre class=language-r><code>function (x, y, wts, param, lev, last, classProbs, ...) \n",
       "{\n",
       "<span style=white-space:pre-wrap>    if (is.factor(y)) {</span>\n",
       "<span style=white-space:pre-wrap>        knn3(as.matrix(x), y, k = param$k, ...)</span>\n",
       "<span style=white-space:pre-wrap>    }</span>\n",
       "<span style=white-space:pre-wrap>    else {</span>\n",
       "<span style=white-space:pre-wrap>        knnreg(as.matrix(x), y, k = param$k, ...)</span>\n",
       "<span style=white-space:pre-wrap>    }</span>\n",
       "}</code></pre></dd>\n",
       "\t<dt>$predict</dt>\n",
       "\t\t<dd><pre class=language-r><code>function (modelFit, newdata, submodels = NULL) \n",
       "{\n",
       "<span style=white-space:pre-wrap>    if (modelFit$problemType == \"Classification\") {</span>\n",
       "<span style=white-space:pre-wrap>        out &lt;- predict(modelFit, newdata, type = \"class\")</span>\n",
       "<span style=white-space:pre-wrap>    }</span>\n",
       "<span style=white-space:pre-wrap>    else {</span>\n",
       "<span style=white-space:pre-wrap>        out &lt;- predict(modelFit, newdata)</span>\n",
       "<span style=white-space:pre-wrap>    }</span>\n",
       "<span style=white-space:pre-wrap>    out</span>\n",
       "}</code></pre></dd>\n",
       "\t<dt>$predictors</dt>\n",
       "\t\t<dd><pre class=language-r><code>function (x, ...) \n",
       "colnames(x$learn$X)</code></pre></dd>\n",
       "\t<dt>$tags</dt>\n",
       "\t\t<dd>'Prototype Models'</dd>\n",
       "\t<dt>$prob</dt>\n",
       "\t\t<dd><pre class=language-r><code>function (modelFit, newdata, submodels = NULL) \n",
       "predict(modelFit, newdata, type = \"prob\")</code></pre></dd>\n",
       "\t<dt>$levels</dt>\n",
       "\t\t<dd><pre class=language-r><code>function (x) \n",
       "levels(x$learn$y)</code></pre></dd>\n",
       "\t<dt>$sort</dt>\n",
       "\t\t<dd><pre class=language-r><code>function (x) \n",
       "x[order(-x[, 1]), ]</code></pre></dd>\n",
       "</dl>\n"
      ],
      "text/latex": [
       "\\begin{description}\n",
       "\\item[\\$label] 'k-Nearest Neighbors'\n",
       "\\item[\\$library] NULL\n",
       "\\item[\\$loop] NULL\n",
       "\\item[\\$type] \\begin{enumerate*}\n",
       "\\item 'Classification'\n",
       "\\item 'Regression'\n",
       "\\end{enumerate*}\n",
       "\n",
       "\\item[\\$parameters] A data.frame: 1 × 3\n",
       "\\begin{tabular}{lll}\n",
       " parameter & class & label\\\\\n",
       " <chr> & <chr> & <chr>\\\\\n",
       "\\hline\n",
       "\t k & numeric & \\#Neighbors\\\\\n",
       "\\end{tabular}\n",
       "\n",
       "\\item[\\$grid] \\begin{minted}{r}\n",
       "function (x, y, len = NULL, search = \"grid\") \n",
       "\\{\n",
       "    if (search == \"grid\") \\{\n",
       "        out <- data.frame(k = (5:((2 * len) + 4)){[}(5:((2 * len) + \n",
       "            4))\\%\\%2 > 0{]})\n",
       "    \\}\n",
       "    else \\{\n",
       "        by\\_val <- if (is.factor(y)) \n",
       "            length(levels(y))\n",
       "        else 1\n",
       "        out <- data.frame(k = sample(seq(1, floor(nrow(x)/3), \n",
       "            by = by\\_val), size = len, replace = TRUE))\n",
       "    \\}\n",
       "\\}\n",
       "\\end{minted}\n",
       "\\item[\\$fit] \\begin{minted}{r}\n",
       "function (x, y, wts, param, lev, last, classProbs, ...) \n",
       "\\{\n",
       "    if (is.factor(y)) \\{\n",
       "        knn3(as.matrix(x), y, k = param\\$k, ...)\n",
       "    \\}\n",
       "    else \\{\n",
       "        knnreg(as.matrix(x), y, k = param\\$k, ...)\n",
       "    \\}\n",
       "\\}\n",
       "\\end{minted}\n",
       "\\item[\\$predict] \\begin{minted}{r}\n",
       "function (modelFit, newdata, submodels = NULL) \n",
       "\\{\n",
       "    if (modelFit\\$problemType == \"Classification\") \\{\n",
       "        out <- predict(modelFit, newdata, type = \"class\")\n",
       "    \\}\n",
       "    else \\{\n",
       "        out <- predict(modelFit, newdata)\n",
       "    \\}\n",
       "    out\n",
       "\\}\n",
       "\\end{minted}\n",
       "\\item[\\$predictors] \\begin{minted}{r}\n",
       "function (x, ...) \n",
       "colnames(x\\$learn\\$X)\n",
       "\\end{minted}\n",
       "\\item[\\$tags] 'Prototype Models'\n",
       "\\item[\\$prob] \\begin{minted}{r}\n",
       "function (modelFit, newdata, submodels = NULL) \n",
       "predict(modelFit, newdata, type = \"prob\")\n",
       "\\end{minted}\n",
       "\\item[\\$levels] \\begin{minted}{r}\n",
       "function (x) \n",
       "levels(x\\$learn\\$y)\n",
       "\\end{minted}\n",
       "\\item[\\$sort] \\begin{minted}{r}\n",
       "function (x) \n",
       "x{[}order(-x{[}, 1{]}), {]}\n",
       "\\end{minted}\n",
       "\\end{description}\n"
      ],
      "text/markdown": [
       "$label\n",
       ":   'k-Nearest Neighbors'\n",
       "$library\n",
       ":   NULL\n",
       "$loop\n",
       ":   NULL\n",
       "$type\n",
       ":   1. 'Classification'\n",
       "2. 'Regression'\n",
       "\n",
       "\n",
       "\n",
       "$parameters\n",
       ":   \n",
       "A data.frame: 1 × 3\n",
       "\n",
       "| parameter &lt;chr&gt; | class &lt;chr&gt; | label &lt;chr&gt; |\n",
       "|---|---|---|\n",
       "| k | numeric | #Neighbors |\n",
       "\n",
       "\n",
       "$grid\n",
       ":   ```r\n",
       "function (x, y, len = NULL, search = \"grid\") \n",
       "{\n",
       "    if (search == \"grid\") {\n",
       "        out <- data.frame(k = (5:((2 * len) + 4))[(5:((2 * len) + \n",
       "            4))%%2 > 0])\n",
       "    }\n",
       "    else {\n",
       "        by_val <- if (is.factor(y)) \n",
       "            length(levels(y))\n",
       "        else 1\n",
       "        out <- data.frame(k = sample(seq(1, floor(nrow(x)/3), \n",
       "            by = by_val), size = len, replace = TRUE))\n",
       "    }\n",
       "}\n",
       "```\n",
       "$fit\n",
       ":   ```r\n",
       "function (x, y, wts, param, lev, last, classProbs, ...) \n",
       "{\n",
       "    if (is.factor(y)) {\n",
       "        knn3(as.matrix(x), y, k = param$k, ...)\n",
       "    }\n",
       "    else {\n",
       "        knnreg(as.matrix(x), y, k = param$k, ...)\n",
       "    }\n",
       "}\n",
       "```\n",
       "$predict\n",
       ":   ```r\n",
       "function (modelFit, newdata, submodels = NULL) \n",
       "{\n",
       "    if (modelFit$problemType == \"Classification\") {\n",
       "        out <- predict(modelFit, newdata, type = \"class\")\n",
       "    }\n",
       "    else {\n",
       "        out <- predict(modelFit, newdata)\n",
       "    }\n",
       "    out\n",
       "}\n",
       "```\n",
       "$predictors\n",
       ":   ```r\n",
       "function (x, ...) \n",
       "colnames(x$learn$X)\n",
       "```\n",
       "$tags\n",
       ":   'Prototype Models'\n",
       "$prob\n",
       ":   ```r\n",
       "function (modelFit, newdata, submodels = NULL) \n",
       "predict(modelFit, newdata, type = \"prob\")\n",
       "```\n",
       "$levels\n",
       ":   ```r\n",
       "function (x) \n",
       "levels(x$learn$y)\n",
       "```\n",
       "$sort\n",
       ":   ```r\n",
       "function (x) \n",
       "x[order(-x[, 1]), ]\n",
       "```\n",
       "\n",
       "\n"
      ],
      "text/plain": [
       "$label\n",
       "[1] \"k-Nearest Neighbors\"\n",
       "\n",
       "$library\n",
       "NULL\n",
       "\n",
       "$loop\n",
       "NULL\n",
       "\n",
       "$type\n",
       "[1] \"Classification\" \"Regression\"    \n",
       "\n",
       "$parameters\n",
       "  parameter   class      label\n",
       "1         k numeric #Neighbors\n",
       "\n",
       "$grid\n",
       "function(x, y, len = NULL, search = \"grid\"){\n",
       "                    if(search == \"grid\") {\n",
       "                      out <- data.frame(k = (5:((2 * len)+4))[(5:((2 * len)+4))%%2 > 0])\n",
       "                    } else {\n",
       "                      by_val <- if(is.factor(y)) length(levels(y)) else 1\n",
       "                      out <- data.frame(k = sample(seq(1, floor(nrow(x)/3), by = by_val), size = len, replace = TRUE))\n",
       "                    }\n",
       "                  }\n",
       "\n",
       "$fit\n",
       "function(x, y, wts, param, lev, last, classProbs, ...) {\n",
       "                    if(is.factor(y))\n",
       "                    {\n",
       "                      knn3(as.matrix(x), y, k = param$k, ...)\n",
       "                    } else {\n",
       "                      knnreg(as.matrix(x), y, k = param$k, ...)\n",
       "                    }\n",
       "                  }\n",
       "\n",
       "$predict\n",
       "function(modelFit, newdata, submodels = NULL) {\n",
       "                    if(modelFit$problemType == \"Classification\")\n",
       "                    {\n",
       "                      out <- predict(modelFit, newdata,  type = \"class\")\n",
       "                    } else {\n",
       "                      out <- predict(modelFit, newdata)\n",
       "                    }\n",
       "                    out\n",
       "                  }\n",
       "\n",
       "$predictors\n",
       "function(x, ...) colnames(x$learn$X)\n",
       "\n",
       "$tags\n",
       "[1] \"Prototype Models\"\n",
       "\n",
       "$prob\n",
       "function(modelFit, newdata, submodels = NULL)\n",
       "                    predict(modelFit, newdata, type = \"prob\")\n",
       "\n",
       "$levels\n",
       "function(x) levels(x$learn$y)\n",
       "\n",
       "$sort\n",
       "function(x) x[order(-x[,1]),]\n"
      ]
     },
     "metadata": {},
     "output_type": "display_data"
    }
   ],
   "source": [
    "# Informacion general del modelo generado por Caret\n",
    "knnModelInfo <- getModelInfo(model = \"knn\", regex = FALSE)[[1]]\n",
    "knnModelInfo"
   ]
  },
  {
   "cell_type": "markdown",
   "metadata": {},
   "source": [
    "# Regression"
   ]
  },
  {
   "cell_type": "code",
   "execution_count": 4,
   "metadata": {},
   "outputs": [],
   "source": [
    "ames <- AmesHousing::make_ames()"
   ]
  },
  {
   "cell_type": "code",
   "execution_count": 5,
   "metadata": {},
   "outputs": [
    {
     "name": "stderr",
     "output_type": "stream",
     "text": [
      "Warning message:\n",
      "“The `i` argument of ``[`()` can't be a matrix as of tibble 3.0.0.\n",
      "Convert to a vector.\n",
      "\u001b[90mThis warning is displayed once every 8 hours.\u001b[39m\n",
      "\u001b[90mCall `lifecycle::last_warnings()` to see where this warning was generated.\u001b[39m”\n"
     ]
    }
   ],
   "source": [
    "index_caret <- createDataPartition(ames$Sale_Price, p = 0.7, \n",
    "                               list = FALSE, )\n",
    "house_train <- ames[index_caret, ]\n",
    "house_test  <- ames[-index_caret, ]"
   ]
  },
  {
   "cell_type": "markdown",
   "metadata": {},
   "source": [
    "## Distance measures\n",
    "\n",
    "$$Euclidian\\ dist(x_a, x_b) = \\sqrt{ \\sum_j^k(x_{aj}−x_{bj})^2}$$\n",
    "$$Manhattan\\ dist(x_a, x_b) = \\sum_j^k|x_{aj}−x_{bj}|$$\n"
   ]
  },
  {
   "cell_type": "code",
   "execution_count": 6,
   "metadata": {},
   "outputs": [
    {
     "data": {
      "text/html": [
       "<table>\n",
       "<caption>A tibble: 2 × 2</caption>\n",
       "<thead>\n",
       "\t<tr><th scope=col>Gr_Liv_Area</th><th scope=col>Year_Built</th></tr>\n",
       "\t<tr><th scope=col>&lt;int&gt;</th><th scope=col>&lt;int&gt;</th></tr>\n",
       "</thead>\n",
       "<tbody>\n",
       "\t<tr><td>1656</td><td>1960</td></tr>\n",
       "\t<tr><td> 896</td><td>1961</td></tr>\n",
       "</tbody>\n",
       "</table>\n"
      ],
      "text/latex": [
       "A tibble: 2 × 2\n",
       "\\begin{tabular}{ll}\n",
       " Gr\\_Liv\\_Area & Year\\_Built\\\\\n",
       " <int> & <int>\\\\\n",
       "\\hline\n",
       "\t 1656 & 1960\\\\\n",
       "\t  896 & 1961\\\\\n",
       "\\end{tabular}\n"
      ],
      "text/markdown": [
       "\n",
       "A tibble: 2 × 2\n",
       "\n",
       "| Gr_Liv_Area &lt;int&gt; | Year_Built &lt;int&gt; |\n",
       "|---|---|\n",
       "| 1656 | 1960 |\n",
       "|  896 | 1961 |\n",
       "\n"
      ],
      "text/plain": [
       "  Gr_Liv_Area Year_Built\n",
       "1 1656        1960      \n",
       "2  896        1961      "
      ]
     },
     "metadata": {},
     "output_type": "display_data"
    }
   ],
   "source": [
    "two_houses <- house_train[1:2, c(\"Gr_Liv_Area\", \"Year_Built\")]\n",
    "two_houses"
   ]
  },
  {
   "cell_type": "code",
   "execution_count": 7,
   "metadata": {},
   "outputs": [
    {
     "data": {
      "text/plain": [
       "         1\n",
       "2 760.0007"
      ]
     },
     "metadata": {},
     "output_type": "display_data"
    }
   ],
   "source": [
    "# Euclidean\n",
    "dist(two_houses, method = \"euclidean\")"
   ]
  },
  {
   "cell_type": "code",
   "execution_count": 8,
   "metadata": {},
   "outputs": [
    {
     "data": {
      "text/plain": [
       "    1\n",
       "2 761"
      ]
     },
     "metadata": {},
     "output_type": "display_data"
    }
   ],
   "source": [
    "# Manhattan\n",
    "dist(two_houses, method = \"manhattan\")"
   ]
  },
  {
   "cell_type": "markdown",
   "metadata": {},
   "source": [
    "Debido a que la distancia de Euclides usa el cuadrado de las distancias es mas sensible a outliers. Por esto es importante normalizar la las variables antes de hacer los calculos. Esto debido a que variables con escalas mas grandes tienen mas peso sobre el resultado final que las de escala mas pequeña."
   ]
  },
  {
   "cell_type": "code",
   "execution_count": 9,
   "metadata": {},
   "outputs": [
    {
     "data": {
      "text/html": [
       "<table>\n",
       "<caption>A data.frame: 3 × 2</caption>\n",
       "<thead>\n",
       "\t<tr><th scope=col>rooms</th><th scope=col>year</th></tr>\n",
       "\t<tr><th scope=col>&lt;dbl&gt;</th><th scope=col>&lt;dbl&gt;</th></tr>\n",
       "</thead>\n",
       "<tbody>\n",
       "\t<tr><td>2</td><td>2020</td></tr>\n",
       "\t<tr><td>3</td><td>2020</td></tr>\n",
       "\t<tr><td>1</td><td>2010</td></tr>\n",
       "</tbody>\n",
       "</table>\n"
      ],
      "text/latex": [
       "A data.frame: 3 × 2\n",
       "\\begin{tabular}{ll}\n",
       " rooms & year\\\\\n",
       " <dbl> & <dbl>\\\\\n",
       "\\hline\n",
       "\t 2 & 2020\\\\\n",
       "\t 3 & 2020\\\\\n",
       "\t 1 & 2010\\\\\n",
       "\\end{tabular}\n"
      ],
      "text/markdown": [
       "\n",
       "A data.frame: 3 × 2\n",
       "\n",
       "| rooms &lt;dbl&gt; | year &lt;dbl&gt; |\n",
       "|---|---|\n",
       "| 2 | 2020 |\n",
       "| 3 | 2020 |\n",
       "| 1 | 2010 |\n",
       "\n"
      ],
      "text/plain": [
       "  rooms year\n",
       "1 2     2020\n",
       "2 3     2020\n",
       "3 1     2010"
      ]
     },
     "metadata": {},
     "output_type": "display_data"
    }
   ],
   "source": [
    "house1 <- data.frame(rooms = c(2,3,1), year = c(2020, 2020, 2010))\n",
    "house1"
   ]
  },
  {
   "cell_type": "code",
   "execution_count": 10,
   "metadata": {},
   "outputs": [
    {
     "data": {
      "text/plain": [
       "         1        2\n",
       "2  1.00000         \n",
       "3 10.04988 10.19804"
      ]
     },
     "metadata": {},
     "output_type": "display_data"
    }
   ],
   "source": [
    "dist(house1)"
   ]
  },
  {
   "cell_type": "code",
   "execution_count": 11,
   "metadata": {},
   "outputs": [
    {
     "data": {
      "text/html": [
       "<table>\n",
       "<caption>A data.frame: 3 × 2</caption>\n",
       "<thead>\n",
       "\t<tr><th scope=col>rooms</th><th scope=col>year</th></tr>\n",
       "\t<tr><th scope=col>&lt;dbl&gt;</th><th scope=col>&lt;dbl&gt;</th></tr>\n",
       "</thead>\n",
       "<tbody>\n",
       "\t<tr><td> 0</td><td> 0.5773503</td></tr>\n",
       "\t<tr><td> 1</td><td> 0.5773503</td></tr>\n",
       "\t<tr><td>-1</td><td>-1.1547005</td></tr>\n",
       "</tbody>\n",
       "</table>\n"
      ],
      "text/latex": [
       "A data.frame: 3 × 2\n",
       "\\begin{tabular}{ll}\n",
       " rooms & year\\\\\n",
       " <dbl> & <dbl>\\\\\n",
       "\\hline\n",
       "\t  0 &  0.5773503\\\\\n",
       "\t  1 &  0.5773503\\\\\n",
       "\t -1 & -1.1547005\\\\\n",
       "\\end{tabular}\n"
      ],
      "text/markdown": [
       "\n",
       "A data.frame: 3 × 2\n",
       "\n",
       "| rooms &lt;dbl&gt; | year &lt;dbl&gt; |\n",
       "|---|---|\n",
       "|  0 |  0.5773503 |\n",
       "|  1 |  0.5773503 |\n",
       "| -1 | -1.1547005 |\n",
       "\n"
      ],
      "text/plain": [
       "  rooms year      \n",
       "1  0     0.5773503\n",
       "2  1     0.5773503\n",
       "3 -1    -1.1547005"
      ]
     },
     "metadata": {},
     "output_type": "display_data"
    }
   ],
   "source": [
    "house1_sd <- house1 %>% \n",
    "    mutate(rooms=(rooms - mean(rooms))/sd(rooms),\n",
    "           year=(year - mean(year))/sd(year))\n",
    "house1_sd"
   ]
  },
  {
   "cell_type": "code",
   "execution_count": 12,
   "metadata": {},
   "outputs": [
    {
     "data": {
      "text/plain": [
       "         1        2\n",
       "2 1.000000         \n",
       "3 2.000000 2.645751"
      ]
     },
     "metadata": {},
     "output_type": "display_data"
    }
   ],
   "source": [
    "dist(house1_sd)"
   ]
  },
  {
   "cell_type": "markdown",
   "metadata": {},
   "source": [
    "## Modeling"
   ]
  },
  {
   "cell_type": "code",
   "execution_count": 13,
   "metadata": {},
   "outputs": [
    {
     "data": {
      "text/plain": [
       "k-Nearest Neighbors \n",
       "\n",
       "2053 samples\n",
       "  80 predictor\n",
       "\n",
       "No pre-processing\n",
       "Resampling: Cross-Validated (10 fold) \n",
       "Summary of sample sizes: 1849, 1847, 1847, 1848, 1848, 1848, ... \n",
       "Resampling results across tuning parameters:\n",
       "\n",
       "  k   RMSE      Rsquared   MAE     \n",
       "  10  43857.44  0.6991231  28490.21\n",
       "  20  45307.37  0.6946957  29544.80\n",
       "\n",
       "RMSE was used to select the optimal model using the smallest value.\n",
       "The final value used for the model was k = 10."
      ]
     },
     "metadata": {},
     "output_type": "display_data"
    }
   ],
   "source": [
    "# Seleccionamos la version de resampling para el modelo\n",
    "cv <- trainControl(\n",
    "  method = \"cv\", \n",
    "  number = 10,\n",
    ")\n",
    "\n",
    "# Creamos un vector de valores para probar con el parametro k de modelo\n",
    "hyper_grid <- data.frame(k = c(10, 20))\n",
    "\n",
    "knn_fit <- train(\n",
    "  Sale_Price ~ ., \n",
    "  data = house_train, \n",
    "  method = \"knn\", \n",
    "  trControl = cv, \n",
    "  tuneGrid = hyper_grid,\n",
    "  metric = \"RMSE\",\n",
    ")\n",
    "knn_fit"
   ]
  },
  {
   "cell_type": "code",
   "execution_count": 14,
   "metadata": {},
   "outputs": [
    {
     "data": {
      "text/html": [
       "'knnreg'"
      ],
      "text/latex": [
       "'knnreg'"
      ],
      "text/markdown": [
       "'knnreg'"
      ],
      "text/plain": [
       "[1] \"knnreg\""
      ]
     },
     "metadata": {},
     "output_type": "display_data"
    }
   ],
   "source": [
    "# knnreg es el modelo que esta corriendo por atras en caret\n",
    "class(knn_fit$finalModel)"
   ]
  },
  {
   "cell_type": "markdown",
   "metadata": {},
   "source": [
    "### Scatter plot de la prediccion vs el valor real en test"
   ]
  },
  {
   "cell_type": "code",
   "execution_count": 15,
   "metadata": {},
   "outputs": [
    {
     "data": {
      "image/png": "[encoded data removed]",
      "text/plain": [
       "plot without title"
      ]
     },
     "metadata": {
      "image/png": {
       "height": 600,
       "width": 900
      }
     },
     "output_type": "display_data"
    }
   ],
   "source": [
    "data.frame(pred = predict(knn_fit, house_test), test = house_test$Sale_Price ) %>% \n",
    "    ggplot(aes(x=test, y=pred)) + geom_point()"
   ]
  },
  {
   "cell_type": "markdown",
   "metadata": {},
   "source": [
    "## Choosing k\n",
    "El perfomance de KNN es muy sensible a la eleccion de k, donde valores valos tienden a hacer overfitting mientrs valores muy grandes tienden a hacer underfitting."
   ]
  },
  {
   "cell_type": "markdown",
   "metadata": {},
   "source": [
    "## Feature engineering\n",
    "Hay una libreria que permite crear un pipeline con todas las transformaciones que queremos hacer a la data para que entre a nuestro modelo y que nos facilita el proceso para evaluar luego en la fase de testing donde simplemente pasamos la data son tener que procesarlar porque ya esta todo en el pipeline. Esto es tremendamente util para los modelos que necesitan que las variables estan por ejemplo en la misma escala.\n",
    "\n",
    "\n",
    "<img src=\"https://www.clipartkey.com/mpngs/m/191-1919605_recipes-r-package-logo.png\" width=200>\n",
    "\n",
    "[Recipe doc](https://recipes.tidymodels.org/articles/Simple_Example.html)\n",
    "\n",
    "\n",
    "\n",
    "\n",
    "* `step_dummy()`: creating dummy variables from categorical variables.\n",
    "* `step_integer()`: creating dummy variables from categorical variables.\n",
    "* `step_zzzimpute()`: where instead of “zzz” it is the name of a method, such as step_knnimpute(), step_meanimpute(), step_modeimpute(). I find that the fancier imputation methods are reeeeally slow for decently large datasets, so I would probably do this step outside of the recipes package unless you just want to do a quick mean or mode impute (which, to be honest, I often do).\n",
    "* `step_scale()`: normalize to have a standard deviation of 1.\n",
    "* `step_center()`: center to have a mean of 0.\n",
    "* `step_nzv()`: remove variables that have (or almost have) the same value for every data point.\n",
    "\n",
    "\n",
    "In each step, you need to specify which variables you want to apply it to. There are many ways to do this:\n",
    "\n",
    "* Specifying the variable name(s) as the first argument\n",
    "* Standard dplyr selectors:\n",
    "    * `everything()` applies the step to all columns,\n",
    "    * `contains()` allows you to specify column names that contain a specific string,\n",
    "    * `starts_with()` allows you to specify column names that start with a sepcific string,\n",
    "    * etc\n",
    "* Functions that specify the role of the variables:\n",
    "    * `all_predictors()` applies the step to the predictor variables only\n",
    "    * `all_outcomes()` applies the step to the outcome variable(s) only\n",
    "* Functions that specify the type of the variables:\n",
    "    * `all_nominal()` applies the step to all variables that are nominal (categorical)\n",
    "    * `all_numeric()` applies the step to all variables that are numeric"
   ]
  },
  {
   "cell_type": "code",
   "execution_count": 16,
   "metadata": {},
   "outputs": [],
   "source": [
    "# log transformation\n",
    "blueprint_house <- recipe(Sale_Price ~ ., data = house_train) %>%\n",
    "  step_nzv(all_nominal()) %>%\n",
    "  step_integer(matches(\"Qual|Cond|QC|Qu\")) %>%\n",
    "  step_center(all_numeric(), -all_outcomes()) %>%\n",
    "  step_scale(all_numeric(), -all_outcomes()) %>%\n",
    "  step_dummy(all_nominal(), -all_outcomes(), one_hot = TRUE)"
   ]
  },
  {
   "cell_type": "code",
   "execution_count": 17,
   "metadata": {},
   "outputs": [
    {
     "data": {
      "text/plain": [
       "Data Recipe\n",
       "\n",
       "Inputs:\n",
       "\n",
       "      role #variables\n",
       "   outcome          1\n",
       " predictor         80\n",
       "\n",
       "Operations:\n",
       "\n",
       "Sparse, unbalanced variable filter on all_nominal()\n",
       "Integer encoding for matches(\"Qual|Cond|QC|Qu\")\n",
       "Centering for all_numeric(), -all_outcomes()\n",
       "Scaling for all_numeric(), -all_outcomes()\n",
       "Dummy variables from all_nominal(), -all_outcomes()"
      ]
     },
     "metadata": {},
     "output_type": "display_data"
    }
   ],
   "source": [
    "blueprint_house"
   ]
  },
  {
   "cell_type": "code",
   "execution_count": 18,
   "metadata": {},
   "outputs": [
    {
     "data": {
      "text/plain": [
       "Data Recipe\n",
       "\n",
       "Inputs:\n",
       "\n",
       "      role #variables\n",
       "   outcome          1\n",
       " predictor         80\n",
       "\n",
       "Training data contained 2053 data points and no missing data.\n",
       "\n",
       "Operations:\n",
       "\n",
       "Sparse, unbalanced variable filter removed Street, Alley, Land_Contour, ... [trained]\n",
       "Integer encoding for Condition_1, Overall_Qual, Overall_Cond, ... [trained]\n",
       "Centering for Lot_Frontage, Lot_Area, ... [trained]\n",
       "Scaling for Lot_Frontage, Lot_Area, ... [trained]\n",
       "Dummy variables from MS_SubClass, MS_Zoning, Lot_Shape, ... [trained]"
      ]
     },
     "metadata": {},
     "output_type": "display_data"
    }
   ],
   "source": [
    "prepare <- prep(blueprint_house, training = house_train)\n",
    "prepare"
   ]
  },
  {
   "cell_type": "code",
   "execution_count": 19,
   "metadata": {},
   "outputs": [
    {
     "data": {
      "text/html": [
       "<table>\n",
       "<caption>A tibble: 6 × 220</caption>\n",
       "<thead>\n",
       "\t<tr><th scope=col>Lot_Frontage</th><th scope=col>Lot_Area</th><th scope=col>Condition_1</th><th scope=col>Overall_Qual</th><th scope=col>Overall_Cond</th><th scope=col>Year_Built</th><th scope=col>Year_Remod_Add</th><th scope=col>Mas_Vnr_Area</th><th scope=col>Exter_Qual</th><th scope=col>Exter_Cond</th><th scope=col>⋯</th><th scope=col>Sale_Type_COD</th><th scope=col>Sale_Type_Con</th><th scope=col>Sale_Type_ConLD</th><th scope=col>Sale_Type_ConLI</th><th scope=col>Sale_Type_ConLw</th><th scope=col>Sale_Type_CWD</th><th scope=col>Sale_Type_New</th><th scope=col>Sale_Type_Oth</th><th scope=col>Sale_Type_VWD</th><th scope=col>Sale_Type_WD.</th></tr>\n",
       "\t<tr><th scope=col>&lt;dbl&gt;</th><th scope=col>&lt;dbl&gt;</th><th scope=col>&lt;dbl&gt;</th><th scope=col>&lt;dbl&gt;</th><th scope=col>&lt;dbl&gt;</th><th scope=col>&lt;dbl&gt;</th><th scope=col>&lt;dbl&gt;</th><th scope=col>&lt;dbl&gt;</th><th scope=col>&lt;dbl&gt;</th><th scope=col>&lt;dbl&gt;</th><th scope=col>⋯</th><th scope=col>&lt;dbl&gt;</th><th scope=col>&lt;dbl&gt;</th><th scope=col>&lt;dbl&gt;</th><th scope=col>&lt;dbl&gt;</th><th scope=col>&lt;dbl&gt;</th><th scope=col>&lt;dbl&gt;</th><th scope=col>&lt;dbl&gt;</th><th scope=col>&lt;dbl&gt;</th><th scope=col>&lt;dbl&gt;</th><th scope=col>&lt;dbl&gt;</th></tr>\n",
       "</thead>\n",
       "<tbody>\n",
       "\t<tr><td> 2.5423461</td><td> 2.4841172</td><td>-0.04996425</td><td>-0.07497118</td><td>-0.5191426</td><td>-0.3725001</td><td>-1.1489228</td><td> 0.07245867</td><td> 0.6797354</td><td>0.3850425</td><td>⋯</td><td>0</td><td>0</td><td>0</td><td>0</td><td>0</td><td>0</td><td>0</td><td>0</td><td>0</td><td>1</td></tr>\n",
       "\t<tr><td> 0.6985883</td><td> 0.1668712</td><td>-1.17717970</td><td>-0.78754443</td><td> 0.3910194</td><td>-0.3392879</td><td>-1.1011992</td><td>-0.56566829</td><td> 0.6797354</td><td>0.3850425</td><td>⋯</td><td>0</td><td>0</td><td>0</td><td>0</td><td>0</td><td>0</td><td>0</td><td>0</td><td>0</td><td>1</td></tr>\n",
       "\t<tr><td> 1.0915203</td><td> 0.1137360</td><td>-0.04996425</td><td> 0.63760208</td><td>-0.5191426</td><td>-0.1068030</td><td>-0.7671341</td><td>-0.56566829</td><td>-0.7739071</td><td>0.3850425</td><td>⋯</td><td>0</td><td>0</td><td>0</td><td>0</td><td>0</td><td>0</td><td>0</td><td>0</td><td>0</td><td>1</td></tr>\n",
       "\t<tr><td> 0.5172351</td><td> 0.4208160</td><td>-0.04996425</td><td>-0.78754443</td><td>-0.5191426</td><td> 0.8563489</td><td> 0.6645737</td><td>-0.56566829</td><td> 0.6797354</td><td>0.3850425</td><td>⋯</td><td>0</td><td>0</td><td>0</td><td>0</td><td>0</td><td>0</td><td>0</td><td>0</td><td>0</td><td>1</td></tr>\n",
       "\t<tr><td>-0.4802077</td><td>-0.6039340</td><td>-0.04996425</td><td> 1.35017533</td><td>-0.5191426</td><td> 0.9891975</td><td> 0.8077445</td><td>-0.56566829</td><td>-0.7739071</td><td>0.3850425</td><td>⋯</td><td>0</td><td>0</td><td>0</td><td>0</td><td>0</td><td>0</td><td>0</td><td>0</td><td>0</td><td>1</td></tr>\n",
       "\t<tr><td>-0.4197566</td><td>-0.5941580</td><td>-0.04996425</td><td> 1.35017533</td><td>-0.5191426</td><td> 0.6902882</td><td> 0.3782321</td><td>-0.56566829</td><td>-0.7739071</td><td>0.3850425</td><td>⋯</td><td>0</td><td>0</td><td>0</td><td>0</td><td>0</td><td>0</td><td>0</td><td>0</td><td>0</td><td>1</td></tr>\n",
       "</tbody>\n",
       "</table>\n"
      ],
      "text/latex": [
       "A tibble: 6 × 220\n",
       "\\begin{tabular}{lllllllllllllllllllll}\n",
       " Lot\\_Frontage & Lot\\_Area & Condition\\_1 & Overall\\_Qual & Overall\\_Cond & Year\\_Built & Year\\_Remod\\_Add & Mas\\_Vnr\\_Area & Exter\\_Qual & Exter\\_Cond & ⋯ & Sale\\_Type\\_COD & Sale\\_Type\\_Con & Sale\\_Type\\_ConLD & Sale\\_Type\\_ConLI & Sale\\_Type\\_ConLw & Sale\\_Type\\_CWD & Sale\\_Type\\_New & Sale\\_Type\\_Oth & Sale\\_Type\\_VWD & Sale\\_Type\\_WD.\\\\\n",
       " <dbl> & <dbl> & <dbl> & <dbl> & <dbl> & <dbl> & <dbl> & <dbl> & <dbl> & <dbl> & ⋯ & <dbl> & <dbl> & <dbl> & <dbl> & <dbl> & <dbl> & <dbl> & <dbl> & <dbl> & <dbl>\\\\\n",
       "\\hline\n",
       "\t  2.5423461 &  2.4841172 & -0.04996425 & -0.07497118 & -0.5191426 & -0.3725001 & -1.1489228 &  0.07245867 &  0.6797354 & 0.3850425 & ⋯ & 0 & 0 & 0 & 0 & 0 & 0 & 0 & 0 & 0 & 1\\\\\n",
       "\t  0.6985883 &  0.1668712 & -1.17717970 & -0.78754443 &  0.3910194 & -0.3392879 & -1.1011992 & -0.56566829 &  0.6797354 & 0.3850425 & ⋯ & 0 & 0 & 0 & 0 & 0 & 0 & 0 & 0 & 0 & 1\\\\\n",
       "\t  1.0915203 &  0.1137360 & -0.04996425 &  0.63760208 & -0.5191426 & -0.1068030 & -0.7671341 & -0.56566829 & -0.7739071 & 0.3850425 & ⋯ & 0 & 0 & 0 & 0 & 0 & 0 & 0 & 0 & 0 & 1\\\\\n",
       "\t  0.5172351 &  0.4208160 & -0.04996425 & -0.78754443 & -0.5191426 &  0.8563489 &  0.6645737 & -0.56566829 &  0.6797354 & 0.3850425 & ⋯ & 0 & 0 & 0 & 0 & 0 & 0 & 0 & 0 & 0 & 1\\\\\n",
       "\t -0.4802077 & -0.6039340 & -0.04996425 &  1.35017533 & -0.5191426 &  0.9891975 &  0.8077445 & -0.56566829 & -0.7739071 & 0.3850425 & ⋯ & 0 & 0 & 0 & 0 & 0 & 0 & 0 & 0 & 0 & 1\\\\\n",
       "\t -0.4197566 & -0.5941580 & -0.04996425 &  1.35017533 & -0.5191426 &  0.6902882 &  0.3782321 & -0.56566829 & -0.7739071 & 0.3850425 & ⋯ & 0 & 0 & 0 & 0 & 0 & 0 & 0 & 0 & 0 & 1\\\\\n",
       "\\end{tabular}\n"
      ],
      "text/markdown": [
       "\n",
       "A tibble: 6 × 220\n",
       "\n",
       "| Lot_Frontage &lt;dbl&gt; | Lot_Area &lt;dbl&gt; | Condition_1 &lt;dbl&gt; | Overall_Qual &lt;dbl&gt; | Overall_Cond &lt;dbl&gt; | Year_Built &lt;dbl&gt; | Year_Remod_Add &lt;dbl&gt; | Mas_Vnr_Area &lt;dbl&gt; | Exter_Qual &lt;dbl&gt; | Exter_Cond &lt;dbl&gt; | ⋯ ⋯ | Sale_Type_COD &lt;dbl&gt; | Sale_Type_Con &lt;dbl&gt; | Sale_Type_ConLD &lt;dbl&gt; | Sale_Type_ConLI &lt;dbl&gt; | Sale_Type_ConLw &lt;dbl&gt; | Sale_Type_CWD &lt;dbl&gt; | Sale_Type_New &lt;dbl&gt; | Sale_Type_Oth &lt;dbl&gt; | Sale_Type_VWD &lt;dbl&gt; | Sale_Type_WD. &lt;dbl&gt; |\n",
       "|---|---|---|---|---|---|---|---|---|---|---|---|---|---|---|---|---|---|---|---|---|\n",
       "|  2.5423461 |  2.4841172 | -0.04996425 | -0.07497118 | -0.5191426 | -0.3725001 | -1.1489228 |  0.07245867 |  0.6797354 | 0.3850425 | ⋯ | 0 | 0 | 0 | 0 | 0 | 0 | 0 | 0 | 0 | 1 |\n",
       "|  0.6985883 |  0.1668712 | -1.17717970 | -0.78754443 |  0.3910194 | -0.3392879 | -1.1011992 | -0.56566829 |  0.6797354 | 0.3850425 | ⋯ | 0 | 0 | 0 | 0 | 0 | 0 | 0 | 0 | 0 | 1 |\n",
       "|  1.0915203 |  0.1137360 | -0.04996425 |  0.63760208 | -0.5191426 | -0.1068030 | -0.7671341 | -0.56566829 | -0.7739071 | 0.3850425 | ⋯ | 0 | 0 | 0 | 0 | 0 | 0 | 0 | 0 | 0 | 1 |\n",
       "|  0.5172351 |  0.4208160 | -0.04996425 | -0.78754443 | -0.5191426 |  0.8563489 |  0.6645737 | -0.56566829 |  0.6797354 | 0.3850425 | ⋯ | 0 | 0 | 0 | 0 | 0 | 0 | 0 | 0 | 0 | 1 |\n",
       "| -0.4802077 | -0.6039340 | -0.04996425 |  1.35017533 | -0.5191426 |  0.9891975 |  0.8077445 | -0.56566829 | -0.7739071 | 0.3850425 | ⋯ | 0 | 0 | 0 | 0 | 0 | 0 | 0 | 0 | 0 | 1 |\n",
       "| -0.4197566 | -0.5941580 | -0.04996425 |  1.35017533 | -0.5191426 |  0.6902882 |  0.3782321 | -0.56566829 | -0.7739071 | 0.3850425 | ⋯ | 0 | 0 | 0 | 0 | 0 | 0 | 0 | 0 | 0 | 1 |\n",
       "\n"
      ],
      "text/plain": [
       "  Lot_Frontage Lot_Area   Condition_1 Overall_Qual Overall_Cond Year_Built\n",
       "1  2.5423461    2.4841172 -0.04996425 -0.07497118  -0.5191426   -0.3725001\n",
       "2  0.6985883    0.1668712 -1.17717970 -0.78754443   0.3910194   -0.3392879\n",
       "3  1.0915203    0.1137360 -0.04996425  0.63760208  -0.5191426   -0.1068030\n",
       "4  0.5172351    0.4208160 -0.04996425 -0.78754443  -0.5191426    0.8563489\n",
       "5 -0.4802077   -0.6039340 -0.04996425  1.35017533  -0.5191426    0.9891975\n",
       "6 -0.4197566   -0.5941580 -0.04996425  1.35017533  -0.5191426    0.6902882\n",
       "  Year_Remod_Add Mas_Vnr_Area Exter_Qual Exter_Cond ⋯ Sale_Type_COD\n",
       "1 -1.1489228      0.07245867   0.6797354 0.3850425  ⋯ 0            \n",
       "2 -1.1011992     -0.56566829   0.6797354 0.3850425  ⋯ 0            \n",
       "3 -0.7671341     -0.56566829  -0.7739071 0.3850425  ⋯ 0            \n",
       "4  0.6645737     -0.56566829   0.6797354 0.3850425  ⋯ 0            \n",
       "5  0.8077445     -0.56566829  -0.7739071 0.3850425  ⋯ 0            \n",
       "6  0.3782321     -0.56566829  -0.7739071 0.3850425  ⋯ 0            \n",
       "  Sale_Type_Con Sale_Type_ConLD Sale_Type_ConLI Sale_Type_ConLw Sale_Type_CWD\n",
       "1 0             0               0               0               0            \n",
       "2 0             0               0               0               0            \n",
       "3 0             0               0               0               0            \n",
       "4 0             0               0               0               0            \n",
       "5 0             0               0               0               0            \n",
       "6 0             0               0               0               0            \n",
       "  Sale_Type_New Sale_Type_Oth Sale_Type_VWD Sale_Type_WD.\n",
       "1 0             0             0             1            \n",
       "2 0             0             0             1            \n",
       "3 0             0             0             1            \n",
       "4 0             0             0             1            \n",
       "5 0             0             0             1            \n",
       "6 0             0             0             1            "
      ]
     },
     "metadata": {},
     "output_type": "display_data"
    }
   ],
   "source": [
    "baked_train <- bake(prepare, new_data = house_train)\n",
    "baked_test <- bake(prepare, new_data = house_test)\n",
    "head(baked_train)"
   ]
  },
  {
   "cell_type": "markdown",
   "metadata": {},
   "source": [
    "### Modeling usando el preprocesado"
   ]
  },
  {
   "cell_type": "code",
   "execution_count": 20,
   "metadata": {},
   "outputs": [
    {
     "data": {
      "text/plain": [
       "k-Nearest Neighbors \n",
       "\n",
       "2053 samples\n",
       "  80 predictor\n",
       "\n",
       "Recipe steps: nzv, integer, center, scale, dummy \n",
       "Resampling: Cross-Validated (10 fold) \n",
       "Summary of sample sizes: 1847, 1849, 1848, 1847, 1847, 1847, ... \n",
       "Resampling results across tuning parameters:\n",
       "\n",
       "  k   RMSE      Rsquared   MAE     \n",
       "   1  42934.46  0.7167487  25907.03\n",
       "   3  36547.66  0.7918622  21867.95\n",
       "   5  35738.43  0.8068077  21331.54\n",
       "   7  34958.13  0.8207310  20690.67\n",
       "   9  34394.80  0.8301578  20593.59\n",
       "  11  34271.24  0.8340235  20698.64\n",
       "  13  34369.51  0.8356032  20732.22\n",
       "  15  34447.85  0.8365407  20871.13\n",
       "  17  34559.32  0.8369243  20976.68\n",
       "  19  34647.32  0.8368361  21074.65\n",
       "\n",
       "RMSE was used to select the optimal model using the smallest value.\n",
       "The final value used for the model was k = 11."
      ]
     },
     "metadata": {},
     "output_type": "display_data"
    }
   ],
   "source": [
    "# Specify resampling strategy\n",
    "cv <- trainControl(\n",
    "  method = \"cv\", \n",
    "  number = 10, \n",
    ")\n",
    "\n",
    "# Create grid of hyperparameter values\n",
    "hyper_grid <- expand.grid(k = seq(1, 20, by = 2))\n",
    "\n",
    "# Tune a knn model using grid search\n",
    "knn_fit <- train(\n",
    "  blueprint_house, \n",
    "  data = house_train, \n",
    "  method = \"knn\", \n",
    "  trControl = cv, \n",
    "  tuneGrid = hyper_grid,\n",
    "  metric = \"RMSE\"\n",
    ")\n",
    "knn_fit"
   ]
  },
  {
   "cell_type": "code",
   "execution_count": 21,
   "metadata": {},
   "outputs": [
    {
     "data": {
      "image/png": "[encoded data removed]",
      "text/plain": [
       "plot without title"
      ]
     },
     "metadata": {
      "image/png": {
       "height": 600,
       "width": 900
      }
     },
     "output_type": "display_data"
    }
   ],
   "source": [
    "ggplot(knn_fit)\n"
   ]
  },
  {
   "cell_type": "markdown",
   "metadata": {},
   "source": [
    "# Classification"
   ]
  },
  {
   "cell_type": "markdown",
   "metadata": {},
   "source": [
    "##  Load data"
   ]
  },
  {
   "cell_type": "code",
   "execution_count": 22,
   "metadata": {},
   "outputs": [],
   "source": [
    "data(\"attrition\", package = \"modeldata\")\n",
    "# Job attrition data\n",
    "attrition <- attrition %>% \n",
    "  mutate_if(is.ordered, .funs = factor, ordered = FALSE)"
   ]
  },
  {
   "cell_type": "markdown",
   "metadata": {},
   "source": [
    "## Spliting"
   ]
  },
  {
   "cell_type": "code",
   "execution_count": 23,
   "metadata": {},
   "outputs": [],
   "source": [
    "index_caret <- createDataPartition(attrition$Attrition, p = 0.7, list = FALSE)\n",
    "attrition_train <- attrition[index_caret, ]\n",
    "attrition_test  <- attrition[-index_caret, ]"
   ]
  },
  {
   "cell_type": "markdown",
   "metadata": {},
   "source": [
    "## Modeling"
   ]
  },
  {
   "cell_type": "code",
   "execution_count": 36,
   "metadata": {},
   "outputs": [
    {
     "data": {
      "text/plain": [
       "k-Nearest Neighbors \n",
       "\n",
       "1030 samples\n",
       "  30 predictor\n",
       "   2 classes: 'No', 'Yes' \n",
       "\n",
       "No pre-processing\n",
       "Resampling: Cross-Validated (10 fold) \n",
       "Summary of sample sizes: 928, 927, 926, 927, 927, 927, ... \n",
       "Resampling results across tuning parameters:\n",
       "\n",
       "  k   ROC        Sens       Spec      \n",
       "  10  0.6139458  0.9884256  0.01801471\n",
       "  20  0.6267767  0.9976878  0.00000000\n",
       "\n",
       "ROC was used to select the optimal model using the largest value.\n",
       "The final value used for the model was k = 20."
      ]
     },
     "metadata": {},
     "output_type": "display_data"
    }
   ],
   "source": [
    "# Specify resampling strategy\n",
    "cv <- trainControl(\n",
    "  method = \"cv\", \n",
    "  number = 10,\n",
    "  classProbs = TRUE,                 \n",
    "  summaryFunction = twoClassSummary\n",
    ")\n",
    "\n",
    "# Create grid of hyperparameter values\n",
    "hyper_grid <- expand.grid(k = seq(10, 20, by = 10))\n",
    "\n",
    "knn_fit <- train(\n",
    "  Attrition ~ ., \n",
    "  data = attrition_train, \n",
    "  method = \"knn\", \n",
    "  trControl = cv, \n",
    "  tuneGrid = hyper_grid,\n",
    "  metric = 'ROC'\n",
    ")\n",
    "knn_fit"
   ]
  },
  {
   "cell_type": "code",
   "execution_count": null,
   "metadata": {},
   "outputs": [],
   "source": [
    "glimpse(attrition_train[sort(names(attrition_train))])"
   ]
  },
  {
   "cell_type": "markdown",
   "metadata": {},
   "source": [
    "## Modeling usando preprocesado "
   ]
  },
  {
   "cell_type": "code",
   "execution_count": 37,
   "metadata": {},
   "outputs": [
    {
     "data": {
      "image/png": "[encoded data removed]",
      "text/plain": [
       "plot without title"
      ]
     },
     "metadata": {
      "image/png": {
       "height": 600,
       "width": 900
      }
     },
     "output_type": "display_data"
    }
   ],
   "source": [
    "# Create blueprint\n",
    "blueprint <- recipe(Attrition ~ ., data = attrition_train) %>%\n",
    "  step_nzv(all_nominal()) %>%\n",
    "  step_integer(contains(\"Satisfaction\")) %>%\n",
    "  step_integer(WorkLifeBalance) %>%\n",
    "  step_integer(JobInvolvement) %>%\n",
    "  step_dummy(all_nominal(), -all_outcomes(), one_hot = TRUE) %>%\n",
    "  step_center(all_numeric(), -all_outcomes()) %>%\n",
    "  step_scale(all_numeric(), -all_outcomes())\n",
    "\n",
    "# Create a resampling method\n",
    "cv <- trainControl(\n",
    "  method = \"repeatedcv\", \n",
    "  number = 10, \n",
    "  repeats = 5,\n",
    "  classProbs = TRUE,                 \n",
    "  summaryFunction = twoClassSummary\n",
    ")\n",
    "\n",
    "# Create a hyperparameter grid search\n",
    "hyper_grid <- expand.grid(\n",
    "  k = floor(seq(1, nrow(attrition_train)/3, length.out = 20))\n",
    ")\n",
    "\n",
    "# Fit knn model and perform grid search\n",
    "knn_grid <- train(\n",
    "  blueprint, \n",
    "  data = attrition_train, \n",
    "  method = \"knn\", \n",
    "  trControl = cv, \n",
    "  tuneGrid = hyper_grid,\n",
    "  metric = \"ROC\"\n",
    ")\n",
    "\n",
    "ggplot(knn_grid)"
   ]
  },
  {
   "cell_type": "code",
   "execution_count": 38,
   "metadata": {},
   "outputs": [
    {
     "data": {
      "text/plain": [
       "k-Nearest Neighbors \n",
       "\n",
       "1030 samples\n",
       "  30 predictor\n",
       "   2 classes: 'No', 'Yes' \n",
       "\n",
       "Recipe steps: nzv, integer, integer, integer, dummy, center, scale \n",
       "Resampling: Cross-Validated (10 fold, repeated 5 times) \n",
       "Summary of sample sizes: 927, 927, 927, 928, 926, 927, ... \n",
       "Resampling results across tuning parameters:\n",
       "\n",
       "  k    ROC        Sens       Spec       \n",
       "    1  0.5877067  0.9136488  0.261764706\n",
       "   19  0.7247062  0.9997701  0.053308824\n",
       "   37  0.7346422  1.0000000  0.006029412\n",
       "   55  0.7457471  1.0000000  0.000000000\n",
       "   73  0.7528017  1.0000000  0.000000000\n",
       "   91  0.7630586  1.0000000  0.000000000\n",
       "  109  0.7610929  1.0000000  0.000000000\n",
       "  127  0.7722589  1.0000000  0.000000000\n",
       "  145  0.7724200  1.0000000  0.000000000\n",
       "  163  0.7784860  1.0000000  0.000000000\n",
       "  181  0.7858286  1.0000000  0.000000000\n",
       "  199  0.7810953  1.0000000  0.000000000\n",
       "  217  0.7750392  1.0000000  0.000000000\n",
       "  235  0.7770163  1.0000000  0.000000000\n",
       "  253  0.7764010  1.0000000  0.000000000\n",
       "  271  0.7768503  1.0000000  0.000000000\n",
       "  289  0.7741172  1.0000000  0.000000000\n",
       "  307  0.7734029  1.0000000  0.000000000\n",
       "  325  0.7704673  1.0000000  0.000000000\n",
       "  343  0.7711392  1.0000000  0.000000000\n",
       "\n",
       "ROC was used to select the optimal model using the largest value.\n",
       "The final value used for the model was k = 181."
      ]
     },
     "metadata": {},
     "output_type": "display_data"
    }
   ],
   "source": [
    "knn_grid"
   ]
  },
  {
   "cell_type": "code",
   "execution_count": null,
   "metadata": {},
   "outputs": [],
   "source": []
  }
 ],
 "metadata": {
  "kernelspec": {
   "display_name": "R",
   "language": "R",
   "name": "ir"
  },
  "language_info": {
   "codemirror_mode": "r",
   "file_extension": ".r",
   "mimetype": "text/x-r-source",
   "name": "R",
   "pygments_lexer": "r",
   "version": "3.6.3"
  },
  "toc": {
   "base_numbering": 1,
   "nav_menu": {},
   "number_sections": true,
   "sideBar": true,
   "skip_h1_title": false,
   "title_cell": "Table of Contents",
   "title_sidebar": "Contents",
   "toc_cell": false,
   "toc_position": {},
   "toc_section_display": true,
   "toc_window_display": true
  },
  "varInspector": {
   "cols": {
    "lenName": 16,
    "lenType": 16,
    "lenVar": 40
   },
   "kernels_config": {
    "python": {
     "delete_cmd_postfix": "",
     "delete_cmd_prefix": "del ",
     "library": "var_list.py",
     "varRefreshCmd": "print(var_dic_list())"
    },
    "r": {
     "delete_cmd_postfix": ") ",
     "delete_cmd_prefix": "rm(",
     "library": "var_list.r",
     "varRefreshCmd": "cat(var_dic_list()) "
    }
   },
   "types_to_exclude": [
    "module",
    "function",
    "builtin_function_or_method",
    "instance",
    "_Feature"
   ],
   "window_display": false
  }
 },
 "nbformat": 4,
 "nbformat_minor": 4
}
