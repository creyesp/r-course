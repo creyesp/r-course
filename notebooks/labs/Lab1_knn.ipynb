{
 "cells": [
  {
   "cell_type": "code",
   "execution_count": 1,
   "metadata": {},
   "outputs": [],
   "source": [
    "options(repr.plot.width  = 15,\n",
    "        repr.plot.height = 10)"
   ]
  },
  {
   "cell_type": "code",
   "execution_count": 2,
   "metadata": {},
   "outputs": [
    {
     "name": "stderr",
     "output_type": "stream",
     "text": [
      "\n",
      "Attaching package: ‘dplyr’\n",
      "\n",
      "\n",
      "The following objects are masked from ‘package:stats’:\n",
      "\n",
      "    filter, lag\n",
      "\n",
      "\n",
      "The following objects are masked from ‘package:base’:\n",
      "\n",
      "    intersect, setdiff, setequal, union\n",
      "\n",
      "\n",
      "Loading required package: gridExtra\n",
      "\n",
      "\n",
      "Attaching package: ‘gridExtra’\n",
      "\n",
      "\n",
      "The following object is masked from ‘package:dplyr’:\n",
      "\n",
      "    combine\n",
      "\n",
      "\n",
      "\n",
      "Attaching package: ‘vip’\n",
      "\n",
      "\n",
      "The following object is masked from ‘package:utils’:\n",
      "\n",
      "    vi\n",
      "\n",
      "\n",
      "Loading required package: lattice\n",
      "\n",
      "\n",
      "Attaching package: ‘recipes’\n",
      "\n",
      "\n",
      "The following object is masked from ‘package:stats’:\n",
      "\n",
      "    step\n",
      "\n",
      "\n"
     ]
    }
   ],
   "source": [
    "library(AmesHousing)\n",
    "\n",
    "# Helper packages\n",
    "library(dplyr)     # for data manipulation\n",
    "library(ggplot2)   # for awesome graphics\n",
    "require(gridExtra) # for make subplot \n",
    "library(ggpubr)    # for make subplot and more\n",
    "library(vip)\n",
    "\n",
    "# Modeling process packages\n",
    "library(caret)     # for resampling and model training\n",
    "library(recipes)  # for feature engineering tasks"
   ]
  },
  {
   "cell_type": "code",
   "execution_count": 3,
   "metadata": {},
   "outputs": [
    {
     "data": {
      "text/html": [
       "<dl>\n",
       "\t<dt>$label</dt>\n",
       "\t\t<dd>'k-Nearest Neighbors'</dd>\n",
       "\t<dt>$library</dt>\n",
       "\t\t<dd>NULL</dd>\n",
       "\t<dt>$loop</dt>\n",
       "\t\t<dd>NULL</dd>\n",
       "\t<dt>$type</dt>\n",
       "\t\t<dd><style>\n",
       ".list-inline {list-style: none; margin:0; padding: 0}\n",
       ".list-inline>li {display: inline-block}\n",
       ".list-inline>li:not(:last-child)::after {content: \"\\00b7\"; padding: 0 .5ex}\n",
       "</style>\n",
       "<ol class=list-inline><li>'Classification'</li><li>'Regression'</li></ol>\n",
       "</dd>\n",
       "\t<dt>$parameters</dt>\n",
       "\t\t<dd><table>\n",
       "<caption>A data.frame: 1 × 3</caption>\n",
       "<thead>\n",
       "\t<tr><th scope=col>parameter</th><th scope=col>class</th><th scope=col>label</th></tr>\n",
       "\t<tr><th scope=col>&lt;chr&gt;</th><th scope=col>&lt;chr&gt;</th><th scope=col>&lt;chr&gt;</th></tr>\n",
       "</thead>\n",
       "<tbody>\n",
       "\t<tr><td>k</td><td>numeric</td><td>#Neighbors</td></tr>\n",
       "</tbody>\n",
       "</table>\n",
       "</dd>\n",
       "\t<dt>$grid</dt>\n",
       "\t\t<dd><pre class=language-r><code>function (x, y, len = NULL, search = \"grid\") \n",
       "{\n",
       "<span style=white-space:pre-wrap>    if (search == \"grid\") {</span>\n",
       "<span style=white-space:pre-wrap>        out &lt;- data.frame(k = (5:((2 * len) + 4))[(5:((2 * len) + </span>\n",
       "<span style=white-space:pre-wrap>            4))%%2 &gt; 0])</span>\n",
       "<span style=white-space:pre-wrap>    }</span>\n",
       "<span style=white-space:pre-wrap>    else {</span>\n",
       "<span style=white-space:pre-wrap>        by_val &lt;- if (is.factor(y)) </span>\n",
       "<span style=white-space:pre-wrap>            length(levels(y))</span>\n",
       "<span style=white-space:pre-wrap>        else 1</span>\n",
       "<span style=white-space:pre-wrap>        out &lt;- data.frame(k = sample(seq(1, floor(nrow(x)/3), </span>\n",
       "<span style=white-space:pre-wrap>            by = by_val), size = len, replace = TRUE))</span>\n",
       "<span style=white-space:pre-wrap>    }</span>\n",
       "}</code></pre></dd>\n",
       "\t<dt>$fit</dt>\n",
       "\t\t<dd><pre class=language-r><code>function (x, y, wts, param, lev, last, classProbs, ...) \n",
       "{\n",
       "<span style=white-space:pre-wrap>    if (is.factor(y)) {</span>\n",
       "<span style=white-space:pre-wrap>        knn3(as.matrix(x), y, k = param$k, ...)</span>\n",
       "<span style=white-space:pre-wrap>    }</span>\n",
       "<span style=white-space:pre-wrap>    else {</span>\n",
       "<span style=white-space:pre-wrap>        knnreg(as.matrix(x), y, k = param$k, ...)</span>\n",
       "<span style=white-space:pre-wrap>    }</span>\n",
       "}</code></pre></dd>\n",
       "\t<dt>$predict</dt>\n",
       "\t\t<dd><pre class=language-r><code>function (modelFit, newdata, submodels = NULL) \n",
       "{\n",
       "<span style=white-space:pre-wrap>    if (modelFit$problemType == \"Classification\") {</span>\n",
       "<span style=white-space:pre-wrap>        out &lt;- predict(modelFit, newdata, type = \"class\")</span>\n",
       "<span style=white-space:pre-wrap>    }</span>\n",
       "<span style=white-space:pre-wrap>    else {</span>\n",
       "<span style=white-space:pre-wrap>        out &lt;- predict(modelFit, newdata)</span>\n",
       "<span style=white-space:pre-wrap>    }</span>\n",
       "<span style=white-space:pre-wrap>    out</span>\n",
       "}</code></pre></dd>\n",
       "\t<dt>$predictors</dt>\n",
       "\t\t<dd><pre class=language-r><code>function (x, ...) \n",
       "colnames(x$learn$X)</code></pre></dd>\n",
       "\t<dt>$tags</dt>\n",
       "\t\t<dd>'Prototype Models'</dd>\n",
       "\t<dt>$prob</dt>\n",
       "\t\t<dd><pre class=language-r><code>function (modelFit, newdata, submodels = NULL) \n",
       "predict(modelFit, newdata, type = \"prob\")</code></pre></dd>\n",
       "\t<dt>$levels</dt>\n",
       "\t\t<dd><pre class=language-r><code>function (x) \n",
       "levels(x$learn$y)</code></pre></dd>\n",
       "\t<dt>$sort</dt>\n",
       "\t\t<dd><pre class=language-r><code>function (x) \n",
       "x[order(-x[, 1]), ]</code></pre></dd>\n",
       "</dl>\n"
      ],
      "text/latex": [
       "\\begin{description}\n",
       "\\item[\\$label] 'k-Nearest Neighbors'\n",
       "\\item[\\$library] NULL\n",
       "\\item[\\$loop] NULL\n",
       "\\item[\\$type] \\begin{enumerate*}\n",
       "\\item 'Classification'\n",
       "\\item 'Regression'\n",
       "\\end{enumerate*}\n",
       "\n",
       "\\item[\\$parameters] A data.frame: 1 × 3\n",
       "\\begin{tabular}{lll}\n",
       " parameter & class & label\\\\\n",
       " <chr> & <chr> & <chr>\\\\\n",
       "\\hline\n",
       "\t k & numeric & \\#Neighbors\\\\\n",
       "\\end{tabular}\n",
       "\n",
       "\\item[\\$grid] \\begin{minted}{r}\n",
       "function (x, y, len = NULL, search = \"grid\") \n",
       "\\{\n",
       "    if (search == \"grid\") \\{\n",
       "        out <- data.frame(k = (5:((2 * len) + 4)){[}(5:((2 * len) + \n",
       "            4))\\%\\%2 > 0{]})\n",
       "    \\}\n",
       "    else \\{\n",
       "        by\\_val <- if (is.factor(y)) \n",
       "            length(levels(y))\n",
       "        else 1\n",
       "        out <- data.frame(k = sample(seq(1, floor(nrow(x)/3), \n",
       "            by = by\\_val), size = len, replace = TRUE))\n",
       "    \\}\n",
       "\\}\n",
       "\\end{minted}\n",
       "\\item[\\$fit] \\begin{minted}{r}\n",
       "function (x, y, wts, param, lev, last, classProbs, ...) \n",
       "\\{\n",
       "    if (is.factor(y)) \\{\n",
       "        knn3(as.matrix(x), y, k = param\\$k, ...)\n",
       "    \\}\n",
       "    else \\{\n",
       "        knnreg(as.matrix(x), y, k = param\\$k, ...)\n",
       "    \\}\n",
       "\\}\n",
       "\\end{minted}\n",
       "\\item[\\$predict] \\begin{minted}{r}\n",
       "function (modelFit, newdata, submodels = NULL) \n",
       "\\{\n",
       "    if (modelFit\\$problemType == \"Classification\") \\{\n",
       "        out <- predict(modelFit, newdata, type = \"class\")\n",
       "    \\}\n",
       "    else \\{\n",
       "        out <- predict(modelFit, newdata)\n",
       "    \\}\n",
       "    out\n",
       "\\}\n",
       "\\end{minted}\n",
       "\\item[\\$predictors] \\begin{minted}{r}\n",
       "function (x, ...) \n",
       "colnames(x\\$learn\\$X)\n",
       "\\end{minted}\n",
       "\\item[\\$tags] 'Prototype Models'\n",
       "\\item[\\$prob] \\begin{minted}{r}\n",
       "function (modelFit, newdata, submodels = NULL) \n",
       "predict(modelFit, newdata, type = \"prob\")\n",
       "\\end{minted}\n",
       "\\item[\\$levels] \\begin{minted}{r}\n",
       "function (x) \n",
       "levels(x\\$learn\\$y)\n",
       "\\end{minted}\n",
       "\\item[\\$sort] \\begin{minted}{r}\n",
       "function (x) \n",
       "x{[}order(-x{[}, 1{]}), {]}\n",
       "\\end{minted}\n",
       "\\end{description}\n"
      ],
      "text/markdown": [
       "$label\n",
       ":   'k-Nearest Neighbors'\n",
       "$library\n",
       ":   NULL\n",
       "$loop\n",
       ":   NULL\n",
       "$type\n",
       ":   1. 'Classification'\n",
       "2. 'Regression'\n",
       "\n",
       "\n",
       "\n",
       "$parameters\n",
       ":   \n",
       "A data.frame: 1 × 3\n",
       "\n",
       "| parameter &lt;chr&gt; | class &lt;chr&gt; | label &lt;chr&gt; |\n",
       "|---|---|---|\n",
       "| k | numeric | #Neighbors |\n",
       "\n",
       "\n",
       "$grid\n",
       ":   ```r\n",
       "function (x, y, len = NULL, search = \"grid\") \n",
       "{\n",
       "    if (search == \"grid\") {\n",
       "        out <- data.frame(k = (5:((2 * len) + 4))[(5:((2 * len) + \n",
       "            4))%%2 > 0])\n",
       "    }\n",
       "    else {\n",
       "        by_val <- if (is.factor(y)) \n",
       "            length(levels(y))\n",
       "        else 1\n",
       "        out <- data.frame(k = sample(seq(1, floor(nrow(x)/3), \n",
       "            by = by_val), size = len, replace = TRUE))\n",
       "    }\n",
       "}\n",
       "```\n",
       "$fit\n",
       ":   ```r\n",
       "function (x, y, wts, param, lev, last, classProbs, ...) \n",
       "{\n",
       "    if (is.factor(y)) {\n",
       "        knn3(as.matrix(x), y, k = param$k, ...)\n",
       "    }\n",
       "    else {\n",
       "        knnreg(as.matrix(x), y, k = param$k, ...)\n",
       "    }\n",
       "}\n",
       "```\n",
       "$predict\n",
       ":   ```r\n",
       "function (modelFit, newdata, submodels = NULL) \n",
       "{\n",
       "    if (modelFit$problemType == \"Classification\") {\n",
       "        out <- predict(modelFit, newdata, type = \"class\")\n",
       "    }\n",
       "    else {\n",
       "        out <- predict(modelFit, newdata)\n",
       "    }\n",
       "    out\n",
       "}\n",
       "```\n",
       "$predictors\n",
       ":   ```r\n",
       "function (x, ...) \n",
       "colnames(x$learn$X)\n",
       "```\n",
       "$tags\n",
       ":   'Prototype Models'\n",
       "$prob\n",
       ":   ```r\n",
       "function (modelFit, newdata, submodels = NULL) \n",
       "predict(modelFit, newdata, type = \"prob\")\n",
       "```\n",
       "$levels\n",
       ":   ```r\n",
       "function (x) \n",
       "levels(x$learn$y)\n",
       "```\n",
       "$sort\n",
       ":   ```r\n",
       "function (x) \n",
       "x[order(-x[, 1]), ]\n",
       "```\n",
       "\n",
       "\n"
      ],
      "text/plain": [
       "$label\n",
       "[1] \"k-Nearest Neighbors\"\n",
       "\n",
       "$library\n",
       "NULL\n",
       "\n",
       "$loop\n",
       "NULL\n",
       "\n",
       "$type\n",
       "[1] \"Classification\" \"Regression\"    \n",
       "\n",
       "$parameters\n",
       "  parameter   class      label\n",
       "1         k numeric #Neighbors\n",
       "\n",
       "$grid\n",
       "function(x, y, len = NULL, search = \"grid\"){\n",
       "                    if(search == \"grid\") {\n",
       "                      out <- data.frame(k = (5:((2 * len)+4))[(5:((2 * len)+4))%%2 > 0])\n",
       "                    } else {\n",
       "                      by_val <- if(is.factor(y)) length(levels(y)) else 1\n",
       "                      out <- data.frame(k = sample(seq(1, floor(nrow(x)/3), by = by_val), size = len, replace = TRUE))\n",
       "                    }\n",
       "                  }\n",
       "\n",
       "$fit\n",
       "function(x, y, wts, param, lev, last, classProbs, ...) {\n",
       "                    if(is.factor(y))\n",
       "                    {\n",
       "                      knn3(as.matrix(x), y, k = param$k, ...)\n",
       "                    } else {\n",
       "                      knnreg(as.matrix(x), y, k = param$k, ...)\n",
       "                    }\n",
       "                  }\n",
       "\n",
       "$predict\n",
       "function(modelFit, newdata, submodels = NULL) {\n",
       "                    if(modelFit$problemType == \"Classification\")\n",
       "                    {\n",
       "                      out <- predict(modelFit, newdata,  type = \"class\")\n",
       "                    } else {\n",
       "                      out <- predict(modelFit, newdata)\n",
       "                    }\n",
       "                    out\n",
       "                  }\n",
       "\n",
       "$predictors\n",
       "function(x, ...) colnames(x$learn$X)\n",
       "\n",
       "$tags\n",
       "[1] \"Prototype Models\"\n",
       "\n",
       "$prob\n",
       "function(modelFit, newdata, submodels = NULL)\n",
       "                    predict(modelFit, newdata, type = \"prob\")\n",
       "\n",
       "$levels\n",
       "function(x) levels(x$learn$y)\n",
       "\n",
       "$sort\n",
       "function(x) x[order(-x[,1]),]\n"
      ]
     },
     "metadata": {},
     "output_type": "display_data"
    }
   ],
   "source": [
    "knnModelInfo <- getModelInfo(model = \"knn\", regex = FALSE)[[1]]\n",
    "knnModelInfo"
   ]
  },
  {
   "cell_type": "markdown",
   "metadata": {},
   "source": [
    "# Regression"
   ]
  },
  {
   "cell_type": "code",
   "execution_count": 4,
   "metadata": {},
   "outputs": [],
   "source": [
    "ames <- AmesHousing::make_ames()"
   ]
  },
  {
   "cell_type": "code",
   "execution_count": 5,
   "metadata": {},
   "outputs": [
    {
     "name": "stderr",
     "output_type": "stream",
     "text": [
      "Warning message:\n",
      "“The `i` argument of ``[`()` can't be a matrix as of tibble 3.0.0.\n",
      "Convert to a vector.\n",
      "\u001b[90mThis warning is displayed once every 8 hours.\u001b[39m\n",
      "\u001b[90mCall `lifecycle::last_warnings()` to see where this warning was generated.\u001b[39m”\n"
     ]
    }
   ],
   "source": [
    "index_2 <- createDataPartition(ames$Sale_Price, p = 0.7, \n",
    "                               list = FALSE, )\n",
    "house_train <- ames[index_2, ]\n",
    "house_test  <- ames[-index_2, ]"
   ]
  },
  {
   "cell_type": "markdown",
   "metadata": {},
   "source": [
    "## Distance measures\n",
    "\n",
    "$$dist(x_a, x_b) = \\sqrt{ \\sum_j^k(x_{aj}−x_{bj})^2}$$\n",
    "$$dist(x_a, x_b) = \\sum_j^k|x_{aj}−x_{bj}|$$\n"
   ]
  },
  {
   "cell_type": "code",
   "execution_count": 6,
   "metadata": {},
   "outputs": [
    {
     "data": {
      "text/html": [
       "<table>\n",
       "<caption>A tibble: 2 × 2</caption>\n",
       "<thead>\n",
       "\t<tr><th scope=col>Gr_Liv_Area</th><th scope=col>Year_Built</th></tr>\n",
       "\t<tr><th scope=col>&lt;int&gt;</th><th scope=col>&lt;int&gt;</th></tr>\n",
       "</thead>\n",
       "<tbody>\n",
       "\t<tr><td> 896</td><td>1961</td></tr>\n",
       "\t<tr><td>1329</td><td>1958</td></tr>\n",
       "</tbody>\n",
       "</table>\n"
      ],
      "text/latex": [
       "A tibble: 2 × 2\n",
       "\\begin{tabular}{ll}\n",
       " Gr\\_Liv\\_Area & Year\\_Built\\\\\n",
       " <int> & <int>\\\\\n",
       "\\hline\n",
       "\t  896 & 1961\\\\\n",
       "\t 1329 & 1958\\\\\n",
       "\\end{tabular}\n"
      ],
      "text/markdown": [
       "\n",
       "A tibble: 2 × 2\n",
       "\n",
       "| Gr_Liv_Area &lt;int&gt; | Year_Built &lt;int&gt; |\n",
       "|---|---|\n",
       "|  896 | 1961 |\n",
       "| 1329 | 1958 |\n",
       "\n"
      ],
      "text/plain": [
       "  Gr_Liv_Area Year_Built\n",
       "1  896        1961      \n",
       "2 1329        1958      "
      ]
     },
     "metadata": {},
     "output_type": "display_data"
    }
   ],
   "source": [
    "two_houses <- house_train[1:2, c(\"Gr_Liv_Area\", \"Year_Built\")]\n",
    "two_houses"
   ]
  },
  {
   "cell_type": "code",
   "execution_count": 7,
   "metadata": {},
   "outputs": [
    {
     "data": {
      "text/plain": [
       "         1\n",
       "2 433.0104"
      ]
     },
     "metadata": {},
     "output_type": "display_data"
    }
   ],
   "source": [
    "# Euclidean\n",
    "dist(two_houses, method = \"euclidean\")"
   ]
  },
  {
   "cell_type": "code",
   "execution_count": 8,
   "metadata": {},
   "outputs": [
    {
     "data": {
      "text/plain": [
       "    1\n",
       "2 436"
      ]
     },
     "metadata": {},
     "output_type": "display_data"
    }
   ],
   "source": [
    "# Manhattan\n",
    "dist(two_houses, method = \"manhattan\")"
   ]
  },
  {
   "cell_type": "markdown",
   "metadata": {},
   "source": [
    "Debido a que la distancia de Euclides usa el cuadrado de las distancias es mas sensible a outliers. Por esto es importante normalizar la las variables antes de hacer los calculos. Esto debido a que variables con escalas mas grandes tienen mas peso sobre el resultado final que las de escala mas pequeña."
   ]
  },
  {
   "cell_type": "code",
   "execution_count": 9,
   "metadata": {},
   "outputs": [
    {
     "data": {
      "text/html": [
       "<table>\n",
       "<caption>A data.frame: 3 × 2</caption>\n",
       "<thead>\n",
       "\t<tr><th scope=col>rooms</th><th scope=col>year</th></tr>\n",
       "\t<tr><th scope=col>&lt;dbl&gt;</th><th scope=col>&lt;dbl&gt;</th></tr>\n",
       "</thead>\n",
       "<tbody>\n",
       "\t<tr><td>2</td><td>2020</td></tr>\n",
       "\t<tr><td>3</td><td>2020</td></tr>\n",
       "\t<tr><td>1</td><td>2010</td></tr>\n",
       "</tbody>\n",
       "</table>\n"
      ],
      "text/latex": [
       "A data.frame: 3 × 2\n",
       "\\begin{tabular}{ll}\n",
       " rooms & year\\\\\n",
       " <dbl> & <dbl>\\\\\n",
       "\\hline\n",
       "\t 2 & 2020\\\\\n",
       "\t 3 & 2020\\\\\n",
       "\t 1 & 2010\\\\\n",
       "\\end{tabular}\n"
      ],
      "text/markdown": [
       "\n",
       "A data.frame: 3 × 2\n",
       "\n",
       "| rooms &lt;dbl&gt; | year &lt;dbl&gt; |\n",
       "|---|---|\n",
       "| 2 | 2020 |\n",
       "| 3 | 2020 |\n",
       "| 1 | 2010 |\n",
       "\n"
      ],
      "text/plain": [
       "  rooms year\n",
       "1 2     2020\n",
       "2 3     2020\n",
       "3 1     2010"
      ]
     },
     "metadata": {},
     "output_type": "display_data"
    }
   ],
   "source": [
    "house1 <- data.frame(rooms = c(2,3,1), year = c(2020, 2020, 2010))\n",
    "house1"
   ]
  },
  {
   "cell_type": "code",
   "execution_count": 10,
   "metadata": {},
   "outputs": [
    {
     "data": {
      "text/plain": [
       "         1        2\n",
       "2  1.00000         \n",
       "3 10.04988 10.19804"
      ]
     },
     "metadata": {},
     "output_type": "display_data"
    }
   ],
   "source": [
    "dist(house1)"
   ]
  },
  {
   "cell_type": "code",
   "execution_count": 11,
   "metadata": {},
   "outputs": [
    {
     "data": {
      "text/html": [
       "<table>\n",
       "<caption>A data.frame: 3 × 2</caption>\n",
       "<thead>\n",
       "\t<tr><th scope=col>rooms</th><th scope=col>year</th></tr>\n",
       "\t<tr><th scope=col>&lt;dbl&gt;</th><th scope=col>&lt;dbl&gt;</th></tr>\n",
       "</thead>\n",
       "<tbody>\n",
       "\t<tr><td> 0</td><td> 0.5773503</td></tr>\n",
       "\t<tr><td> 1</td><td> 0.5773503</td></tr>\n",
       "\t<tr><td>-1</td><td>-1.1547005</td></tr>\n",
       "</tbody>\n",
       "</table>\n"
      ],
      "text/latex": [
       "A data.frame: 3 × 2\n",
       "\\begin{tabular}{ll}\n",
       " rooms & year\\\\\n",
       " <dbl> & <dbl>\\\\\n",
       "\\hline\n",
       "\t  0 &  0.5773503\\\\\n",
       "\t  1 &  0.5773503\\\\\n",
       "\t -1 & -1.1547005\\\\\n",
       "\\end{tabular}\n"
      ],
      "text/markdown": [
       "\n",
       "A data.frame: 3 × 2\n",
       "\n",
       "| rooms &lt;dbl&gt; | year &lt;dbl&gt; |\n",
       "|---|---|\n",
       "|  0 |  0.5773503 |\n",
       "|  1 |  0.5773503 |\n",
       "| -1 | -1.1547005 |\n",
       "\n"
      ],
      "text/plain": [
       "  rooms year      \n",
       "1  0     0.5773503\n",
       "2  1     0.5773503\n",
       "3 -1    -1.1547005"
      ]
     },
     "metadata": {},
     "output_type": "display_data"
    }
   ],
   "source": [
    "house1_sd <- house1 %>% \n",
    "    mutate(rooms=(rooms - mean(rooms))/sd(rooms),\n",
    "           year=(year - mean(year))/sd(year))\n",
    "house1_sd"
   ]
  },
  {
   "cell_type": "code",
   "execution_count": 12,
   "metadata": {},
   "outputs": [
    {
     "data": {
      "text/plain": [
       "         1        2\n",
       "2 1.000000         \n",
       "3 2.000000 2.645751"
      ]
     },
     "metadata": {},
     "output_type": "display_data"
    }
   ],
   "source": [
    "dist(house1_sd)"
   ]
  },
  {
   "cell_type": "code",
   "execution_count": 14,
   "metadata": {},
   "outputs": [
    {
     "data": {
      "text/plain": [
       "k-Nearest Neighbors \n",
       "\n",
       "2053 samples\n",
       "  80 predictor\n",
       "\n",
       "No pre-processing\n",
       "Resampling: Cross-Validated (10 fold) \n",
       "Summary of sample sizes: 1847, 1847, 1848, 1849, 1847, 1847, ... \n",
       "Resampling results across tuning parameters:\n",
       "\n",
       "  k   RMSE      Rsquared   MAE     \n",
       "  10  42542.50  0.7286086  28331.28\n",
       "  20  44449.05  0.7201623  29489.78\n",
       "\n",
       "RMSE was used to select the optimal model using the smallest value.\n",
       "The final value used for the model was k = 10."
      ]
     },
     "metadata": {},
     "output_type": "display_data"
    }
   ],
   "source": [
    "# Specify resampling strategy\n",
    "cv <- trainControl(\n",
    "  method = \"cv\", \n",
    "  number = 10,\n",
    ")\n",
    "\n",
    "# Create grid of hyperparameter values\n",
    "hyper_grid <- data.frame(k = c(10, 20))\n",
    "\n",
    "knn_fit <- train(\n",
    "  Sale_Price ~ ., \n",
    "  data = house_train, \n",
    "  method = \"knn\", \n",
    "  trControl = cv, \n",
    "  tuneGrid = hyper_grid,\n",
    "  metric = \"RMSE\",\n",
    ")\n",
    "knn_fit"
   ]
  },
  {
   "cell_type": "code",
   "execution_count": null,
   "metadata": {},
   "outputs": [],
   "source": []
  },
  {
   "cell_type": "code",
   "execution_count": 16,
   "metadata": {},
   "outputs": [
    {
     "data": {
      "text/html": [
       "'knnreg'"
      ],
      "text/latex": [
       "'knnreg'"
      ],
      "text/markdown": [
       "'knnreg'"
      ],
      "text/plain": [
       "[1] \"knnreg\""
      ]
     },
     "metadata": {},
     "output_type": "display_data"
    }
   ],
   "source": [
    "class(knn_fit$finalModel)"
   ]
  },
  {
   "cell_type": "code",
   "execution_count": 18,
   "metadata": {},
   "outputs": [
    {
     "data": {
      "image/png": "[encoded data removed]",
      "text/plain": [
       "plot without title"
      ]
     },
     "metadata": {
      "image/png": {
       "height": 600,
       "width": 900
      }
     },
     "output_type": "display_data"
    }
   ],
   "source": [
    "data.frame(pred = predict(knn_fit, house_test), test = house_test$Sale_Price ) %>% \n",
    "    ggplot(aes(x=test, y=pred)) + geom_point()"
   ]
  },
  {
   "cell_type": "markdown",
   "metadata": {},
   "source": [
    "## Choosing k\n",
    "The performance of KNNs is very sensitive to the choice of k. This was illustrated in Section 2.5.3 where low values of k typically overfit and large values often underfit. At the extremes, when k=1, we base our prediction on a single observation that has the closest distance measure. In contrast, when k=n, we are simply using the average (regression) or most common class (classification) across all training samples as our predicted value."
   ]
  },
  {
   "cell_type": "markdown",
   "metadata": {},
   "source": [
    "## Feature engineering\n",
    "Hay una libreria que permite crear un pipeline con todas las transformaciones que queremos hacer a la data para que entre a nuestro modelo y que nos facilita el proceso para evaluar luego en la fase de testing donde simplemente pasamos la data son tener que procesarlar porque ya esta todo en el pipeline\n",
    "\n",
    "\n",
    "<img src=\"https://www.clipartkey.com/mpngs/m/191-1919605_recipes-r-package-logo.png\" width=200>\n",
    "\n",
    "[Recipe doc](https://recipes.tidymodels.org/articles/Simple_Example.html)\n",
    "\n",
    "\n",
    "\n",
    "\n",
    "* `step_dummy()`: creating dummy variables from categorical variables.\n",
    "* `step_integer()`: creating dummy variables from categorical variables.\n",
    "* `step_zzzimpute()`: where instead of “zzz” it is the name of a method, such as step_knnimpute(), step_meanimpute(), step_modeimpute(). I find that the fancier imputation methods are reeeeally slow for decently large datasets, so I would probably do this step outside of the recipes package unless you just want to do a quick mean or mode impute (which, to be honest, I often do).\n",
    "* `step_scale()`: normalize to have a standard deviation of 1.\n",
    "* `step_center()`: center to have a mean of 0.\n",
    "* `step_nzv()`: remove variables that have (or almost have) the same value for every data point.\n",
    "\n",
    "\n",
    "In each step, you need to specify which variables you want to apply it to. There are many ways to do this:\n",
    "\n",
    "* Specifying the variable name(s) as the first argument\n",
    "* Standard dplyr selectors:\n",
    "    * `everything()` applies the step to all columns,\n",
    "    * `contains()` allows you to specify column names that contain a specific string,\n",
    "    * `starts_with()` allows you to specify column names that start with a sepcific string,\n",
    "    * etc\n",
    "* Functions that specify the role of the variables:\n",
    "    * `all_predictors()` applies the step to the predictor variables only\n",
    "    * `all_outcomes()` applies the step to the outcome variable(s) only\n",
    "* Functions that specify the type of the variables:\n",
    "    * `all_nominal()` applies the step to all variables that are nominal (categorical)\n",
    "    * `all_numeric()` applies the step to all variables that are numeric"
   ]
  },
  {
   "cell_type": "code",
   "execution_count": 19,
   "metadata": {},
   "outputs": [],
   "source": [
    "# log transformation\n",
    "blueprint_house <- recipe(Sale_Price ~ ., data = house_train) %>%\n",
    "  step_nzv(all_nominal()) %>%\n",
    "  step_integer(matches(\"Qual|Cond|QC|Qu\")) %>%\n",
    "  step_center(all_numeric(), -all_outcomes()) %>%\n",
    "  step_scale(all_numeric(), -all_outcomes()) %>%\n",
    "  step_dummy(all_nominal(), -all_outcomes(), one_hot = TRUE)"
   ]
  },
  {
   "cell_type": "code",
   "execution_count": 20,
   "metadata": {},
   "outputs": [
    {
     "data": {
      "text/plain": [
       "Data Recipe\n",
       "\n",
       "Inputs:\n",
       "\n",
       "      role #variables\n",
       "   outcome          1\n",
       " predictor         80\n",
       "\n",
       "Operations:\n",
       "\n",
       "Sparse, unbalanced variable filter on all_nominal()\n",
       "Integer encoding for matches(\"Qual|Cond|QC|Qu\")\n",
       "Centering for all_numeric(), -all_outcomes()\n",
       "Scaling for all_numeric(), -all_outcomes()\n",
       "Dummy variables from all_nominal(), -all_outcomes()"
      ]
     },
     "metadata": {},
     "output_type": "display_data"
    }
   ],
   "source": [
    "blueprint_house"
   ]
  },
  {
   "cell_type": "code",
   "execution_count": 21,
   "metadata": {},
   "outputs": [
    {
     "data": {
      "text/plain": [
       "Data Recipe\n",
       "\n",
       "Inputs:\n",
       "\n",
       "      role #variables\n",
       "   outcome          1\n",
       " predictor         80\n",
       "\n",
       "Training data contained 2053 data points and no missing data.\n",
       "\n",
       "Operations:\n",
       "\n",
       "Sparse, unbalanced variable filter removed Street, Alley, Land_Contour, ... [trained]\n",
       "Integer encoding for Condition_1, Overall_Qual, Overall_Cond, ... [trained]\n",
       "Centering for Lot_Frontage, Lot_Area, ... [trained]\n",
       "Scaling for Lot_Frontage, Lot_Area, ... [trained]\n",
       "Dummy variables from MS_SubClass, MS_Zoning, Lot_Shape, ... [trained]"
      ]
     },
     "metadata": {},
     "output_type": "display_data"
    }
   ],
   "source": [
    "prepare <- prep(blueprint_house, training = house_train)\n",
    "prepare"
   ]
  },
  {
   "cell_type": "code",
   "execution_count": 22,
   "metadata": {},
   "outputs": [
    {
     "data": {
      "text/html": [
       "<table>\n",
       "<caption>A tibble: 2053 × 220</caption>\n",
       "<thead>\n",
       "\t<tr><th scope=col>Lot_Frontage</th><th scope=col>Lot_Area</th><th scope=col>Condition_1</th><th scope=col>Overall_Qual</th><th scope=col>Overall_Cond</th><th scope=col>Year_Built</th><th scope=col>Year_Remod_Add</th><th scope=col>Mas_Vnr_Area</th><th scope=col>Exter_Qual</th><th scope=col>Exter_Cond</th><th scope=col>⋯</th><th scope=col>Sale_Type_COD</th><th scope=col>Sale_Type_Con</th><th scope=col>Sale_Type_ConLD</th><th scope=col>Sale_Type_ConLI</th><th scope=col>Sale_Type_ConLw</th><th scope=col>Sale_Type_CWD</th><th scope=col>Sale_Type_New</th><th scope=col>Sale_Type_Oth</th><th scope=col>Sale_Type_VWD</th><th scope=col>Sale_Type_WD.</th></tr>\n",
       "\t<tr><th scope=col>&lt;dbl&gt;</th><th scope=col>&lt;dbl&gt;</th><th scope=col>&lt;dbl&gt;</th><th scope=col>&lt;dbl&gt;</th><th scope=col>&lt;dbl&gt;</th><th scope=col>&lt;dbl&gt;</th><th scope=col>&lt;dbl&gt;</th><th scope=col>&lt;dbl&gt;</th><th scope=col>&lt;dbl&gt;</th><th scope=col>&lt;dbl&gt;</th><th scope=col>⋯</th><th scope=col>&lt;dbl&gt;</th><th scope=col>&lt;dbl&gt;</th><th scope=col>&lt;dbl&gt;</th><th scope=col>&lt;dbl&gt;</th><th scope=col>&lt;dbl&gt;</th><th scope=col>&lt;dbl&gt;</th><th scope=col>&lt;dbl&gt;</th><th scope=col>&lt;dbl&gt;</th><th scope=col>&lt;dbl&gt;</th><th scope=col>&lt;dbl&gt;</th></tr>\n",
       "</thead>\n",
       "<tbody>\n",
       "\t<tr><td> 0.66534791</td><td> 0.20830403</td><td>-1.18337035</td><td>-0.7751882</td><td> 0.3998871</td><td>-0.33548672</td><td>-1.0887661</td><td>-0.56366000</td><td> 0.6748925</td><td>0.372734</td><td>⋯</td><td>0</td><td>0</td><td>0</td><td>0</td><td>0</td><td>0</td><td>0</td><td>0</td><td>0</td><td>1</td></tr>\n",
       "\t<tr><td> 0.69495707</td><td> 0.55891888</td><td>-0.04545029</td><td>-0.0634434</td><td> 0.3998871</td><td>-0.43428478</td><td>-1.2317298</td><td> 0.04499793</td><td> 0.6748925</td><td>0.372734</td><td>⋯</td><td>0</td><td>0</td><td>0</td><td>0</td><td>0</td><td>0</td><td>0</td><td>0</td><td>0</td><td>1</td></tr>\n",
       "\t<tr><td> 1.05026696</td><td> 0.14706242</td><td>-0.04545029</td><td> 0.6483014</td><td>-0.5112873</td><td>-0.10495790</td><td>-0.7551843</td><td>-0.56366000</td><td>-0.7549881</td><td>0.372734</td><td>⋯</td><td>0</td><td>0</td><td>0</td><td>0</td><td>0</td><td>0</td><td>0</td><td>0</td><td>0</td><td>1</td></tr>\n",
       "\t<tr><td> 0.48769297</td><td> 0.50099121</td><td>-0.04545029</td><td>-0.7751882</td><td>-0.5112873</td><td> 0.85009004</td><td> 0.6744524</td><td>-0.56366000</td><td> 0.6748925</td><td>0.372734</td><td>⋯</td><td>0</td><td>0</td><td>0</td><td>0</td><td>0</td><td>0</td><td>0</td><td>0</td><td>0</td><td>1</td></tr>\n",
       "\t<tr><td> 0.60612960</td><td>-0.00962066</td><td>-0.04545029</td><td>-0.0634434</td><td> 0.3998871</td><td> 0.88302272</td><td> 0.6744524</td><td>-0.45094557</td><td> 0.6748925</td><td>0.372734</td><td>⋯</td><td>0</td><td>0</td><td>0</td><td>0</td><td>0</td><td>0</td><td>0</td><td>0</td><td>0</td><td>1</td></tr>\n",
       "\t<tr><td>-0.48940923</td><td>-0.68009700</td><td>-0.04545029</td><td> 1.3600462</td><td>-0.5112873</td><td> 0.98182079</td><td> 0.8174161</td><td>-0.56366000</td><td>-0.7549881</td><td>0.372734</td><td>⋯</td><td>0</td><td>0</td><td>0</td><td>0</td><td>0</td><td>0</td><td>0</td><td>0</td><td>0</td><td>1</td></tr>\n",
       "\t<tr><td>-0.43019092</td><td>-0.66882960</td><td>-0.04545029</td><td> 1.3600462</td><td>-0.5112873</td><td> 0.68542660</td><td> 0.3885251</td><td>-0.56366000</td><td>-0.7549881</td><td>0.372734</td><td>⋯</td><td>0</td><td>0</td><td>0</td><td>0</td><td>0</td><td>0</td><td>0</td><td>0</td><td>0</td><td>1</td></tr>\n",
       "\t<tr><td>-0.54862755</td><td>-0.61792748</td><td>-0.04545029</td><td> 1.3600462</td><td>-0.5112873</td><td> 0.78422466</td><td> 0.5791433</td><td>-0.56366000</td><td>-0.7549881</td><td>0.372734</td><td>⋯</td><td>0</td><td>0</td><td>0</td><td>0</td><td>0</td><td>0</td><td>0</td><td>0</td><td>0</td><td>1</td></tr>\n",
       "\t<tr><td> 0.07316476</td><td>-0.33809839</td><td>-0.04545029</td><td> 0.6483014</td><td>-0.5112873</td><td> 0.91595541</td><td> 0.7221069</td><td>-0.56366000</td><td> 0.6748925</td><td>0.372734</td><td>⋯</td><td>0</td><td>0</td><td>0</td><td>0</td><td>0</td><td>0</td><td>0</td><td>0</td><td>0</td><td>1</td></tr>\n",
       "\t<tr><td> 0.16199223</td><td>-0.21853144</td><td>-0.04545029</td><td>-0.0634434</td><td>-0.5112873</td><td> 0.88302272</td><td> 0.6744524</td><td>-0.56366000</td><td> 0.6748925</td><td>0.372734</td><td>⋯</td><td>0</td><td>0</td><td>0</td><td>0</td><td>0</td><td>0</td><td>0</td><td>0</td><td>0</td><td>1</td></tr>\n",
       "\t<tr><td> 0.81339370</td><td> 0.01662574</td><td>-0.04545029</td><td> 0.6483014</td><td>-0.5112873</td><td> 0.61956122</td><td> 0.2932159</td><td>-0.56366000</td><td> 0.6748925</td><td>0.372734</td><td>⋯</td><td>0</td><td>0</td><td>0</td><td>0</td><td>0</td><td>0</td><td>0</td><td>0</td><td>0</td><td>1</td></tr>\n",
       "\t<tr><td> 2.79720725</td><td> 0.27617352</td><td>-0.04545029</td><td> 1.3600462</td><td> 1.3110614</td><td> 0.55369585</td><td> 1.0080343</td><td>-0.56366000</td><td>-0.7549881</td><td>0.372734</td><td>⋯</td><td>0</td><td>0</td><td>0</td><td>0</td><td>0</td><td>0</td><td>0</td><td>0</td><td>0</td><td>1</td></tr>\n",
       "\t<tr><td> 0.90222117</td><td> 0.17808090</td><td>-0.04545029</td><td> 2.0717910</td><td>-3.2448105</td><td> 1.27821497</td><td> 1.2463070</td><td> 1.40884256</td><td>-0.7549881</td><td>0.372734</td><td>⋯</td><td>0</td><td>0</td><td>0</td><td>0</td><td>0</td><td>0</td><td>1</td><td>0</td><td>0</td><td>0</td></tr>\n",
       "\t<tr><td> 1.40557685</td><td> 0.22540396</td><td>-0.04545029</td><td>-0.0634434</td><td> 0.3998871</td><td> 0.19143629</td><td>-0.3262933</td><td> 2.14148636</td><td> 0.6748925</td><td>0.372734</td><td>⋯</td><td>1</td><td>0</td><td>0</td><td>0</td><td>0</td><td>0</td><td>0</td><td>0</td><td>0</td><td>0</td></tr>\n",
       "\t<tr><td> 0.81339370</td><td> 0.07614411</td><td>-0.04545029</td><td> 0.6483014</td><td> 0.3998871</td><td> 0.09263822</td><td>-0.4692569</td><td>-0.10716655</td><td> 0.6748925</td><td>0.372734</td><td>⋯</td><td>0</td><td>0</td><td>0</td><td>0</td><td>0</td><td>0</td><td>0</td><td>0</td><td>0</td><td>1</td></tr>\n",
       "\t<tr><td>-1.70338469</td><td>-0.33809839</td><td>-0.04545029</td><td> 0.6483014</td><td>-0.5112873</td><td> 0.94888810</td><td> 0.7697615</td><td>-0.56366000</td><td>-0.7549881</td><td>0.372734</td><td>⋯</td><td>0</td><td>0</td><td>0</td><td>0</td><td>0</td><td>0</td><td>0</td><td>0</td><td>0</td><td>1</td></tr>\n",
       "\t<tr><td>-1.70338469</td><td> 0.15779959</td><td>-0.04545029</td><td>-0.0634434</td><td> 1.3110614</td><td>-0.03909253</td><td>-0.6598752</td><td> 0.45076988</td><td> 0.6748925</td><td>0.372734</td><td>⋯</td><td>0</td><td>0</td><td>0</td><td>0</td><td>0</td><td>0</td><td>0</td><td>0</td><td>0</td><td>1</td></tr>\n",
       "\t<tr><td> 0.36925634</td><td>-0.21879655</td><td>-0.04545029</td><td>-1.4869330</td><td>-0.5112873</td><td>-0.03909253</td><td>-0.6598752</td><td>-0.56366000</td><td> 0.6748925</td><td>0.372734</td><td>⋯</td><td>0</td><td>0</td><td>0</td><td>0</td><td>0</td><td>0</td><td>0</td><td>0</td><td>0</td><td>1</td></tr>\n",
       "\t<tr><td> 0.36925634</td><td> 0.05957441</td><td>-0.04545029</td><td>-1.4869330</td><td>-0.5112873</td><td>-0.00615984</td><td>-0.6122206</td><td>-0.56366000</td><td> 0.6748925</td><td>0.372734</td><td>⋯</td><td>0</td><td>0</td><td>0</td><td>1</td><td>0</td><td>0</td><td>0</td><td>0</td><td>0</td><td>0</td></tr>\n",
       "\t<tr><td>-1.08159238</td><td>-1.10958362</td><td>-0.04545029</td><td>-0.0634434</td><td>-0.5112873</td><td>-0.00615984</td><td>-0.6122206</td><td> 2.27674368</td><td> 0.6748925</td><td>0.372734</td><td>⋯</td><td>1</td><td>0</td><td>0</td><td>0</td><td>0</td><td>0</td><td>0</td><td>0</td><td>0</td><td>0</td></tr>\n",
       "\t<tr><td>-1.08159238</td><td>-1.10958362</td><td>-0.04545029</td><td>-0.7751882</td><td>-0.5112873</td><td>-0.00615984</td><td>-0.6122206</td><td> 2.20911502</td><td> 0.6748925</td><td>0.372734</td><td>⋯</td><td>0</td><td>0</td><td>0</td><td>0</td><td>0</td><td>0</td><td>0</td><td>0</td><td>0</td><td>1</td></tr>\n",
       "\t<tr><td>-1.08159238</td><td>-1.10958362</td><td>-0.04545029</td><td>-0.0634434</td><td>-0.5112873</td><td>-0.00615984</td><td>-0.6122206</td><td> 1.58354992</td><td> 0.6748925</td><td>0.372734</td><td>⋯</td><td>0</td><td>0</td><td>0</td><td>0</td><td>0</td><td>0</td><td>0</td><td>0</td><td>0</td><td>1</td></tr>\n",
       "\t<tr><td>-0.99276491</td><td>-1.03004906</td><td>-0.04545029</td><td>-0.0634434</td><td> 0.3998871</td><td> 0.12557091</td><td>-0.4216024</td><td>-0.56366000</td><td> 0.6748925</td><td>0.372734</td><td>⋯</td><td>0</td><td>0</td><td>0</td><td>0</td><td>0</td><td>0</td><td>0</td><td>0</td><td>0</td><td>1</td></tr>\n",
       "\t<tr><td> 1.31674938</td><td> 0.37214523</td><td>-0.04545029</td><td> 2.0717910</td><td>-0.5112873</td><td> 1.24528229</td><td> 1.2463070</td><td> 0.34932690</td><td>-3.6147495</td><td>0.372734</td><td>⋯</td><td>0</td><td>0</td><td>0</td><td>0</td><td>0</td><td>0</td><td>1</td><td>0</td><td>0</td><td>0</td></tr>\n",
       "\t<tr><td> 1.19831275</td><td> 0.18921574</td><td>-0.04545029</td><td> 1.3600462</td><td>-0.5112873</td><td> 1.17941691</td><td> 1.1509979</td><td> 0.56348432</td><td>-0.7549881</td><td>0.372734</td><td>⋯</td><td>0</td><td>0</td><td>0</td><td>0</td><td>0</td><td>0</td><td>0</td><td>0</td><td>0</td><td>1</td></tr>\n",
       "\t<tr><td> 0.75417538</td><td> 0.01437227</td><td>-0.04545029</td><td> 2.0717910</td><td>-0.5112873</td><td> 1.24528229</td><td> 1.2463070</td><td> 1.97241471</td><td>-3.6147495</td><td>0.372734</td><td>⋯</td><td>0</td><td>0</td><td>0</td><td>0</td><td>0</td><td>0</td><td>1</td><td>0</td><td>0</td><td>0</td></tr>\n",
       "\t<tr><td> 1.10948527</td><td> 0.28253629</td><td>-0.04545029</td><td> 0.6483014</td><td>-0.5112873</td><td> 1.11355154</td><td> 1.0080343</td><td> 0.71001308</td><td>-0.7549881</td><td>0.372734</td><td>⋯</td><td>0</td><td>0</td><td>0</td><td>0</td><td>0</td><td>0</td><td>1</td><td>0</td><td>0</td><td>0</td></tr>\n",
       "\t<tr><td> 0.63573875</td><td> 0.53969803</td><td>-0.04545029</td><td> 1.3600462</td><td>-0.5112873</td><td> 1.11355154</td><td> 1.0556888</td><td> 0.78891318</td><td>-0.7549881</td><td>0.372734</td><td>⋯</td><td>0</td><td>0</td><td>0</td><td>0</td><td>0</td><td>0</td><td>0</td><td>0</td><td>0</td><td>1</td></tr>\n",
       "\t<tr><td> 0.36925634</td><td> 0.01596296</td><td>-0.04545029</td><td> 0.6483014</td><td>-0.5112873</td><td> 1.08061885</td><td> 0.9603797</td><td> 0.38314122</td><td>-0.7549881</td><td>0.372734</td><td>⋯</td><td>0</td><td>0</td><td>0</td><td>0</td><td>0</td><td>0</td><td>0</td><td>0</td><td>0</td><td>1</td></tr>\n",
       "\t<tr><td>-0.40058176</td><td>-0.48775592</td><td>-0.04545029</td><td> 0.6483014</td><td>-0.5112873</td><td> 1.24528229</td><td> 1.2463070</td><td> 0.15771236</td><td>-0.7549881</td><td>0.372734</td><td>⋯</td><td>0</td><td>0</td><td>0</td><td>0</td><td>0</td><td>0</td><td>1</td><td>0</td><td>0</td><td>0</td></tr>\n",
       "\t<tr><td>⋮</td><td>⋮</td><td>⋮</td><td>⋮</td><td>⋮</td><td>⋮</td><td>⋮</td><td>⋮</td><td>⋮</td><td>⋮</td><td>⋱</td><td>⋮</td><td>⋮</td><td>⋮</td><td>⋮</td><td>⋮</td><td>⋮</td><td>⋮</td><td>⋮</td><td>⋮</td><td>⋮</td></tr>\n",
       "\t<tr><td> 2.44189736</td><td> 0.136457815</td><td>-0.04545029</td><td>-0.0634434</td><td> 0.3998871</td><td> 0.12557091</td><td>-0.421602378</td><td> 0.88472045</td><td> 0.6748925</td><td> 0.372734</td><td>⋯</td><td>0</td><td>0</td><td>0</td><td>0</td><td>0</td><td>0</td><td>0</td><td>0</td><td>0</td><td>1</td></tr>\n",
       "\t<tr><td>-0.45980007</td><td> 2.137812454</td><td>-0.04545029</td><td> 0.6483014</td><td>-0.5112873</td><td> 0.58662854</td><td> 0.293215947</td><td> 1.08760642</td><td>-0.7549881</td><td> 0.372734</td><td>⋯</td><td>0</td><td>0</td><td>0</td><td>0</td><td>0</td><td>0</td><td>0</td><td>0</td><td>0</td><td>1</td></tr>\n",
       "\t<tr><td>-1.70338469</td><td>-0.240138326</td><td>-0.04545029</td><td> 0.6483014</td><td>-0.5112873</td><td> 0.48783047</td><td> 0.102597727</td><td>-0.56366000</td><td>-0.7549881</td><td> 0.372734</td><td>⋯</td><td>0</td><td>0</td><td>0</td><td>0</td><td>0</td><td>0</td><td>0</td><td>0</td><td>0</td><td>1</td></tr>\n",
       "\t<tr><td>-1.70338469</td><td> 5.309120467</td><td>-0.04545029</td><td>-0.0634434</td><td>-0.5112873</td><td>-0.43428478</td><td>-1.231729813</td><td>-0.56366000</td><td> 0.6748925</td><td> 0.372734</td><td>⋯</td><td>0</td><td>0</td><td>0</td><td>0</td><td>0</td><td>0</td><td>0</td><td>0</td><td>0</td><td>1</td></tr>\n",
       "\t<tr><td>-1.70338469</td><td> 0.877322239</td><td>-0.04545029</td><td> 1.3600462</td><td> 0.3998871</td><td> 0.32316704</td><td>-0.135675048</td><td> 3.11646620</td><td>-0.7549881</td><td> 0.372734</td><td>⋯</td><td>0</td><td>0</td><td>0</td><td>0</td><td>0</td><td>0</td><td>0</td><td>0</td><td>0</td><td>1</td></tr>\n",
       "\t<tr><td>-0.10449018</td><td> 0.498472619</td><td>-0.04545029</td><td>-0.0634434</td><td> 0.3998871</td><td> 0.52076316</td><td> 0.150252282</td><td>-0.15788805</td><td> 0.6748925</td><td> 0.372734</td><td>⋯</td><td>0</td><td>0</td><td>0</td><td>0</td><td>0</td><td>0</td><td>0</td><td>0</td><td>0</td><td>1</td></tr>\n",
       "\t<tr><td>-1.70338469</td><td> 0.148387999</td><td>-0.04545029</td><td> 0.6483014</td><td>-0.5112873</td><td> 0.61956122</td><td> 0.340870502</td><td>-0.56366000</td><td> 0.6748925</td><td> 0.372734</td><td>⋯</td><td>0</td><td>0</td><td>0</td><td>0</td><td>0</td><td>0</td><td>0</td><td>0</td><td>0</td><td>1</td></tr>\n",
       "\t<tr><td>-1.70338469</td><td>-0.258828947</td><td>-0.04545029</td><td>-0.0634434</td><td>-0.5112873</td><td> 0.94888810</td><td> 0.769761496</td><td>-0.56366000</td><td>-0.7549881</td><td> 0.372734</td><td>⋯</td><td>0</td><td>0</td><td>0</td><td>0</td><td>0</td><td>0</td><td>0</td><td>0</td><td>0</td><td>1</td></tr>\n",
       "\t<tr><td> 0.81339370</td><td> 0.567402571</td><td>-0.04545029</td><td> 1.3600462</td><td>-0.5112873</td><td> 1.01475347</td><td> 0.865070606</td><td> 2.98684460</td><td>-0.7549881</td><td> 0.372734</td><td>⋯</td><td>0</td><td>0</td><td>0</td><td>0</td><td>0</td><td>0</td><td>0</td><td>0</td><td>0</td><td>1</td></tr>\n",
       "\t<tr><td> 1.10948527</td><td> 0.472889003</td><td>-0.04545029</td><td> 1.3600462</td><td>-0.5112873</td><td> 1.11355154</td><td> 1.055688826</td><td> 0.55221287</td><td>-0.7549881</td><td> 0.372734</td><td>⋯</td><td>0</td><td>0</td><td>0</td><td>0</td><td>0</td><td>0</td><td>1</td><td>0</td><td>0</td><td>0</td></tr>\n",
       "\t<tr><td> 0.90222117</td><td> 0.184576223</td><td>-0.04545029</td><td> 1.3600462</td><td>-0.5112873</td><td> 1.11355154</td><td> 1.055688826</td><td> 0.60857009</td><td>-0.7549881</td><td> 0.372734</td><td>⋯</td><td>0</td><td>0</td><td>0</td><td>0</td><td>0</td><td>0</td><td>1</td><td>0</td><td>0</td><td>0</td></tr>\n",
       "\t<tr><td> 0.60612960</td><td>-0.401726040</td><td>-0.04545029</td><td> 0.6483014</td><td>-0.5112873</td><td> 0.85009004</td><td> 0.626797831</td><td> 0.56348432</td><td> 0.6748925</td><td>-2.230065</td><td>⋯</td><td>0</td><td>0</td><td>0</td><td>0</td><td>0</td><td>0</td><td>0</td><td>0</td><td>0</td><td>1</td></tr>\n",
       "\t<tr><td>-0.75589165</td><td>-0.735771191</td><td>-0.04545029</td><td>-0.0634434</td><td>-0.5112873</td><td> 0.88302272</td><td> 0.674452386</td><td> 1.93296466</td><td> 0.6748925</td><td>-2.230065</td><td>⋯</td><td>0</td><td>0</td><td>0</td><td>0</td><td>0</td><td>0</td><td>0</td><td>0</td><td>0</td><td>1</td></tr>\n",
       "\t<tr><td> 0.96143949</td><td> 0.949963804</td><td>-0.04545029</td><td>-0.7751882</td><td>-0.5112873</td><td> 1.14648422</td><td> 1.055688826</td><td>-0.56366000</td><td> 0.6748925</td><td> 0.372734</td><td>⋯</td><td>0</td><td>0</td><td>0</td><td>0</td><td>0</td><td>0</td><td>0</td><td>0</td><td>0</td><td>1</td></tr>\n",
       "\t<tr><td>-0.48940923</td><td>-0.979014386</td><td>-0.04545029</td><td>-0.7751882</td><td> 0.3998871</td><td> 0.19143629</td><td>-0.326293268</td><td>-0.56366000</td><td> 0.6748925</td><td> 0.372734</td><td>⋯</td><td>0</td><td>0</td><td>0</td><td>0</td><td>0</td><td>0</td><td>0</td><td>0</td><td>0</td><td>1</td></tr>\n",
       "\t<tr><td>-0.45980007</td><td>-0.806822064</td><td>-0.04545029</td><td>-0.0634434</td><td>-1.4224617</td><td> 0.05970553</td><td>-0.516911488</td><td>-0.56366000</td><td> 0.6748925</td><td> 0.372734</td><td>⋯</td><td>0</td><td>0</td><td>0</td><td>0</td><td>0</td><td>0</td><td>0</td><td>0</td><td>0</td><td>1</td></tr>\n",
       "\t<tr><td> 0.01394645</td><td> 0.016095514</td><td>-0.04545029</td><td>-0.7751882</td><td> 1.3110614</td><td>-0.10495790</td><td> 0.912725161</td><td>-0.56366000</td><td> 0.6748925</td><td> 0.372734</td><td>⋯</td><td>0</td><td>0</td><td>0</td><td>0</td><td>0</td><td>0</td><td>0</td><td>0</td><td>0</td><td>1</td></tr>\n",
       "\t<tr><td>-1.70338469</td><td> 0.236671360</td><td>-0.04545029</td><td>-0.7751882</td><td>-0.5112873</td><td>-0.03909253</td><td>-0.659875153</td><td>-0.56366000</td><td> 0.6748925</td><td> 0.372734</td><td>⋯</td><td>0</td><td>0</td><td>0</td><td>0</td><td>0</td><td>0</td><td>0</td><td>0</td><td>0</td><td>1</td></tr>\n",
       "\t<tr><td>-1.08159238</td><td>-1.135564911</td><td>-0.04545029</td><td>-1.4869330</td><td>-1.4224617</td><td> 0.02677285</td><td>-0.564566043</td><td>-0.56366000</td><td> 0.6748925</td><td> 0.372734</td><td>⋯</td><td>0</td><td>0</td><td>0</td><td>0</td><td>0</td><td>0</td><td>0</td><td>0</td><td>0</td><td>1</td></tr>\n",
       "\t<tr><td>-1.08159238</td><td>-1.129069589</td><td>-0.04545029</td><td>-1.4869330</td><td>-0.5112873</td><td>-0.03909253</td><td>-0.659875153</td><td>-0.56366000</td><td> 0.6748925</td><td> 0.372734</td><td>⋯</td><td>0</td><td>0</td><td>0</td><td>0</td><td>0</td><td>0</td><td>0</td><td>0</td><td>0</td><td>1</td></tr>\n",
       "\t<tr><td>-1.08159238</td><td>-1.129997492</td><td>-0.04545029</td><td>-1.4869330</td><td>-0.5112873</td><td>-0.03909253</td><td>-0.659875153</td><td>-0.56366000</td><td> 0.6748925</td><td> 0.372734</td><td>⋯</td><td>0</td><td>0</td><td>0</td><td>0</td><td>0</td><td>0</td><td>0</td><td>0</td><td>0</td><td>1</td></tr>\n",
       "\t<tr><td>-1.08159238</td><td>-1.075648876</td><td>-0.04545029</td><td>-1.4869330</td><td> 1.3110614</td><td>-0.03909253</td><td>-0.659875153</td><td>-0.56366000</td><td> 0.6748925</td><td> 0.372734</td><td>⋯</td><td>0</td><td>0</td><td>0</td><td>0</td><td>0</td><td>0</td><td>0</td><td>0</td><td>0</td><td>1</td></tr>\n",
       "\t<tr><td>-1.08159238</td><td>-1.081216295</td><td>-0.04545029</td><td>-1.4869330</td><td>-0.5112873</td><td>-0.03909253</td><td>-0.659875153</td><td>-0.56366000</td><td> 0.6748925</td><td> 0.372734</td><td>⋯</td><td>0</td><td>0</td><td>0</td><td>0</td><td>0</td><td>0</td><td>0</td><td>0</td><td>0</td><td>1</td></tr>\n",
       "\t<tr><td>-0.07488103</td><td> 0.343247670</td><td>-0.04545029</td><td>-0.0634434</td><td>-0.5112873</td><td> 0.15850360</td><td>-0.373947823</td><td>-0.56366000</td><td> 0.6748925</td><td> 0.372734</td><td>⋯</td><td>0</td><td>0</td><td>0</td><td>0</td><td>0</td><td>0</td><td>0</td><td>0</td><td>0</td><td>1</td></tr>\n",
       "\t<tr><td> 0.16199223</td><td>-0.099892385</td><td>-0.04545029</td><td>-0.7751882</td><td>-0.5112873</td><td> 0.15850360</td><td>-0.373947823</td><td>-0.56366000</td><td> 0.6748925</td><td> 0.372734</td><td>⋯</td><td>0</td><td>0</td><td>0</td><td>0</td><td>0</td><td>0</td><td>0</td><td>0</td><td>0</td><td>1</td></tr>\n",
       "\t<tr><td> 3.03408051</td><td> 1.318871603</td><td>-0.04545029</td><td>-0.7751882</td><td> 1.3110614</td><td>-0.36841940</td><td> 0.579143277</td><td>-0.56366000</td><td> 0.6748925</td><td> 0.372734</td><td>⋯</td><td>0</td><td>0</td><td>0</td><td>0</td><td>0</td><td>0</td><td>0</td><td>0</td><td>0</td><td>1</td></tr>\n",
       "\t<tr><td>-0.60784586</td><td>-0.280170721</td><td>-0.04545029</td><td>-0.0634434</td><td> 0.3998871</td><td> 0.42196510</td><td> 0.007288617</td><td>-0.56366000</td><td> 0.6748925</td><td> 0.372734</td><td>⋯</td><td>0</td><td>0</td><td>0</td><td>0</td><td>0</td><td>0</td><td>0</td><td>0</td><td>0</td><td>1</td></tr>\n",
       "\t<tr><td>-1.70338469</td><td>-0.154506116</td><td>-0.04545029</td><td>-0.7751882</td><td>-0.5112873</td><td> 0.38903241</td><td>-0.040365938</td><td>-0.56366000</td><td> 0.6748925</td><td> 0.372734</td><td>⋯</td><td>0</td><td>0</td><td>0</td><td>0</td><td>0</td><td>0</td><td>0</td><td>0</td><td>0</td><td>1</td></tr>\n",
       "\t<tr><td> 0.57652044</td><td>-0.005378817</td><td>-0.04545029</td><td>-0.7751882</td><td>-0.5112873</td><td> 0.09263822</td><td>-0.421602378</td><td>-0.56366000</td><td> 0.6748925</td><td> 0.372734</td><td>⋯</td><td>0</td><td>0</td><td>0</td><td>0</td><td>0</td><td>0</td><td>0</td><td>0</td><td>0</td><td>1</td></tr>\n",
       "\t<tr><td> 0.48769297</td><td>-0.056148377</td><td>-0.04545029</td><td> 0.6483014</td><td>-0.5112873</td><td> 0.71835929</td><td> 0.483834167</td><td>-0.03390217</td><td> 0.6748925</td><td> 0.372734</td><td>⋯</td><td>0</td><td>0</td><td>0</td><td>0</td><td>0</td><td>0</td><td>0</td><td>0</td><td>0</td><td>1</td></tr>\n",
       "</tbody>\n",
       "</table>\n"
      ],
      "text/latex": [
       "A tibble: 2053 × 220\n",
       "\\begin{tabular}{lllllllllllllllllllll}\n",
       " Lot\\_Frontage & Lot\\_Area & Condition\\_1 & Overall\\_Qual & Overall\\_Cond & Year\\_Built & Year\\_Remod\\_Add & Mas\\_Vnr\\_Area & Exter\\_Qual & Exter\\_Cond & ⋯ & Sale\\_Type\\_COD & Sale\\_Type\\_Con & Sale\\_Type\\_ConLD & Sale\\_Type\\_ConLI & Sale\\_Type\\_ConLw & Sale\\_Type\\_CWD & Sale\\_Type\\_New & Sale\\_Type\\_Oth & Sale\\_Type\\_VWD & Sale\\_Type\\_WD.\\\\\n",
       " <dbl> & <dbl> & <dbl> & <dbl> & <dbl> & <dbl> & <dbl> & <dbl> & <dbl> & <dbl> & ⋯ & <dbl> & <dbl> & <dbl> & <dbl> & <dbl> & <dbl> & <dbl> & <dbl> & <dbl> & <dbl>\\\\\n",
       "\\hline\n",
       "\t  0.66534791 &  0.20830403 & -1.18337035 & -0.7751882 &  0.3998871 & -0.33548672 & -1.0887661 & -0.56366000 &  0.6748925 & 0.372734 & ⋯ & 0 & 0 & 0 & 0 & 0 & 0 & 0 & 0 & 0 & 1\\\\\n",
       "\t  0.69495707 &  0.55891888 & -0.04545029 & -0.0634434 &  0.3998871 & -0.43428478 & -1.2317298 &  0.04499793 &  0.6748925 & 0.372734 & ⋯ & 0 & 0 & 0 & 0 & 0 & 0 & 0 & 0 & 0 & 1\\\\\n",
       "\t  1.05026696 &  0.14706242 & -0.04545029 &  0.6483014 & -0.5112873 & -0.10495790 & -0.7551843 & -0.56366000 & -0.7549881 & 0.372734 & ⋯ & 0 & 0 & 0 & 0 & 0 & 0 & 0 & 0 & 0 & 1\\\\\n",
       "\t  0.48769297 &  0.50099121 & -0.04545029 & -0.7751882 & -0.5112873 &  0.85009004 &  0.6744524 & -0.56366000 &  0.6748925 & 0.372734 & ⋯ & 0 & 0 & 0 & 0 & 0 & 0 & 0 & 0 & 0 & 1\\\\\n",
       "\t  0.60612960 & -0.00962066 & -0.04545029 & -0.0634434 &  0.3998871 &  0.88302272 &  0.6744524 & -0.45094557 &  0.6748925 & 0.372734 & ⋯ & 0 & 0 & 0 & 0 & 0 & 0 & 0 & 0 & 0 & 1\\\\\n",
       "\t -0.48940923 & -0.68009700 & -0.04545029 &  1.3600462 & -0.5112873 &  0.98182079 &  0.8174161 & -0.56366000 & -0.7549881 & 0.372734 & ⋯ & 0 & 0 & 0 & 0 & 0 & 0 & 0 & 0 & 0 & 1\\\\\n",
       "\t -0.43019092 & -0.66882960 & -0.04545029 &  1.3600462 & -0.5112873 &  0.68542660 &  0.3885251 & -0.56366000 & -0.7549881 & 0.372734 & ⋯ & 0 & 0 & 0 & 0 & 0 & 0 & 0 & 0 & 0 & 1\\\\\n",
       "\t -0.54862755 & -0.61792748 & -0.04545029 &  1.3600462 & -0.5112873 &  0.78422466 &  0.5791433 & -0.56366000 & -0.7549881 & 0.372734 & ⋯ & 0 & 0 & 0 & 0 & 0 & 0 & 0 & 0 & 0 & 1\\\\\n",
       "\t  0.07316476 & -0.33809839 & -0.04545029 &  0.6483014 & -0.5112873 &  0.91595541 &  0.7221069 & -0.56366000 &  0.6748925 & 0.372734 & ⋯ & 0 & 0 & 0 & 0 & 0 & 0 & 0 & 0 & 0 & 1\\\\\n",
       "\t  0.16199223 & -0.21853144 & -0.04545029 & -0.0634434 & -0.5112873 &  0.88302272 &  0.6744524 & -0.56366000 &  0.6748925 & 0.372734 & ⋯ & 0 & 0 & 0 & 0 & 0 & 0 & 0 & 0 & 0 & 1\\\\\n",
       "\t  0.81339370 &  0.01662574 & -0.04545029 &  0.6483014 & -0.5112873 &  0.61956122 &  0.2932159 & -0.56366000 &  0.6748925 & 0.372734 & ⋯ & 0 & 0 & 0 & 0 & 0 & 0 & 0 & 0 & 0 & 1\\\\\n",
       "\t  2.79720725 &  0.27617352 & -0.04545029 &  1.3600462 &  1.3110614 &  0.55369585 &  1.0080343 & -0.56366000 & -0.7549881 & 0.372734 & ⋯ & 0 & 0 & 0 & 0 & 0 & 0 & 0 & 0 & 0 & 1\\\\\n",
       "\t  0.90222117 &  0.17808090 & -0.04545029 &  2.0717910 & -3.2448105 &  1.27821497 &  1.2463070 &  1.40884256 & -0.7549881 & 0.372734 & ⋯ & 0 & 0 & 0 & 0 & 0 & 0 & 1 & 0 & 0 & 0\\\\\n",
       "\t  1.40557685 &  0.22540396 & -0.04545029 & -0.0634434 &  0.3998871 &  0.19143629 & -0.3262933 &  2.14148636 &  0.6748925 & 0.372734 & ⋯ & 1 & 0 & 0 & 0 & 0 & 0 & 0 & 0 & 0 & 0\\\\\n",
       "\t  0.81339370 &  0.07614411 & -0.04545029 &  0.6483014 &  0.3998871 &  0.09263822 & -0.4692569 & -0.10716655 &  0.6748925 & 0.372734 & ⋯ & 0 & 0 & 0 & 0 & 0 & 0 & 0 & 0 & 0 & 1\\\\\n",
       "\t -1.70338469 & -0.33809839 & -0.04545029 &  0.6483014 & -0.5112873 &  0.94888810 &  0.7697615 & -0.56366000 & -0.7549881 & 0.372734 & ⋯ & 0 & 0 & 0 & 0 & 0 & 0 & 0 & 0 & 0 & 1\\\\\n",
       "\t -1.70338469 &  0.15779959 & -0.04545029 & -0.0634434 &  1.3110614 & -0.03909253 & -0.6598752 &  0.45076988 &  0.6748925 & 0.372734 & ⋯ & 0 & 0 & 0 & 0 & 0 & 0 & 0 & 0 & 0 & 1\\\\\n",
       "\t  0.36925634 & -0.21879655 & -0.04545029 & -1.4869330 & -0.5112873 & -0.03909253 & -0.6598752 & -0.56366000 &  0.6748925 & 0.372734 & ⋯ & 0 & 0 & 0 & 0 & 0 & 0 & 0 & 0 & 0 & 1\\\\\n",
       "\t  0.36925634 &  0.05957441 & -0.04545029 & -1.4869330 & -0.5112873 & -0.00615984 & -0.6122206 & -0.56366000 &  0.6748925 & 0.372734 & ⋯ & 0 & 0 & 0 & 1 & 0 & 0 & 0 & 0 & 0 & 0\\\\\n",
       "\t -1.08159238 & -1.10958362 & -0.04545029 & -0.0634434 & -0.5112873 & -0.00615984 & -0.6122206 &  2.27674368 &  0.6748925 & 0.372734 & ⋯ & 1 & 0 & 0 & 0 & 0 & 0 & 0 & 0 & 0 & 0\\\\\n",
       "\t -1.08159238 & -1.10958362 & -0.04545029 & -0.7751882 & -0.5112873 & -0.00615984 & -0.6122206 &  2.20911502 &  0.6748925 & 0.372734 & ⋯ & 0 & 0 & 0 & 0 & 0 & 0 & 0 & 0 & 0 & 1\\\\\n",
       "\t -1.08159238 & -1.10958362 & -0.04545029 & -0.0634434 & -0.5112873 & -0.00615984 & -0.6122206 &  1.58354992 &  0.6748925 & 0.372734 & ⋯ & 0 & 0 & 0 & 0 & 0 & 0 & 0 & 0 & 0 & 1\\\\\n",
       "\t -0.99276491 & -1.03004906 & -0.04545029 & -0.0634434 &  0.3998871 &  0.12557091 & -0.4216024 & -0.56366000 &  0.6748925 & 0.372734 & ⋯ & 0 & 0 & 0 & 0 & 0 & 0 & 0 & 0 & 0 & 1\\\\\n",
       "\t  1.31674938 &  0.37214523 & -0.04545029 &  2.0717910 & -0.5112873 &  1.24528229 &  1.2463070 &  0.34932690 & -3.6147495 & 0.372734 & ⋯ & 0 & 0 & 0 & 0 & 0 & 0 & 1 & 0 & 0 & 0\\\\\n",
       "\t  1.19831275 &  0.18921574 & -0.04545029 &  1.3600462 & -0.5112873 &  1.17941691 &  1.1509979 &  0.56348432 & -0.7549881 & 0.372734 & ⋯ & 0 & 0 & 0 & 0 & 0 & 0 & 0 & 0 & 0 & 1\\\\\n",
       "\t  0.75417538 &  0.01437227 & -0.04545029 &  2.0717910 & -0.5112873 &  1.24528229 &  1.2463070 &  1.97241471 & -3.6147495 & 0.372734 & ⋯ & 0 & 0 & 0 & 0 & 0 & 0 & 1 & 0 & 0 & 0\\\\\n",
       "\t  1.10948527 &  0.28253629 & -0.04545029 &  0.6483014 & -0.5112873 &  1.11355154 &  1.0080343 &  0.71001308 & -0.7549881 & 0.372734 & ⋯ & 0 & 0 & 0 & 0 & 0 & 0 & 1 & 0 & 0 & 0\\\\\n",
       "\t  0.63573875 &  0.53969803 & -0.04545029 &  1.3600462 & -0.5112873 &  1.11355154 &  1.0556888 &  0.78891318 & -0.7549881 & 0.372734 & ⋯ & 0 & 0 & 0 & 0 & 0 & 0 & 0 & 0 & 0 & 1\\\\\n",
       "\t  0.36925634 &  0.01596296 & -0.04545029 &  0.6483014 & -0.5112873 &  1.08061885 &  0.9603797 &  0.38314122 & -0.7549881 & 0.372734 & ⋯ & 0 & 0 & 0 & 0 & 0 & 0 & 0 & 0 & 0 & 1\\\\\n",
       "\t -0.40058176 & -0.48775592 & -0.04545029 &  0.6483014 & -0.5112873 &  1.24528229 &  1.2463070 &  0.15771236 & -0.7549881 & 0.372734 & ⋯ & 0 & 0 & 0 & 0 & 0 & 0 & 1 & 0 & 0 & 0\\\\\n",
       "\t ⋮ & ⋮ & ⋮ & ⋮ & ⋮ & ⋮ & ⋮ & ⋮ & ⋮ & ⋮ & ⋱ & ⋮ & ⋮ & ⋮ & ⋮ & ⋮ & ⋮ & ⋮ & ⋮ & ⋮ & ⋮\\\\\n",
       "\t  2.44189736 &  0.136457815 & -0.04545029 & -0.0634434 &  0.3998871 &  0.12557091 & -0.421602378 &  0.88472045 &  0.6748925 &  0.372734 & ⋯ & 0 & 0 & 0 & 0 & 0 & 0 & 0 & 0 & 0 & 1\\\\\n",
       "\t -0.45980007 &  2.137812454 & -0.04545029 &  0.6483014 & -0.5112873 &  0.58662854 &  0.293215947 &  1.08760642 & -0.7549881 &  0.372734 & ⋯ & 0 & 0 & 0 & 0 & 0 & 0 & 0 & 0 & 0 & 1\\\\\n",
       "\t -1.70338469 & -0.240138326 & -0.04545029 &  0.6483014 & -0.5112873 &  0.48783047 &  0.102597727 & -0.56366000 & -0.7549881 &  0.372734 & ⋯ & 0 & 0 & 0 & 0 & 0 & 0 & 0 & 0 & 0 & 1\\\\\n",
       "\t -1.70338469 &  5.309120467 & -0.04545029 & -0.0634434 & -0.5112873 & -0.43428478 & -1.231729813 & -0.56366000 &  0.6748925 &  0.372734 & ⋯ & 0 & 0 & 0 & 0 & 0 & 0 & 0 & 0 & 0 & 1\\\\\n",
       "\t -1.70338469 &  0.877322239 & -0.04545029 &  1.3600462 &  0.3998871 &  0.32316704 & -0.135675048 &  3.11646620 & -0.7549881 &  0.372734 & ⋯ & 0 & 0 & 0 & 0 & 0 & 0 & 0 & 0 & 0 & 1\\\\\n",
       "\t -0.10449018 &  0.498472619 & -0.04545029 & -0.0634434 &  0.3998871 &  0.52076316 &  0.150252282 & -0.15788805 &  0.6748925 &  0.372734 & ⋯ & 0 & 0 & 0 & 0 & 0 & 0 & 0 & 0 & 0 & 1\\\\\n",
       "\t -1.70338469 &  0.148387999 & -0.04545029 &  0.6483014 & -0.5112873 &  0.61956122 &  0.340870502 & -0.56366000 &  0.6748925 &  0.372734 & ⋯ & 0 & 0 & 0 & 0 & 0 & 0 & 0 & 0 & 0 & 1\\\\\n",
       "\t -1.70338469 & -0.258828947 & -0.04545029 & -0.0634434 & -0.5112873 &  0.94888810 &  0.769761496 & -0.56366000 & -0.7549881 &  0.372734 & ⋯ & 0 & 0 & 0 & 0 & 0 & 0 & 0 & 0 & 0 & 1\\\\\n",
       "\t  0.81339370 &  0.567402571 & -0.04545029 &  1.3600462 & -0.5112873 &  1.01475347 &  0.865070606 &  2.98684460 & -0.7549881 &  0.372734 & ⋯ & 0 & 0 & 0 & 0 & 0 & 0 & 0 & 0 & 0 & 1\\\\\n",
       "\t  1.10948527 &  0.472889003 & -0.04545029 &  1.3600462 & -0.5112873 &  1.11355154 &  1.055688826 &  0.55221287 & -0.7549881 &  0.372734 & ⋯ & 0 & 0 & 0 & 0 & 0 & 0 & 1 & 0 & 0 & 0\\\\\n",
       "\t  0.90222117 &  0.184576223 & -0.04545029 &  1.3600462 & -0.5112873 &  1.11355154 &  1.055688826 &  0.60857009 & -0.7549881 &  0.372734 & ⋯ & 0 & 0 & 0 & 0 & 0 & 0 & 1 & 0 & 0 & 0\\\\\n",
       "\t  0.60612960 & -0.401726040 & -0.04545029 &  0.6483014 & -0.5112873 &  0.85009004 &  0.626797831 &  0.56348432 &  0.6748925 & -2.230065 & ⋯ & 0 & 0 & 0 & 0 & 0 & 0 & 0 & 0 & 0 & 1\\\\\n",
       "\t -0.75589165 & -0.735771191 & -0.04545029 & -0.0634434 & -0.5112873 &  0.88302272 &  0.674452386 &  1.93296466 &  0.6748925 & -2.230065 & ⋯ & 0 & 0 & 0 & 0 & 0 & 0 & 0 & 0 & 0 & 1\\\\\n",
       "\t  0.96143949 &  0.949963804 & -0.04545029 & -0.7751882 & -0.5112873 &  1.14648422 &  1.055688826 & -0.56366000 &  0.6748925 &  0.372734 & ⋯ & 0 & 0 & 0 & 0 & 0 & 0 & 0 & 0 & 0 & 1\\\\\n",
       "\t -0.48940923 & -0.979014386 & -0.04545029 & -0.7751882 &  0.3998871 &  0.19143629 & -0.326293268 & -0.56366000 &  0.6748925 &  0.372734 & ⋯ & 0 & 0 & 0 & 0 & 0 & 0 & 0 & 0 & 0 & 1\\\\\n",
       "\t -0.45980007 & -0.806822064 & -0.04545029 & -0.0634434 & -1.4224617 &  0.05970553 & -0.516911488 & -0.56366000 &  0.6748925 &  0.372734 & ⋯ & 0 & 0 & 0 & 0 & 0 & 0 & 0 & 0 & 0 & 1\\\\\n",
       "\t  0.01394645 &  0.016095514 & -0.04545029 & -0.7751882 &  1.3110614 & -0.10495790 &  0.912725161 & -0.56366000 &  0.6748925 &  0.372734 & ⋯ & 0 & 0 & 0 & 0 & 0 & 0 & 0 & 0 & 0 & 1\\\\\n",
       "\t -1.70338469 &  0.236671360 & -0.04545029 & -0.7751882 & -0.5112873 & -0.03909253 & -0.659875153 & -0.56366000 &  0.6748925 &  0.372734 & ⋯ & 0 & 0 & 0 & 0 & 0 & 0 & 0 & 0 & 0 & 1\\\\\n",
       "\t -1.08159238 & -1.135564911 & -0.04545029 & -1.4869330 & -1.4224617 &  0.02677285 & -0.564566043 & -0.56366000 &  0.6748925 &  0.372734 & ⋯ & 0 & 0 & 0 & 0 & 0 & 0 & 0 & 0 & 0 & 1\\\\\n",
       "\t -1.08159238 & -1.129069589 & -0.04545029 & -1.4869330 & -0.5112873 & -0.03909253 & -0.659875153 & -0.56366000 &  0.6748925 &  0.372734 & ⋯ & 0 & 0 & 0 & 0 & 0 & 0 & 0 & 0 & 0 & 1\\\\\n",
       "\t -1.08159238 & -1.129997492 & -0.04545029 & -1.4869330 & -0.5112873 & -0.03909253 & -0.659875153 & -0.56366000 &  0.6748925 &  0.372734 & ⋯ & 0 & 0 & 0 & 0 & 0 & 0 & 0 & 0 & 0 & 1\\\\\n",
       "\t -1.08159238 & -1.075648876 & -0.04545029 & -1.4869330 &  1.3110614 & -0.03909253 & -0.659875153 & -0.56366000 &  0.6748925 &  0.372734 & ⋯ & 0 & 0 & 0 & 0 & 0 & 0 & 0 & 0 & 0 & 1\\\\\n",
       "\t -1.08159238 & -1.081216295 & -0.04545029 & -1.4869330 & -0.5112873 & -0.03909253 & -0.659875153 & -0.56366000 &  0.6748925 &  0.372734 & ⋯ & 0 & 0 & 0 & 0 & 0 & 0 & 0 & 0 & 0 & 1\\\\\n",
       "\t -0.07488103 &  0.343247670 & -0.04545029 & -0.0634434 & -0.5112873 &  0.15850360 & -0.373947823 & -0.56366000 &  0.6748925 &  0.372734 & ⋯ & 0 & 0 & 0 & 0 & 0 & 0 & 0 & 0 & 0 & 1\\\\\n",
       "\t  0.16199223 & -0.099892385 & -0.04545029 & -0.7751882 & -0.5112873 &  0.15850360 & -0.373947823 & -0.56366000 &  0.6748925 &  0.372734 & ⋯ & 0 & 0 & 0 & 0 & 0 & 0 & 0 & 0 & 0 & 1\\\\\n",
       "\t  3.03408051 &  1.318871603 & -0.04545029 & -0.7751882 &  1.3110614 & -0.36841940 &  0.579143277 & -0.56366000 &  0.6748925 &  0.372734 & ⋯ & 0 & 0 & 0 & 0 & 0 & 0 & 0 & 0 & 0 & 1\\\\\n",
       "\t -0.60784586 & -0.280170721 & -0.04545029 & -0.0634434 &  0.3998871 &  0.42196510 &  0.007288617 & -0.56366000 &  0.6748925 &  0.372734 & ⋯ & 0 & 0 & 0 & 0 & 0 & 0 & 0 & 0 & 0 & 1\\\\\n",
       "\t -1.70338469 & -0.154506116 & -0.04545029 & -0.7751882 & -0.5112873 &  0.38903241 & -0.040365938 & -0.56366000 &  0.6748925 &  0.372734 & ⋯ & 0 & 0 & 0 & 0 & 0 & 0 & 0 & 0 & 0 & 1\\\\\n",
       "\t  0.57652044 & -0.005378817 & -0.04545029 & -0.7751882 & -0.5112873 &  0.09263822 & -0.421602378 & -0.56366000 &  0.6748925 &  0.372734 & ⋯ & 0 & 0 & 0 & 0 & 0 & 0 & 0 & 0 & 0 & 1\\\\\n",
       "\t  0.48769297 & -0.056148377 & -0.04545029 &  0.6483014 & -0.5112873 &  0.71835929 &  0.483834167 & -0.03390217 &  0.6748925 &  0.372734 & ⋯ & 0 & 0 & 0 & 0 & 0 & 0 & 0 & 0 & 0 & 1\\\\\n",
       "\\end{tabular}\n"
      ],
      "text/markdown": [
       "\n",
       "A tibble: 2053 × 220\n",
       "\n",
       "| Lot_Frontage &lt;dbl&gt; | Lot_Area &lt;dbl&gt; | Condition_1 &lt;dbl&gt; | Overall_Qual &lt;dbl&gt; | Overall_Cond &lt;dbl&gt; | Year_Built &lt;dbl&gt; | Year_Remod_Add &lt;dbl&gt; | Mas_Vnr_Area &lt;dbl&gt; | Exter_Qual &lt;dbl&gt; | Exter_Cond &lt;dbl&gt; | ⋯ ⋯ | Sale_Type_COD &lt;dbl&gt; | Sale_Type_Con &lt;dbl&gt; | Sale_Type_ConLD &lt;dbl&gt; | Sale_Type_ConLI &lt;dbl&gt; | Sale_Type_ConLw &lt;dbl&gt; | Sale_Type_CWD &lt;dbl&gt; | Sale_Type_New &lt;dbl&gt; | Sale_Type_Oth &lt;dbl&gt; | Sale_Type_VWD &lt;dbl&gt; | Sale_Type_WD. &lt;dbl&gt; |\n",
       "|---|---|---|---|---|---|---|---|---|---|---|---|---|---|---|---|---|---|---|---|---|\n",
       "|  0.66534791 |  0.20830403 | -1.18337035 | -0.7751882 |  0.3998871 | -0.33548672 | -1.0887661 | -0.56366000 |  0.6748925 | 0.372734 | ⋯ | 0 | 0 | 0 | 0 | 0 | 0 | 0 | 0 | 0 | 1 |\n",
       "|  0.69495707 |  0.55891888 | -0.04545029 | -0.0634434 |  0.3998871 | -0.43428478 | -1.2317298 |  0.04499793 |  0.6748925 | 0.372734 | ⋯ | 0 | 0 | 0 | 0 | 0 | 0 | 0 | 0 | 0 | 1 |\n",
       "|  1.05026696 |  0.14706242 | -0.04545029 |  0.6483014 | -0.5112873 | -0.10495790 | -0.7551843 | -0.56366000 | -0.7549881 | 0.372734 | ⋯ | 0 | 0 | 0 | 0 | 0 | 0 | 0 | 0 | 0 | 1 |\n",
       "|  0.48769297 |  0.50099121 | -0.04545029 | -0.7751882 | -0.5112873 |  0.85009004 |  0.6744524 | -0.56366000 |  0.6748925 | 0.372734 | ⋯ | 0 | 0 | 0 | 0 | 0 | 0 | 0 | 0 | 0 | 1 |\n",
       "|  0.60612960 | -0.00962066 | -0.04545029 | -0.0634434 |  0.3998871 |  0.88302272 |  0.6744524 | -0.45094557 |  0.6748925 | 0.372734 | ⋯ | 0 | 0 | 0 | 0 | 0 | 0 | 0 | 0 | 0 | 1 |\n",
       "| -0.48940923 | -0.68009700 | -0.04545029 |  1.3600462 | -0.5112873 |  0.98182079 |  0.8174161 | -0.56366000 | -0.7549881 | 0.372734 | ⋯ | 0 | 0 | 0 | 0 | 0 | 0 | 0 | 0 | 0 | 1 |\n",
       "| -0.43019092 | -0.66882960 | -0.04545029 |  1.3600462 | -0.5112873 |  0.68542660 |  0.3885251 | -0.56366000 | -0.7549881 | 0.372734 | ⋯ | 0 | 0 | 0 | 0 | 0 | 0 | 0 | 0 | 0 | 1 |\n",
       "| -0.54862755 | -0.61792748 | -0.04545029 |  1.3600462 | -0.5112873 |  0.78422466 |  0.5791433 | -0.56366000 | -0.7549881 | 0.372734 | ⋯ | 0 | 0 | 0 | 0 | 0 | 0 | 0 | 0 | 0 | 1 |\n",
       "|  0.07316476 | -0.33809839 | -0.04545029 |  0.6483014 | -0.5112873 |  0.91595541 |  0.7221069 | -0.56366000 |  0.6748925 | 0.372734 | ⋯ | 0 | 0 | 0 | 0 | 0 | 0 | 0 | 0 | 0 | 1 |\n",
       "|  0.16199223 | -0.21853144 | -0.04545029 | -0.0634434 | -0.5112873 |  0.88302272 |  0.6744524 | -0.56366000 |  0.6748925 | 0.372734 | ⋯ | 0 | 0 | 0 | 0 | 0 | 0 | 0 | 0 | 0 | 1 |\n",
       "|  0.81339370 |  0.01662574 | -0.04545029 |  0.6483014 | -0.5112873 |  0.61956122 |  0.2932159 | -0.56366000 |  0.6748925 | 0.372734 | ⋯ | 0 | 0 | 0 | 0 | 0 | 0 | 0 | 0 | 0 | 1 |\n",
       "|  2.79720725 |  0.27617352 | -0.04545029 |  1.3600462 |  1.3110614 |  0.55369585 |  1.0080343 | -0.56366000 | -0.7549881 | 0.372734 | ⋯ | 0 | 0 | 0 | 0 | 0 | 0 | 0 | 0 | 0 | 1 |\n",
       "|  0.90222117 |  0.17808090 | -0.04545029 |  2.0717910 | -3.2448105 |  1.27821497 |  1.2463070 |  1.40884256 | -0.7549881 | 0.372734 | ⋯ | 0 | 0 | 0 | 0 | 0 | 0 | 1 | 0 | 0 | 0 |\n",
       "|  1.40557685 |  0.22540396 | -0.04545029 | -0.0634434 |  0.3998871 |  0.19143629 | -0.3262933 |  2.14148636 |  0.6748925 | 0.372734 | ⋯ | 1 | 0 | 0 | 0 | 0 | 0 | 0 | 0 | 0 | 0 |\n",
       "|  0.81339370 |  0.07614411 | -0.04545029 |  0.6483014 |  0.3998871 |  0.09263822 | -0.4692569 | -0.10716655 |  0.6748925 | 0.372734 | ⋯ | 0 | 0 | 0 | 0 | 0 | 0 | 0 | 0 | 0 | 1 |\n",
       "| -1.70338469 | -0.33809839 | -0.04545029 |  0.6483014 | -0.5112873 |  0.94888810 |  0.7697615 | -0.56366000 | -0.7549881 | 0.372734 | ⋯ | 0 | 0 | 0 | 0 | 0 | 0 | 0 | 0 | 0 | 1 |\n",
       "| -1.70338469 |  0.15779959 | -0.04545029 | -0.0634434 |  1.3110614 | -0.03909253 | -0.6598752 |  0.45076988 |  0.6748925 | 0.372734 | ⋯ | 0 | 0 | 0 | 0 | 0 | 0 | 0 | 0 | 0 | 1 |\n",
       "|  0.36925634 | -0.21879655 | -0.04545029 | -1.4869330 | -0.5112873 | -0.03909253 | -0.6598752 | -0.56366000 |  0.6748925 | 0.372734 | ⋯ | 0 | 0 | 0 | 0 | 0 | 0 | 0 | 0 | 0 | 1 |\n",
       "|  0.36925634 |  0.05957441 | -0.04545029 | -1.4869330 | -0.5112873 | -0.00615984 | -0.6122206 | -0.56366000 |  0.6748925 | 0.372734 | ⋯ | 0 | 0 | 0 | 1 | 0 | 0 | 0 | 0 | 0 | 0 |\n",
       "| -1.08159238 | -1.10958362 | -0.04545029 | -0.0634434 | -0.5112873 | -0.00615984 | -0.6122206 |  2.27674368 |  0.6748925 | 0.372734 | ⋯ | 1 | 0 | 0 | 0 | 0 | 0 | 0 | 0 | 0 | 0 |\n",
       "| -1.08159238 | -1.10958362 | -0.04545029 | -0.7751882 | -0.5112873 | -0.00615984 | -0.6122206 |  2.20911502 |  0.6748925 | 0.372734 | ⋯ | 0 | 0 | 0 | 0 | 0 | 0 | 0 | 0 | 0 | 1 |\n",
       "| -1.08159238 | -1.10958362 | -0.04545029 | -0.0634434 | -0.5112873 | -0.00615984 | -0.6122206 |  1.58354992 |  0.6748925 | 0.372734 | ⋯ | 0 | 0 | 0 | 0 | 0 | 0 | 0 | 0 | 0 | 1 |\n",
       "| -0.99276491 | -1.03004906 | -0.04545029 | -0.0634434 |  0.3998871 |  0.12557091 | -0.4216024 | -0.56366000 |  0.6748925 | 0.372734 | ⋯ | 0 | 0 | 0 | 0 | 0 | 0 | 0 | 0 | 0 | 1 |\n",
       "|  1.31674938 |  0.37214523 | -0.04545029 |  2.0717910 | -0.5112873 |  1.24528229 |  1.2463070 |  0.34932690 | -3.6147495 | 0.372734 | ⋯ | 0 | 0 | 0 | 0 | 0 | 0 | 1 | 0 | 0 | 0 |\n",
       "|  1.19831275 |  0.18921574 | -0.04545029 |  1.3600462 | -0.5112873 |  1.17941691 |  1.1509979 |  0.56348432 | -0.7549881 | 0.372734 | ⋯ | 0 | 0 | 0 | 0 | 0 | 0 | 0 | 0 | 0 | 1 |\n",
       "|  0.75417538 |  0.01437227 | -0.04545029 |  2.0717910 | -0.5112873 |  1.24528229 |  1.2463070 |  1.97241471 | -3.6147495 | 0.372734 | ⋯ | 0 | 0 | 0 | 0 | 0 | 0 | 1 | 0 | 0 | 0 |\n",
       "|  1.10948527 |  0.28253629 | -0.04545029 |  0.6483014 | -0.5112873 |  1.11355154 |  1.0080343 |  0.71001308 | -0.7549881 | 0.372734 | ⋯ | 0 | 0 | 0 | 0 | 0 | 0 | 1 | 0 | 0 | 0 |\n",
       "|  0.63573875 |  0.53969803 | -0.04545029 |  1.3600462 | -0.5112873 |  1.11355154 |  1.0556888 |  0.78891318 | -0.7549881 | 0.372734 | ⋯ | 0 | 0 | 0 | 0 | 0 | 0 | 0 | 0 | 0 | 1 |\n",
       "|  0.36925634 |  0.01596296 | -0.04545029 |  0.6483014 | -0.5112873 |  1.08061885 |  0.9603797 |  0.38314122 | -0.7549881 | 0.372734 | ⋯ | 0 | 0 | 0 | 0 | 0 | 0 | 0 | 0 | 0 | 1 |\n",
       "| -0.40058176 | -0.48775592 | -0.04545029 |  0.6483014 | -0.5112873 |  1.24528229 |  1.2463070 |  0.15771236 | -0.7549881 | 0.372734 | ⋯ | 0 | 0 | 0 | 0 | 0 | 0 | 1 | 0 | 0 | 0 |\n",
       "| ⋮ | ⋮ | ⋮ | ⋮ | ⋮ | ⋮ | ⋮ | ⋮ | ⋮ | ⋮ | ⋱ | ⋮ | ⋮ | ⋮ | ⋮ | ⋮ | ⋮ | ⋮ | ⋮ | ⋮ | ⋮ |\n",
       "|  2.44189736 |  0.136457815 | -0.04545029 | -0.0634434 |  0.3998871 |  0.12557091 | -0.421602378 |  0.88472045 |  0.6748925 |  0.372734 | ⋯ | 0 | 0 | 0 | 0 | 0 | 0 | 0 | 0 | 0 | 1 |\n",
       "| -0.45980007 |  2.137812454 | -0.04545029 |  0.6483014 | -0.5112873 |  0.58662854 |  0.293215947 |  1.08760642 | -0.7549881 |  0.372734 | ⋯ | 0 | 0 | 0 | 0 | 0 | 0 | 0 | 0 | 0 | 1 |\n",
       "| -1.70338469 | -0.240138326 | -0.04545029 |  0.6483014 | -0.5112873 |  0.48783047 |  0.102597727 | -0.56366000 | -0.7549881 |  0.372734 | ⋯ | 0 | 0 | 0 | 0 | 0 | 0 | 0 | 0 | 0 | 1 |\n",
       "| -1.70338469 |  5.309120467 | -0.04545029 | -0.0634434 | -0.5112873 | -0.43428478 | -1.231729813 | -0.56366000 |  0.6748925 |  0.372734 | ⋯ | 0 | 0 | 0 | 0 | 0 | 0 | 0 | 0 | 0 | 1 |\n",
       "| -1.70338469 |  0.877322239 | -0.04545029 |  1.3600462 |  0.3998871 |  0.32316704 | -0.135675048 |  3.11646620 | -0.7549881 |  0.372734 | ⋯ | 0 | 0 | 0 | 0 | 0 | 0 | 0 | 0 | 0 | 1 |\n",
       "| -0.10449018 |  0.498472619 | -0.04545029 | -0.0634434 |  0.3998871 |  0.52076316 |  0.150252282 | -0.15788805 |  0.6748925 |  0.372734 | ⋯ | 0 | 0 | 0 | 0 | 0 | 0 | 0 | 0 | 0 | 1 |\n",
       "| -1.70338469 |  0.148387999 | -0.04545029 |  0.6483014 | -0.5112873 |  0.61956122 |  0.340870502 | -0.56366000 |  0.6748925 |  0.372734 | ⋯ | 0 | 0 | 0 | 0 | 0 | 0 | 0 | 0 | 0 | 1 |\n",
       "| -1.70338469 | -0.258828947 | -0.04545029 | -0.0634434 | -0.5112873 |  0.94888810 |  0.769761496 | -0.56366000 | -0.7549881 |  0.372734 | ⋯ | 0 | 0 | 0 | 0 | 0 | 0 | 0 | 0 | 0 | 1 |\n",
       "|  0.81339370 |  0.567402571 | -0.04545029 |  1.3600462 | -0.5112873 |  1.01475347 |  0.865070606 |  2.98684460 | -0.7549881 |  0.372734 | ⋯ | 0 | 0 | 0 | 0 | 0 | 0 | 0 | 0 | 0 | 1 |\n",
       "|  1.10948527 |  0.472889003 | -0.04545029 |  1.3600462 | -0.5112873 |  1.11355154 |  1.055688826 |  0.55221287 | -0.7549881 |  0.372734 | ⋯ | 0 | 0 | 0 | 0 | 0 | 0 | 1 | 0 | 0 | 0 |\n",
       "|  0.90222117 |  0.184576223 | -0.04545029 |  1.3600462 | -0.5112873 |  1.11355154 |  1.055688826 |  0.60857009 | -0.7549881 |  0.372734 | ⋯ | 0 | 0 | 0 | 0 | 0 | 0 | 1 | 0 | 0 | 0 |\n",
       "|  0.60612960 | -0.401726040 | -0.04545029 |  0.6483014 | -0.5112873 |  0.85009004 |  0.626797831 |  0.56348432 |  0.6748925 | -2.230065 | ⋯ | 0 | 0 | 0 | 0 | 0 | 0 | 0 | 0 | 0 | 1 |\n",
       "| -0.75589165 | -0.735771191 | -0.04545029 | -0.0634434 | -0.5112873 |  0.88302272 |  0.674452386 |  1.93296466 |  0.6748925 | -2.230065 | ⋯ | 0 | 0 | 0 | 0 | 0 | 0 | 0 | 0 | 0 | 1 |\n",
       "|  0.96143949 |  0.949963804 | -0.04545029 | -0.7751882 | -0.5112873 |  1.14648422 |  1.055688826 | -0.56366000 |  0.6748925 |  0.372734 | ⋯ | 0 | 0 | 0 | 0 | 0 | 0 | 0 | 0 | 0 | 1 |\n",
       "| -0.48940923 | -0.979014386 | -0.04545029 | -0.7751882 |  0.3998871 |  0.19143629 | -0.326293268 | -0.56366000 |  0.6748925 |  0.372734 | ⋯ | 0 | 0 | 0 | 0 | 0 | 0 | 0 | 0 | 0 | 1 |\n",
       "| -0.45980007 | -0.806822064 | -0.04545029 | -0.0634434 | -1.4224617 |  0.05970553 | -0.516911488 | -0.56366000 |  0.6748925 |  0.372734 | ⋯ | 0 | 0 | 0 | 0 | 0 | 0 | 0 | 0 | 0 | 1 |\n",
       "|  0.01394645 |  0.016095514 | -0.04545029 | -0.7751882 |  1.3110614 | -0.10495790 |  0.912725161 | -0.56366000 |  0.6748925 |  0.372734 | ⋯ | 0 | 0 | 0 | 0 | 0 | 0 | 0 | 0 | 0 | 1 |\n",
       "| -1.70338469 |  0.236671360 | -0.04545029 | -0.7751882 | -0.5112873 | -0.03909253 | -0.659875153 | -0.56366000 |  0.6748925 |  0.372734 | ⋯ | 0 | 0 | 0 | 0 | 0 | 0 | 0 | 0 | 0 | 1 |\n",
       "| -1.08159238 | -1.135564911 | -0.04545029 | -1.4869330 | -1.4224617 |  0.02677285 | -0.564566043 | -0.56366000 |  0.6748925 |  0.372734 | ⋯ | 0 | 0 | 0 | 0 | 0 | 0 | 0 | 0 | 0 | 1 |\n",
       "| -1.08159238 | -1.129069589 | -0.04545029 | -1.4869330 | -0.5112873 | -0.03909253 | -0.659875153 | -0.56366000 |  0.6748925 |  0.372734 | ⋯ | 0 | 0 | 0 | 0 | 0 | 0 | 0 | 0 | 0 | 1 |\n",
       "| -1.08159238 | -1.129997492 | -0.04545029 | -1.4869330 | -0.5112873 | -0.03909253 | -0.659875153 | -0.56366000 |  0.6748925 |  0.372734 | ⋯ | 0 | 0 | 0 | 0 | 0 | 0 | 0 | 0 | 0 | 1 |\n",
       "| -1.08159238 | -1.075648876 | -0.04545029 | -1.4869330 |  1.3110614 | -0.03909253 | -0.659875153 | -0.56366000 |  0.6748925 |  0.372734 | ⋯ | 0 | 0 | 0 | 0 | 0 | 0 | 0 | 0 | 0 | 1 |\n",
       "| -1.08159238 | -1.081216295 | -0.04545029 | -1.4869330 | -0.5112873 | -0.03909253 | -0.659875153 | -0.56366000 |  0.6748925 |  0.372734 | ⋯ | 0 | 0 | 0 | 0 | 0 | 0 | 0 | 0 | 0 | 1 |\n",
       "| -0.07488103 |  0.343247670 | -0.04545029 | -0.0634434 | -0.5112873 |  0.15850360 | -0.373947823 | -0.56366000 |  0.6748925 |  0.372734 | ⋯ | 0 | 0 | 0 | 0 | 0 | 0 | 0 | 0 | 0 | 1 |\n",
       "|  0.16199223 | -0.099892385 | -0.04545029 | -0.7751882 | -0.5112873 |  0.15850360 | -0.373947823 | -0.56366000 |  0.6748925 |  0.372734 | ⋯ | 0 | 0 | 0 | 0 | 0 | 0 | 0 | 0 | 0 | 1 |\n",
       "|  3.03408051 |  1.318871603 | -0.04545029 | -0.7751882 |  1.3110614 | -0.36841940 |  0.579143277 | -0.56366000 |  0.6748925 |  0.372734 | ⋯ | 0 | 0 | 0 | 0 | 0 | 0 | 0 | 0 | 0 | 1 |\n",
       "| -0.60784586 | -0.280170721 | -0.04545029 | -0.0634434 |  0.3998871 |  0.42196510 |  0.007288617 | -0.56366000 |  0.6748925 |  0.372734 | ⋯ | 0 | 0 | 0 | 0 | 0 | 0 | 0 | 0 | 0 | 1 |\n",
       "| -1.70338469 | -0.154506116 | -0.04545029 | -0.7751882 | -0.5112873 |  0.38903241 | -0.040365938 | -0.56366000 |  0.6748925 |  0.372734 | ⋯ | 0 | 0 | 0 | 0 | 0 | 0 | 0 | 0 | 0 | 1 |\n",
       "|  0.57652044 | -0.005378817 | -0.04545029 | -0.7751882 | -0.5112873 |  0.09263822 | -0.421602378 | -0.56366000 |  0.6748925 |  0.372734 | ⋯ | 0 | 0 | 0 | 0 | 0 | 0 | 0 | 0 | 0 | 1 |\n",
       "|  0.48769297 | -0.056148377 | -0.04545029 |  0.6483014 | -0.5112873 |  0.71835929 |  0.483834167 | -0.03390217 |  0.6748925 |  0.372734 | ⋯ | 0 | 0 | 0 | 0 | 0 | 0 | 0 | 0 | 0 | 1 |\n",
       "\n"
      ],
      "text/plain": [
       "     Lot_Frontage Lot_Area     Condition_1 Overall_Qual Overall_Cond\n",
       "1     0.66534791   0.20830403  -1.18337035 -0.7751882    0.3998871  \n",
       "2     0.69495707   0.55891888  -0.04545029 -0.0634434    0.3998871  \n",
       "3     1.05026696   0.14706242  -0.04545029  0.6483014   -0.5112873  \n",
       "4     0.48769297   0.50099121  -0.04545029 -0.7751882   -0.5112873  \n",
       "5     0.60612960  -0.00962066  -0.04545029 -0.0634434    0.3998871  \n",
       "6    -0.48940923  -0.68009700  -0.04545029  1.3600462   -0.5112873  \n",
       "7    -0.43019092  -0.66882960  -0.04545029  1.3600462   -0.5112873  \n",
       "8    -0.54862755  -0.61792748  -0.04545029  1.3600462   -0.5112873  \n",
       "9     0.07316476  -0.33809839  -0.04545029  0.6483014   -0.5112873  \n",
       "10    0.16199223  -0.21853144  -0.04545029 -0.0634434   -0.5112873  \n",
       "11    0.81339370   0.01662574  -0.04545029  0.6483014   -0.5112873  \n",
       "12    2.79720725   0.27617352  -0.04545029  1.3600462    1.3110614  \n",
       "13    0.90222117   0.17808090  -0.04545029  2.0717910   -3.2448105  \n",
       "14    1.40557685   0.22540396  -0.04545029 -0.0634434    0.3998871  \n",
       "15    0.81339370   0.07614411  -0.04545029  0.6483014    0.3998871  \n",
       "16   -1.70338469  -0.33809839  -0.04545029  0.6483014   -0.5112873  \n",
       "17   -1.70338469   0.15779959  -0.04545029 -0.0634434    1.3110614  \n",
       "18    0.36925634  -0.21879655  -0.04545029 -1.4869330   -0.5112873  \n",
       "19    0.36925634   0.05957441  -0.04545029 -1.4869330   -0.5112873  \n",
       "20   -1.08159238  -1.10958362  -0.04545029 -0.0634434   -0.5112873  \n",
       "21   -1.08159238  -1.10958362  -0.04545029 -0.7751882   -0.5112873  \n",
       "22   -1.08159238  -1.10958362  -0.04545029 -0.0634434   -0.5112873  \n",
       "23   -0.99276491  -1.03004906  -0.04545029 -0.0634434    0.3998871  \n",
       "24    1.31674938   0.37214523  -0.04545029  2.0717910   -0.5112873  \n",
       "25    1.19831275   0.18921574  -0.04545029  1.3600462   -0.5112873  \n",
       "26    0.75417538   0.01437227  -0.04545029  2.0717910   -0.5112873  \n",
       "27    1.10948527   0.28253629  -0.04545029  0.6483014   -0.5112873  \n",
       "28    0.63573875   0.53969803  -0.04545029  1.3600462   -0.5112873  \n",
       "29    0.36925634   0.01596296  -0.04545029  0.6483014   -0.5112873  \n",
       "30   -0.40058176  -0.48775592  -0.04545029  0.6483014   -0.5112873  \n",
       "⋮    ⋮            ⋮            ⋮           ⋮            ⋮           \n",
       "2024  2.44189736   0.136457815 -0.04545029 -0.0634434    0.3998871  \n",
       "2025 -0.45980007   2.137812454 -0.04545029  0.6483014   -0.5112873  \n",
       "2026 -1.70338469  -0.240138326 -0.04545029  0.6483014   -0.5112873  \n",
       "2027 -1.70338469   5.309120467 -0.04545029 -0.0634434   -0.5112873  \n",
       "2028 -1.70338469   0.877322239 -0.04545029  1.3600462    0.3998871  \n",
       "2029 -0.10449018   0.498472619 -0.04545029 -0.0634434    0.3998871  \n",
       "2030 -1.70338469   0.148387999 -0.04545029  0.6483014   -0.5112873  \n",
       "2031 -1.70338469  -0.258828947 -0.04545029 -0.0634434   -0.5112873  \n",
       "2032  0.81339370   0.567402571 -0.04545029  1.3600462   -0.5112873  \n",
       "2033  1.10948527   0.472889003 -0.04545029  1.3600462   -0.5112873  \n",
       "2034  0.90222117   0.184576223 -0.04545029  1.3600462   -0.5112873  \n",
       "2035  0.60612960  -0.401726040 -0.04545029  0.6483014   -0.5112873  \n",
       "2036 -0.75589165  -0.735771191 -0.04545029 -0.0634434   -0.5112873  \n",
       "2037  0.96143949   0.949963804 -0.04545029 -0.7751882   -0.5112873  \n",
       "2038 -0.48940923  -0.979014386 -0.04545029 -0.7751882    0.3998871  \n",
       "2039 -0.45980007  -0.806822064 -0.04545029 -0.0634434   -1.4224617  \n",
       "2040  0.01394645   0.016095514 -0.04545029 -0.7751882    1.3110614  \n",
       "2041 -1.70338469   0.236671360 -0.04545029 -0.7751882   -0.5112873  \n",
       "2042 -1.08159238  -1.135564911 -0.04545029 -1.4869330   -1.4224617  \n",
       "2043 -1.08159238  -1.129069589 -0.04545029 -1.4869330   -0.5112873  \n",
       "2044 -1.08159238  -1.129997492 -0.04545029 -1.4869330   -0.5112873  \n",
       "2045 -1.08159238  -1.075648876 -0.04545029 -1.4869330    1.3110614  \n",
       "2046 -1.08159238  -1.081216295 -0.04545029 -1.4869330   -0.5112873  \n",
       "2047 -0.07488103   0.343247670 -0.04545029 -0.0634434   -0.5112873  \n",
       "2048  0.16199223  -0.099892385 -0.04545029 -0.7751882   -0.5112873  \n",
       "2049  3.03408051   1.318871603 -0.04545029 -0.7751882    1.3110614  \n",
       "2050 -0.60784586  -0.280170721 -0.04545029 -0.0634434    0.3998871  \n",
       "2051 -1.70338469  -0.154506116 -0.04545029 -0.7751882   -0.5112873  \n",
       "2052  0.57652044  -0.005378817 -0.04545029 -0.7751882   -0.5112873  \n",
       "2053  0.48769297  -0.056148377 -0.04545029  0.6483014   -0.5112873  \n",
       "     Year_Built  Year_Remod_Add Mas_Vnr_Area Exter_Qual Exter_Cond ⋯\n",
       "1    -0.33548672 -1.0887661     -0.56366000   0.6748925 0.372734   ⋯\n",
       "2    -0.43428478 -1.2317298      0.04499793   0.6748925 0.372734   ⋯\n",
       "3    -0.10495790 -0.7551843     -0.56366000  -0.7549881 0.372734   ⋯\n",
       "4     0.85009004  0.6744524     -0.56366000   0.6748925 0.372734   ⋯\n",
       "5     0.88302272  0.6744524     -0.45094557   0.6748925 0.372734   ⋯\n",
       "6     0.98182079  0.8174161     -0.56366000  -0.7549881 0.372734   ⋯\n",
       "7     0.68542660  0.3885251     -0.56366000  -0.7549881 0.372734   ⋯\n",
       "8     0.78422466  0.5791433     -0.56366000  -0.7549881 0.372734   ⋯\n",
       "9     0.91595541  0.7221069     -0.56366000   0.6748925 0.372734   ⋯\n",
       "10    0.88302272  0.6744524     -0.56366000   0.6748925 0.372734   ⋯\n",
       "11    0.61956122  0.2932159     -0.56366000   0.6748925 0.372734   ⋯\n",
       "12    0.55369585  1.0080343     -0.56366000  -0.7549881 0.372734   ⋯\n",
       "13    1.27821497  1.2463070      1.40884256  -0.7549881 0.372734   ⋯\n",
       "14    0.19143629 -0.3262933      2.14148636   0.6748925 0.372734   ⋯\n",
       "15    0.09263822 -0.4692569     -0.10716655   0.6748925 0.372734   ⋯\n",
       "16    0.94888810  0.7697615     -0.56366000  -0.7549881 0.372734   ⋯\n",
       "17   -0.03909253 -0.6598752      0.45076988   0.6748925 0.372734   ⋯\n",
       "18   -0.03909253 -0.6598752     -0.56366000   0.6748925 0.372734   ⋯\n",
       "19   -0.00615984 -0.6122206     -0.56366000   0.6748925 0.372734   ⋯\n",
       "20   -0.00615984 -0.6122206      2.27674368   0.6748925 0.372734   ⋯\n",
       "21   -0.00615984 -0.6122206      2.20911502   0.6748925 0.372734   ⋯\n",
       "22   -0.00615984 -0.6122206      1.58354992   0.6748925 0.372734   ⋯\n",
       "23    0.12557091 -0.4216024     -0.56366000   0.6748925 0.372734   ⋯\n",
       "24    1.24528229  1.2463070      0.34932690  -3.6147495 0.372734   ⋯\n",
       "25    1.17941691  1.1509979      0.56348432  -0.7549881 0.372734   ⋯\n",
       "26    1.24528229  1.2463070      1.97241471  -3.6147495 0.372734   ⋯\n",
       "27    1.11355154  1.0080343      0.71001308  -0.7549881 0.372734   ⋯\n",
       "28    1.11355154  1.0556888      0.78891318  -0.7549881 0.372734   ⋯\n",
       "29    1.08061885  0.9603797      0.38314122  -0.7549881 0.372734   ⋯\n",
       "30    1.24528229  1.2463070      0.15771236  -0.7549881 0.372734   ⋯\n",
       "⋮    ⋮           ⋮              ⋮            ⋮          ⋮          ⋱\n",
       "2024  0.12557091 -0.421602378    0.88472045   0.6748925  0.372734  ⋯\n",
       "2025  0.58662854  0.293215947    1.08760642  -0.7549881  0.372734  ⋯\n",
       "2026  0.48783047  0.102597727   -0.56366000  -0.7549881  0.372734  ⋯\n",
       "2027 -0.43428478 -1.231729813   -0.56366000   0.6748925  0.372734  ⋯\n",
       "2028  0.32316704 -0.135675048    3.11646620  -0.7549881  0.372734  ⋯\n",
       "2029  0.52076316  0.150252282   -0.15788805   0.6748925  0.372734  ⋯\n",
       "2030  0.61956122  0.340870502   -0.56366000   0.6748925  0.372734  ⋯\n",
       "2031  0.94888810  0.769761496   -0.56366000  -0.7549881  0.372734  ⋯\n",
       "2032  1.01475347  0.865070606    2.98684460  -0.7549881  0.372734  ⋯\n",
       "2033  1.11355154  1.055688826    0.55221287  -0.7549881  0.372734  ⋯\n",
       "2034  1.11355154  1.055688826    0.60857009  -0.7549881  0.372734  ⋯\n",
       "2035  0.85009004  0.626797831    0.56348432   0.6748925 -2.230065  ⋯\n",
       "2036  0.88302272  0.674452386    1.93296466   0.6748925 -2.230065  ⋯\n",
       "2037  1.14648422  1.055688826   -0.56366000   0.6748925  0.372734  ⋯\n",
       "2038  0.19143629 -0.326293268   -0.56366000   0.6748925  0.372734  ⋯\n",
       "2039  0.05970553 -0.516911488   -0.56366000   0.6748925  0.372734  ⋯\n",
       "2040 -0.10495790  0.912725161   -0.56366000   0.6748925  0.372734  ⋯\n",
       "2041 -0.03909253 -0.659875153   -0.56366000   0.6748925  0.372734  ⋯\n",
       "2042  0.02677285 -0.564566043   -0.56366000   0.6748925  0.372734  ⋯\n",
       "2043 -0.03909253 -0.659875153   -0.56366000   0.6748925  0.372734  ⋯\n",
       "2044 -0.03909253 -0.659875153   -0.56366000   0.6748925  0.372734  ⋯\n",
       "2045 -0.03909253 -0.659875153   -0.56366000   0.6748925  0.372734  ⋯\n",
       "2046 -0.03909253 -0.659875153   -0.56366000   0.6748925  0.372734  ⋯\n",
       "2047  0.15850360 -0.373947823   -0.56366000   0.6748925  0.372734  ⋯\n",
       "2048  0.15850360 -0.373947823   -0.56366000   0.6748925  0.372734  ⋯\n",
       "2049 -0.36841940  0.579143277   -0.56366000   0.6748925  0.372734  ⋯\n",
       "2050  0.42196510  0.007288617   -0.56366000   0.6748925  0.372734  ⋯\n",
       "2051  0.38903241 -0.040365938   -0.56366000   0.6748925  0.372734  ⋯\n",
       "2052  0.09263822 -0.421602378   -0.56366000   0.6748925  0.372734  ⋯\n",
       "2053  0.71835929  0.483834167   -0.03390217   0.6748925  0.372734  ⋯\n",
       "     Sale_Type_COD Sale_Type_Con Sale_Type_ConLD Sale_Type_ConLI\n",
       "1    0             0             0               0              \n",
       "2    0             0             0               0              \n",
       "3    0             0             0               0              \n",
       "4    0             0             0               0              \n",
       "5    0             0             0               0              \n",
       "6    0             0             0               0              \n",
       "7    0             0             0               0              \n",
       "8    0             0             0               0              \n",
       "9    0             0             0               0              \n",
       "10   0             0             0               0              \n",
       "11   0             0             0               0              \n",
       "12   0             0             0               0              \n",
       "13   0             0             0               0              \n",
       "14   1             0             0               0              \n",
       "15   0             0             0               0              \n",
       "16   0             0             0               0              \n",
       "17   0             0             0               0              \n",
       "18   0             0             0               0              \n",
       "19   0             0             0               1              \n",
       "20   1             0             0               0              \n",
       "21   0             0             0               0              \n",
       "22   0             0             0               0              \n",
       "23   0             0             0               0              \n",
       "24   0             0             0               0              \n",
       "25   0             0             0               0              \n",
       "26   0             0             0               0              \n",
       "27   0             0             0               0              \n",
       "28   0             0             0               0              \n",
       "29   0             0             0               0              \n",
       "30   0             0             0               0              \n",
       "⋮    ⋮             ⋮             ⋮               ⋮              \n",
       "2024 0             0             0               0              \n",
       "2025 0             0             0               0              \n",
       "2026 0             0             0               0              \n",
       "2027 0             0             0               0              \n",
       "2028 0             0             0               0              \n",
       "2029 0             0             0               0              \n",
       "2030 0             0             0               0              \n",
       "2031 0             0             0               0              \n",
       "2032 0             0             0               0              \n",
       "2033 0             0             0               0              \n",
       "2034 0             0             0               0              \n",
       "2035 0             0             0               0              \n",
       "2036 0             0             0               0              \n",
       "2037 0             0             0               0              \n",
       "2038 0             0             0               0              \n",
       "2039 0             0             0               0              \n",
       "2040 0             0             0               0              \n",
       "2041 0             0             0               0              \n",
       "2042 0             0             0               0              \n",
       "2043 0             0             0               0              \n",
       "2044 0             0             0               0              \n",
       "2045 0             0             0               0              \n",
       "2046 0             0             0               0              \n",
       "2047 0             0             0               0              \n",
       "2048 0             0             0               0              \n",
       "2049 0             0             0               0              \n",
       "2050 0             0             0               0              \n",
       "2051 0             0             0               0              \n",
       "2052 0             0             0               0              \n",
       "2053 0             0             0               0              \n",
       "     Sale_Type_ConLw Sale_Type_CWD Sale_Type_New Sale_Type_Oth Sale_Type_VWD\n",
       "1    0               0             0             0             0            \n",
       "2    0               0             0             0             0            \n",
       "3    0               0             0             0             0            \n",
       "4    0               0             0             0             0            \n",
       "5    0               0             0             0             0            \n",
       "6    0               0             0             0             0            \n",
       "7    0               0             0             0             0            \n",
       "8    0               0             0             0             0            \n",
       "9    0               0             0             0             0            \n",
       "10   0               0             0             0             0            \n",
       "11   0               0             0             0             0            \n",
       "12   0               0             0             0             0            \n",
       "13   0               0             1             0             0            \n",
       "14   0               0             0             0             0            \n",
       "15   0               0             0             0             0            \n",
       "16   0               0             0             0             0            \n",
       "17   0               0             0             0             0            \n",
       "18   0               0             0             0             0            \n",
       "19   0               0             0             0             0            \n",
       "20   0               0             0             0             0            \n",
       "21   0               0             0             0             0            \n",
       "22   0               0             0             0             0            \n",
       "23   0               0             0             0             0            \n",
       "24   0               0             1             0             0            \n",
       "25   0               0             0             0             0            \n",
       "26   0               0             1             0             0            \n",
       "27   0               0             1             0             0            \n",
       "28   0               0             0             0             0            \n",
       "29   0               0             0             0             0            \n",
       "30   0               0             1             0             0            \n",
       "⋮    ⋮               ⋮             ⋮             ⋮             ⋮            \n",
       "2024 0               0             0             0             0            \n",
       "2025 0               0             0             0             0            \n",
       "2026 0               0             0             0             0            \n",
       "2027 0               0             0             0             0            \n",
       "2028 0               0             0             0             0            \n",
       "2029 0               0             0             0             0            \n",
       "2030 0               0             0             0             0            \n",
       "2031 0               0             0             0             0            \n",
       "2032 0               0             0             0             0            \n",
       "2033 0               0             1             0             0            \n",
       "2034 0               0             1             0             0            \n",
       "2035 0               0             0             0             0            \n",
       "2036 0               0             0             0             0            \n",
       "2037 0               0             0             0             0            \n",
       "2038 0               0             0             0             0            \n",
       "2039 0               0             0             0             0            \n",
       "2040 0               0             0             0             0            \n",
       "2041 0               0             0             0             0            \n",
       "2042 0               0             0             0             0            \n",
       "2043 0               0             0             0             0            \n",
       "2044 0               0             0             0             0            \n",
       "2045 0               0             0             0             0            \n",
       "2046 0               0             0             0             0            \n",
       "2047 0               0             0             0             0            \n",
       "2048 0               0             0             0             0            \n",
       "2049 0               0             0             0             0            \n",
       "2050 0               0             0             0             0            \n",
       "2051 0               0             0             0             0            \n",
       "2052 0               0             0             0             0            \n",
       "2053 0               0             0             0             0            \n",
       "     Sale_Type_WD.\n",
       "1    1            \n",
       "2    1            \n",
       "3    1            \n",
       "4    1            \n",
       "5    1            \n",
       "6    1            \n",
       "7    1            \n",
       "8    1            \n",
       "9    1            \n",
       "10   1            \n",
       "11   1            \n",
       "12   1            \n",
       "13   0            \n",
       "14   0            \n",
       "15   1            \n",
       "16   1            \n",
       "17   1            \n",
       "18   1            \n",
       "19   0            \n",
       "20   0            \n",
       "21   1            \n",
       "22   1            \n",
       "23   1            \n",
       "24   0            \n",
       "25   1            \n",
       "26   0            \n",
       "27   0            \n",
       "28   1            \n",
       "29   1            \n",
       "30   0            \n",
       "⋮    ⋮            \n",
       "2024 1            \n",
       "2025 1            \n",
       "2026 1            \n",
       "2027 1            \n",
       "2028 1            \n",
       "2029 1            \n",
       "2030 1            \n",
       "2031 1            \n",
       "2032 1            \n",
       "2033 0            \n",
       "2034 0            \n",
       "2035 1            \n",
       "2036 1            \n",
       "2037 1            \n",
       "2038 1            \n",
       "2039 1            \n",
       "2040 1            \n",
       "2041 1            \n",
       "2042 1            \n",
       "2043 1            \n",
       "2044 1            \n",
       "2045 1            \n",
       "2046 1            \n",
       "2047 1            \n",
       "2048 1            \n",
       "2049 1            \n",
       "2050 1            \n",
       "2051 1            \n",
       "2052 1            \n",
       "2053 1            "
      ]
     },
     "metadata": {},
     "output_type": "display_data"
    }
   ],
   "source": [
    "baked_train <- bake(prepare, new_data = house_train)\n",
    "baked_test <- bake(prepare, new_data = house_test)\n",
    "baked_train"
   ]
  },
  {
   "cell_type": "code",
   "execution_count": 23,
   "metadata": {},
   "outputs": [
    {
     "data": {
      "text/plain": [
       "k-Nearest Neighbors \n",
       "\n",
       "2053 samples\n",
       "  80 predictor\n",
       "\n",
       "Recipe steps: nzv, integer, center, scale, dummy \n",
       "Resampling: Cross-Validated (10 fold) \n",
       "Summary of sample sizes: 1848, 1848, 1848, 1848, 1848, 1846, ... \n",
       "Resampling results across tuning parameters:\n",
       "\n",
       "  k   RMSE      Rsquared   MAE     \n",
       "  10  33681.48  0.8346827  20692.37\n",
       "  20  33795.42  0.8428685  20958.35\n",
       "  30  34401.26  0.8425561  21402.32\n",
       "  40  35117.65  0.8411184  21927.99\n",
       "  50  35793.06  0.8381214  22419.98\n",
       "\n",
       "RMSE was used to select the optimal model using the smallest value.\n",
       "The final value used for the model was k = 10."
      ]
     },
     "metadata": {},
     "output_type": "display_data"
    }
   ],
   "source": [
    "# Specify resampling strategy\n",
    "cv <- trainControl(\n",
    "  method = \"cv\", \n",
    "  number = 10, \n",
    ")\n",
    "\n",
    "# Create grid of hyperparameter values\n",
    "hyper_grid <- expand.grid(k = seq(10, 50, by = 10))\n",
    "\n",
    "# Tune a knn model using grid search\n",
    "knn_fit <- train(\n",
    "  blueprint_house, \n",
    "  data = house_train, \n",
    "  method = \"knn\", \n",
    "  trControl = cv, \n",
    "  tuneGrid = hyper_grid,\n",
    "  metric = \"RMSE\"\n",
    ")\n",
    "knn_fit"
   ]
  },
  {
   "cell_type": "code",
   "execution_count": 24,
   "metadata": {},
   "outputs": [
    {
     "data": {
      "image/png": "[encoded data removed]",
      "text/plain": [
       "plot without title"
      ]
     },
     "metadata": {
      "image/png": {
       "height": 600,
       "width": 900
      }
     },
     "output_type": "display_data"
    }
   ],
   "source": [
    "ggplot(knn_fit)\n"
   ]
  },
  {
   "cell_type": "markdown",
   "metadata": {},
   "source": [
    "# Classification"
   ]
  },
  {
   "cell_type": "code",
   "execution_count": 25,
   "metadata": {},
   "outputs": [],
   "source": [
    "data(\"attrition\", package = \"modeldata\")\n",
    "# Job attrition data\n",
    "attrition <- attrition %>% \n",
    "  mutate_if(is.ordered, .funs = factor, ordered = FALSE)"
   ]
  },
  {
   "cell_type": "code",
   "execution_count": 26,
   "metadata": {},
   "outputs": [],
   "source": [
    "index_caret <- createDataPartition(attrition$Attrition, p = 0.7, list = FALSE)\n",
    "attrition_train <- attrition[index_caret, ]\n",
    "attrition_test  <- attrition[-index_caret, ]"
   ]
  },
  {
   "cell_type": "code",
   "execution_count": null,
   "metadata": {},
   "outputs": [],
   "source": []
  },
  {
   "cell_type": "code",
   "execution_count": null,
   "metadata": {},
   "outputs": [],
   "source": []
  },
  {
   "cell_type": "code",
   "execution_count": null,
   "metadata": {},
   "outputs": [],
   "source": []
  },
  {
   "cell_type": "code",
   "execution_count": null,
   "metadata": {},
   "outputs": [],
   "source": [
    "# Specify resampling strategy\n",
    "cv <- trainControl(\n",
    "  method = \"cv\", \n",
    "  number = 10,\n",
    ")\n",
    "\n",
    "# Create grid of hyperparameter values\n",
    "hyper_grid <- expand.grid(k = seq(10, 20, by = 10))\n",
    "\n",
    "knn_fit <- train(\n",
    "  Sale_Price ~ ., \n",
    "  data = attrition_train, \n",
    "  method = \"knn\", \n",
    "  trControl = cv, \n",
    "  tuneGrid = hyper_grid,\n",
    "  #metric = \"RMSE\",\n",
    ")\n",
    "knn_fit"
   ]
  },
  {
   "cell_type": "code",
   "execution_count": null,
   "metadata": {},
   "outputs": [],
   "source": [
    "glimpse(attrition_train[sort(names(attrition_train))])"
   ]
  },
  {
   "cell_type": "code",
   "execution_count": 27,
   "metadata": {},
   "outputs": [
    {
     "data": {
      "image/png": "[encoded data removed]",
      "text/plain": [
       "plot without title"
      ]
     },
     "metadata": {
      "image/png": {
       "height": 600,
       "width": 900
      }
     },
     "output_type": "display_data"
    }
   ],
   "source": [
    "# Create blueprint\n",
    "blueprint <- recipe(Attrition ~ ., data = attrition_train) %>%\n",
    "  step_nzv(all_nominal()) %>%\n",
    "  step_integer(contains(\"Satisfaction\")) %>%\n",
    "  step_integer(WorkLifeBalance) %>%\n",
    "  step_integer(JobInvolvement) %>%\n",
    "  step_dummy(all_nominal(), -all_outcomes(), one_hot = TRUE) %>%\n",
    "  step_center(all_numeric(), -all_outcomes()) %>%\n",
    "  step_scale(all_numeric(), -all_outcomes())\n",
    "\n",
    "# Create a resampling method\n",
    "cv <- trainControl(\n",
    "  method = \"repeatedcv\", \n",
    "  number = 10, \n",
    "  repeats = 5,\n",
    "  classProbs = TRUE,                 \n",
    "  summaryFunction = twoClassSummary\n",
    ")\n",
    "\n",
    "# Create a hyperparameter grid search\n",
    "hyper_grid <- expand.grid(\n",
    "  k = floor(seq(1, nrow(attrition_train)/3, length.out = 20))\n",
    ")\n",
    "\n",
    "# Fit knn model and perform grid search\n",
    "knn_grid <- train(\n",
    "  blueprint, \n",
    "  data = attrition_train, \n",
    "  method = \"knn\", \n",
    "  trControl = cv, \n",
    "  tuneGrid = hyper_grid,\n",
    "  metric = \"ROC\"\n",
    ")\n",
    "\n",
    "ggplot(knn_grid)"
   ]
  },
  {
   "cell_type": "code",
   "execution_count": 30,
   "metadata": {},
   "outputs": [
    {
     "data": {
      "text/plain": [
       "k-Nearest Neighbors \n",
       "\n",
       "1030 samples\n",
       "  30 predictor\n",
       "   2 classes: 'No', 'Yes' \n",
       "\n",
       "Recipe steps: nzv, integer, integer, integer, dummy, center, scale \n",
       "Resampling: Cross-Validated (10 fold, repeated 5 times) \n",
       "Summary of sample sizes: 926, 926, 927, 928, 927, 927, ... \n",
       "Resampling results across tuning parameters:\n",
       "\n",
       "  k    ROC        Sens       Spec      \n",
       "    1  0.6001420  0.9231516  0.27713235\n",
       "   19  0.7486928  0.9988426  0.02801471\n",
       "   37  0.7655452  1.0000000  0.00000000\n",
       "   55  0.7792938  1.0000000  0.00000000\n",
       "   73  0.7724568  1.0000000  0.00000000\n",
       "   91  0.7810834  1.0000000  0.00000000\n",
       "  109  0.7796675  1.0000000  0.00000000\n",
       "  127  0.7851685  1.0000000  0.00000000\n",
       "  145  0.7861344  1.0000000  0.00000000\n",
       "  163  0.7911214  1.0000000  0.00000000\n",
       "  181  0.7895670  1.0000000  0.00000000\n",
       "  199  0.7864911  1.0000000  0.00000000\n",
       "  217  0.7863109  1.0000000  0.00000000\n",
       "  235  0.7874864  1.0000000  0.00000000\n",
       "  253  0.7868996  1.0000000  0.00000000\n",
       "  271  0.7872700  1.0000000  0.00000000\n",
       "  289  0.7865715  1.0000000  0.00000000\n",
       "  307  0.7860073  1.0000000  0.00000000\n",
       "  325  0.7842621  1.0000000  0.00000000\n",
       "  343  0.7850754  1.0000000  0.00000000\n",
       "\n",
       "ROC was used to select the optimal model using the largest value.\n",
       "The final value used for the model was k = 163."
      ]
     },
     "metadata": {},
     "output_type": "display_data"
    }
   ],
   "source": [
    "knn_grid"
   ]
  },
  {
   "cell_type": "code",
   "execution_count": null,
   "metadata": {},
   "outputs": [],
   "source": []
  }
 ],
 "metadata": {
  "kernelspec": {
   "display_name": "R",
   "language": "R",
   "name": "ir"
  },
  "language_info": {
   "codemirror_mode": "r",
   "file_extension": ".r",
   "mimetype": "text/x-r-source",
   "name": "R",
   "pygments_lexer": "r",
   "version": "3.6.3"
  },
  "toc": {
   "base_numbering": 1,
   "nav_menu": {},
   "number_sections": true,
   "sideBar": true,
   "skip_h1_title": false,
   "title_cell": "Table of Contents",
   "title_sidebar": "Contents",
   "toc_cell": false,
   "toc_position": {},
   "toc_section_display": true,
   "toc_window_display": true
  },
  "varInspector": {
   "cols": {
    "lenName": 16,
    "lenType": 16,
    "lenVar": 40
   },
   "kernels_config": {
    "python": {
     "delete_cmd_postfix": "",
     "delete_cmd_prefix": "del ",
     "library": "var_list.py",
     "varRefreshCmd": "print(var_dic_list())"
    },
    "r": {
     "delete_cmd_postfix": ") ",
     "delete_cmd_prefix": "rm(",
     "library": "var_list.r",
     "varRefreshCmd": "cat(var_dic_list()) "
    }
   },
   "types_to_exclude": [
    "module",
    "function",
    "builtin_function_or_method",
    "instance",
    "_Feature"
   ],
   "window_display": false
  }
 },
 "nbformat": 4,
 "nbformat_minor": 4
}
