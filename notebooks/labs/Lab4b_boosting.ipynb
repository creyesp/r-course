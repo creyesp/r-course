{
 "cells": [
  {
   "cell_type": "code",
   "execution_count": 1,
   "metadata": {},
   "outputs": [],
   "source": [
    "options(repr.plot.width  = 15, repr.plot.height = 10)"
   ]
  },
  {
   "cell_type": "markdown",
   "metadata": {},
   "source": [
    "# Libraries"
   ]
  },
  {
   "cell_type": "code",
   "execution_count": 2,
   "metadata": {},
   "outputs": [],
   "source": [
    "#install.packages(\"gbm\")\n",
    "#install.packages(\"xgboost\")\n",
    "#install.packages(\"doParallel\")"
   ]
  },
  {
   "cell_type": "code",
   "execution_count": 3,
   "metadata": {},
   "outputs": [
    {
     "name": "stderr",
     "output_type": "stream",
     "text": [
      "\n",
      "Attaching package: ‘dplyr’\n",
      "\n",
      "\n",
      "The following objects are masked from ‘package:stats’:\n",
      "\n",
      "    filter, lag\n",
      "\n",
      "\n",
      "The following objects are masked from ‘package:base’:\n",
      "\n",
      "    intersect, setdiff, setequal, union\n",
      "\n",
      "\n",
      "Loading required package: lattice\n",
      "\n",
      "Loading required package: ggplot2\n",
      "\n",
      "Loaded gbm 2.1.8\n",
      "\n",
      "\n",
      "Attaching package: ‘xgboost’\n",
      "\n",
      "\n",
      "The following object is masked from ‘package:dplyr’:\n",
      "\n",
      "    slice\n",
      "\n",
      "\n",
      "\n",
      "Attaching package: ‘gridExtra’\n",
      "\n",
      "\n",
      "The following object is masked from ‘package:dplyr’:\n",
      "\n",
      "    combine\n",
      "\n",
      "\n",
      "Loading required package: foreach\n",
      "\n",
      "Loading required package: iterators\n",
      "\n",
      "Loading required package: parallel\n",
      "\n",
      "\n",
      "Attaching package: ‘vip’\n",
      "\n",
      "\n",
      "The following object is masked from ‘package:utils’:\n",
      "\n",
      "    vi\n",
      "\n",
      "\n"
     ]
    }
   ],
   "source": [
    "library(dplyr)\n",
    "\n",
    "# Modeling packages\n",
    "library(caret)\n",
    "library(gbm)      # for original implementation of regular and stochastic GBMs\n",
    "library(xgboost)  # for fitting extreme gradient boosting\n",
    "library(gridExtra)\n",
    "\n",
    "library(doParallel)\n",
    "library(vip)\n",
    "\n"
   ]
  },
  {
   "cell_type": "markdown",
   "metadata": {},
   "source": [
    "# Basic GBM\n",
    "\n",
    "**Hyperparameters**\n",
    "LA version simple de GBM tiene 2 tipos de hiper-parametros:\n",
    "   * boosting\n",
    "   * especificos de los arboles\n",
    "\n",
    "**Hiper-parametros de Boosting**\n",
    "* **Numero de arboles**: el numero total de arboles en la secuencia. A diferencia de Bagging y RF donde el numero de arboles raramente puede generar overfitting, en boosting el hecho de la dependencia con el error del arbol anterior lo hace propenso a hacer overfittig, en general este numero puede variar en dependencia de los otros hiper-pármetros.\n",
    "* **Learning rate (shrinkage)**: determina la contribucion de cada arbon en el resultado final  y controla la velocidad con la que el algoritmo desciende. Este valor va entre $[0, 1]$ y valores tipicos van entre $0.001$ - $0.3$. Valores mas pequeños hacen mas robusto a caracteristicas especificas de cada arbol, permitiendo generalizaar bien. Sin embargo valores pequeños pueden llevar a no encontrar el punto optimo y quedar en un minimo local. Generalmente valores mas pequeños logran un performance mejor pero requiere de un numero mayor de arboles en la secuencia.\n",
    "\n",
    "**Hiper-parametros propios de cada arbol**\n",
    "\n",
    "* **Profundidad del arbol**: Controla el la profundida maxima de cada arbol. Los valores tipicos van entre 3-8 pero no es raro ver arboles con profundad 1. Valore bajos son computacionalmente eficiente pero requiren de mas arboles en toral. Sin embargo valores mas grandes permiten capturar interacciones entre las features pero lo hace propenso a hacer overfitting.\n",
    "* **Numero minimo de observacioens en un nodo**: controla la complejidad del arbon. Dado que los arboles tienden a ser poco profundos tiende a tener poco efecto. Valore tipicos van entre 5-15. Valores grandes pueden ayudar a prevenir relaciones muy especificas entre variables (overfitting) pero para los casos de dataset desbalanceados valores pequeños pueden ayudar a detectar los casos de la clase minoritaria."
   ]
  },
  {
   "cell_type": "markdown",
   "metadata": {},
   "source": [
    "# Load data"
   ]
  },
  {
   "cell_type": "code",
   "execution_count": 4,
   "metadata": {},
   "outputs": [],
   "source": [
    "ames <- AmesHousing::make_ames()\n",
    "\n",
    "response <- \"Sale_Price\"\n",
    "predictors <- setdiff(colnames(ames), response)"
   ]
  },
  {
   "cell_type": "markdown",
   "metadata": {},
   "source": [
    "# Split Dataset"
   ]
  },
  {
   "cell_type": "code",
   "execution_count": 5,
   "metadata": {},
   "outputs": [],
   "source": [
    "set.seed(123)\n",
    "index_train <- createDataPartition(ames$Sale_Price, p = 0.8, \n",
    "                               list = FALSE, )\n",
    "index_train  <- as.vector(index_train)\n",
    "\n",
    "house_train <- ames[index_train, ]\n",
    "house_test  <- ames[-index_train, ]"
   ]
  },
  {
   "cell_type": "markdown",
   "metadata": {},
   "source": [
    "# Modeling\n",
    "## Basic GBM model\n"
   ]
  },
  {
   "cell_type": "code",
   "execution_count": 6,
   "metadata": {},
   "outputs": [
    {
     "data": {
      "text/html": [
       "22342.8932036618"
      ],
      "text/latex": [
       "22342.8932036618"
      ],
      "text/markdown": [
       "22342.8932036618"
      ],
      "text/plain": [
       "[1] 22342.89"
      ]
     },
     "metadata": {},
     "output_type": "display_data"
    }
   ],
   "source": [
    "set.seed(123)  # for reproducibility\n",
    "ames_gbm1 <- gbm(\n",
    "  formula = Sale_Price ~ .,\n",
    "  data = house_train,\n",
    "  distribution = \"gaussian\",  # SSE loss function\n",
    "  n.trees = 5000,  # default = 100\n",
    "  shrinkage = 0.1,  # default = 0.1\n",
    "  interaction.depth = 3,  # max tree depth\n",
    "  n.minobsinnode = 10,  # min obserbation in a node\n",
    "#  bag.fraction = 0.5,\n",
    "#  train.fraction = 0.8,\n",
    "  cv.folds = 10\n",
    ")\n",
    "\n",
    "# Busca el numero de arboles que genera el menor error en train\n",
    "best <- which.min(ames_gbm1$cv.error)\n",
    "\n",
    "# calcula el RMSE de train para el numero de arboles con el minimo MSE\n",
    "sqrt(ames_gbm1$cv.error[best])\n",
    "## [1] 23240.38"
   ]
  },
  {
   "cell_type": "markdown",
   "metadata": {},
   "source": [
    "## Plot error curve and find the optimum iteration"
   ]
  },
  {
   "cell_type": "code",
   "execution_count": 10,
   "metadata": {},
   "outputs": [
    {
     "data": {
      "text/html": [
       "823"
      ],
      "text/latex": [
       "823"
      ],
      "text/markdown": [
       "823"
      ],
      "text/plain": [
       "[1] 823"
      ]
     },
     "metadata": {},
     "output_type": "display_data"
    },
    {
     "data": {
      "image/png": "[encoded data removed]",
      "text/plain": [
       "plot without title"
      ]
     },
     "metadata": {
      "image/png": {
       "height": 600,
       "width": 900
      }
     },
     "output_type": "display_data"
    }
   ],
   "source": [
    "gbm.perf(ames_gbm1, method = \"cv\")"
   ]
  },
  {
   "cell_type": "markdown",
   "metadata": {},
   "source": [
    "## Predictions\n",
    "Hay algunas diferencias en la forma en la que se hacen las predicciones con nuevos datos usando GBM, ademas de dar el modelo y los nuevos datos podemos indicar el numero de iteraciones (numero de arboles) para la prediccion, por defecto usa el que resulto de gbm.perf(..., method=CV). Adicionalmente podemos definir el tipo de respuesta (\"response\", \"prob\")\n",
    "\n",
    "[documentación](https://www.rdocumentation.org/packages/gbm/versions/2.1.8/topics/predict.gbm)"
   ]
  },
  {
   "cell_type": "code",
   "execution_count": 28,
   "metadata": {},
   "outputs": [
    {
     "name": "stderr",
     "output_type": "stream",
     "text": [
      "Using 823 trees...\n",
      "\n",
      "\n"
     ]
    },
    {
     "data": {
      "text/html": [
       "21552.5646601891"
      ],
      "text/latex": [
       "21552.5646601891"
      ],
      "text/markdown": [
       "21552.5646601891"
      ],
      "text/plain": [
       "[1] 21552.56"
      ]
     },
     "metadata": {},
     "output_type": "display_data"
    }
   ],
   "source": [
    "RMSE(pred = predict(ames_gbm1, newdata = house_test, n.trees = NULL, type = 'response'),\n",
    "     obs = house_test$Sale_Price)"
   ]
  },
  {
   "cell_type": "markdown",
   "metadata": {},
   "source": [
    "# General tuning strategy\n",
    "\n",
    "Unlike random forests, GBMs can have high variability in accuracy dependent on their hyperparameter settings (Probst, Bischl, and Boulesteix 2018). So tuning can require much more strategy than a random forest model. Often, a good approach is to:\n",
    "\n",
    "* Choose a relatively high learning rate. Generally the default value of 0.1 works but somewhere between 0.05–0.2 should work across a wide range of problems.\n",
    "* Determine the optimum number of trees for this learning rate.\n",
    "* Fix tree hyperparameters and tune learning rate and assess speed vs. performance.\n",
    "* Tune tree-specific parameters for decided learning rate.\n",
    "* Once tree-specific parameters have been found, lower the learning rate to assess for any improvements in accuracy.\n",
    "* Use final hyperparameter settings and increase CV procedures to get more robust estimates. Often, the above steps are performed with a simple validation procedure or 5-fold CV due to computational constraints. If you used k-fold CV throughout steps 1–5 then this step is not necessary.\n"
   ]
  },
  {
   "cell_type": "code",
   "execution_count": null,
   "metadata": {},
   "outputs": [],
   "source": [
    "is_trian <- FALSE\n",
    "\n",
    "if (is_trian){\n",
    "    gbmGrid <-  expand.grid(interaction.depth = 3,\n",
    "                            n.trees = 2000, \n",
    "                            shrinkage = c(0.3, 0.1, 0.05, 0.01, 0.005),\n",
    "                            n.minobsinnode = 10)\n",
    "\n",
    "    fitControl <- trainControl(method = \"cv\",\n",
    "                               number = 5,\n",
    "                               allowParallel = TRUE\n",
    "                              )                        \n",
    "\n",
    "    cl <- makePSOCKcluster(detectCores() - 1)\n",
    "    registerDoParallel(cl)\n",
    "    set.seed(42)\n",
    "    gbmFit2 <- train(Sale_Price ~ .,\n",
    "                     data = ames, \n",
    "                     method = \"gbm\", \n",
    "                     distribution = \"gaussian\",\n",
    "                     bag.fraction = 0.7,\n",
    "                     train.fraction = 1,\n",
    "                     trControl = fitControl, \n",
    "                     verbose = TRUE, \n",
    "                     tuneGrid = gbmGrid\n",
    "                    )\n",
    "    stopCluster(cl)\n",
    "    saveRDS(gbmFit2, \"models/gbm_house_fit2.rds\")\n",
    "    gbmFit2    \n",
    "}\n"
   ]
  },
  {
   "cell_type": "code",
   "execution_count": null,
   "metadata": {},
   "outputs": [],
   "source": [
    "gbmFit2 <- readRDS(\"models/gbm_house_fit2.rds\")"
   ]
  },
  {
   "cell_type": "code",
   "execution_count": null,
   "metadata": {},
   "outputs": [],
   "source": [
    "plot(gbmFit2)"
   ]
  },
  {
   "cell_type": "markdown",
   "metadata": {},
   "source": [
    "# Stochastic GBMs\n",
    "An important insight made by Breiman (Breiman (1996a); Breiman (2001)) in developing his bagging and random forest algorithms was that training the algorithm on a random subsample of the training data set offered additional reduction in tree correlation and, therefore, improvement in prediction accuracy. Friedman (2002) used this same logic and updated the boosting algorithm accordingly. This procedure is known as stochastic gradient boosting and, as illustrated in Figure 12.5, helps reduce the chances of getting stuck in local minimas, plateaus, and other irregular terrain of the loss function so that we may find a near global optimum.\n",
    "12.4.1 Stochastic hyperparameters\n",
    "\n",
    "There are a few variants of stochastic gradient boosting that can be used, all of which have additional hyperparameters:\n",
    "\n",
    "- Subsample rows before creating each tree (available in gbm, h2o, & xgboost)\n",
    "- Subsample columns before creating each tree (h2o & xgboost)\n",
    "- Subsample columns before considering each split in each tree (h2o & xgboost)\n",
    "\n",
    "Generally, aggressive subsampling of rows, such as selecting only 50% or less of the training data, has shown to be beneficial and typical values range between 0.5–0.8. Subsampling of columns and the impact to performance largely depends on the nature of the data and if there is strong multicollinearity or a lot of noisy features. Similar to the mtry\n",
    "\n",
    "parameter in random forests (Section 11.4.2), if there are fewer relevant predictors (more noisy data) higher values of column subsampling tends to perform better because it makes it more likely to select those features with the strongest signal. When there are many relevant predictors, a lower values of column subsampling tends to perform well.\n",
    "\n",
    "When adding in a stochastic procedure, you can either include it in step 4) in the general tuning strategy above (Section 12.3.3), or once you’ve found the optimal basic model (after 6)). In our experience, we have not seen strong interactions between the stochastic hyperparameters and the other boosting and tree-specific hyperparameters."
   ]
  },
  {
   "cell_type": "markdown",
   "metadata": {},
   "source": [
    "XGBoost\n",
    "\n",
    "Extreme gradient boosting (XGBoost) is an optimized distributed gradient boosting library that is designed to be efficient, flexible, and portable across multiple languages (Chen and Guestrin 2016). Although XGBoost provides the same boosting and tree-based hyperparameter options illustrated in the previous sections, it also provides a few advantages over traditional boosting such as:\n",
    "\n",
    "* Regularization: XGBoost offers additional regularization hyperparameters, which we will discuss shortly, that provides added protection against overfitting.\n",
    "* Early stopping: Similar to h2o, XGBoost implements early stopping so that we can stop model assessment when additional trees offer no improvement.\n",
    "* Parallel Processing: Since gradient boosting is sequential in nature it is extremely difficult to parallelize. XGBoost has implemented procedures to support GPU and Spark compatibility which allows you to fit gradient boosting using powerful distributed processing engines.\n",
    "* Loss functions: XGBoost allows users to define and optimize gradient boosting models using custom objective and evaluation criteria.\n",
    "* Continue with existing model: A user can train an XGBoost model, save the results, and later on return to that model and continue building onto the results. Whether you shut down for the day, wanted to review intermediate results, or came up with additional hyperparameter settings to evaluate, this allows you to continue training your model without starting from scratch.\n",
    "* Different base learners: Most GBM implementations are built with decision trees but XGBoost also provides boosted generalized linear models.\n",
    "* Multiple languages: XGBoost offers implementations in R, Python, Julia, Scala, Java, and C++.\n",
    "\n",
    "In addition to being offered across multiple languages, XGboost can be implemented multiple ways within R. The main R implementation is the xgboost package; however, as illustrated throughout many chapters one can also use caret as a meta engine to implement XGBoost. The h2o package also offers an implementation of XGBoost. In this chapter we’ll demonstrate the xgboost package."
   ]
  },
  {
   "cell_type": "markdown",
   "metadata": {},
   "source": [
    "## XGBoost hyperparameters\n",
    "### Regularizacion\n",
    "* gamma: is a pseudo-regularization hyperparameter known as a Lagrangian multiplier and controls the complexity of a given tree. gamma specifies a minimum loss reduction required to make a further partition on a leaf node of the tree. When gamma is specified, xgboost will grow the tree to the max depth and then prune the tree. ranges from 0−∞ (0 means no constraint while large numbers mean a higher regularization). What quantifies as a large gamma value is dependent on the loss function but generally lower values between 1–20 will do if gamma is influential.\n",
    "* alpha: L1 \n",
    "* lambda: L2\n",
    "### Dropout\n",
    "Dropout is an alternative approach to reduce overfitting and can loosely be described as regularization. The dropout approach developed by Srivastava et al. (2014a) has been widely employed in deep learnings to prevent deep neural networks from overfitting (see Section 13.7.3). Dropout can also be used to address overfitting in GBMs. When constructing a GBM, the first few trees added at the beginning of the ensemble typically dominate the model performance while trees added later typically improve the prediction for only a small subset of the feature space. This often increases the risk of overfitting and the idea of dropout is to build an ensemble by randomly dropping trees in the boosting sequence. This is commonly referred to as DART (Rashmi and Gilad-Bachrach 2015) since it was initially explored in the context of Mutliple Additive Regression Trees (MART); DART refers to Dropout Additive Regression Trees. The percentage of dropouts is another regularization parameter.\n",
    "\n",
    "Typically, when gamma, alpha, or lambda cannot help to control overfitting, exploring DART hyperparameters would be the next best option.33\n",
    "\n",
    "### Tuning strategy\n",
    "\n",
    "The general tuning strategy for exploring xgboost hyperparameters builds onto the basic and stochastic GBM tuning strategies:\n",
    "\n",
    "    Crank up the number of trees and tune learning rate with early stopping\n",
    "    Tune tree-specific hyperparameters\n",
    "    Explore stochastic GBM attributes\n",
    "    If substantial overfitting occurs (e.g., large differences between train and CV error) explore regularization hyperparameters\n",
    "    If you find hyperparameter values that are substantially different from default settings, be sure to retune the learning rate\n",
    "    Obtain final “optimal” model\n",
    "\n",
    "Running an XGBoost model with xgboost requires some additional data preparation. xgboost requires a matrix input for the features and the response to be a vector. Consequently, to provide a matrix input of the features we need to encode our categorical variables numerically (i.e. one-hot encoding, label encoding). The following numerically label encodes all categorical features and converts the training data frame to a matrix.\n",
    "\n",
    "\n",
    "|Model|Method|Type|Libraries|Tuning Parameters|\n",
    "|---|---|---|---|---|\n",
    "|eXtreme Gradient Boosting|xgbDART|Classification, Regression|xgboost, plyr|nrounds, max_depth, eta, gamma, subsample, colsample_bytree, rate_drop, skip_drop, min_child_weight|\n",
    "|eXtreme Gradient Boosting|xgbLinear|Classification, Regression|xgboost|nrounds, lambda, alpha, eta|\n",
    "|eXtreme Gradient Boosting|xgbTree|Classification, Regression|xgboost, plyr|nrounds, max_depth, eta, gamma, colsample_bytree, min_child_weight, subsample|\n",
    "<img src=https://scikit-learn.org/stable/_images/sphx_glr_plot_gradient_boosting_regularization_001.png>"
   ]
  },
  {
   "cell_type": "code",
   "execution_count": null,
   "metadata": {},
   "outputs": [],
   "source": [
    "library(recipes)\n",
    "xgb_prep <- recipe(Sale_Price ~ ., data = house_train) %>%\n",
    "  step_integer(all_nominal()) %>%\n",
    "  prep(training = house_train, retain = TRUE) %>%\n",
    "  juice()\n",
    "\n",
    "X <- as.matrix(xgb_prep[setdiff(names(xgb_prep), \"Sale_Price\")])\n",
    "Y <- xgb_prep$Sale_Price"
   ]
  },
  {
   "cell_type": "code",
   "execution_count": null,
   "metadata": {},
   "outputs": [],
   "source": [
    "set.seed(123)\n",
    "ames_xgb <- xgb.cv(\n",
    "  data = X,\n",
    "  label = Y,\n",
    "  nrounds = 6000,\n",
    "  objective = \"reg:squarederror\",\n",
    "  early_stopping_rounds = 50, \n",
    "  nfold = 10,\n",
    "  params = list(\n",
    "    eta = 0.1,\n",
    "    max_depth = 3,\n",
    "    min_child_weight = 3,\n",
    "    subsample = 0.8,\n",
    "    colsample_bytree = 1.0),\n",
    "  verbose = 0\n",
    ")  \n",
    "\n",
    "# minimum test CV RMSE\n",
    "min(ames_xgb$evaluation_log$test_rmse_mean)\n",
    "## [1] 20488"
   ]
  },
  {
   "cell_type": "code",
   "execution_count": null,
   "metadata": {},
   "outputs": [],
   "source": [
    "# hyperparameter grid\n",
    "hyper_grid <- expand.grid(\n",
    "  eta = 0.01,\n",
    "  max_depth = 3, \n",
    "  min_child_weight = 3,\n",
    "  subsample = 0.5, \n",
    "  colsample_bytree = 0.5,\n",
    "  gamma = c(0, 1, 10, 100, 1000),\n",
    "  lambda = c(0, 1e-2, 0.1, 1, 100, 1000, 10000),\n",
    "  alpha = c(0, 1e-2, 0.1, 1, 100, 1000, 10000),\n",
    "  rmse = 0,          # a place to dump RMSE results\n",
    "  trees = 0          # a place to dump required number of trees\n",
    ")\n",
    "\n",
    "# grid search\n",
    "for(i in seq_len(nrow(hyper_grid))) {\n",
    "  set.seed(123)\n",
    "  m <- xgb.cv(\n",
    "    data = X,\n",
    "    label = Y,\n",
    "    nrounds = 4000,\n",
    "    objective = \"reg:squarederror\",\n",
    "    early_stopping_rounds = 50, \n",
    "    nfold = 10,\n",
    "    verbose = 0,\n",
    "    params = list( \n",
    "      eta = hyper_grid$eta[i], \n",
    "      max_depth = hyper_grid$max_depth[i],\n",
    "      min_child_weight = hyper_grid$min_child_weight[i],\n",
    "      subsample = hyper_grid$subsample[i],\n",
    "      colsample_bytree = hyper_grid$colsample_bytree[i],\n",
    "      gamma = hyper_grid$gamma[i], \n",
    "      lambda = hyper_grid$lambda[i], \n",
    "      alpha = hyper_grid$alpha[i]\n",
    "    ) \n",
    "  )\n",
    "  hyper_grid$rmse[i] <- min(m$evaluation_log$test_rmse_mean)\n",
    "  hyper_grid$trees[i] <- m$best_iteration\n",
    "}\n",
    "\n",
    "# results\n",
    "hyper_grid %>%\n",
    "  filter(rmse > 0) %>%\n",
    "  arrange(rmse) %>%\n",
    "  glimpse()"
   ]
  },
  {
   "cell_type": "code",
   "execution_count": null,
   "metadata": {},
   "outputs": [],
   "source": [
    "# optimal parameter list\n",
    "params <- list(\n",
    "  eta = 0.01,\n",
    "  max_depth = 3,\n",
    "  min_child_weight = 3,\n",
    "  subsample = 0.5,\n",
    "  colsample_bytree = 0.5\n",
    ")\n",
    "\n",
    "# train final model\n",
    "xgb.fit.final <- xgboost(\n",
    "  params = params,\n",
    "  data = X,\n",
    "  label = Y,\n",
    "  nrounds = 3944,\n",
    "  objective = \"reg:squarederror\",\n",
    "  verbose = 0\n",
    ")"
   ]
  },
  {
   "cell_type": "code",
   "execution_count": null,
   "metadata": {},
   "outputs": [],
   "source": [
    "plot(xgb.fit.final$evaluation_log$train_rmse)"
   ]
  },
  {
   "cell_type": "markdown",
   "metadata": {},
   "source": [
    "### Feature interpretation\n",
    "\n",
    "Measuring GBM feature importance and effects follows the same construct as random forests. Similar to random forests, the gbm and h2o packages offer an impurity-based feature importance. xgboost actually provides three built-in measures for feature importance:\n",
    "\n",
    "    Gain: This is equivalent to the impurity measure in random forests (reference Section 11.6) and is the most common model-centric metric to use.\n",
    "    Coverage: The Coverage metric quantifies the relative number of observations influenced by this feature. For example, if you have 100 observations, 4 features and 3 trees, and suppose x1\n",
    "\n",
    "is used to decide the leaf node for 10, 5, and 2 observations in tree1, tree2 and tree3 respectively; then the metric will count cover for this feature as 10+5+2=17\n",
    "observations. This will be calculated for all the 4 features and expressed as a percentage.\n",
    "Frequency: The percentage representing the relative number of times a particular feature occurs in the trees of the model. In the above example, if x1\n",
    "was used for 2 splits, 1 split and 3 splits in each of tree1, tree2 and tree3 respectively; then the weightage for x1 will be 2+1+3=6. The frequency for x1 is calculated as its percentage weight over weights of all xp features.\n",
    "\n",
    "If we examine the top 10 influential features in our final model using the impurity (gain) metric, we see very similar results as we saw with our random forest model (Section 11.6). The primary difference is we no longer see Neighborhood as a top influential feature, which is likely a result of how we label encoded the categorical features."
   ]
  },
  {
   "cell_type": "code",
   "execution_count": null,
   "metadata": {},
   "outputs": [],
   "source": [
    "importances <- xgb.importance(model=xgb.fit.final)"
   ]
  },
  {
   "cell_type": "code",
   "execution_count": null,
   "metadata": {},
   "outputs": [],
   "source": [
    "head(importances)"
   ]
  },
  {
   "cell_type": "code",
   "execution_count": null,
   "metadata": {},
   "outputs": [],
   "source": [
    "vip::vip(xgb.fit.final, type=\"gain\", num_features = 25)"
   ]
  },
  {
   "cell_type": "code",
   "execution_count": null,
   "metadata": {},
   "outputs": [],
   "source": [
    "vip::vip(xgb.fit.final, type=\"cover\", num_features = 25)"
   ]
  },
  {
   "cell_type": "code",
   "execution_count": null,
   "metadata": {},
   "outputs": [],
   "source": [
    "vip::vip(xgb.fit.final, type=\"frequency\", num_features = 25)"
   ]
  }
 ],
 "metadata": {
  "kernelspec": {
   "display_name": "R",
   "language": "R",
   "name": "ir"
  },
  "language_info": {
   "codemirror_mode": "r",
   "file_extension": ".r",
   "mimetype": "text/x-r-source",
   "name": "R",
   "pygments_lexer": "r",
   "version": "3.6.3"
  },
  "toc": {
   "base_numbering": 1,
   "nav_menu": {},
   "number_sections": true,
   "sideBar": true,
   "skip_h1_title": false,
   "title_cell": "Table of Contents",
   "title_sidebar": "Contents",
   "toc_cell": false,
   "toc_position": {},
   "toc_section_display": true,
   "toc_window_display": false
  },
  "varInspector": {
   "cols": {
    "lenName": 16,
    "lenType": 16,
    "lenVar": 40
   },
   "kernels_config": {
    "python": {
     "delete_cmd_postfix": "",
     "delete_cmd_prefix": "del ",
     "library": "var_list.py",
     "varRefreshCmd": "print(var_dic_list())"
    },
    "r": {
     "delete_cmd_postfix": ") ",
     "delete_cmd_prefix": "rm(",
     "library": "var_list.r",
     "varRefreshCmd": "cat(var_dic_list()) "
    }
   },
   "types_to_exclude": [
    "module",
    "function",
    "builtin_function_or_method",
    "instance",
    "_Feature"
   ],
   "window_display": false
  }
 },
 "nbformat": 4,
 "nbformat_minor": 4
}
