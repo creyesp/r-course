{
 "cells": [
  {
   "cell_type": "code",
   "execution_count": 1,
   "metadata": {},
   "outputs": [],
   "source": [
    "options(repr.plot.width  = 15, repr.plot.height = 10)"
   ]
  },
  {
   "cell_type": "code",
   "execution_count": 2,
   "metadata": {},
   "outputs": [],
   "source": [
    "#install.packages(\"ranger\")"
   ]
  },
  {
   "cell_type": "markdown",
   "metadata": {},
   "source": [
    "# Libraries"
   ]
  },
  {
   "cell_type": "code",
   "execution_count": 3,
   "metadata": {},
   "outputs": [
    {
     "name": "stderr",
     "output_type": "stream",
     "text": [
      "\n",
      "Attaching package: ‘dplyr’\n",
      "\n",
      "\n",
      "The following objects are masked from ‘package:stats’:\n",
      "\n",
      "    filter, lag\n",
      "\n",
      "\n",
      "The following objects are masked from ‘package:base’:\n",
      "\n",
      "    intersect, setdiff, setequal, union\n",
      "\n",
      "\n",
      "Loading required package: lattice\n",
      "\n"
     ]
    }
   ],
   "source": [
    "# Helper packages\n",
    "library(dplyr)    # for data wrangling\n",
    "library(ggplot2)  # for awesome graphics\n",
    "\n",
    "# Modeling packages\n",
    "library(caret)\n",
    "library(ranger)   # a c++ implementation of random forest \n"
   ]
  },
  {
   "cell_type": "markdown",
   "metadata": {},
   "source": [
    "# Random Forest \n",
    "Random Forest extiende la idea de bagging usando árboles de decisión incluyendo una selección aleatoria de features para cada árbol con el fin de reducir la correlación entre árboles. Este parámetro es conocido como $m_{try}$ y generalmente para problemas de regresión se usa $m_{try} = \\frac{p}{3}$ y para clasificación $m_{try} = \\sqrt{p}$ siendo $p$ el número total de features. Sin embargo este es uno de los parámetros a ajustar para obtener el mejor modelo.\n",
    "\n",
    "## Pseudocódigo\n",
    "* Data un dataset de entrenamiento\n",
    "* Seleccionar el número de árboles a construir (n_trees)\n",
    "* Desde k = 0 hasta n_trees   \n",
    "      Generar una muestra usando bootstrapping del dataset de entrenamiento\n",
    "      Entrenar el árbol k con la muestra anterior\n",
    "      Para cada split hacer:\n",
    "          Seleccionar $m_{try}$ features aleatoriamente del total de features\n",
    "          Seleccionar la feature/threshold que que logre reducir más el error en el split\n",
    "          Dividir el nodo en 2\n",
    "      fin\n",
    "      Usar alguno de los criterios para para de hacer split\n",
    "  fin\n",
    "* Retornar el ensamble\n",
    "\n"
   ]
  },
  {
   "cell_type": "markdown",
   "metadata": {},
   "source": [
    "# Load Data"
   ]
  },
  {
   "cell_type": "code",
   "execution_count": 59,
   "metadata": {},
   "outputs": [],
   "source": [
    "ames <- AmesHousing::make_ames()"
   ]
  },
  {
   "cell_type": "markdown",
   "metadata": {},
   "source": [
    "# Split Dataset"
   ]
  },
  {
   "cell_type": "code",
   "execution_count": 60,
   "metadata": {},
   "outputs": [],
   "source": [
    "set.seed(123)\n",
    "index_train <- createDataPartition(ames$Sale_Price, p = 0.8, \n",
    "                               list = FALSE, )\n",
    "index_train  <- as.vector(index_train)\n",
    "\n",
    "house_train <- ames[index_train, ]\n",
    "house_test  <- ames[-index_train, ]"
   ]
  },
  {
   "cell_type": "markdown",
   "metadata": {},
   "source": [
    "# Modeling\n",
    "## Ranger\n",
    "Random Forest tiene varias librerías que lo implementan con diferentes enfoques, uno de ellos es   `randomForest` que es más clásico y `ranger` que es una implementación en c++ que es mucho más eficiente el cual estaremos usando ahora.\n",
    "\n",
    "Por defecto `ranger` tiene por defecto $m_{try} = \\sqrt{p}$ pero para problemas de regresion se recomienda partar con $\\frac{p}{3}$ y fijar el parametro `respect.unordered.factors = \"order\"` esto para que trate las variables categoricas sin orden las trate como ordenas segun el target (al igual que implementa rpart)"
   ]
  },
  {
   "cell_type": "code",
   "execution_count": 61,
   "metadata": {},
   "outputs": [
    {
     "data": {
      "text/html": [
       "25630.0422213295"
      ],
      "text/latex": [
       "25630.0422213295"
      ],
      "text/markdown": [
       "25630.0422213295"
      ],
      "text/plain": [
       "[1] 25630.04"
      ]
     },
     "metadata": {},
     "output_type": "display_data"
    }
   ],
   "source": [
    "# number of features\n",
    "n_features <- length(setdiff(names(house_train), \"Sale_Price\"))\n",
    "\n",
    "# train a default random forest model\n",
    "house_rf1 <- ranger(\n",
    "  Sale_Price ~ ., \n",
    "  data = house_train,\n",
    "  seed = 123\n",
    ")\n",
    "\n",
    "# get OOB RMSE\n",
    "default_rmse <- sqrt(house_rf1$prediction.error)\n",
    "default_rmse"
   ]
  },
  {
   "cell_type": "code",
   "execution_count": 62,
   "metadata": {},
   "outputs": [
    {
     "data": {
      "text/html": [
       "500"
      ],
      "text/latex": [
       "500"
      ],
      "text/markdown": [
       "500"
      ],
      "text/plain": [
       "[1] 500"
      ]
     },
     "metadata": {},
     "output_type": "display_data"
    }
   ],
   "source": [
    "# Numero de arboles\n",
    "house_rf1$num.trees"
   ]
  },
  {
   "cell_type": "code",
   "execution_count": 63,
   "metadata": {},
   "outputs": [
    {
     "data": {
      "text/html": [
       "80"
      ],
      "text/latex": [
       "80"
      ],
      "text/markdown": [
       "80"
      ],
      "text/plain": [
       "[1] 80"
      ]
     },
     "metadata": {},
     "output_type": "display_data"
    }
   ],
   "source": [
    "# numero de features\n",
    "house_rf1$num.independent.variables"
   ]
  },
  {
   "cell_type": "code",
   "execution_count": 64,
   "metadata": {},
   "outputs": [
    {
     "data": {
      "text/html": [
       "8"
      ],
      "text/latex": [
       "8"
      ],
      "text/markdown": [
       "8"
      ],
      "text/plain": [
       "[1] 8"
      ]
     },
     "metadata": {},
     "output_type": "display_data"
    }
   ],
   "source": [
    "# Numero de feautes a considerar en cada split\n",
    "house_rf1$mtry"
   ]
  },
  {
   "cell_type": "code",
   "execution_count": 65,
   "metadata": {},
   "outputs": [
    {
     "data": {
      "text/html": [
       "5"
      ],
      "text/latex": [
       "5"
      ],
      "text/markdown": [
       "5"
      ],
      "text/plain": [
       "[1] 5"
      ]
     },
     "metadata": {},
     "output_type": "display_data"
    }
   ],
   "source": [
    "# Minimo numero de observaciones en una hoja\n",
    "house_rf1$min.node.size"
   ]
  },
  {
   "cell_type": "code",
   "execution_count": 66,
   "metadata": {},
   "outputs": [
    {
     "data": {
      "text/html": [
       "'variance'"
      ],
      "text/latex": [
       "'variance'"
      ],
      "text/markdown": [
       "'variance'"
      ],
      "text/plain": [
       "[1] \"variance\""
      ]
     },
     "metadata": {},
     "output_type": "display_data"
    }
   ],
   "source": [
    "house_rf1$splitrule"
   ]
  },
  {
   "cell_type": "code",
   "execution_count": 67,
   "metadata": {},
   "outputs": [
    {
     "data": {
      "text/html": [
       "'Regression'"
      ],
      "text/latex": [
       "'Regression'"
      ],
      "text/markdown": [
       "'Regression'"
      ],
      "text/plain": [
       "[1] \"Regression\""
      ]
     },
     "metadata": {},
     "output_type": "display_data"
    }
   ],
   "source": [
    "house_rf1$treetype"
   ]
  },
  {
   "cell_type": "markdown",
   "metadata": {},
   "source": [
    "### Predictions\n",
    "en ranger la función predict no retorna directamente los valores, en lugar de ello retorna un objeto `ranger.prediction`.\n",
    "\n",
    "Para obtener los valores tenemos que usar predict(...)$predictions\n"
   ]
  },
  {
   "cell_type": "code",
   "execution_count": 68,
   "metadata": {},
   "outputs": [
    {
     "data": {
      "text/html": [
       "'ranger.prediction'"
      ],
      "text/latex": [
       "'ranger.prediction'"
      ],
      "text/markdown": [
       "'ranger.prediction'"
      ],
      "text/plain": [
       "[1] \"ranger.prediction\""
      ]
     },
     "metadata": {},
     "output_type": "display_data"
    }
   ],
   "source": [
    "class(predict(house_rf1, house_train))"
   ]
  },
  {
   "cell_type": "code",
   "execution_count": 69,
   "metadata": {},
   "outputs": [
    {
     "data": {
      "text/html": [
       "11356.6364314833"
      ],
      "text/latex": [
       "11356.6364314833"
      ],
      "text/markdown": [
       "11356.6364314833"
      ],
      "text/plain": [
       "[1] 11356.64"
      ]
     },
     "metadata": {},
     "output_type": "display_data"
    }
   ],
   "source": [
    "RMSE(pred = predict(house_rf1, house_train)$predictions,\n",
    "     obs = house_train$Sale_Price)"
   ]
  },
  {
   "cell_type": "code",
   "execution_count": 70,
   "metadata": {},
   "outputs": [
    {
     "data": {
      "text/html": [
       "25758.2241095051"
      ],
      "text/latex": [
       "25758.2241095051"
      ],
      "text/markdown": [
       "25758.2241095051"
      ],
      "text/plain": [
       "[1] 25758.22"
      ]
     },
     "metadata": {},
     "output_type": "display_data"
    }
   ],
   "source": [
    "RMSE(pred = predict(house_rf1, house_test)$predictions,\n",
    "     obs = house_test$Sale_Price)"
   ]
  },
  {
   "cell_type": "markdown",
   "metadata": {},
   "source": [
    "## Version Custom\n",
    "Acá se muestran varios de los valores que podemos modificar para obtener el mejor modelo. Podemos variar manualmente cada uno de ellos y ver el efecto en el performance."
   ]
  },
  {
   "cell_type": "code",
   "execution_count": 71,
   "metadata": {},
   "outputs": [
    {
     "data": {
      "text/html": [
       "24940.6661526141"
      ],
      "text/latex": [
       "24940.6661526141"
      ],
      "text/markdown": [
       "24940.6661526141"
      ],
      "text/plain": [
       "[1] 24940.67"
      ]
     },
     "metadata": {},
     "output_type": "display_data"
    }
   ],
   "source": [
    "house_rfc <- ranger(\n",
    "  Sale_Price ~ ., \n",
    "  data = house_train,\n",
    "  num.trees = 500,\n",
    "  mtry = floor(n_features / 3),\n",
    "  #min.node.size = 5,\n",
    "  #max.depth = 0,\n",
    "  #replace=TRUE,\n",
    "  #respect.unordered.factors = \"order\",\n",
    "  oob.error = TRUE,\n",
    "  seed = 123\n",
    ")\n",
    "\n",
    "# get OOB RMSE\n",
    "sqrt(house_rfc$prediction.error)"
   ]
  },
  {
   "cell_type": "code",
   "execution_count": 72,
   "metadata": {},
   "outputs": [
    {
     "data": {
      "text/html": [
       "26"
      ],
      "text/latex": [
       "26"
      ],
      "text/markdown": [
       "26"
      ],
      "text/plain": [
       "[1] 26"
      ]
     },
     "metadata": {},
     "output_type": "display_data"
    }
   ],
   "source": [
    "house_rfc$mtry"
   ]
  },
  {
   "cell_type": "markdown",
   "metadata": {},
   "source": [
    "## Error para diferentes #árboles"
   ]
  },
  {
   "cell_type": "code",
   "execution_count": 73,
   "metadata": {},
   "outputs": [
    {
     "data": {
      "text/html": [
       "<style>\n",
       ".list-inline {list-style: none; margin:0; padding: 0}\n",
       ".list-inline>li {display: inline-block}\n",
       ".list-inline>li:not(:last-child)::after {content: \"\\00b7\"; padding: 0 .5ex}\n",
       "</style>\n",
       "<ol class=list-inline><li>10</li><li>20</li><li>30</li><li>40</li><li>50</li><li>60</li><li>70</li><li>80</li><li>90</li><li>100</li><li>110</li><li>120</li><li>130</li><li>140</li><li>150</li><li>160</li><li>170</li><li>180</li><li>190</li><li>200</li><li>210</li><li>220</li><li>230</li><li>240</li><li>250</li><li>260</li><li>270</li><li>280</li><li>290</li><li>300</li><li>310</li><li>320</li><li>330</li><li>340</li><li>350</li><li>360</li><li>370</li><li>380</li><li>390</li><li>400</li><li>410</li><li>420</li><li>430</li><li>440</li><li>450</li><li>460</li><li>470</li><li>480</li><li>490</li><li>500</li></ol>\n"
      ],
      "text/latex": [
       "\\begin{enumerate*}\n",
       "\\item 10\n",
       "\\item 20\n",
       "\\item 30\n",
       "\\item 40\n",
       "\\item 50\n",
       "\\item 60\n",
       "\\item 70\n",
       "\\item 80\n",
       "\\item 90\n",
       "\\item 100\n",
       "\\item 110\n",
       "\\item 120\n",
       "\\item 130\n",
       "\\item 140\n",
       "\\item 150\n",
       "\\item 160\n",
       "\\item 170\n",
       "\\item 180\n",
       "\\item 190\n",
       "\\item 200\n",
       "\\item 210\n",
       "\\item 220\n",
       "\\item 230\n",
       "\\item 240\n",
       "\\item 250\n",
       "\\item 260\n",
       "\\item 270\n",
       "\\item 280\n",
       "\\item 290\n",
       "\\item 300\n",
       "\\item 310\n",
       "\\item 320\n",
       "\\item 330\n",
       "\\item 340\n",
       "\\item 350\n",
       "\\item 360\n",
       "\\item 370\n",
       "\\item 380\n",
       "\\item 390\n",
       "\\item 400\n",
       "\\item 410\n",
       "\\item 420\n",
       "\\item 430\n",
       "\\item 440\n",
       "\\item 450\n",
       "\\item 460\n",
       "\\item 470\n",
       "\\item 480\n",
       "\\item 490\n",
       "\\item 500\n",
       "\\end{enumerate*}\n"
      ],
      "text/markdown": [
       "1. 10\n",
       "2. 20\n",
       "3. 30\n",
       "4. 40\n",
       "5. 50\n",
       "6. 60\n",
       "7. 70\n",
       "8. 80\n",
       "9. 90\n",
       "10. 100\n",
       "11. 110\n",
       "12. 120\n",
       "13. 130\n",
       "14. 140\n",
       "15. 150\n",
       "16. 160\n",
       "17. 170\n",
       "18. 180\n",
       "19. 190\n",
       "20. 200\n",
       "21. 210\n",
       "22. 220\n",
       "23. 230\n",
       "24. 240\n",
       "25. 250\n",
       "26. 260\n",
       "27. 270\n",
       "28. 280\n",
       "29. 290\n",
       "30. 300\n",
       "31. 310\n",
       "32. 320\n",
       "33. 330\n",
       "34. 340\n",
       "35. 350\n",
       "36. 360\n",
       "37. 370\n",
       "38. 380\n",
       "39. 390\n",
       "40. 400\n",
       "41. 410\n",
       "42. 420\n",
       "43. 430\n",
       "44. 440\n",
       "45. 450\n",
       "46. 460\n",
       "47. 470\n",
       "48. 480\n",
       "49. 490\n",
       "50. 500\n",
       "\n",
       "\n"
      ],
      "text/plain": [
       " [1]  10  20  30  40  50  60  70  80  90 100 110 120 130 140 150 160 170 180 190\n",
       "[20] 200 210 220 230 240 250 260 270 280 290 300 310 320 330 340 350 360 370 380\n",
       "[39] 390 400 410 420 430 440 450 460 470 480 490 500"
      ]
     },
     "metadata": {},
     "output_type": "display_data"
    }
   ],
   "source": [
    "\n",
    "seq(10, 500, 10)"
   ]
  },
  {
   "cell_type": "code",
   "execution_count": 74,
   "metadata": {},
   "outputs": [],
   "source": [
    "n_trees = seq(10, 500, 10)\n",
    "params = data.frame(n_trees = n_trees,\n",
    "                    oob = rep(0, length(n_trees)))\n",
    "\n",
    "for (k in 1:nrow(params)) {\n",
    "    house_rfk <- ranger(\n",
    "      Sale_Price ~ ., \n",
    "      data = house_train,\n",
    "      num.trees = params[k, \"n_trees\"],\n",
    "      respect.unordered.factors = \"order\",\n",
    "      oob.error = TRUE,\n",
    "      seed = 123\n",
    "    )\n",
    "\n",
    "    # get OOB RMSE\n",
    "    params[k, \"oob\"]<- sqrt(house_rfk$prediction.error)\n",
    "    \n",
    "}\n"
   ]
  },
  {
   "cell_type": "code",
   "execution_count": 75,
   "metadata": {},
   "outputs": [
    {
     "data": {
      "image/png": "[encoded data removed]",
      "text/plain": [
       "plot without title"
      ]
     },
     "metadata": {
      "image/png": {
       "height": 600,
       "width": 900
      }
     },
     "output_type": "display_data"
    }
   ],
   "source": [
    "ggplot(params, aes(x=n_trees, y=oob)) +\n",
    "    geom_line()"
   ]
  },
  {
   "cell_type": "code",
   "execution_count": 76,
   "metadata": {},
   "outputs": [
    {
     "data": {
      "text/html": [
       "<table>\n",
       "<caption>A data.frame: 50 × 2</caption>\n",
       "<thead>\n",
       "\t<tr><th scope=col>n_trees</th><th scope=col>oob</th></tr>\n",
       "\t<tr><th scope=col>&lt;dbl&gt;</th><th scope=col>&lt;dbl&gt;</th></tr>\n",
       "</thead>\n",
       "<tbody>\n",
       "\t<tr><td> 10</td><td>32287.35</td></tr>\n",
       "\t<tr><td> 20</td><td>28839.75</td></tr>\n",
       "\t<tr><td> 30</td><td>27807.23</td></tr>\n",
       "\t<tr><td> 40</td><td>27054.25</td></tr>\n",
       "\t<tr><td> 50</td><td>26282.34</td></tr>\n",
       "\t<tr><td> 60</td><td>25974.94</td></tr>\n",
       "\t<tr><td> 70</td><td>25901.08</td></tr>\n",
       "\t<tr><td> 80</td><td>25792.85</td></tr>\n",
       "\t<tr><td> 90</td><td>25873.79</td></tr>\n",
       "\t<tr><td>100</td><td>25873.67</td></tr>\n",
       "\t<tr><td>110</td><td>25830.56</td></tr>\n",
       "\t<tr><td>120</td><td>25702.90</td></tr>\n",
       "\t<tr><td>130</td><td>25682.82</td></tr>\n",
       "\t<tr><td>140</td><td>25644.80</td></tr>\n",
       "\t<tr><td>150</td><td>25554.55</td></tr>\n",
       "\t<tr><td>160</td><td>25594.15</td></tr>\n",
       "\t<tr><td>170</td><td>25574.19</td></tr>\n",
       "\t<tr><td>180</td><td>25481.12</td></tr>\n",
       "\t<tr><td>190</td><td>25435.45</td></tr>\n",
       "\t<tr><td>200</td><td>25502.42</td></tr>\n",
       "\t<tr><td>210</td><td>25494.59</td></tr>\n",
       "\t<tr><td>220</td><td>25429.06</td></tr>\n",
       "\t<tr><td>230</td><td>25337.80</td></tr>\n",
       "\t<tr><td>240</td><td>25326.06</td></tr>\n",
       "\t<tr><td>250</td><td>25267.86</td></tr>\n",
       "\t<tr><td>260</td><td>25246.34</td></tr>\n",
       "\t<tr><td>270</td><td>25235.02</td></tr>\n",
       "\t<tr><td>280</td><td>25235.78</td></tr>\n",
       "\t<tr><td>290</td><td>25246.11</td></tr>\n",
       "\t<tr><td>300</td><td>25293.53</td></tr>\n",
       "\t<tr><td>310</td><td>25249.64</td></tr>\n",
       "\t<tr><td>320</td><td>25197.72</td></tr>\n",
       "\t<tr><td>330</td><td>25182.40</td></tr>\n",
       "\t<tr><td>340</td><td>25148.44</td></tr>\n",
       "\t<tr><td>350</td><td>25155.69</td></tr>\n",
       "\t<tr><td>360</td><td>25187.02</td></tr>\n",
       "\t<tr><td>370</td><td>25179.08</td></tr>\n",
       "\t<tr><td>380</td><td>25212.08</td></tr>\n",
       "\t<tr><td>390</td><td>25278.17</td></tr>\n",
       "\t<tr><td>400</td><td>25260.20</td></tr>\n",
       "\t<tr><td>410</td><td>25270.78</td></tr>\n",
       "\t<tr><td>420</td><td>25283.80</td></tr>\n",
       "\t<tr><td>430</td><td>25297.13</td></tr>\n",
       "\t<tr><td>440</td><td>25283.00</td></tr>\n",
       "\t<tr><td>450</td><td>25270.24</td></tr>\n",
       "\t<tr><td>460</td><td>25246.89</td></tr>\n",
       "\t<tr><td>470</td><td>25246.33</td></tr>\n",
       "\t<tr><td>480</td><td>25263.32</td></tr>\n",
       "\t<tr><td>490</td><td>25251.00</td></tr>\n",
       "\t<tr><td>500</td><td>25248.70</td></tr>\n",
       "</tbody>\n",
       "</table>\n"
      ],
      "text/latex": [
       "A data.frame: 50 × 2\n",
       "\\begin{tabular}{ll}\n",
       " n\\_trees & oob\\\\\n",
       " <dbl> & <dbl>\\\\\n",
       "\\hline\n",
       "\t  10 & 32287.35\\\\\n",
       "\t  20 & 28839.75\\\\\n",
       "\t  30 & 27807.23\\\\\n",
       "\t  40 & 27054.25\\\\\n",
       "\t  50 & 26282.34\\\\\n",
       "\t  60 & 25974.94\\\\\n",
       "\t  70 & 25901.08\\\\\n",
       "\t  80 & 25792.85\\\\\n",
       "\t  90 & 25873.79\\\\\n",
       "\t 100 & 25873.67\\\\\n",
       "\t 110 & 25830.56\\\\\n",
       "\t 120 & 25702.90\\\\\n",
       "\t 130 & 25682.82\\\\\n",
       "\t 140 & 25644.80\\\\\n",
       "\t 150 & 25554.55\\\\\n",
       "\t 160 & 25594.15\\\\\n",
       "\t 170 & 25574.19\\\\\n",
       "\t 180 & 25481.12\\\\\n",
       "\t 190 & 25435.45\\\\\n",
       "\t 200 & 25502.42\\\\\n",
       "\t 210 & 25494.59\\\\\n",
       "\t 220 & 25429.06\\\\\n",
       "\t 230 & 25337.80\\\\\n",
       "\t 240 & 25326.06\\\\\n",
       "\t 250 & 25267.86\\\\\n",
       "\t 260 & 25246.34\\\\\n",
       "\t 270 & 25235.02\\\\\n",
       "\t 280 & 25235.78\\\\\n",
       "\t 290 & 25246.11\\\\\n",
       "\t 300 & 25293.53\\\\\n",
       "\t 310 & 25249.64\\\\\n",
       "\t 320 & 25197.72\\\\\n",
       "\t 330 & 25182.40\\\\\n",
       "\t 340 & 25148.44\\\\\n",
       "\t 350 & 25155.69\\\\\n",
       "\t 360 & 25187.02\\\\\n",
       "\t 370 & 25179.08\\\\\n",
       "\t 380 & 25212.08\\\\\n",
       "\t 390 & 25278.17\\\\\n",
       "\t 400 & 25260.20\\\\\n",
       "\t 410 & 25270.78\\\\\n",
       "\t 420 & 25283.80\\\\\n",
       "\t 430 & 25297.13\\\\\n",
       "\t 440 & 25283.00\\\\\n",
       "\t 450 & 25270.24\\\\\n",
       "\t 460 & 25246.89\\\\\n",
       "\t 470 & 25246.33\\\\\n",
       "\t 480 & 25263.32\\\\\n",
       "\t 490 & 25251.00\\\\\n",
       "\t 500 & 25248.70\\\\\n",
       "\\end{tabular}\n"
      ],
      "text/markdown": [
       "\n",
       "A data.frame: 50 × 2\n",
       "\n",
       "| n_trees &lt;dbl&gt; | oob &lt;dbl&gt; |\n",
       "|---|---|\n",
       "|  10 | 32287.35 |\n",
       "|  20 | 28839.75 |\n",
       "|  30 | 27807.23 |\n",
       "|  40 | 27054.25 |\n",
       "|  50 | 26282.34 |\n",
       "|  60 | 25974.94 |\n",
       "|  70 | 25901.08 |\n",
       "|  80 | 25792.85 |\n",
       "|  90 | 25873.79 |\n",
       "| 100 | 25873.67 |\n",
       "| 110 | 25830.56 |\n",
       "| 120 | 25702.90 |\n",
       "| 130 | 25682.82 |\n",
       "| 140 | 25644.80 |\n",
       "| 150 | 25554.55 |\n",
       "| 160 | 25594.15 |\n",
       "| 170 | 25574.19 |\n",
       "| 180 | 25481.12 |\n",
       "| 190 | 25435.45 |\n",
       "| 200 | 25502.42 |\n",
       "| 210 | 25494.59 |\n",
       "| 220 | 25429.06 |\n",
       "| 230 | 25337.80 |\n",
       "| 240 | 25326.06 |\n",
       "| 250 | 25267.86 |\n",
       "| 260 | 25246.34 |\n",
       "| 270 | 25235.02 |\n",
       "| 280 | 25235.78 |\n",
       "| 290 | 25246.11 |\n",
       "| 300 | 25293.53 |\n",
       "| 310 | 25249.64 |\n",
       "| 320 | 25197.72 |\n",
       "| 330 | 25182.40 |\n",
       "| 340 | 25148.44 |\n",
       "| 350 | 25155.69 |\n",
       "| 360 | 25187.02 |\n",
       "| 370 | 25179.08 |\n",
       "| 380 | 25212.08 |\n",
       "| 390 | 25278.17 |\n",
       "| 400 | 25260.20 |\n",
       "| 410 | 25270.78 |\n",
       "| 420 | 25283.80 |\n",
       "| 430 | 25297.13 |\n",
       "| 440 | 25283.00 |\n",
       "| 450 | 25270.24 |\n",
       "| 460 | 25246.89 |\n",
       "| 470 | 25246.33 |\n",
       "| 480 | 25263.32 |\n",
       "| 490 | 25251.00 |\n",
       "| 500 | 25248.70 |\n",
       "\n"
      ],
      "text/plain": [
       "   n_trees oob     \n",
       "1   10     32287.35\n",
       "2   20     28839.75\n",
       "3   30     27807.23\n",
       "4   40     27054.25\n",
       "5   50     26282.34\n",
       "6   60     25974.94\n",
       "7   70     25901.08\n",
       "8   80     25792.85\n",
       "9   90     25873.79\n",
       "10 100     25873.67\n",
       "11 110     25830.56\n",
       "12 120     25702.90\n",
       "13 130     25682.82\n",
       "14 140     25644.80\n",
       "15 150     25554.55\n",
       "16 160     25594.15\n",
       "17 170     25574.19\n",
       "18 180     25481.12\n",
       "19 190     25435.45\n",
       "20 200     25502.42\n",
       "21 210     25494.59\n",
       "22 220     25429.06\n",
       "23 230     25337.80\n",
       "24 240     25326.06\n",
       "25 250     25267.86\n",
       "26 260     25246.34\n",
       "27 270     25235.02\n",
       "28 280     25235.78\n",
       "29 290     25246.11\n",
       "30 300     25293.53\n",
       "31 310     25249.64\n",
       "32 320     25197.72\n",
       "33 330     25182.40\n",
       "34 340     25148.44\n",
       "35 350     25155.69\n",
       "36 360     25187.02\n",
       "37 370     25179.08\n",
       "38 380     25212.08\n",
       "39 390     25278.17\n",
       "40 400     25260.20\n",
       "41 410     25270.78\n",
       "42 420     25283.80\n",
       "43 430     25297.13\n",
       "44 440     25283.00\n",
       "45 450     25270.24\n",
       "46 460     25246.89\n",
       "47 470     25246.33\n",
       "48 480     25263.32\n",
       "49 490     25251.00\n",
       "50 500     25248.70"
      ]
     },
     "metadata": {},
     "output_type": "display_data"
    }
   ],
   "source": [
    "params"
   ]
  },
  {
   "cell_type": "markdown",
   "metadata": {},
   "source": [
    "## Tuning\n",
    "A pesar de que RF tiene un buen resultado con los valores por defecto en OOB, hay un conjunto de hiper-parámetros que podemos controlar para llegar al mejor resultado para nuestro dataset.\n",
    "\n",
    "1. Número de árboles (estimadores)\n",
    "2. Número de features a considerar en cada split: mtry\n",
    "3. La complejidad de cada árbol\n",
    "4. La técnica de muestreo\n",
    "5. La regla de splitting en la fase de construcción del árbol\n",
    "\n",
    "* En general (2) tiene un alto impacto en el performance del modelo y debe ser ajustado\n",
    "* (3) y (4) suele tener una contribución marginal en el performance pero vale la pena explorarlo\n",
    "* (5) suele tener una contribución marginal en el performance pero puede afectar en la eficiencia computacional\n",
    "\n",
    "\n"
   ]
  },
  {
   "cell_type": "markdown",
   "metadata": {},
   "source": [
    "\n",
    "\n"
   ]
  },
  {
   "cell_type": "markdown",
   "metadata": {},
   "source": [
    "### Numero de arboles\n",
    "El numero de arboles tiene que ser lo suficientemente grande como para estabilizar la tasa de error. Modificando otro hiper-parámetros como mtry o node_size, el número de árboles podría variar para lograr estabilizar el error.\n",
    "\n",
    "Más árboles más estable pero también más costoso computacionalmente.\n",
    "\n",
    "\n",
    "\n",
    "### $ m_{try}$\n",
    "Controla el número de variables a considerar en cada split, si este número es igual al número de features entonces se logra el mismo resultado que bagging.\n",
    "* Más pequeño el número menos correlacionado estará los árboles pero también menos chance de obtener variables importantes a la hora de construir el árbol\n",
    "* Por defecto regresión = $\\frac{p}{3}$, clasificación = $\\sqrt{p}$\n",
    "* Si hay pocas variables relevantes entonces un valor alto de $m_{try}$ obtiene mejores resultados, al contrario si tenemos varias variables relevantes este número tiene a ser más pequeño.\n",
    "\n",
    "###  Tree complexity\n",
    "Son los hiper-parámetros propios de los árboles que nos permiten controlar la complejidad de estos.\n",
    "* tamaño del nodo (número de observaciones en las hojas)\n",
    "* max profundidad\n",
    "* el mínimo número de observaciones en un nodo para hacer un split\n",
    "\n",
    "Si el dataset es muy ruidoso, controlar la complejidad puede ayudar a mejorar la performance.\n",
    "\n",
    "### Técnica de muestreo\n",
    "Por defecto random forest use bootstrapping como técnica de muestreo, sin embargo podríamos no hacer esto y simplemente hacer un muestreo aleatorio y controlar el tamaño de la partición (train/val).\n",
    "* Disminuir el tamaño de la partición ayuda a tener árboles más diversos disminuyendo la correlación entre árboles.\n",
    "* Además si tiene features categóricas con un gran número de niveles y no son balanceadas bootstrapping podría sesgar los resultados y realizar un muestreo aleatorio podría ayudar a mejorar el resultado.\n",
    "\n",
    "### Split rule\n",
    "En el caso de clasificación el criterio para buscar la mejor feature/threshold es gini/entropy y para regresión SSE. Sin embargo hay otros posibles métodos \n",
    "* Conditional inference trees\n",
    "* Extremely randomized trees\n",
    "\n",
    "## Tuning strategies\n",
    "Con modelos mas complejos (flexibles) incremente el numero de posibles hiper-parametros a tener en cuenta, para ello se hace necesario tener una estrategia para no probar una por una las combinaciones de ellos.\n",
    "* Grid Search\n",
    "* Random Search\n",
    "\n",
    "Ahora vamos probar con Grid Search\n",
    "\n"
   ]
  },
  {
   "cell_type": "code",
   "execution_count": 77,
   "metadata": {},
   "outputs": [
    {
     "data": {
      "text/html": [
       "<table>\n",
       "<caption>A data.frame: 6 × 2</caption>\n",
       "<thead>\n",
       "\t<tr><th scope=col>num</th><th scope=col>cat</th></tr>\n",
       "\t<tr><th scope=col>&lt;dbl&gt;</th><th scope=col>&lt;fct&gt;</th></tr>\n",
       "</thead>\n",
       "<tbody>\n",
       "\t<tr><td>1</td><td>a</td></tr>\n",
       "\t<tr><td>2</td><td>a</td></tr>\n",
       "\t<tr><td>3</td><td>a</td></tr>\n",
       "\t<tr><td>1</td><td>b</td></tr>\n",
       "\t<tr><td>2</td><td>b</td></tr>\n",
       "\t<tr><td>3</td><td>b</td></tr>\n",
       "</tbody>\n",
       "</table>\n"
      ],
      "text/latex": [
       "A data.frame: 6 × 2\n",
       "\\begin{tabular}{ll}\n",
       " num & cat\\\\\n",
       " <dbl> & <fct>\\\\\n",
       "\\hline\n",
       "\t 1 & a\\\\\n",
       "\t 2 & a\\\\\n",
       "\t 3 & a\\\\\n",
       "\t 1 & b\\\\\n",
       "\t 2 & b\\\\\n",
       "\t 3 & b\\\\\n",
       "\\end{tabular}\n"
      ],
      "text/markdown": [
       "\n",
       "A data.frame: 6 × 2\n",
       "\n",
       "| num &lt;dbl&gt; | cat &lt;fct&gt; |\n",
       "|---|---|\n",
       "| 1 | a |\n",
       "| 2 | a |\n",
       "| 3 | a |\n",
       "| 1 | b |\n",
       "| 2 | b |\n",
       "| 3 | b |\n",
       "\n"
      ],
      "text/plain": [
       "  num cat\n",
       "1 1   a  \n",
       "2 2   a  \n",
       "3 3   a  \n",
       "4 1   b  \n",
       "5 2   b  \n",
       "6 3   b  "
      ]
     },
     "metadata": {},
     "output_type": "display_data"
    }
   ],
   "source": [
    "expand.grid(num=c(1,2,3), cat = c('a', 'b'))"
   ]
  },
  {
   "cell_type": "code",
   "execution_count": 78,
   "metadata": {},
   "outputs": [
    {
     "data": {
      "text/html": [
       "<table>\n",
       "<caption>A data.frame: 10 × 7</caption>\n",
       "<thead>\n",
       "\t<tr><th></th><th scope=col>mtry</th><th scope=col>n_trees</th><th scope=col>min.node.size</th><th scope=col>replace</th><th scope=col>sample.fraction</th><th scope=col>rmse</th><th scope=col>perc_gain</th></tr>\n",
       "\t<tr><th></th><th scope=col>&lt;dbl&gt;</th><th scope=col>&lt;dbl&gt;</th><th scope=col>&lt;dbl&gt;</th><th scope=col>&lt;lgl&gt;</th><th scope=col>&lt;dbl&gt;</th><th scope=col>&lt;dbl&gt;</th><th scope=col>&lt;dbl&gt;</th></tr>\n",
       "</thead>\n",
       "<tbody>\n",
       "\t<tr><th scope=row>1</th><td>32</td><td>2000</td><td>1</td><td>FALSE</td><td>0.8</td><td>23702.67</td><td>7.519989</td></tr>\n",
       "\t<tr><th scope=row>2</th><td>12</td><td>1000</td><td>1</td><td>FALSE</td><td>0.8</td><td>23712.69</td><td>7.480869</td></tr>\n",
       "\t<tr><th scope=row>3</th><td>32</td><td> 500</td><td>3</td><td>FALSE</td><td>0.8</td><td>23715.12</td><td>7.471387</td></tr>\n",
       "\t<tr><th scope=row>4</th><td>12</td><td>2000</td><td>1</td><td>FALSE</td><td>0.8</td><td>23724.21</td><td>7.435925</td></tr>\n",
       "\t<tr><th scope=row>5</th><td>26</td><td>2000</td><td>1</td><td>FALSE</td><td>0.8</td><td>23729.03</td><td>7.417138</td></tr>\n",
       "\t<tr><th scope=row>6</th><td>20</td><td>2000</td><td>1</td><td>FALSE</td><td>0.8</td><td>23733.08</td><td>7.401309</td></tr>\n",
       "\t<tr><th scope=row>7</th><td>32</td><td>2000</td><td>3</td><td>FALSE</td><td>0.8</td><td>23736.04</td><td>7.389756</td></tr>\n",
       "\t<tr><th scope=row>8</th><td>26</td><td>1000</td><td>1</td><td>FALSE</td><td>0.8</td><td>23771.90</td><td>7.249862</td></tr>\n",
       "\t<tr><th scope=row>9</th><td>12</td><td> 500</td><td>1</td><td>FALSE</td><td>0.8</td><td>23783.23</td><td>7.205671</td></tr>\n",
       "\t<tr><th scope=row>10</th><td>20</td><td>2000</td><td>3</td><td>FALSE</td><td>0.8</td><td>23796.11</td><td>7.155405</td></tr>\n",
       "</tbody>\n",
       "</table>\n"
      ],
      "text/latex": [
       "A data.frame: 10 × 7\n",
       "\\begin{tabular}{r|lllllll}\n",
       "  & mtry & n\\_trees & min.node.size & replace & sample.fraction & rmse & perc\\_gain\\\\\n",
       "  & <dbl> & <dbl> & <dbl> & <lgl> & <dbl> & <dbl> & <dbl>\\\\\n",
       "\\hline\n",
       "\t1 & 32 & 2000 & 1 & FALSE & 0.8 & 23702.67 & 7.519989\\\\\n",
       "\t2 & 12 & 1000 & 1 & FALSE & 0.8 & 23712.69 & 7.480869\\\\\n",
       "\t3 & 32 &  500 & 3 & FALSE & 0.8 & 23715.12 & 7.471387\\\\\n",
       "\t4 & 12 & 2000 & 1 & FALSE & 0.8 & 23724.21 & 7.435925\\\\\n",
       "\t5 & 26 & 2000 & 1 & FALSE & 0.8 & 23729.03 & 7.417138\\\\\n",
       "\t6 & 20 & 2000 & 1 & FALSE & 0.8 & 23733.08 & 7.401309\\\\\n",
       "\t7 & 32 & 2000 & 3 & FALSE & 0.8 & 23736.04 & 7.389756\\\\\n",
       "\t8 & 26 & 1000 & 1 & FALSE & 0.8 & 23771.90 & 7.249862\\\\\n",
       "\t9 & 12 &  500 & 1 & FALSE & 0.8 & 23783.23 & 7.205671\\\\\n",
       "\t10 & 20 & 2000 & 3 & FALSE & 0.8 & 23796.11 & 7.155405\\\\\n",
       "\\end{tabular}\n"
      ],
      "text/markdown": [
       "\n",
       "A data.frame: 10 × 7\n",
       "\n",
       "| <!--/--> | mtry &lt;dbl&gt; | n_trees &lt;dbl&gt; | min.node.size &lt;dbl&gt; | replace &lt;lgl&gt; | sample.fraction &lt;dbl&gt; | rmse &lt;dbl&gt; | perc_gain &lt;dbl&gt; |\n",
       "|---|---|---|---|---|---|---|---|\n",
       "| 1 | 32 | 2000 | 1 | FALSE | 0.8 | 23702.67 | 7.519989 |\n",
       "| 2 | 12 | 1000 | 1 | FALSE | 0.8 | 23712.69 | 7.480869 |\n",
       "| 3 | 32 |  500 | 3 | FALSE | 0.8 | 23715.12 | 7.471387 |\n",
       "| 4 | 12 | 2000 | 1 | FALSE | 0.8 | 23724.21 | 7.435925 |\n",
       "| 5 | 26 | 2000 | 1 | FALSE | 0.8 | 23729.03 | 7.417138 |\n",
       "| 6 | 20 | 2000 | 1 | FALSE | 0.8 | 23733.08 | 7.401309 |\n",
       "| 7 | 32 | 2000 | 3 | FALSE | 0.8 | 23736.04 | 7.389756 |\n",
       "| 8 | 26 | 1000 | 1 | FALSE | 0.8 | 23771.90 | 7.249862 |\n",
       "| 9 | 12 |  500 | 1 | FALSE | 0.8 | 23783.23 | 7.205671 |\n",
       "| 10 | 20 | 2000 | 3 | FALSE | 0.8 | 23796.11 | 7.155405 |\n",
       "\n"
      ],
      "text/plain": [
       "   mtry n_trees min.node.size replace sample.fraction rmse     perc_gain\n",
       "1  32   2000    1             FALSE   0.8             23702.67 7.519989 \n",
       "2  12   1000    1             FALSE   0.8             23712.69 7.480869 \n",
       "3  32    500    3             FALSE   0.8             23715.12 7.471387 \n",
       "4  12   2000    1             FALSE   0.8             23724.21 7.435925 \n",
       "5  26   2000    1             FALSE   0.8             23729.03 7.417138 \n",
       "6  20   2000    1             FALSE   0.8             23733.08 7.401309 \n",
       "7  32   2000    3             FALSE   0.8             23736.04 7.389756 \n",
       "8  26   1000    1             FALSE   0.8             23771.90 7.249862 \n",
       "9  12    500    1             FALSE   0.8             23783.23 7.205671 \n",
       "10 20   2000    3             FALSE   0.8             23796.11 7.155405 "
      ]
     },
     "metadata": {},
     "output_type": "display_data"
    }
   ],
   "source": [
    "# create hyperparameter grid\n",
    "hyper_grid <- expand.grid(\n",
    "  mtry = floor(n_features * c(.05, .15, .25, .333, .4)),\n",
    "  n_trees = c(200, 500, 1000, 2000),\n",
    "  min.node.size = c(1, 3, 5, 10), \n",
    "  replace = c(TRUE, FALSE),                               \n",
    "  sample.fraction = c(.5, .63, .8),                       \n",
    "  rmse = NA                                               \n",
    ")\n",
    "\n",
    "# execute full cartesian grid search\n",
    "for(i in seq_len(nrow(hyper_grid))) {\n",
    "  # fit model for ith hyperparameter combination\n",
    "  fit <- ranger(\n",
    "    formula         = Sale_Price ~ ., \n",
    "    data            = house_train, \n",
    "    num.trees       = hyper_grid$n_trees[i],\n",
    "    mtry            = hyper_grid$mtry[i],\n",
    "    min.node.size   = hyper_grid$min.node.size[i],\n",
    "    replace         = hyper_grid$replace[i],\n",
    "    sample.fraction = hyper_grid$sample.fraction[i],\n",
    "    verbose         = FALSE,\n",
    "    seed            = 123,\n",
    "    respect.unordered.factors = 'order',\n",
    "  )\n",
    "  # export OOB error \n",
    "  hyper_grid$rmse[i] <- sqrt(fit$prediction.error)\n",
    "}\n",
    "\n",
    "# assess top 10 models\n",
    "hyper_grid %>%\n",
    "  arrange(rmse) %>%\n",
    "  mutate(perc_gain = (default_rmse - rmse) / default_rmse * 100) %>%\n",
    "  head(10)"
   ]
  },
  {
   "cell_type": "markdown",
   "metadata": {},
   "source": [
    "## Feature interpretation\n",
    "* impurity-based\n",
    "* permutation-based\n"
   ]
  },
  {
   "cell_type": "code",
   "execution_count": 79,
   "metadata": {},
   "outputs": [],
   "source": [
    "n_trees = 200\n",
    "m_try = 32\n",
    "min_node_size = 1\n",
    "sample_fraction = .8\n",
    "replace = FALSE\n",
    "ord_factors = \"order\"\n",
    "\n",
    "# impurity-based variable importance\n",
    "rf_impurity <- ranger(\n",
    "  formula = Sale_Price ~ ., \n",
    "  data = house_train, \n",
    "  num.trees = n_trees,\n",
    "  mtry = m_try,\n",
    "  min.node.size = min_node_size,\n",
    "  sample.fraction = sample_fraction,\n",
    "  replace = replace,\n",
    "  importance = \"impurity\",\n",
    "  respect.unordered.factors = ord_factors,\n",
    "  verbose = FALSE,\n",
    "  seed  = 123\n",
    ")\n",
    "\n",
    "# permutation-based variable importance\n",
    "rf_permutation <- ranger(\n",
    "  formula = Sale_Price ~ ., \n",
    "  data = house_train, \n",
    "  num.trees = n_trees,\n",
    "  mtry = m_try,\n",
    "  min.node.size = min_node_size,\n",
    "  sample.fraction = sample_fraction,\n",
    "  replace = replace,\n",
    "  importance = \"permutation\",\n",
    "  respect.unordered.factors = ord_factors,\n",
    "  verbose = FALSE,\n",
    "  seed  = 123\n",
    ")"
   ]
  },
  {
   "cell_type": "markdown",
   "metadata": {},
   "source": [
    "En la gráfica de la importancia de las variables se puede notar algunas diferencias en el orden de las variables, pero en general las de más arriba y las de más abajo se mantiene más o menos constante. En este ejemplo se puede decir que al menos esta features son relevantes para el problema:\n",
    "\n",
    "* Overall_Qual\n",
    "* Gr_Liv_Area\n",
    "* Neighborhood"
   ]
  },
  {
   "cell_type": "code",
   "execution_count": 80,
   "metadata": {},
   "outputs": [
    {
     "data": {
      "image/png": "[encoded data removed]",
      "text/plain": [
       "plot without title"
      ]
     },
     "metadata": {
      "image/png": {
       "height": 600,
       "width": 900
      }
     },
     "output_type": "display_data"
    }
   ],
   "source": [
    "p1 <- vip::vip(rf_impurity, num_features = 25)\n",
    "p2 <- vip::vip(rf_permutation, num_features = 25 )\n",
    "\n",
    "gridExtra::grid.arrange(p1, p2, nrow = 1)"
   ]
  },
  {
   "cell_type": "markdown",
   "metadata": {},
   "source": [
    "# Challenge\n",
    "Usa el dataset de las propiedades a la venta en montevideo para predecir el valor de venta.\n",
    "\n",
    "Variable a predecir **price**"
   ]
  },
  {
   "cell_type": "code",
   "execution_count": 4,
   "metadata": {},
   "outputs": [],
   "source": [
    "prorperties_uri = 'https://raw.githubusercontent.com/creyesp/Meetup_uy/master/data/ready/properties.csv'"
   ]
  },
  {
   "cell_type": "code",
   "execution_count": 5,
   "metadata": {},
   "outputs": [],
   "source": [
    "df_raw <- read.csv(prorperties_uri)"
   ]
  },
  {
   "cell_type": "code",
   "execution_count": 6,
   "metadata": {},
   "outputs": [
    {
     "data": {
      "text/html": [
       "<table>\n",
       "<caption>A data.frame: 6 × 19</caption>\n",
       "<thead>\n",
       "\t<tr><th></th><th scope=col>year</th><th scope=col>bathrooms</th><th scope=col>bedrooms</th><th scope=col>garage</th><th scope=col>servide_fees</th><th scope=col>surface_balcony</th><th scope=col>surface_covered</th><th scope=col>floor_special</th><th scope=col>floor</th><th scope=col>price</th><th scope=col>facilities</th><th scope=col>near_river</th><th scope=col>m2_index</th><th scope=col>is_house</th><th scope=col>barbecue</th><th scope=col>decade</th><th scope=col>zone</th><th scope=col>orientation</th><th scope=col>state</th></tr>\n",
       "\t<tr><th></th><th scope=col>&lt;int&gt;</th><th scope=col>&lt;int&gt;</th><th scope=col>&lt;int&gt;</th><th scope=col>&lt;int&gt;</th><th scope=col>&lt;int&gt;</th><th scope=col>&lt;dbl&gt;</th><th scope=col>&lt;dbl&gt;</th><th scope=col>&lt;int&gt;</th><th scope=col>&lt;int&gt;</th><th scope=col>&lt;int&gt;</th><th scope=col>&lt;int&gt;</th><th scope=col>&lt;fct&gt;</th><th scope=col>&lt;dbl&gt;</th><th scope=col>&lt;int&gt;</th><th scope=col>&lt;fct&gt;</th><th scope=col>&lt;int&gt;</th><th scope=col>&lt;fct&gt;</th><th scope=col>&lt;fct&gt;</th><th scope=col>&lt;fct&gt;</th></tr>\n",
       "</thead>\n",
       "<tbody>\n",
       "\t<tr><th scope=row>1</th><td>2016</td><td>2</td><td>2</td><td>1</td><td>12500</td><td>13</td><td> 84</td><td>0</td><td>1</td><td> 325000</td><td>0</td><td>False</td><td>1</td><td>0</td><td>True </td><td>2010</td><td>carrasco      </td><td>F</td><td>FR</td></tr>\n",
       "\t<tr><th scope=row>2</th><td>1950</td><td>3</td><td>4</td><td>2</td><td>    0</td><td> 0</td><td>551</td><td>0</td><td>1</td><td>1100000</td><td>0</td><td>False</td><td>1</td><td>1</td><td>False</td><td>1950</td><td>carrasco norte</td><td> </td><td>GE</td></tr>\n",
       "\t<tr><th scope=row>3</th><td>1950</td><td>3</td><td>3</td><td>2</td><td>    0</td><td> 0</td><td>142</td><td>0</td><td>1</td><td> 440000</td><td>0</td><td>False</td><td>1</td><td>0</td><td>False</td><td>1950</td><td>carrasco      </td><td> </td><td>GE</td></tr>\n",
       "\t<tr><th scope=row>4</th><td>2000</td><td>3</td><td>4</td><td>2</td><td>38000</td><td> 0</td><td>290</td><td>0</td><td>3</td><td> 800000</td><td>0</td><td>False</td><td>1</td><td>0</td><td>True </td><td>2000</td><td>puerto buceo  </td><td>F</td><td>EE</td></tr>\n",
       "\t<tr><th scope=row>5</th><td>1950</td><td>3</td><td>3</td><td>2</td><td>31000</td><td> 0</td><td>270</td><td>0</td><td>1</td><td> 600000</td><td>0</td><td>False</td><td>1</td><td>0</td><td>False</td><td>1950</td><td>la caleta     </td><td> </td><td>GE</td></tr>\n",
       "\t<tr><th scope=row>6</th><td>1965</td><td>2</td><td>3</td><td>0</td><td> 7500</td><td> 0</td><td> 93</td><td>0</td><td>1</td><td>  98000</td><td>0</td><td>True </td><td>1</td><td>0</td><td>False</td><td>1960</td><td>centro        </td><td>F</td><td>GE</td></tr>\n",
       "</tbody>\n",
       "</table>\n"
      ],
      "text/latex": [
       "A data.frame: 6 × 19\n",
       "\\begin{tabular}{r|lllllllllllllllllll}\n",
       "  & year & bathrooms & bedrooms & garage & servide\\_fees & surface\\_balcony & surface\\_covered & floor\\_special & floor & price & facilities & near\\_river & m2\\_index & is\\_house & barbecue & decade & zone & orientation & state\\\\\n",
       "  & <int> & <int> & <int> & <int> & <int> & <dbl> & <dbl> & <int> & <int> & <int> & <int> & <fct> & <dbl> & <int> & <fct> & <int> & <fct> & <fct> & <fct>\\\\\n",
       "\\hline\n",
       "\t1 & 2016 & 2 & 2 & 1 & 12500 & 13 &  84 & 0 & 1 &  325000 & 0 & False & 1 & 0 & True  & 2010 & carrasco       & F & FR\\\\\n",
       "\t2 & 1950 & 3 & 4 & 2 &     0 &  0 & 551 & 0 & 1 & 1100000 & 0 & False & 1 & 1 & False & 1950 & carrasco norte &   & GE\\\\\n",
       "\t3 & 1950 & 3 & 3 & 2 &     0 &  0 & 142 & 0 & 1 &  440000 & 0 & False & 1 & 0 & False & 1950 & carrasco       &   & GE\\\\\n",
       "\t4 & 2000 & 3 & 4 & 2 & 38000 &  0 & 290 & 0 & 3 &  800000 & 0 & False & 1 & 0 & True  & 2000 & puerto buceo   & F & EE\\\\\n",
       "\t5 & 1950 & 3 & 3 & 2 & 31000 &  0 & 270 & 0 & 1 &  600000 & 0 & False & 1 & 0 & False & 1950 & la caleta      &   & GE\\\\\n",
       "\t6 & 1965 & 2 & 3 & 0 &  7500 &  0 &  93 & 0 & 1 &   98000 & 0 & True  & 1 & 0 & False & 1960 & centro         & F & GE\\\\\n",
       "\\end{tabular}\n"
      ],
      "text/markdown": [
       "\n",
       "A data.frame: 6 × 19\n",
       "\n",
       "| <!--/--> | year &lt;int&gt; | bathrooms &lt;int&gt; | bedrooms &lt;int&gt; | garage &lt;int&gt; | servide_fees &lt;int&gt; | surface_balcony &lt;dbl&gt; | surface_covered &lt;dbl&gt; | floor_special &lt;int&gt; | floor &lt;int&gt; | price &lt;int&gt; | facilities &lt;int&gt; | near_river &lt;fct&gt; | m2_index &lt;dbl&gt; | is_house &lt;int&gt; | barbecue &lt;fct&gt; | decade &lt;int&gt; | zone &lt;fct&gt; | orientation &lt;fct&gt; | state &lt;fct&gt; |\n",
       "|---|---|---|---|---|---|---|---|---|---|---|---|---|---|---|---|---|---|---|---|\n",
       "| 1 | 2016 | 2 | 2 | 1 | 12500 | 13 |  84 | 0 | 1 |  325000 | 0 | False | 1 | 0 | True  | 2010 | carrasco       | F | FR |\n",
       "| 2 | 1950 | 3 | 4 | 2 |     0 |  0 | 551 | 0 | 1 | 1100000 | 0 | False | 1 | 1 | False | 1950 | carrasco norte | <!----> | GE |\n",
       "| 3 | 1950 | 3 | 3 | 2 |     0 |  0 | 142 | 0 | 1 |  440000 | 0 | False | 1 | 0 | False | 1950 | carrasco       | <!----> | GE |\n",
       "| 4 | 2000 | 3 | 4 | 2 | 38000 |  0 | 290 | 0 | 3 |  800000 | 0 | False | 1 | 0 | True  | 2000 | puerto buceo   | F | EE |\n",
       "| 5 | 1950 | 3 | 3 | 2 | 31000 |  0 | 270 | 0 | 1 |  600000 | 0 | False | 1 | 0 | False | 1950 | la caleta      | <!----> | GE |\n",
       "| 6 | 1965 | 2 | 3 | 0 |  7500 |  0 |  93 | 0 | 1 |   98000 | 0 | True  | 1 | 0 | False | 1960 | centro         | F | GE |\n",
       "\n"
      ],
      "text/plain": [
       "  year bathrooms bedrooms garage servide_fees surface_balcony surface_covered\n",
       "1 2016 2         2        1      12500        13               84            \n",
       "2 1950 3         4        2          0         0              551            \n",
       "3 1950 3         3        2          0         0              142            \n",
       "4 2000 3         4        2      38000         0              290            \n",
       "5 1950 3         3        2      31000         0              270            \n",
       "6 1965 2         3        0       7500         0               93            \n",
       "  floor_special floor price   facilities near_river m2_index is_house barbecue\n",
       "1 0             1      325000 0          False      1        0        True    \n",
       "2 0             1     1100000 0          False      1        1        False   \n",
       "3 0             1      440000 0          False      1        0        False   \n",
       "4 0             3      800000 0          False      1        0        True    \n",
       "5 0             1      600000 0          False      1        0        False   \n",
       "6 0             1       98000 0          True       1        0        False   \n",
       "  decade zone           orientation state\n",
       "1 2010   carrasco       F           FR   \n",
       "2 1950   carrasco norte             GE   \n",
       "3 1950   carrasco                   GE   \n",
       "4 2000   puerto buceo   F           EE   \n",
       "5 1950   la caleta                  GE   \n",
       "6 1960   centro         F           GE   "
      ]
     },
     "metadata": {},
     "output_type": "display_data"
    }
   ],
   "source": [
    "head(df_raw)"
   ]
  },
  {
   "cell_type": "code",
   "execution_count": 7,
   "metadata": {},
   "outputs": [
    {
     "data": {
      "text/html": [
       "<table>\n",
       "<caption>A data.frame: 19 × 1</caption>\n",
       "<thead>\n",
       "\t<tr><th></th><th scope=col>missing</th></tr>\n",
       "\t<tr><th></th><th scope=col>&lt;int&gt;</th></tr>\n",
       "</thead>\n",
       "<tbody>\n",
       "\t<tr><th scope=row>year</th><td>0</td></tr>\n",
       "\t<tr><th scope=row>bathrooms</th><td>0</td></tr>\n",
       "\t<tr><th scope=row>bedrooms</th><td>0</td></tr>\n",
       "\t<tr><th scope=row>garage</th><td>0</td></tr>\n",
       "\t<tr><th scope=row>servide_fees</th><td>0</td></tr>\n",
       "\t<tr><th scope=row>surface_balcony</th><td>0</td></tr>\n",
       "\t<tr><th scope=row>surface_covered</th><td>0</td></tr>\n",
       "\t<tr><th scope=row>floor_special</th><td>0</td></tr>\n",
       "\t<tr><th scope=row>floor</th><td>0</td></tr>\n",
       "\t<tr><th scope=row>price</th><td>0</td></tr>\n",
       "\t<tr><th scope=row>facilities</th><td>0</td></tr>\n",
       "\t<tr><th scope=row>near_river</th><td>0</td></tr>\n",
       "\t<tr><th scope=row>m2_index</th><td>0</td></tr>\n",
       "\t<tr><th scope=row>is_house</th><td>0</td></tr>\n",
       "\t<tr><th scope=row>barbecue</th><td>0</td></tr>\n",
       "\t<tr><th scope=row>decade</th><td>0</td></tr>\n",
       "\t<tr><th scope=row>zone</th><td>0</td></tr>\n",
       "\t<tr><th scope=row>orientation</th><td>0</td></tr>\n",
       "\t<tr><th scope=row>state</th><td>0</td></tr>\n",
       "</tbody>\n",
       "</table>\n"
      ],
      "text/latex": [
       "A data.frame: 19 × 1\n",
       "\\begin{tabular}{r|l}\n",
       "  & missing\\\\\n",
       "  & <int>\\\\\n",
       "\\hline\n",
       "\tyear & 0\\\\\n",
       "\tbathrooms & 0\\\\\n",
       "\tbedrooms & 0\\\\\n",
       "\tgarage & 0\\\\\n",
       "\tservide\\_fees & 0\\\\\n",
       "\tsurface\\_balcony & 0\\\\\n",
       "\tsurface\\_covered & 0\\\\\n",
       "\tfloor\\_special & 0\\\\\n",
       "\tfloor & 0\\\\\n",
       "\tprice & 0\\\\\n",
       "\tfacilities & 0\\\\\n",
       "\tnear\\_river & 0\\\\\n",
       "\tm2\\_index & 0\\\\\n",
       "\tis\\_house & 0\\\\\n",
       "\tbarbecue & 0\\\\\n",
       "\tdecade & 0\\\\\n",
       "\tzone & 0\\\\\n",
       "\torientation & 0\\\\\n",
       "\tstate & 0\\\\\n",
       "\\end{tabular}\n"
      ],
      "text/markdown": [
       "\n",
       "A data.frame: 19 × 1\n",
       "\n",
       "| <!--/--> | missing &lt;int&gt; |\n",
       "|---|---|\n",
       "| year | 0 |\n",
       "| bathrooms | 0 |\n",
       "| bedrooms | 0 |\n",
       "| garage | 0 |\n",
       "| servide_fees | 0 |\n",
       "| surface_balcony | 0 |\n",
       "| surface_covered | 0 |\n",
       "| floor_special | 0 |\n",
       "| floor | 0 |\n",
       "| price | 0 |\n",
       "| facilities | 0 |\n",
       "| near_river | 0 |\n",
       "| m2_index | 0 |\n",
       "| is_house | 0 |\n",
       "| barbecue | 0 |\n",
       "| decade | 0 |\n",
       "| zone | 0 |\n",
       "| orientation | 0 |\n",
       "| state | 0 |\n",
       "\n"
      ],
      "text/plain": [
       "                missing\n",
       "year            0      \n",
       "bathrooms       0      \n",
       "bedrooms        0      \n",
       "garage          0      \n",
       "servide_fees    0      \n",
       "surface_balcony 0      \n",
       "surface_covered 0      \n",
       "floor_special   0      \n",
       "floor           0      \n",
       "price           0      \n",
       "facilities      0      \n",
       "near_river      0      \n",
       "m2_index        0      \n",
       "is_house        0      \n",
       "barbecue        0      \n",
       "decade          0      \n",
       "zone            0      \n",
       "orientation     0      \n",
       "state           0      "
      ]
     },
     "metadata": {},
     "output_type": "display_data"
    }
   ],
   "source": [
    "data.frame(missing = sapply(df_raw, function (x) {sum(is.na(x))}))"
   ]
  },
  {
   "cell_type": "code",
   "execution_count": 8,
   "metadata": {},
   "outputs": [
    {
     "data": {
      "text/html": [
       "<table>\n",
       "<caption>A data.frame: 6 × 18</caption>\n",
       "<thead>\n",
       "\t<tr><th></th><th scope=col>bathrooms</th><th scope=col>bedrooms</th><th scope=col>garage</th><th scope=col>servide_fees</th><th scope=col>surface_balcony</th><th scope=col>surface_covered</th><th scope=col>floor_special</th><th scope=col>floor</th><th scope=col>price</th><th scope=col>facilities</th><th scope=col>near_river</th><th scope=col>m2_index</th><th scope=col>is_house</th><th scope=col>barbecue</th><th scope=col>decade</th><th scope=col>zone</th><th scope=col>orientation</th><th scope=col>state</th></tr>\n",
       "\t<tr><th></th><th scope=col>&lt;int&gt;</th><th scope=col>&lt;int&gt;</th><th scope=col>&lt;int&gt;</th><th scope=col>&lt;int&gt;</th><th scope=col>&lt;dbl&gt;</th><th scope=col>&lt;dbl&gt;</th><th scope=col>&lt;int&gt;</th><th scope=col>&lt;int&gt;</th><th scope=col>&lt;int&gt;</th><th scope=col>&lt;int&gt;</th><th scope=col>&lt;fct&gt;</th><th scope=col>&lt;dbl&gt;</th><th scope=col>&lt;int&gt;</th><th scope=col>&lt;fct&gt;</th><th scope=col>&lt;int&gt;</th><th scope=col>&lt;fct&gt;</th><th scope=col>&lt;fct&gt;</th><th scope=col>&lt;fct&gt;</th></tr>\n",
       "</thead>\n",
       "<tbody>\n",
       "\t<tr><th scope=row>1</th><td>2</td><td>2</td><td>1</td><td>12500</td><td>13</td><td> 84</td><td>0</td><td>1</td><td> 325000</td><td>0</td><td>False</td><td>1</td><td>0</td><td>True </td><td>2010</td><td>carrasco      </td><td>F</td><td>FR</td></tr>\n",
       "\t<tr><th scope=row>2</th><td>3</td><td>4</td><td>2</td><td>    0</td><td> 0</td><td>551</td><td>0</td><td>1</td><td>1100000</td><td>0</td><td>False</td><td>1</td><td>1</td><td>False</td><td>1950</td><td>carrasco norte</td><td> </td><td>GE</td></tr>\n",
       "\t<tr><th scope=row>3</th><td>3</td><td>3</td><td>2</td><td>    0</td><td> 0</td><td>142</td><td>0</td><td>1</td><td> 440000</td><td>0</td><td>False</td><td>1</td><td>0</td><td>False</td><td>1950</td><td>carrasco      </td><td> </td><td>GE</td></tr>\n",
       "\t<tr><th scope=row>4</th><td>3</td><td>4</td><td>2</td><td>38000</td><td> 0</td><td>290</td><td>0</td><td>3</td><td> 800000</td><td>0</td><td>False</td><td>1</td><td>0</td><td>True </td><td>2000</td><td>puerto buceo  </td><td>F</td><td>EE</td></tr>\n",
       "\t<tr><th scope=row>5</th><td>3</td><td>3</td><td>2</td><td>31000</td><td> 0</td><td>270</td><td>0</td><td>1</td><td> 600000</td><td>0</td><td>False</td><td>1</td><td>0</td><td>False</td><td>1950</td><td>la caleta     </td><td> </td><td>GE</td></tr>\n",
       "\t<tr><th scope=row>6</th><td>2</td><td>3</td><td>0</td><td> 7500</td><td> 0</td><td> 93</td><td>0</td><td>1</td><td>  98000</td><td>0</td><td>True </td><td>1</td><td>0</td><td>False</td><td>1960</td><td>centro        </td><td>F</td><td>GE</td></tr>\n",
       "</tbody>\n",
       "</table>\n"
      ],
      "text/latex": [
       "A data.frame: 6 × 18\n",
       "\\begin{tabular}{r|llllllllllllllllll}\n",
       "  & bathrooms & bedrooms & garage & servide\\_fees & surface\\_balcony & surface\\_covered & floor\\_special & floor & price & facilities & near\\_river & m2\\_index & is\\_house & barbecue & decade & zone & orientation & state\\\\\n",
       "  & <int> & <int> & <int> & <int> & <dbl> & <dbl> & <int> & <int> & <int> & <int> & <fct> & <dbl> & <int> & <fct> & <int> & <fct> & <fct> & <fct>\\\\\n",
       "\\hline\n",
       "\t1 & 2 & 2 & 1 & 12500 & 13 &  84 & 0 & 1 &  325000 & 0 & False & 1 & 0 & True  & 2010 & carrasco       & F & FR\\\\\n",
       "\t2 & 3 & 4 & 2 &     0 &  0 & 551 & 0 & 1 & 1100000 & 0 & False & 1 & 1 & False & 1950 & carrasco norte &   & GE\\\\\n",
       "\t3 & 3 & 3 & 2 &     0 &  0 & 142 & 0 & 1 &  440000 & 0 & False & 1 & 0 & False & 1950 & carrasco       &   & GE\\\\\n",
       "\t4 & 3 & 4 & 2 & 38000 &  0 & 290 & 0 & 3 &  800000 & 0 & False & 1 & 0 & True  & 2000 & puerto buceo   & F & EE\\\\\n",
       "\t5 & 3 & 3 & 2 & 31000 &  0 & 270 & 0 & 1 &  600000 & 0 & False & 1 & 0 & False & 1950 & la caleta      &   & GE\\\\\n",
       "\t6 & 2 & 3 & 0 &  7500 &  0 &  93 & 0 & 1 &   98000 & 0 & True  & 1 & 0 & False & 1960 & centro         & F & GE\\\\\n",
       "\\end{tabular}\n"
      ],
      "text/markdown": [
       "\n",
       "A data.frame: 6 × 18\n",
       "\n",
       "| <!--/--> | bathrooms &lt;int&gt; | bedrooms &lt;int&gt; | garage &lt;int&gt; | servide_fees &lt;int&gt; | surface_balcony &lt;dbl&gt; | surface_covered &lt;dbl&gt; | floor_special &lt;int&gt; | floor &lt;int&gt; | price &lt;int&gt; | facilities &lt;int&gt; | near_river &lt;fct&gt; | m2_index &lt;dbl&gt; | is_house &lt;int&gt; | barbecue &lt;fct&gt; | decade &lt;int&gt; | zone &lt;fct&gt; | orientation &lt;fct&gt; | state &lt;fct&gt; |\n",
       "|---|---|---|---|---|---|---|---|---|---|---|---|---|---|---|---|---|---|---|\n",
       "| 1 | 2 | 2 | 1 | 12500 | 13 |  84 | 0 | 1 |  325000 | 0 | False | 1 | 0 | True  | 2010 | carrasco       | F | FR |\n",
       "| 2 | 3 | 4 | 2 |     0 |  0 | 551 | 0 | 1 | 1100000 | 0 | False | 1 | 1 | False | 1950 | carrasco norte | <!----> | GE |\n",
       "| 3 | 3 | 3 | 2 |     0 |  0 | 142 | 0 | 1 |  440000 | 0 | False | 1 | 0 | False | 1950 | carrasco       | <!----> | GE |\n",
       "| 4 | 3 | 4 | 2 | 38000 |  0 | 290 | 0 | 3 |  800000 | 0 | False | 1 | 0 | True  | 2000 | puerto buceo   | F | EE |\n",
       "| 5 | 3 | 3 | 2 | 31000 |  0 | 270 | 0 | 1 |  600000 | 0 | False | 1 | 0 | False | 1950 | la caleta      | <!----> | GE |\n",
       "| 6 | 2 | 3 | 0 |  7500 |  0 |  93 | 0 | 1 |   98000 | 0 | True  | 1 | 0 | False | 1960 | centro         | F | GE |\n",
       "\n"
      ],
      "text/plain": [
       "  bathrooms bedrooms garage servide_fees surface_balcony surface_covered\n",
       "1 2         2        1      12500        13               84            \n",
       "2 3         4        2          0         0              551            \n",
       "3 3         3        2          0         0              142            \n",
       "4 3         4        2      38000         0              290            \n",
       "5 3         3        2      31000         0              270            \n",
       "6 2         3        0       7500         0               93            \n",
       "  floor_special floor price   facilities near_river m2_index is_house barbecue\n",
       "1 0             1      325000 0          False      1        0        True    \n",
       "2 0             1     1100000 0          False      1        1        False   \n",
       "3 0             1      440000 0          False      1        0        False   \n",
       "4 0             3      800000 0          False      1        0        True    \n",
       "5 0             1      600000 0          False      1        0        False   \n",
       "6 0             1       98000 0          True       1        0        False   \n",
       "  decade zone           orientation state\n",
       "1 2010   carrasco       F           FR   \n",
       "2 1950   carrasco norte             GE   \n",
       "3 1950   carrasco                   GE   \n",
       "4 2000   puerto buceo   F           EE   \n",
       "5 1950   la caleta                  GE   \n",
       "6 1960   centro         F           GE   "
      ]
     },
     "metadata": {},
     "output_type": "display_data"
    }
   ],
   "source": [
    "df <- df_raw %>% \n",
    "    select(-all_of('year'))\n",
    "\n",
    "head(df)"
   ]
  },
  {
   "cell_type": "code",
   "execution_count": 9,
   "metadata": {},
   "outputs": [],
   "source": [
    "set.seed(123)\n",
    "index_train_df <- createDataPartition(df$price, p = 0.8, \n",
    "                               list = FALSE, )\n",
    "index_train_df  <- as.vector(index_train_df)\n",
    "\n",
    "df_train <- df[index_train_df, ]\n",
    "df_test  <- df[-index_train_df, ]"
   ]
  },
  {
   "cell_type": "markdown",
   "metadata": {},
   "source": [
    "## Modeling"
   ]
  },
  {
   "cell_type": "code",
   "execution_count": 10,
   "metadata": {},
   "outputs": [
    {
     "data": {
      "image/png": "[encoded data removed]",
      "text/plain": [
       "plot without title"
      ]
     },
     "metadata": {
      "image/png": {
       "height": 600,
       "width": 900
      }
     },
     "output_type": "display_data"
    }
   ],
   "source": [
    "mvd_rf <- ranger(\n",
    "  price ~ ., \n",
    "  data = df_train,\n",
    "  num.trees = 100,\n",
    "  #mtry = floor(79 / 3),\n",
    "  #min.node.size = 5,\n",
    "  #max.depth = 0,\n",
    "  #replace=TRUE,\n",
    "  #respect.unordered.factors = \"order\",\n",
    "  oob.error = TRUE,\n",
    "  seed = 123\n",
    ")\n",
    "\n",
    "# get OOB RMSE\n",
    "result = data.frame(pred = predict(mvd_rf, df_train)$predictions,\n",
    "                    obs = df_train$price) \n",
    "ggplot(result, aes(x=obs, y=pred)) + \n",
    "    geom_point() + \n",
    "    xlim(0, 2e6)\n"
   ]
  },
  {
   "cell_type": "markdown",
   "metadata": {},
   "source": [
    "## Testing"
   ]
  },
  {
   "cell_type": "code",
   "execution_count": 11,
   "metadata": {},
   "outputs": [
    {
     "data": {
      "text/html": [
       "<style>\n",
       ".list-inline {list-style: none; margin:0; padding: 0}\n",
       ".list-inline>li {display: inline-block}\n",
       ".list-inline>li:not(:last-child)::after {content: \"\\00b7\"; padding: 0 .5ex}\n",
       "</style>\n",
       "<ol class=list-inline><li>'bathrooms'</li><li>'bedrooms'</li><li>'garage'</li><li>'servide_fees'</li><li>'surface_balcony'</li><li>'surface_covered'</li><li>'floor_special'</li><li>'floor'</li><li>'price'</li><li>'facilities'</li><li>'near_river'</li><li>'m2_index'</li><li>'is_house'</li><li>'barbecue'</li><li>'decade'</li><li>'zone'</li><li>'orientation'</li><li>'state'</li></ol>\n"
      ],
      "text/latex": [
       "\\begin{enumerate*}\n",
       "\\item 'bathrooms'\n",
       "\\item 'bedrooms'\n",
       "\\item 'garage'\n",
       "\\item 'servide\\_fees'\n",
       "\\item 'surface\\_balcony'\n",
       "\\item 'surface\\_covered'\n",
       "\\item 'floor\\_special'\n",
       "\\item 'floor'\n",
       "\\item 'price'\n",
       "\\item 'facilities'\n",
       "\\item 'near\\_river'\n",
       "\\item 'm2\\_index'\n",
       "\\item 'is\\_house'\n",
       "\\item 'barbecue'\n",
       "\\item 'decade'\n",
       "\\item 'zone'\n",
       "\\item 'orientation'\n",
       "\\item 'state'\n",
       "\\end{enumerate*}\n"
      ],
      "text/markdown": [
       "1. 'bathrooms'\n",
       "2. 'bedrooms'\n",
       "3. 'garage'\n",
       "4. 'servide_fees'\n",
       "5. 'surface_balcony'\n",
       "6. 'surface_covered'\n",
       "7. 'floor_special'\n",
       "8. 'floor'\n",
       "9. 'price'\n",
       "10. 'facilities'\n",
       "11. 'near_river'\n",
       "12. 'm2_index'\n",
       "13. 'is_house'\n",
       "14. 'barbecue'\n",
       "15. 'decade'\n",
       "16. 'zone'\n",
       "17. 'orientation'\n",
       "18. 'state'\n",
       "\n",
       "\n"
      ],
      "text/plain": [
       " [1] \"bathrooms\"       \"bedrooms\"        \"garage\"          \"servide_fees\"   \n",
       " [5] \"surface_balcony\" \"surface_covered\" \"floor_special\"   \"floor\"          \n",
       " [9] \"price\"           \"facilities\"      \"near_river\"      \"m2_index\"       \n",
       "[13] \"is_house\"        \"barbecue\"        \"decade\"          \"zone\"           \n",
       "[17] \"orientation\"     \"state\"          "
      ]
     },
     "metadata": {},
     "output_type": "display_data"
    }
   ],
   "source": [
    "names(df_train)"
   ]
  },
  {
   "cell_type": "code",
   "execution_count": 15,
   "metadata": {},
   "outputs": [
    {
     "data": {
      "text/html": [
       "164947"
      ],
      "text/latex": [
       "164947"
      ],
      "text/markdown": [
       "164947"
      ],
      "text/plain": [
       "[1] 164947"
      ]
     },
     "metadata": {},
     "output_type": "display_data"
    }
   ],
   "source": [
    "test1 <- data.frame(\n",
    "    bathrooms=2,\n",
    "    bedrooms=1,\n",
    "    garage=0,\n",
    "    servide_fees=2000,\n",
    "    surface_balcony=10,\n",
    "    surface_covered=80,\n",
    "    floor_special=0,\n",
    "    floor=1,\n",
    "    #price=0,\n",
    "    facilities=FALSE,\n",
    "    near_river=TRUE,\n",
    "    m2_index=1,\n",
    "    is_house=0,\n",
    "    barbecue=1,\n",
    "    decade=2000,\n",
    "    zone='pocitos',\n",
    "    orientation='F',\n",
    "    state='EE'\n",
    ")\n",
    "round(predict(mvd_rf, test1)$predictions)"
   ]
  },
  {
   "cell_type": "code",
   "execution_count": 16,
   "metadata": {},
   "outputs": [
    {
     "data": {
      "text/html": [
       "332038"
      ],
      "text/latex": [
       "332038"
      ],
      "text/markdown": [
       "332038"
      ],
      "text/plain": [
       "[1] 332038"
      ]
     },
     "metadata": {},
     "output_type": "display_data"
    }
   ],
   "source": [
    "test1 <- data.frame(\n",
    "    bathrooms=3,\n",
    "    bedrooms=1,\n",
    "    garage=0,\n",
    "    servide_fees=2000,\n",
    "    surface_balcony=10,\n",
    "    surface_covered=80,\n",
    "    floor_special=0,\n",
    "    floor=1,\n",
    "    #price=0,\n",
    "    facilities=FALSE,\n",
    "    near_river=TRUE,\n",
    "    m2_index=1,\n",
    "    is_house=0,\n",
    "    barbecue=1,\n",
    "    decade=2000,\n",
    "    zone='pocitos',\n",
    "    orientation='F',\n",
    "    state='EE'\n",
    ")\n",
    "round(predict(mvd_rf, test1)$predictions)"
   ]
  },
  {
   "cell_type": "code",
   "execution_count": 17,
   "metadata": {},
   "outputs": [
    {
     "data": {
      "text/html": [
       "332038"
      ],
      "text/latex": [
       "332038"
      ],
      "text/markdown": [
       "332038"
      ],
      "text/plain": [
       "[1] 332038"
      ]
     },
     "metadata": {},
     "output_type": "display_data"
    }
   ],
   "source": [
    "test1 <- data.frame(\n",
    "    bathrooms=4,\n",
    "    bedrooms=1,\n",
    "    garage=0,\n",
    "    servide_fees=2000,\n",
    "    surface_balcony=10,\n",
    "    surface_covered=80,\n",
    "    floor_special=0,\n",
    "    floor=1,\n",
    "    #price=0,\n",
    "    facilities=FALSE,\n",
    "    near_river=TRUE,\n",
    "    m2_index=1,\n",
    "    is_house=0,\n",
    "    barbecue=1,\n",
    "    decade=2000,\n",
    "    zone='pocitos',\n",
    "    orientation='F',\n",
    "    state='EE'\n",
    ")\n",
    "round(predict(mvd_rf, test1)$predictions)"
   ]
  },
  {
   "cell_type": "code",
   "execution_count": 18,
   "metadata": {},
   "outputs": [
    {
     "data": {
      "text/html": [
       "332038"
      ],
      "text/latex": [
       "332038"
      ],
      "text/markdown": [
       "332038"
      ],
      "text/plain": [
       "[1] 332038"
      ]
     },
     "metadata": {},
     "output_type": "display_data"
    }
   ],
   "source": [
    "test1 <- data.frame(\n",
    "    bathrooms=5,\n",
    "    bedrooms=1,\n",
    "    garage=0,\n",
    "    servide_fees=2000,\n",
    "    surface_balcony=10,\n",
    "    surface_covered=80,\n",
    "    floor_special=0,\n",
    "    floor=1,\n",
    "    #price=0,\n",
    "    facilities=FALSE,\n",
    "    near_river=TRUE,\n",
    "    m2_index=1,\n",
    "    is_house=0,\n",
    "    barbecue=1,\n",
    "    decade=2000,\n",
    "    zone='pocitos',\n",
    "    orientation='F',\n",
    "    state='EE'\n",
    ")\n",
    "round(predict(mvd_rf, test1)$predictions)"
   ]
  },
  {
   "cell_type": "code",
   "execution_count": 13,
   "metadata": {},
   "outputs": [
    {
     "data": {
      "text/html": [
       "<table>\n",
       "<caption>A data.frame: 1 × 17</caption>\n",
       "<thead>\n",
       "\t<tr><th scope=col>bathrooms</th><th scope=col>bedrooms</th><th scope=col>garage</th><th scope=col>servide_fees</th><th scope=col>surface_balcony</th><th scope=col>surface_covered</th><th scope=col>floor_special</th><th scope=col>floor</th><th scope=col>facilities</th><th scope=col>near_river</th><th scope=col>m2_index</th><th scope=col>is_house</th><th scope=col>barbecue</th><th scope=col>decade</th><th scope=col>zone</th><th scope=col>orientation</th><th scope=col>state</th></tr>\n",
       "\t<tr><th scope=col>&lt;dbl&gt;</th><th scope=col>&lt;dbl&gt;</th><th scope=col>&lt;dbl&gt;</th><th scope=col>&lt;dbl&gt;</th><th scope=col>&lt;dbl&gt;</th><th scope=col>&lt;dbl&gt;</th><th scope=col>&lt;dbl&gt;</th><th scope=col>&lt;dbl&gt;</th><th scope=col>&lt;lgl&gt;</th><th scope=col>&lt;lgl&gt;</th><th scope=col>&lt;dbl&gt;</th><th scope=col>&lt;dbl&gt;</th><th scope=col>&lt;dbl&gt;</th><th scope=col>&lt;dbl&gt;</th><th scope=col>&lt;fct&gt;</th><th scope=col>&lt;fct&gt;</th><th scope=col>&lt;fct&gt;</th></tr>\n",
       "</thead>\n",
       "<tbody>\n",
       "\t<tr><td>2</td><td>1</td><td>0</td><td>2000</td><td>10</td><td>200</td><td>0</td><td>1</td><td>FALSE</td><td>TRUE</td><td>1</td><td>0</td><td>1</td><td>2000</td><td>pocitos</td><td>F</td><td>EE</td></tr>\n",
       "</tbody>\n",
       "</table>\n"
      ],
      "text/latex": [
       "A data.frame: 1 × 17\n",
       "\\begin{tabular}{lllllllllllllllll}\n",
       " bathrooms & bedrooms & garage & servide\\_fees & surface\\_balcony & surface\\_covered & floor\\_special & floor & facilities & near\\_river & m2\\_index & is\\_house & barbecue & decade & zone & orientation & state\\\\\n",
       " <dbl> & <dbl> & <dbl> & <dbl> & <dbl> & <dbl> & <dbl> & <dbl> & <lgl> & <lgl> & <dbl> & <dbl> & <dbl> & <dbl> & <fct> & <fct> & <fct>\\\\\n",
       "\\hline\n",
       "\t 2 & 1 & 0 & 2000 & 10 & 200 & 0 & 1 & FALSE & TRUE & 1 & 0 & 1 & 2000 & pocitos & F & EE\\\\\n",
       "\\end{tabular}\n"
      ],
      "text/markdown": [
       "\n",
       "A data.frame: 1 × 17\n",
       "\n",
       "| bathrooms &lt;dbl&gt; | bedrooms &lt;dbl&gt; | garage &lt;dbl&gt; | servide_fees &lt;dbl&gt; | surface_balcony &lt;dbl&gt; | surface_covered &lt;dbl&gt; | floor_special &lt;dbl&gt; | floor &lt;dbl&gt; | facilities &lt;lgl&gt; | near_river &lt;lgl&gt; | m2_index &lt;dbl&gt; | is_house &lt;dbl&gt; | barbecue &lt;dbl&gt; | decade &lt;dbl&gt; | zone &lt;fct&gt; | orientation &lt;fct&gt; | state &lt;fct&gt; |\n",
       "|---|---|---|---|---|---|---|---|---|---|---|---|---|---|---|---|---|\n",
       "| 2 | 1 | 0 | 2000 | 10 | 200 | 0 | 1 | FALSE | TRUE | 1 | 0 | 1 | 2000 | pocitos | F | EE |\n",
       "\n"
      ],
      "text/plain": [
       "  bathrooms bedrooms garage servide_fees surface_balcony surface_covered\n",
       "1 2         1        0      2000         10              200            \n",
       "  floor_special floor facilities near_river m2_index is_house barbecue decade\n",
       "1 0             1     FALSE      TRUE       1        0        1        2000  \n",
       "  zone    orientation state\n",
       "1 pocitos F           EE   "
      ]
     },
     "metadata": {},
     "output_type": "display_data"
    }
   ],
   "source": [
    "test1"
   ]
  }
 ],
 "metadata": {
  "kernelspec": {
   "display_name": "R",
   "language": "R",
   "name": "ir"
  },
  "language_info": {
   "codemirror_mode": "r",
   "file_extension": ".r",
   "mimetype": "text/x-r-source",
   "name": "R",
   "pygments_lexer": "r",
   "version": "3.6.3"
  },
  "toc": {
   "base_numbering": 1,
   "nav_menu": {},
   "number_sections": true,
   "sideBar": true,
   "skip_h1_title": false,
   "title_cell": "Table of Contents",
   "title_sidebar": "Contents",
   "toc_cell": false,
   "toc_position": {},
   "toc_section_display": true,
   "toc_window_display": true
  },
  "varInspector": {
   "cols": {
    "lenName": 16,
    "lenType": 16,
    "lenVar": 40
   },
   "kernels_config": {
    "python": {
     "delete_cmd_postfix": "",
     "delete_cmd_prefix": "del ",
     "library": "var_list.py",
     "varRefreshCmd": "print(var_dic_list())"
    },
    "r": {
     "delete_cmd_postfix": ") ",
     "delete_cmd_prefix": "rm(",
     "library": "var_list.r",
     "varRefreshCmd": "cat(var_dic_list()) "
    }
   },
   "types_to_exclude": [
    "module",
    "function",
    "builtin_function_or_method",
    "instance",
    "_Feature"
   ],
   "window_display": false
  }
 },
 "nbformat": 4,
 "nbformat_minor": 4
}
