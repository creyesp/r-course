{
 "cells": [
  {
   "cell_type": "code",
   "execution_count": 1,
   "metadata": {},
   "outputs": [],
   "source": [
    "options(repr.plot.width  = 15, repr.plot.height = 10)"
   ]
  },
  {
   "cell_type": "markdown",
   "metadata": {},
   "source": [
    "# Libraries"
   ]
  },
  {
   "cell_type": "code",
   "execution_count": 2,
   "metadata": {},
   "outputs": [
    {
     "name": "stderr",
     "output_type": "stream",
     "text": [
      "\n",
      "Attaching package: ‘dplyr’\n",
      "\n",
      "\n",
      "The following objects are masked from ‘package:stats’:\n",
      "\n",
      "    filter, lag\n",
      "\n",
      "\n",
      "The following objects are masked from ‘package:base’:\n",
      "\n",
      "    intersect, setdiff, setequal, union\n",
      "\n",
      "\n",
      "Loading required package: foreach\n",
      "\n",
      "Loading required package: iterators\n",
      "\n",
      "Loading required package: parallel\n",
      "\n",
      "Loading required package: lattice\n",
      "\n",
      "\n",
      "Attaching package: ‘recipes’\n",
      "\n",
      "\n",
      "The following object is masked from ‘package:stats’:\n",
      "\n",
      "    step\n",
      "\n",
      "\n"
     ]
    }
   ],
   "source": [
    "# Helper packages\n",
    "library(dplyr)       # for data wrangling\n",
    "library(ggplot2)     # for awesome plotting\n",
    "library(doParallel)  # for parallel backend to foreach\n",
    "library(foreach)     # for parallel processing with for loops\n",
    "\n",
    "# Modeling packages\n",
    "library(caret)       # for general model fitting\n",
    "library(recipes)\n",
    "library(rpart)       # for fitting decision trees\n",
    "library(ipred)       # for fittinf bagging model\n"
   ]
  },
  {
   "cell_type": "code",
   "execution_count": 3,
   "metadata": {},
   "outputs": [],
   "source": [
    "rmse <- function(pred, obs){\n",
    "    sqrt(mean((obs-pred)^2))\n",
    "}"
   ]
  },
  {
   "cell_type": "markdown",
   "metadata": {},
   "source": [
    "# Load Data|"
   ]
  },
  {
   "cell_type": "code",
   "execution_count": 4,
   "metadata": {},
   "outputs": [],
   "source": [
    "ames <- AmesHousing::make_ames()"
   ]
  },
  {
   "cell_type": "markdown",
   "metadata": {},
   "source": [
    "# Split Datasets"
   ]
  },
  {
   "cell_type": "code",
   "execution_count": 5,
   "metadata": {},
   "outputs": [],
   "source": [
    "set.seed(123)\n",
    "index_train <- createDataPartition(ames$Sale_Price, p = 0.8, \n",
    "                               list = FALSE, )\n",
    "index_train  <- as.vector(index_train)\n",
    "\n",
    "house_train <- ames[index_train, ]\n",
    "house_test  <- ames[-index_train, ]"
   ]
  },
  {
   "cell_type": "markdown",
   "metadata": {},
   "source": [
    "# Preprocessing"
   ]
  },
  {
   "cell_type": "code",
   "execution_count": 6,
   "metadata": {},
   "outputs": [],
   "source": [
    "# log transformation\n",
    "blueprint_house <- recipe(Sale_Price ~ ., data = house_train) %>%\n",
    "  step_nzv(all_nominal()) %>%\n",
    "  step_integer(matches(\"Qual|Cond|QC|Qu\")) %>%\n",
    "  step_center(all_numeric(), -all_outcomes()) %>%\n",
    "  step_scale(all_numeric(), -all_outcomes()) %>%\n",
    "  step_dummy(all_nominal(), -all_outcomes(), one_hot = TRUE)\n",
    "\n",
    "prepare <- prep(blueprint_house, training = house_train)\n",
    "baked_train <- bake(prepare, new_data = house_train)\n",
    "baked_test <- bake(prepare, new_data = house_test)\n"
   ]
  },
  {
   "cell_type": "markdown",
   "metadata": {},
   "source": [
    "# Modeling"
   ]
  },
  {
   "cell_type": "markdown",
   "metadata": {},
   "source": [
    "## KNN\n",
    "Podemos usar la implementación que usa caret de KNN para usarlo en nuestro modelo de bagging custom.\n",
    "\n",
    "### knnreg\n",
    "knnreg(formula, k = 5, data)"
   ]
  },
  {
   "cell_type": "markdown",
   "metadata": {},
   "source": [
    "### Challenge\n",
    "Crear desde 0 bagging usando knn como *base learner*, para ello tienen que realizar las siguientes tareas\n",
    "* Definir el parámetro k para el base learner\n",
    "* Definir el número de estimadores\n",
    "* Crear una lista para almacenar los estimadores\n",
    "* TRAIN: Iterar sobre el número de estimadores y en cada uno de ellos\n",
    "  * hacer un bootstrapping del dataset => sample(1:n_samples, n_samples, replace=TRUE)\n",
    "  * crear un modelo knnreg con esa data y el valor de **k**\n",
    "  * guardar el modelo en la lista de estimadores\n",
    "* TEST: Crear una función que devuelve el promedio de las predicciones para cada uno de los estimadores. Los argumentos de entrada de la función son la lista de los modelos y el dataset a evaluar.\n",
    "  * crear un vector para almacenar los resultados acumulados de la predicción.\n",
    "  * Iterar por cada modelo, hacer la predicción del dataset y guardar el resultado en el vector de resultado (+=)\n",
    "  * Dividir el resultado acumulado por el número de estimadores (respuesta promedio)\n",
    "  * devolver el promedio de las respuestas\n",
    "* Evaluar el resultado para train y test (rmse)\n"
   ]
  },
  {
   "cell_type": "code",
   "execution_count": 7,
   "metadata": {},
   "outputs": [
    {
     "data": {
      "text/html": [
       "<span style=white-space:pre-wrap>'oob:  38619.5052242625'</span>"
      ],
      "text/latex": [
       "'oob:  38619.5052242625'"
      ],
      "text/markdown": [
       "<span style=white-space:pre-wrap>'oob:  38619.5052242625'</span>"
      ],
      "text/plain": [
       "[1] \"oob:  38619.5052242625\""
      ]
     },
     "metadata": {},
     "output_type": "display_data"
    }
   ],
   "source": [
    "k = 2\n",
    "n_models = 10\n",
    "knn_ensamble = list()\n",
    "\n",
    "n_samples = nrow(baked_train)\n",
    "n_unique_saples = rep(0, n_models)\n",
    "oob = 0\n",
    "#set.seed(123)\n",
    "for(i in 1:n_models) {\n",
    "   index = sample(1:n_samples, n_samples, replace = TRUE)\n",
    "   n_unique_saples[i] = length(unique(index))/n_samples\n",
    "   near = knnreg(Sale_Price ~ ., data = baked_train[index,], k = k)\n",
    "   knn_ensamble[[i]] = near\n",
    "   oob = oob + rmse(predict(near, baked_train[-index,]), baked_train[-index,]$Sale_Price)\n",
    "}\n",
    "oob = oob / n_models\n",
    "paste('oob: ', oob)"
   ]
  },
  {
   "cell_type": "code",
   "execution_count": 8,
   "metadata": {},
   "outputs": [
    {
     "data": {
      "text/plain": [
       "   Min. 1st Qu.  Median    Mean 3rd Qu.    Max. \n",
       " 0.6223  0.6265  0.6302  0.6298  0.6325  0.6368 "
      ]
     },
     "metadata": {},
     "output_type": "display_data"
    }
   ],
   "source": [
    "# proporcion de los valores unicos de la muestra\n",
    "summary(n_unique_saples)"
   ]
  },
  {
   "cell_type": "code",
   "execution_count": 9,
   "metadata": {},
   "outputs": [],
   "source": [
    "knn_ensamble_predict <- function(n_models, data){\n",
    "    accumulated_result  <- matrix(0, nrow = nrow(data))\n",
    "    for(model in n_models) {\n",
    "       accumulated_result = accumulated_result + predict(model, data) \n",
    "    }\n",
    "    accumulated_result = accumulated_result/length(n_models)\n",
    "    \n",
    "    accumulated_result\n",
    "}"
   ]
  },
  {
   "cell_type": "code",
   "execution_count": 10,
   "metadata": {},
   "outputs": [
    {
     "data": {
      "text/html": [
       "20543.1890100949"
      ],
      "text/latex": [
       "20543.1890100949"
      ],
      "text/markdown": [
       "20543.1890100949"
      ],
      "text/plain": [
       "[1] 20543.19"
      ]
     },
     "metadata": {},
     "output_type": "display_data"
    }
   ],
   "source": [
    "data_eval = baked_train\n",
    "predict = knn_ensamble_predict(knn_ensamble, data_eval)\n",
    "rmse(pred = predict, obs = data_eval$Sale_Price)"
   ]
  },
  {
   "cell_type": "code",
   "execution_count": 11,
   "metadata": {},
   "outputs": [
    {
     "data": {
      "text/html": [
       "33354.4968959711"
      ],
      "text/latex": [
       "33354.4968959711"
      ],
      "text/markdown": [
       "33354.4968959711"
      ],
      "text/plain": [
       "[1] 33354.5"
      ]
     },
     "metadata": {},
     "output_type": "display_data"
    }
   ],
   "source": [
    "data_eval = baked_test\n",
    "predict = knn_ensamble_predict(knn_ensamble, data_eval)\n",
    "rmse(pred = predict, obs = data_eval$Sale_Price)"
   ]
  },
  {
   "cell_type": "markdown",
   "metadata": {},
   "source": [
    "## Bagging"
   ]
  },
  {
   "cell_type": "markdown",
   "metadata": {},
   "source": [
    "La funcion **bagging()** es parte de la librería [ipred]() y es usada para hacer bagging con cualquier modelo que queramos.\n",
    "* nbag: controla el número de *base learners* number of bootstrap replications. \n",
    "\n",
    "Dado que el *base learner* es unico y en el caso generico de bagging usa un rpart (tree) podemos controlar los hiper-parametros del arbol para lograr el mejor resultado. Una de las cosas que hacer rpart de manera automatica es hacer *pruning* el con parametro *cp* el cual controla que el árbol tenga baja varianza y no haga overfitting, sin embargo lo que nosotros buscamos es eso, para ello dejaremos el parámetro **cp=0**.\n"
   ]
  },
  {
   "cell_type": "code",
   "execution_count": 12,
   "metadata": {},
   "outputs": [
    {
     "data": {
      "text/plain": [
       "\n",
       "Bagging regression trees with 100 bootstrap replications \n",
       "\n",
       "Call: bagging.data.frame(formula = Sale_Price ~ ., data = house_train, \n",
       "    nbagg = 100, coob = TRUE, control = rpart.control(minsplit = 2, \n",
       "        cp = 0))\n",
       "\n",
       "Out-of-bag estimate of root mean squared error:  25827.41 \n"
      ]
     },
     "metadata": {},
     "output_type": "display_data"
    }
   ],
   "source": [
    "set.seed(123)\n",
    "\n",
    "# train bagged model\n",
    "house_bag <- bagging(\n",
    "  formula = Sale_Price ~ .,\n",
    "  data = house_train,\n",
    "  nbagg = 100,  \n",
    "  coob = TRUE,\n",
    "  control = rpart.control(minsplit = 2, cp = 0)\n",
    ")\n",
    "\n",
    "house_bag"
   ]
  },
  {
   "cell_type": "code",
   "execution_count": 13,
   "metadata": {},
   "outputs": [
    {
     "data": {
      "text/html": [
       "9711.04152876589"
      ],
      "text/latex": [
       "9711.04152876589"
      ],
      "text/markdown": [
       "9711.04152876589"
      ],
      "text/plain": [
       "[1] 9711.042"
      ]
     },
     "metadata": {},
     "output_type": "display_data"
    }
   ],
   "source": [
    "data_eval = house_train\n",
    "predict_bag = predict(house_bag, data_eval)\n",
    "rmse(pred = predict_bag, obs = data_eval$Sale_Price)"
   ]
  },
  {
   "cell_type": "code",
   "execution_count": 14,
   "metadata": {},
   "outputs": [
    {
     "data": {
      "text/html": [
       "24878.060427066"
      ],
      "text/latex": [
       "24878.060427066"
      ],
      "text/markdown": [
       "24878.060427066"
      ],
      "text/plain": [
       "[1] 24878.06"
      ]
     },
     "metadata": {},
     "output_type": "display_data"
    }
   ],
   "source": [
    "data_eval = house_test\n",
    "predict_bag = predict(house_bag, data_eval)\n",
    "rmse(pred = predict_bag, obs = data_eval$Sale_Price)"
   ]
  },
  {
   "cell_type": "markdown",
   "metadata": {},
   "source": [
    "### Caret Bagging tree\n",
    "La librería ipred no nos permite calcular las importancia de las variables, pero caret si. Para ello entrenamos un modelo de bagging con árboles y usamos la librería vip para ver la importancia de cada una de las variables.\n",
    "\n",
    "Similar a como se obtenía la importancia en los árboles de decisión (suma acumulada de la reducción del sse o IG) en bagging se usa el mismo concepto por como el promedio de todos los estimadores, esto nos da una el promedio de importancia de las variables.\n",
    "\n"
   ]
  },
  {
   "cell_type": "code",
   "execution_count": 15,
   "metadata": {},
   "outputs": [
    {
     "data": {
      "text/plain": [
       "Bagged CART \n",
       "\n",
       "2346 samples\n",
       "  80 predictor\n",
       "\n",
       "No pre-processing\n",
       "Resampling: Cross-Validated (3 fold) \n",
       "Summary of sample sizes: 1565, 1563, 1564 \n",
       "Resampling results:\n",
       "\n",
       "  RMSE      Rsquared   MAE     \n",
       "  31010.01  0.8535611  17576.82\n"
      ]
     },
     "metadata": {},
     "output_type": "display_data"
    }
   ],
   "source": [
    "house_bag_caret <- train(\n",
    "  Sale_Price ~ .,\n",
    "  data = house_train,\n",
    "  method = \"treebag\",\n",
    "  trControl = trainControl(method = \"cv\", number = 3),\n",
    "  nbagg = 200,  \n",
    "  control = rpart.control(minsplit = 2, cp = 0)\n",
    ")\n",
    "house_bag_caret"
   ]
  },
  {
   "cell_type": "code",
   "execution_count": 16,
   "metadata": {},
   "outputs": [
    {
     "data": {
      "text/html": [
       "9880.88579442139"
      ],
      "text/latex": [
       "9880.88579442139"
      ],
      "text/markdown": [
       "9880.88579442139"
      ],
      "text/plain": [
       "[1] 9880.886"
      ]
     },
     "metadata": {},
     "output_type": "display_data"
    }
   ],
   "source": [
    "data_eval = house_train\n",
    "predict_bag = predict(house_bag_caret, data_eval)\n",
    "rmse(pred = predict_bag, obs = data_eval$Sale_Price)"
   ]
  },
  {
   "cell_type": "code",
   "execution_count": 17,
   "metadata": {},
   "outputs": [
    {
     "data": {
      "text/html": [
       "27302.0192998412"
      ],
      "text/latex": [
       "27302.0192998412"
      ],
      "text/markdown": [
       "27302.0192998412"
      ],
      "text/plain": [
       "[1] 27302.02"
      ]
     },
     "metadata": {},
     "output_type": "display_data"
    }
   ],
   "source": [
    "data_eval = house_test\n",
    "predict_bag = predict(house_bag_caret, data_eval)\n",
    "rmse(pred = predict_bag, obs = data_eval$Sale_Price)"
   ]
  },
  {
   "cell_type": "markdown",
   "metadata": {},
   "source": [
    "Una de las diferencias con usar simplemente árboles es que ahora hay más variables que ganan importancia (pequeña pero diferente de cero) esto debido a que todos los árboles reciben información diferente."
   ]
  },
  {
   "cell_type": "code",
   "execution_count": 18,
   "metadata": {},
   "outputs": [
    {
     "name": "stderr",
     "output_type": "stream",
     "text": [
      "Warning message in vip.default(house_bag_caret, num_features = 40, bar = FALSE):\n",
      "“The `bar` argument has been deprecated in favor of the new `geom` argument. It will be removed in version 0.3.0.”\n"
     ]
    },
    {
     "data": {
      "image/png": "[encoded data removed]",
      "text/plain": [
       "plot without title"
      ]
     },
     "metadata": {
      "image/png": {
       "height": 600,
       "width": 900
      }
     },
     "output_type": "display_data"
    }
   ],
   "source": [
    "vip::vip(house_bag_caret, num_features = 40, bar = FALSE)"
   ]
  }
 ],
 "metadata": {
  "kernelspec": {
   "display_name": "R",
   "language": "R",
   "name": "ir"
  },
  "language_info": {
   "codemirror_mode": "r",
   "file_extension": ".r",
   "mimetype": "text/x-r-source",
   "name": "R",
   "pygments_lexer": "r",
   "version": "3.6.3"
  },
  "toc": {
   "base_numbering": 1,
   "nav_menu": {},
   "number_sections": true,
   "sideBar": true,
   "skip_h1_title": false,
   "title_cell": "Table of Contents",
   "title_sidebar": "Contents",
   "toc_cell": false,
   "toc_position": {},
   "toc_section_display": true,
   "toc_window_display": false
  },
  "varInspector": {
   "cols": {
    "lenName": 16,
    "lenType": 16,
    "lenVar": 40
   },
   "kernels_config": {
    "python": {
     "delete_cmd_postfix": "",
     "delete_cmd_prefix": "del ",
     "library": "var_list.py",
     "varRefreshCmd": "print(var_dic_list())"
    },
    "r": {
     "delete_cmd_postfix": ") ",
     "delete_cmd_prefix": "rm(",
     "library": "var_list.r",
     "varRefreshCmd": "cat(var_dic_list()) "
    }
   },
   "types_to_exclude": [
    "module",
    "function",
    "builtin_function_or_method",
    "instance",
    "_Feature"
   ],
   "window_display": false
  }
 },
 "nbformat": 4,
 "nbformat_minor": 4
}
