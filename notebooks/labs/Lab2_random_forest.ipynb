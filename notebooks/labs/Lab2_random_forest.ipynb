{
 "cells": [
  {
   "cell_type": "code",
   "execution_count": 10,
   "metadata": {},
   "outputs": [],
   "source": [
    "options(repr.plot.width  = 15, repr.plot.height = 10)"
   ]
  },
  {
   "cell_type": "code",
   "execution_count": 1,
   "metadata": {},
   "outputs": [],
   "source": [
    "#install.packages(\"ranger\")"
   ]
  },
  {
   "cell_type": "markdown",
   "metadata": {},
   "source": [
    "# Libraries"
   ]
  },
  {
   "cell_type": "code",
   "execution_count": 2,
   "metadata": {},
   "outputs": [
    {
     "name": "stderr",
     "output_type": "stream",
     "text": [
      "\n",
      "Attaching package: ‘dplyr’\n",
      "\n",
      "\n",
      "The following objects are masked from ‘package:stats’:\n",
      "\n",
      "    filter, lag\n",
      "\n",
      "\n",
      "The following objects are masked from ‘package:base’:\n",
      "\n",
      "    intersect, setdiff, setequal, union\n",
      "\n",
      "\n",
      "Loading required package: lattice\n",
      "\n"
     ]
    }
   ],
   "source": [
    "# Helper packages\n",
    "library(dplyr)    # for data wrangling\n",
    "library(ggplot2)  # for awesome graphics\n",
    "\n",
    "# Modeling packages\n",
    "library(caret)\n",
    "library(ranger)   # a c++ implementation of random forest \n"
   ]
  },
  {
   "cell_type": "markdown",
   "metadata": {},
   "source": [
    "# Random Forest \n",
    "Random Forest extiende la idea de bagging usando árboles de decisión incluyendo una selección aleatoria de features para cada árbol con el fin de reducir la correlación entre árboles. Este parámetro es conocido como $m_{try}$ y generalmente para problemas de regresión se usa $m_{try} = \\frac{p}{3}$ y para clasificación $m_{try} = \\sqrt{p}$ siendo $p$ el número total de features. Sin embargo este es uno de los parámetros a ajustar para obtener el mejor modelo.\n",
    "\n",
    "## Pseudocódigo\n",
    "* Data un dataset de entrenamiento\n",
    "* Seleccionar el número de árboles a construir (n_trees)\n",
    "* Desde k = 0 hasta n_trees   \n",
    "      Generar una muestra usando bootstrapping del dataset de entrenamiento\n",
    "      Entrenar el árbol k con la muestra anterior\n",
    "      Para cada split hacer:\n",
    "          Seleccionar $m_{try}$ features aleatoriamente del total de features\n",
    "          Seleccionar la feature/threshold que que logre reducir más el error en el split\n",
    "          Dividir el nodo en 2\n",
    "      fin\n",
    "      Usar alguno de los criterios para para de hacer split\n",
    "  fin\n",
    "* Retornar el ensamble\n",
    "\n"
   ]
  },
  {
   "cell_type": "markdown",
   "metadata": {},
   "source": [
    "# Load Data"
   ]
  },
  {
   "cell_type": "code",
   "execution_count": 3,
   "metadata": {},
   "outputs": [],
   "source": [
    "ames <- AmesHousing::make_ames()"
   ]
  },
  {
   "cell_type": "markdown",
   "metadata": {},
   "source": [
    "# Split Dataset"
   ]
  },
  {
   "cell_type": "code",
   "execution_count": 4,
   "metadata": {},
   "outputs": [],
   "source": [
    "set.seed(123)\n",
    "index_train <- createDataPartition(ames$Sale_Price, p = 0.8, \n",
    "                               list = FALSE, )\n",
    "index_train  <- as.vector(index_train)\n",
    "\n",
    "house_train <- ames[index_train, ]\n",
    "house_test  <- ames[-index_train, ]"
   ]
  },
  {
   "cell_type": "markdown",
   "metadata": {},
   "source": [
    "# Modeling\n",
    "## Ranger\n",
    "Random Forest tiene varias librerías que lo implementan con diferentes enfoques, uno de ellos es   `randomForest` que es más clásico y `ranger` que es una implementación en c++ que es mucho más eficiente el cual estaremos usando ahora.\n",
    "\n",
    "Por defecto `ranger` tiene por defecto $m_{try} = \\sqrt{p}$ pero para problemas de regresion se recomienda partar con $\\frac{p}{3}$ y fijar el parametro `respect.unordered.factors = \"order\"` esto para que trate las variables categoricas sin orden las trate como ordenas segun el target (al igual que implementa rpart)"
   ]
  },
  {
   "cell_type": "code",
   "execution_count": 57,
   "metadata": {},
   "outputs": [
    {
     "data": {
      "text/html": [
       "25630.0422213295"
      ],
      "text/latex": [
       "25630.0422213295"
      ],
      "text/markdown": [
       "25630.0422213295"
      ],
      "text/plain": [
       "[1] 25630.04"
      ]
     },
     "metadata": {},
     "output_type": "display_data"
    }
   ],
   "source": [
    "# number of features\n",
    "n_features <- length(setdiff(names(house_train), \"Sale_Price\"))\n",
    "\n",
    "# train a default random forest model\n",
    "house_rf1 <- ranger(\n",
    "  Sale_Price ~ ., \n",
    "  data = house_train,\n",
    "  seed = 123\n",
    ")\n",
    "\n",
    "# get OOB RMSE\n",
    "default_rmse <- sqrt(house_rf1$prediction.error)\n",
    "default_rmse"
   ]
  },
  {
   "cell_type": "code",
   "execution_count": 59,
   "metadata": {},
   "outputs": [
    {
     "data": {
      "text/html": [
       "500"
      ],
      "text/latex": [
       "500"
      ],
      "text/markdown": [
       "500"
      ],
      "text/plain": [
       "[1] 500"
      ]
     },
     "metadata": {},
     "output_type": "display_data"
    }
   ],
   "source": [
    "# Numero de arboles\n",
    "house_rf1$num.trees"
   ]
  },
  {
   "cell_type": "code",
   "execution_count": 60,
   "metadata": {},
   "outputs": [
    {
     "data": {
      "text/html": [
       "80"
      ],
      "text/latex": [
       "80"
      ],
      "text/markdown": [
       "80"
      ],
      "text/plain": [
       "[1] 80"
      ]
     },
     "metadata": {},
     "output_type": "display_data"
    }
   ],
   "source": [
    "# numero de features\n",
    "house_rf1$num.independent.variables"
   ]
  },
  {
   "cell_type": "code",
   "execution_count": 61,
   "metadata": {},
   "outputs": [
    {
     "data": {
      "text/html": [
       "8"
      ],
      "text/latex": [
       "8"
      ],
      "text/markdown": [
       "8"
      ],
      "text/plain": [
       "[1] 8"
      ]
     },
     "metadata": {},
     "output_type": "display_data"
    }
   ],
   "source": [
    "# Numero de feautes a considerar en cada split\n",
    "house_rf1$mtry"
   ]
  },
  {
   "cell_type": "code",
   "execution_count": 62,
   "metadata": {},
   "outputs": [
    {
     "data": {
      "text/html": [
       "5"
      ],
      "text/latex": [
       "5"
      ],
      "text/markdown": [
       "5"
      ],
      "text/plain": [
       "[1] 5"
      ]
     },
     "metadata": {},
     "output_type": "display_data"
    }
   ],
   "source": [
    "# Minimo numero de observaciones en una hoja\n",
    "house_rf1$min.node.size"
   ]
  },
  {
   "cell_type": "code",
   "execution_count": 63,
   "metadata": {},
   "outputs": [
    {
     "data": {
      "text/html": [
       "'variance'"
      ],
      "text/latex": [
       "'variance'"
      ],
      "text/markdown": [
       "'variance'"
      ],
      "text/plain": [
       "[1] \"variance\""
      ]
     },
     "metadata": {},
     "output_type": "display_data"
    }
   ],
   "source": [
    "house_rf1$splitrule"
   ]
  },
  {
   "cell_type": "code",
   "execution_count": 64,
   "metadata": {},
   "outputs": [
    {
     "data": {
      "text/html": [
       "'Regression'"
      ],
      "text/latex": [
       "'Regression'"
      ],
      "text/markdown": [
       "'Regression'"
      ],
      "text/plain": [
       "[1] \"Regression\""
      ]
     },
     "metadata": {},
     "output_type": "display_data"
    }
   ],
   "source": [
    "house_rf1$treetype"
   ]
  },
  {
   "cell_type": "markdown",
   "metadata": {},
   "source": [
    "### Predictions\n",
    "en ranger la función predict no retorna directamente los valores, en lugar de ello retorna un objeto `ranger.prediction`.\n",
    "\n",
    "Para obtener los valores tenemos que usar predict(...)$predictions\n"
   ]
  },
  {
   "cell_type": "code",
   "execution_count": 115,
   "metadata": {},
   "outputs": [
    {
     "data": {
      "text/html": [
       "'ranger.prediction'"
      ],
      "text/latex": [
       "'ranger.prediction'"
      ],
      "text/markdown": [
       "'ranger.prediction'"
      ],
      "text/plain": [
       "[1] \"ranger.prediction\""
      ]
     },
     "metadata": {},
     "output_type": "display_data"
    }
   ],
   "source": [
    "class(predict(house_rfc, house_train))"
   ]
  },
  {
   "cell_type": "code",
   "execution_count": 117,
   "metadata": {},
   "outputs": [
    {
     "data": {
      "text/html": [
       "10494.2082485065"
      ],
      "text/latex": [
       "10494.2082485065"
      ],
      "text/markdown": [
       "10494.2082485065"
      ],
      "text/plain": [
       "[1] 10494.21"
      ]
     },
     "metadata": {},
     "output_type": "display_data"
    }
   ],
   "source": [
    "RMSE(pred = predict(house_rfc, house_train)$predictions,\n",
    "     obs = house_train$Sale_Price)"
   ]
  },
  {
   "cell_type": "code",
   "execution_count": 118,
   "metadata": {},
   "outputs": [
    {
     "data": {
      "text/html": [
       "24834.9590095525"
      ],
      "text/latex": [
       "24834.9590095525"
      ],
      "text/markdown": [
       "24834.9590095525"
      ],
      "text/plain": [
       "[1] 24834.96"
      ]
     },
     "metadata": {},
     "output_type": "display_data"
    }
   ],
   "source": [
    "RMSE(pred = predict(house_rfc, house_test)$predictions,\n",
    "     obs = house_test$Sale_Price)"
   ]
  },
  {
   "cell_type": "markdown",
   "metadata": {},
   "source": [
    "## Version Custom\n",
    "Acá se muestran varios de los valores que podemos modificar para obtener el mejor modelo. Podemos variar manualmente cada uno de ellos y ver el efecto en el performance."
   ]
  },
  {
   "cell_type": "code",
   "execution_count": 108,
   "metadata": {},
   "outputs": [
    {
     "data": {
      "text/html": [
       "25543.6929993081"
      ],
      "text/latex": [
       "25543.6929993081"
      ],
      "text/markdown": [
       "25543.6929993081"
      ],
      "text/plain": [
       "[1] 25543.69"
      ]
     },
     "metadata": {},
     "output_type": "display_data"
    }
   ],
   "source": [
    "house_rfc <- ranger(\n",
    "  Sale_Price ~ ., \n",
    "  data = house_train,\n",
    "  num.trees = 100,\n",
    "  mtry = floor(n_features / 3),\n",
    "  #min.node.size = 5,\n",
    "  #max.depth = 0,\n",
    "  #replace=TRUE,\n",
    "  #respect.unordered.factors = \"order\",\n",
    "  oob.error = TRUE,\n",
    "  seed = 123\n",
    ")\n",
    "\n",
    "# get OOB RMSE\n",
    "sqrt(house_rfc$prediction.error)"
   ]
  },
  {
   "cell_type": "markdown",
   "metadata": {},
   "source": [
    "## Error para diferentes #árboles"
   ]
  },
  {
   "cell_type": "code",
   "execution_count": 106,
   "metadata": {},
   "outputs": [],
   "source": [
    "params = data.frame(n_trees = seq(10, 500, 10),\n",
    "                    oob = rep(0, length(n_trees)))\n",
    "\n",
    "for (k in 1:nrow(params)) {\n",
    "    house_rfk <- ranger(\n",
    "      Sale_Price ~ ., \n",
    "      data = house_train,\n",
    "      num.trees = params[k, \"n_trees\"],\n",
    "      respect.unordered.factors = \"order\",\n",
    "      oob.error = TRUE,\n",
    "      seed = 123\n",
    "    )\n",
    "\n",
    "    # get OOB RMSE\n",
    "    params[k, \"oob\"]<- sqrt(house_rfk$prediction.error)\n",
    "    \n",
    "}\n"
   ]
  },
  {
   "cell_type": "code",
   "execution_count": 107,
   "metadata": {},
   "outputs": [
    {
     "data": {
      "image/png": "[encoded data removed]",
      "text/plain": [
       "plot without title"
      ]
     },
     "metadata": {
      "image/png": {
       "height": 600,
       "width": 900
      }
     },
     "output_type": "display_data"
    }
   ],
   "source": [
    "ggplot(params, aes(x=n_trees, y=oob)) +\n",
    "    geom_line()"
   ]
  },
  {
   "cell_type": "code",
   "execution_count": 105,
   "metadata": {},
   "outputs": [
    {
     "data": {
      "text/html": [
       "<table>\n",
       "<caption>A data.frame: 50 × 2</caption>\n",
       "<thead>\n",
       "\t<tr><th scope=col>n_trees</th><th scope=col>oob</th></tr>\n",
       "\t<tr><th scope=col>&lt;dbl&gt;</th><th scope=col>&lt;dbl&gt;</th></tr>\n",
       "</thead>\n",
       "<tbody>\n",
       "\t<tr><td> 10</td><td>33813.94</td></tr>\n",
       "\t<tr><td> 20</td><td>28035.52</td></tr>\n",
       "\t<tr><td> 30</td><td>27102.28</td></tr>\n",
       "\t<tr><td> 40</td><td>26595.65</td></tr>\n",
       "\t<tr><td> 50</td><td>26375.64</td></tr>\n",
       "\t<tr><td> 60</td><td>26182.86</td></tr>\n",
       "\t<tr><td> 70</td><td>25689.10</td></tr>\n",
       "\t<tr><td> 80</td><td>25656.36</td></tr>\n",
       "\t<tr><td> 90</td><td>25608.26</td></tr>\n",
       "\t<tr><td>100</td><td>25673.59</td></tr>\n",
       "\t<tr><td>110</td><td>25740.90</td></tr>\n",
       "\t<tr><td>120</td><td>25728.08</td></tr>\n",
       "\t<tr><td>130</td><td>25768.13</td></tr>\n",
       "\t<tr><td>140</td><td>25736.09</td></tr>\n",
       "\t<tr><td>150</td><td>25686.23</td></tr>\n",
       "\t<tr><td>160</td><td>25593.77</td></tr>\n",
       "\t<tr><td>170</td><td>25518.46</td></tr>\n",
       "\t<tr><td>180</td><td>25483.66</td></tr>\n",
       "\t<tr><td>190</td><td>25533.76</td></tr>\n",
       "\t<tr><td>200</td><td>25540.01</td></tr>\n",
       "\t<tr><td>210</td><td>25554.64</td></tr>\n",
       "\t<tr><td>220</td><td>25585.12</td></tr>\n",
       "\t<tr><td>230</td><td>25594.40</td></tr>\n",
       "\t<tr><td>240</td><td>25533.57</td></tr>\n",
       "\t<tr><td>250</td><td>25548.77</td></tr>\n",
       "\t<tr><td>260</td><td>25501.65</td></tr>\n",
       "\t<tr><td>270</td><td>25559.49</td></tr>\n",
       "\t<tr><td>280</td><td>25588.36</td></tr>\n",
       "\t<tr><td>290</td><td>25621.28</td></tr>\n",
       "\t<tr><td>300</td><td>25694.30</td></tr>\n",
       "\t<tr><td>310</td><td>25734.77</td></tr>\n",
       "\t<tr><td>320</td><td>25669.64</td></tr>\n",
       "\t<tr><td>330</td><td>25606.04</td></tr>\n",
       "\t<tr><td>340</td><td>25572.42</td></tr>\n",
       "\t<tr><td>350</td><td>25575.64</td></tr>\n",
       "\t<tr><td>360</td><td>25545.23</td></tr>\n",
       "\t<tr><td>370</td><td>25515.42</td></tr>\n",
       "\t<tr><td>380</td><td>25552.12</td></tr>\n",
       "\t<tr><td>390</td><td>25614.98</td></tr>\n",
       "\t<tr><td>400</td><td>25569.47</td></tr>\n",
       "\t<tr><td>410</td><td>25552.12</td></tr>\n",
       "\t<tr><td>420</td><td>25553.29</td></tr>\n",
       "\t<tr><td>430</td><td>25566.22</td></tr>\n",
       "\t<tr><td>440</td><td>25604.09</td></tr>\n",
       "\t<tr><td>450</td><td>25592.15</td></tr>\n",
       "\t<tr><td>460</td><td>25613.33</td></tr>\n",
       "\t<tr><td>470</td><td>25617.96</td></tr>\n",
       "\t<tr><td>480</td><td>25618.64</td></tr>\n",
       "\t<tr><td>490</td><td>25639.69</td></tr>\n",
       "\t<tr><td>500</td><td>25630.04</td></tr>\n",
       "</tbody>\n",
       "</table>\n"
      ],
      "text/latex": [
       "A data.frame: 50 × 2\n",
       "\\begin{tabular}{ll}\n",
       " n\\_trees & oob\\\\\n",
       " <dbl> & <dbl>\\\\\n",
       "\\hline\n",
       "\t  10 & 33813.94\\\\\n",
       "\t  20 & 28035.52\\\\\n",
       "\t  30 & 27102.28\\\\\n",
       "\t  40 & 26595.65\\\\\n",
       "\t  50 & 26375.64\\\\\n",
       "\t  60 & 26182.86\\\\\n",
       "\t  70 & 25689.10\\\\\n",
       "\t  80 & 25656.36\\\\\n",
       "\t  90 & 25608.26\\\\\n",
       "\t 100 & 25673.59\\\\\n",
       "\t 110 & 25740.90\\\\\n",
       "\t 120 & 25728.08\\\\\n",
       "\t 130 & 25768.13\\\\\n",
       "\t 140 & 25736.09\\\\\n",
       "\t 150 & 25686.23\\\\\n",
       "\t 160 & 25593.77\\\\\n",
       "\t 170 & 25518.46\\\\\n",
       "\t 180 & 25483.66\\\\\n",
       "\t 190 & 25533.76\\\\\n",
       "\t 200 & 25540.01\\\\\n",
       "\t 210 & 25554.64\\\\\n",
       "\t 220 & 25585.12\\\\\n",
       "\t 230 & 25594.40\\\\\n",
       "\t 240 & 25533.57\\\\\n",
       "\t 250 & 25548.77\\\\\n",
       "\t 260 & 25501.65\\\\\n",
       "\t 270 & 25559.49\\\\\n",
       "\t 280 & 25588.36\\\\\n",
       "\t 290 & 25621.28\\\\\n",
       "\t 300 & 25694.30\\\\\n",
       "\t 310 & 25734.77\\\\\n",
       "\t 320 & 25669.64\\\\\n",
       "\t 330 & 25606.04\\\\\n",
       "\t 340 & 25572.42\\\\\n",
       "\t 350 & 25575.64\\\\\n",
       "\t 360 & 25545.23\\\\\n",
       "\t 370 & 25515.42\\\\\n",
       "\t 380 & 25552.12\\\\\n",
       "\t 390 & 25614.98\\\\\n",
       "\t 400 & 25569.47\\\\\n",
       "\t 410 & 25552.12\\\\\n",
       "\t 420 & 25553.29\\\\\n",
       "\t 430 & 25566.22\\\\\n",
       "\t 440 & 25604.09\\\\\n",
       "\t 450 & 25592.15\\\\\n",
       "\t 460 & 25613.33\\\\\n",
       "\t 470 & 25617.96\\\\\n",
       "\t 480 & 25618.64\\\\\n",
       "\t 490 & 25639.69\\\\\n",
       "\t 500 & 25630.04\\\\\n",
       "\\end{tabular}\n"
      ],
      "text/markdown": [
       "\n",
       "A data.frame: 50 × 2\n",
       "\n",
       "| n_trees &lt;dbl&gt; | oob &lt;dbl&gt; |\n",
       "|---|---|\n",
       "|  10 | 33813.94 |\n",
       "|  20 | 28035.52 |\n",
       "|  30 | 27102.28 |\n",
       "|  40 | 26595.65 |\n",
       "|  50 | 26375.64 |\n",
       "|  60 | 26182.86 |\n",
       "|  70 | 25689.10 |\n",
       "|  80 | 25656.36 |\n",
       "|  90 | 25608.26 |\n",
       "| 100 | 25673.59 |\n",
       "| 110 | 25740.90 |\n",
       "| 120 | 25728.08 |\n",
       "| 130 | 25768.13 |\n",
       "| 140 | 25736.09 |\n",
       "| 150 | 25686.23 |\n",
       "| 160 | 25593.77 |\n",
       "| 170 | 25518.46 |\n",
       "| 180 | 25483.66 |\n",
       "| 190 | 25533.76 |\n",
       "| 200 | 25540.01 |\n",
       "| 210 | 25554.64 |\n",
       "| 220 | 25585.12 |\n",
       "| 230 | 25594.40 |\n",
       "| 240 | 25533.57 |\n",
       "| 250 | 25548.77 |\n",
       "| 260 | 25501.65 |\n",
       "| 270 | 25559.49 |\n",
       "| 280 | 25588.36 |\n",
       "| 290 | 25621.28 |\n",
       "| 300 | 25694.30 |\n",
       "| 310 | 25734.77 |\n",
       "| 320 | 25669.64 |\n",
       "| 330 | 25606.04 |\n",
       "| 340 | 25572.42 |\n",
       "| 350 | 25575.64 |\n",
       "| 360 | 25545.23 |\n",
       "| 370 | 25515.42 |\n",
       "| 380 | 25552.12 |\n",
       "| 390 | 25614.98 |\n",
       "| 400 | 25569.47 |\n",
       "| 410 | 25552.12 |\n",
       "| 420 | 25553.29 |\n",
       "| 430 | 25566.22 |\n",
       "| 440 | 25604.09 |\n",
       "| 450 | 25592.15 |\n",
       "| 460 | 25613.33 |\n",
       "| 470 | 25617.96 |\n",
       "| 480 | 25618.64 |\n",
       "| 490 | 25639.69 |\n",
       "| 500 | 25630.04 |\n",
       "\n"
      ],
      "text/plain": [
       "   n_trees oob     \n",
       "1   10     33813.94\n",
       "2   20     28035.52\n",
       "3   30     27102.28\n",
       "4   40     26595.65\n",
       "5   50     26375.64\n",
       "6   60     26182.86\n",
       "7   70     25689.10\n",
       "8   80     25656.36\n",
       "9   90     25608.26\n",
       "10 100     25673.59\n",
       "11 110     25740.90\n",
       "12 120     25728.08\n",
       "13 130     25768.13\n",
       "14 140     25736.09\n",
       "15 150     25686.23\n",
       "16 160     25593.77\n",
       "17 170     25518.46\n",
       "18 180     25483.66\n",
       "19 190     25533.76\n",
       "20 200     25540.01\n",
       "21 210     25554.64\n",
       "22 220     25585.12\n",
       "23 230     25594.40\n",
       "24 240     25533.57\n",
       "25 250     25548.77\n",
       "26 260     25501.65\n",
       "27 270     25559.49\n",
       "28 280     25588.36\n",
       "29 290     25621.28\n",
       "30 300     25694.30\n",
       "31 310     25734.77\n",
       "32 320     25669.64\n",
       "33 330     25606.04\n",
       "34 340     25572.42\n",
       "35 350     25575.64\n",
       "36 360     25545.23\n",
       "37 370     25515.42\n",
       "38 380     25552.12\n",
       "39 390     25614.98\n",
       "40 400     25569.47\n",
       "41 410     25552.12\n",
       "42 420     25553.29\n",
       "43 430     25566.22\n",
       "44 440     25604.09\n",
       "45 450     25592.15\n",
       "46 460     25613.33\n",
       "47 470     25617.96\n",
       "48 480     25618.64\n",
       "49 490     25639.69\n",
       "50 500     25630.04"
      ]
     },
     "metadata": {},
     "output_type": "display_data"
    }
   ],
   "source": [
    "params"
   ]
  },
  {
   "cell_type": "markdown",
   "metadata": {},
   "source": [
    "## Tuning\n",
    "A pesar de que RF tiene un buen resultado con los valores por defecto en OOB, hay un conjunto de hiper-parámetros que podemos controlar para llegar al mejor resultado para nuestro dataset.\n",
    "\n",
    "1. Número de árboles (estimadores)\n",
    "2. Número de features a considerar en cada split: mtry\n",
    "3. La complejidad de cada árbol\n",
    "4. La técnica de muestreo\n",
    "5. La regla de splitting en la fase de construcción del árbol\n",
    "\n",
    "* En general (2) tiene un alto impacto en el performance del modelo y debe ser ajustado\n",
    "* (3) y (4) suele tener una contribución marginal en el performance pero vale la pena explorarlo\n",
    "* (5) suele tener una contribución marginal en el performance pero puede afectar en la eficiencia computacional\n",
    "\n",
    "\n"
   ]
  },
  {
   "cell_type": "markdown",
   "metadata": {},
   "source": [
    "\n",
    "\n"
   ]
  },
  {
   "cell_type": "markdown",
   "metadata": {},
   "source": [
    "### Numero de arboles\n",
    "El numero de arboles tiene que ser lo suficientemente grande como para estabilizar la tasa de error. Modificando otro hiper-parámetros como mtry o node_size, el número de árboles podría variar para lograr estabilizar el error.\n",
    "\n",
    "Más árboles más estable pero también más costoso computacionalmente.\n",
    "\n",
    "\n",
    "\n",
    "### $ m_{try}$\n",
    "Controla el número de variables a considerar en cada split, si este número es igual al número de features entonces se logra el mismo resultado que bagging.\n",
    "* Más pequeño el número menos correlacionado estará los árboles pero también menos chance de obtener variables importantes a la hora de construir el árbol\n",
    "* Por defecto regresión = $\\frac{p}{3}$, clasificación = $\\sqrt{p}$\n",
    "* Si hay pocas variables relevantes entonces un valor alto de $m_{try}$ obtiene mejores resultados, al contrario si tenemos varias variables relevantes este número tiene a ser más pequeño.\n",
    "\n",
    "###  Tree complexity\n",
    "Son los hiper-parámetros propios de los árboles que nos permiten controlar la complejidad de estos.\n",
    "* tamaño del nodo (número de observaciones en las hojas)\n",
    "* max profundidad\n",
    "* el mínimo número de observaciones en un nodo para hacer un split\n",
    "\n",
    "Si el dataset es muy ruidoso, controlar la complejidad puede ayudar a mejorar la performance.\n",
    "\n",
    "### Técnica de muestreo\n",
    "Por defecto random forest use bootstrapping como técnica de muestreo, sin embargo podríamos no hacer esto y simplemente hacer un muestreo aleatorio y controlar el tamaño de la partición (train/val).\n",
    "* Disminuir el tamaño de la partición ayuda a tener árboles más diversos disminuyendo la correlación entre árboles.\n",
    "* Además si tiene features categóricas con un gran número de niveles y no son balanceadas bootstrapping podría sesgar los resultados y realizar un muestreo aleatorio podría ayudar a mejorar el resultado.\n",
    "\n",
    "### Split rule\n",
    "En el caso de clasificación el criterio para buscar la mejor feature/threshold es gini/entropy y para regresión SSE. Sin embargo hay otros posibles métodos \n",
    "* Conditional inference trees\n",
    "* Extremely randomized trees\n",
    "\n",
    "## Tuning strategies\n",
    "Con modelos mas complejos (flexibles) incremente el numero de posibles hiper-parametros a tener en cuenta, para ello se hace necesario tener una estrategia para no probar una por una las combinaciones de ellos.\n",
    "* Grid Search\n",
    "* Random Search\n",
    "\n",
    "Ahora vamos probar con Grid Search\n",
    "\n"
   ]
  },
  {
   "cell_type": "code",
   "execution_count": 121,
   "metadata": {},
   "outputs": [
    {
     "data": {
      "text/html": [
       "<table>\n",
       "<caption>A data.frame: 10 × 7</caption>\n",
       "<thead>\n",
       "\t<tr><th></th><th scope=col>mtry</th><th scope=col>n_trees</th><th scope=col>min.node.size</th><th scope=col>replace</th><th scope=col>sample.fraction</th><th scope=col>rmse</th><th scope=col>perc_gain</th></tr>\n",
       "\t<tr><th></th><th scope=col>&lt;dbl&gt;</th><th scope=col>&lt;dbl&gt;</th><th scope=col>&lt;dbl&gt;</th><th scope=col>&lt;lgl&gt;</th><th scope=col>&lt;dbl&gt;</th><th scope=col>&lt;dbl&gt;</th><th scope=col>&lt;dbl&gt;</th></tr>\n",
       "</thead>\n",
       "<tbody>\n",
       "\t<tr><th scope=row>1</th><td>32</td><td>2000</td><td>1</td><td>FALSE</td><td>0.8</td><td>23702.67</td><td>7.207364</td></tr>\n",
       "\t<tr><th scope=row>2</th><td>12</td><td>1000</td><td>1</td><td>FALSE</td><td>0.8</td><td>23712.69</td><td>7.168112</td></tr>\n",
       "\t<tr><th scope=row>3</th><td>32</td><td> 500</td><td>3</td><td>FALSE</td><td>0.8</td><td>23715.12</td><td>7.158599</td></tr>\n",
       "\t<tr><th scope=row>4</th><td>12</td><td>2000</td><td>1</td><td>FALSE</td><td>0.8</td><td>23724.21</td><td>7.123017</td></tr>\n",
       "\t<tr><th scope=row>5</th><td>26</td><td>2000</td><td>1</td><td>FALSE</td><td>0.8</td><td>23729.03</td><td>7.104166</td></tr>\n",
       "\t<tr><th scope=row>6</th><td>20</td><td>2000</td><td>1</td><td>FALSE</td><td>0.8</td><td>23733.08</td><td>7.088283</td></tr>\n",
       "\t<tr><th scope=row>7</th><td>32</td><td>2000</td><td>3</td><td>FALSE</td><td>0.8</td><td>23736.04</td><td>7.076692</td></tr>\n",
       "\t<tr><th scope=row>8</th><td>26</td><td>1000</td><td>1</td><td>FALSE</td><td>0.8</td><td>23771.90</td><td>6.936325</td></tr>\n",
       "\t<tr><th scope=row>9</th><td>12</td><td> 500</td><td>1</td><td>FALSE</td><td>0.8</td><td>23783.23</td><td>6.891984</td></tr>\n",
       "\t<tr><th scope=row>10</th><td>20</td><td>2000</td><td>3</td><td>FALSE</td><td>0.8</td><td>23796.11</td><td>6.841548</td></tr>\n",
       "</tbody>\n",
       "</table>\n"
      ],
      "text/latex": [
       "A data.frame: 10 × 7\n",
       "\\begin{tabular}{r|lllllll}\n",
       "  & mtry & n\\_trees & min.node.size & replace & sample.fraction & rmse & perc\\_gain\\\\\n",
       "  & <dbl> & <dbl> & <dbl> & <lgl> & <dbl> & <dbl> & <dbl>\\\\\n",
       "\\hline\n",
       "\t1 & 32 & 2000 & 1 & FALSE & 0.8 & 23702.67 & 7.207364\\\\\n",
       "\t2 & 12 & 1000 & 1 & FALSE & 0.8 & 23712.69 & 7.168112\\\\\n",
       "\t3 & 32 &  500 & 3 & FALSE & 0.8 & 23715.12 & 7.158599\\\\\n",
       "\t4 & 12 & 2000 & 1 & FALSE & 0.8 & 23724.21 & 7.123017\\\\\n",
       "\t5 & 26 & 2000 & 1 & FALSE & 0.8 & 23729.03 & 7.104166\\\\\n",
       "\t6 & 20 & 2000 & 1 & FALSE & 0.8 & 23733.08 & 7.088283\\\\\n",
       "\t7 & 32 & 2000 & 3 & FALSE & 0.8 & 23736.04 & 7.076692\\\\\n",
       "\t8 & 26 & 1000 & 1 & FALSE & 0.8 & 23771.90 & 6.936325\\\\\n",
       "\t9 & 12 &  500 & 1 & FALSE & 0.8 & 23783.23 & 6.891984\\\\\n",
       "\t10 & 20 & 2000 & 3 & FALSE & 0.8 & 23796.11 & 6.841548\\\\\n",
       "\\end{tabular}\n"
      ],
      "text/markdown": [
       "\n",
       "A data.frame: 10 × 7\n",
       "\n",
       "| <!--/--> | mtry &lt;dbl&gt; | n_trees &lt;dbl&gt; | min.node.size &lt;dbl&gt; | replace &lt;lgl&gt; | sample.fraction &lt;dbl&gt; | rmse &lt;dbl&gt; | perc_gain &lt;dbl&gt; |\n",
       "|---|---|---|---|---|---|---|---|\n",
       "| 1 | 32 | 2000 | 1 | FALSE | 0.8 | 23702.67 | 7.207364 |\n",
       "| 2 | 12 | 1000 | 1 | FALSE | 0.8 | 23712.69 | 7.168112 |\n",
       "| 3 | 32 |  500 | 3 | FALSE | 0.8 | 23715.12 | 7.158599 |\n",
       "| 4 | 12 | 2000 | 1 | FALSE | 0.8 | 23724.21 | 7.123017 |\n",
       "| 5 | 26 | 2000 | 1 | FALSE | 0.8 | 23729.03 | 7.104166 |\n",
       "| 6 | 20 | 2000 | 1 | FALSE | 0.8 | 23733.08 | 7.088283 |\n",
       "| 7 | 32 | 2000 | 3 | FALSE | 0.8 | 23736.04 | 7.076692 |\n",
       "| 8 | 26 | 1000 | 1 | FALSE | 0.8 | 23771.90 | 6.936325 |\n",
       "| 9 | 12 |  500 | 1 | FALSE | 0.8 | 23783.23 | 6.891984 |\n",
       "| 10 | 20 | 2000 | 3 | FALSE | 0.8 | 23796.11 | 6.841548 |\n",
       "\n"
      ],
      "text/plain": [
       "   mtry n_trees min.node.size replace sample.fraction rmse     perc_gain\n",
       "1  32   2000    1             FALSE   0.8             23702.67 7.207364 \n",
       "2  12   1000    1             FALSE   0.8             23712.69 7.168112 \n",
       "3  32    500    3             FALSE   0.8             23715.12 7.158599 \n",
       "4  12   2000    1             FALSE   0.8             23724.21 7.123017 \n",
       "5  26   2000    1             FALSE   0.8             23729.03 7.104166 \n",
       "6  20   2000    1             FALSE   0.8             23733.08 7.088283 \n",
       "7  32   2000    3             FALSE   0.8             23736.04 7.076692 \n",
       "8  26   1000    1             FALSE   0.8             23771.90 6.936325 \n",
       "9  12    500    1             FALSE   0.8             23783.23 6.891984 \n",
       "10 20   2000    3             FALSE   0.8             23796.11 6.841548 "
      ]
     },
     "metadata": {},
     "output_type": "display_data"
    }
   ],
   "source": [
    "# create hyperparameter grid\n",
    "hyper_grid <- expand.grid(\n",
    "  mtry = floor(n_features * c(.05, .15, .25, .333, .4)),\n",
    "  n_trees = c(200, 500, 1000, 2000),\n",
    "  min.node.size = c(1, 3, 5, 10), \n",
    "  replace = c(TRUE, FALSE),                               \n",
    "  sample.fraction = c(.5, .63, .8),                       \n",
    "  rmse = NA                                               \n",
    ")\n",
    "\n",
    "# execute full cartesian grid search\n",
    "for(i in seq_len(nrow(hyper_grid))) {\n",
    "  # fit model for ith hyperparameter combination\n",
    "  fit <- ranger(\n",
    "    formula         = Sale_Price ~ ., \n",
    "    data            = house_train, \n",
    "    num.trees       = hyper_grid$n_trees[i],\n",
    "    mtry            = hyper_grid$mtry[i],\n",
    "    min.node.size   = hyper_grid$min.node.size[i],\n",
    "    replace         = hyper_grid$replace[i],\n",
    "    sample.fraction = hyper_grid$sample.fraction[i],\n",
    "    verbose         = FALSE,\n",
    "    seed            = 123,\n",
    "    respect.unordered.factors = 'order',\n",
    "  )\n",
    "  # export OOB error \n",
    "  hyper_grid$rmse[i] <- sqrt(fit$prediction.error)\n",
    "}\n",
    "\n",
    "# assess top 10 models\n",
    "hyper_grid %>%\n",
    "  arrange(rmse) %>%\n",
    "  mutate(perc_gain = (default_rmse - rmse) / default_rmse * 100) %>%\n",
    "  head(10)"
   ]
  },
  {
   "cell_type": "markdown",
   "metadata": {},
   "source": [
    "## Feature interpretation\n",
    "* impurity-based\n",
    "* permutation-based\n"
   ]
  },
  {
   "cell_type": "code",
   "execution_count": 122,
   "metadata": {},
   "outputs": [],
   "source": [
    "n_trees = 200\n",
    "m_try = 32\n",
    "min_node_size = 1\n",
    "sample_fraction = .8\n",
    "replace = FALSE\n",
    "ord_factors = \"order\"\n",
    "\n",
    "# impurity-based variable importance\n",
    "rf_impurity <- ranger(\n",
    "  formula = Sale_Price ~ ., \n",
    "  data = house_train, \n",
    "  num.trees = n_trees,\n",
    "  mtry = m_try,\n",
    "  min.node.size = min_node_size,\n",
    "  sample.fraction = sample_fraction,\n",
    "  replace = replace,\n",
    "  importance = \"impurity\",\n",
    "  respect.unordered.factors = ord_factors,\n",
    "  verbose = FALSE,\n",
    "  seed  = 123\n",
    ")\n",
    "\n",
    "# permutation-based variable importance\n",
    "rf_permutation <- ranger(\n",
    "  formula = Sale_Price ~ ., \n",
    "  data = house_train, \n",
    "  num.trees = n_trees,\n",
    "  mtry = m_try,\n",
    "  min.node.size = min_node_size,\n",
    "  sample.fraction = sample_fraction,\n",
    "  replace = replace,\n",
    "  importance = \"permutation\",\n",
    "  respect.unordered.factors = ord_factors,\n",
    "  verbose = FALSE,\n",
    "  seed  = 123\n",
    ")"
   ]
  },
  {
   "cell_type": "markdown",
   "metadata": {},
   "source": [
    "En la gráfica de la importancia de las variables se puede notar algunas diferencias en el orden de las variables, pero en general las de más arriba y las de más abajo se mantiene más o menos constante. En este ejemplo se puede decir que al menos esta features son relevantes para el problema:\n",
    "\n",
    "* Overall_Qual\n",
    "* Gr_Liv_Area\n",
    "* Neighborhood"
   ]
  },
  {
   "cell_type": "code",
   "execution_count": 123,
   "metadata": {},
   "outputs": [
    {
     "data": {
      "image/png": "[encoded data removed]",
      "text/plain": [
       "plot without title"
      ]
     },
     "metadata": {
      "image/png": {
       "height": 600,
       "width": 900
      }
     },
     "output_type": "display_data"
    }
   ],
   "source": [
    "p1 <- vip::vip(rf_impurity, num_features = 25)\n",
    "p2 <- vip::vip(rf_permutation, num_features = 25 )\n",
    "\n",
    "gridExtra::grid.arrange(p1, p2, nrow = 1)"
   ]
  },
  {
   "cell_type": "markdown",
   "metadata": {},
   "source": [
    "# Challenge\n",
    "Usa el dataset de las propiedades a la venta en montevideo para predecir el valor de venta.\n",
    "\n",
    "Variable a predecir **price**"
   ]
  },
  {
   "cell_type": "code",
   "execution_count": 25,
   "metadata": {},
   "outputs": [],
   "source": [
    "prorperties_uri = 'https://raw.githubusercontent.com/creyesp/Meetup_uy/master/data/ready/properties.csv'"
   ]
  }
 ],
 "metadata": {
  "kernelspec": {
   "display_name": "R",
   "language": "R",
   "name": "ir"
  },
  "language_info": {
   "codemirror_mode": "r",
   "file_extension": ".r",
   "mimetype": "text/x-r-source",
   "name": "R",
   "pygments_lexer": "r",
   "version": "3.6.3"
  },
  "toc": {
   "base_numbering": 1,
   "nav_menu": {},
   "number_sections": true,
   "sideBar": true,
   "skip_h1_title": false,
   "title_cell": "Table of Contents",
   "title_sidebar": "Contents",
   "toc_cell": false,
   "toc_position": {},
   "toc_section_display": true,
   "toc_window_display": false
  },
  "varInspector": {
   "cols": {
    "lenName": 16,
    "lenType": 16,
    "lenVar": 40
   },
   "kernels_config": {
    "python": {
     "delete_cmd_postfix": "",
     "delete_cmd_prefix": "del ",
     "library": "var_list.py",
     "varRefreshCmd": "print(var_dic_list())"
    },
    "r": {
     "delete_cmd_postfix": ") ",
     "delete_cmd_prefix": "rm(",
     "library": "var_list.r",
     "varRefreshCmd": "cat(var_dic_list()) "
    }
   },
   "types_to_exclude": [
    "module",
    "function",
    "builtin_function_or_method",
    "instance",
    "_Feature"
   ],
   "window_display": false
  }
 },
 "nbformat": 4,
 "nbformat_minor": 4
}
